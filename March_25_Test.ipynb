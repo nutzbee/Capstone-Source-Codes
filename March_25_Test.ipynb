{
  "nbformat": 4,
  "nbformat_minor": 0,
  "metadata": {
    "colab": {
      "provenance": []
    },
    "kernelspec": {
      "name": "python3",
      "display_name": "Python 3"
    },
    "language_info": {
      "name": "python"
    }
  },
  "cells": [
    {
      "cell_type": "code",
      "execution_count": null,
      "metadata": {
        "id": "8F8AvTb-oFvU"
      },
      "outputs": [],
      "source": [
        "import pandas as pd"
      ]
    },
    {
      "cell_type": "code",
      "source": [
        "import pandas as pd\n",
        "import numpy as np\n",
        "from sklearn.preprocessing import StandardScaler\n",
        "from sklearn.decomposition import PCA\n",
        "from sklearn.cluster import KMeans\n",
        "from sklearn.metrics import accuracy_score\n",
        "import matplotlib.pyplot as plt"
      ],
      "metadata": {
        "id": "Iy5btE6CSmJX"
      },
      "execution_count": 5,
      "outputs": []
    },
    {
      "cell_type": "code",
      "source": [
        "# Load the dataset\n",
        "df = pd.read_csv(\"diabetes.csv\")\n",
        "\n",
        "# Preprocess the dataset\n",
        "# Code for preprocessing goes here\n"
      ],
      "metadata": {
        "id": "NZL9jiJoSt8R"
      },
      "execution_count": 2,
      "outputs": []
    },
    {
      "cell_type": "code",
      "source": [
        "# Apply Standardization\n",
        "scaler = StandardScaler()\n",
        "df_std = scaler.fit_transform(df.drop('Outcome', axis=1))\n",
        "\n",
        "# Apply PCA for feature extraction\n",
        "pca = PCA(n_components=2)\n",
        "principal_components = pca.fit_transform(df_std)\n",
        "\n",
        "# Convert principal components to a dataframe\n",
        "principal_df = pd.DataFrame(data=principal_components, columns=['PC1', 'PC2'])\n"
      ],
      "metadata": {
        "id": "w45K_okwS1FV"
      },
      "execution_count": 3,
      "outputs": []
    },
    {
      "cell_type": "code",
      "source": [
        "# Apply K-Means clustering algorithm and elbow method to classify diabetic and non-diabetic patients\n",
        "wcss = []\n",
        "for i in range(1, 11):\n",
        "    kmeans = KMeans(n_clusters=i, init='k-means++', random_state=42)\n",
        "    kmeans.fit(principal_df)\n",
        "    wcss.append(kmeans.inertia_)\n",
        "\n",
        "plt.plot(range(1, 11), wcss)\n",
        "plt.title('Elbow Method')\n",
        "plt.xlabel('Number of clusters')\n",
        "plt.ylabel('WCSS')\n",
        "plt.show()\n",
        "\n",
        "# Based on the elbow plot, select the number of clusters (e.g. 2)\n",
        "n_clusters = 2\n",
        "\n",
        "# Apply K-Means clustering algorithm\n",
        "kmeans = KMeans(n_clusters=n_clusters, init='k-means++', random_state=42)\n",
        "kmeans.fit(principal_df)\n",
        "y_kmeans = kmeans.predict(principal_df)\n",
        "\n",
        "# Evaluate the accuracy of the clustering\n",
        "labels_true = df['Outcome']\n",
        "accuracy = accuracy_score(labels_true, y_kmeans)\n",
        "print(\"Accuracy of K-Means clustering algorithm: {:.2f}%\".format(accuracy * 100))\n"
      ],
      "metadata": {
        "colab": {
          "base_uri": "https://localhost:8080/",
          "height": 714
        },
        "id": "5-yONzPfS5On",
        "outputId": "69a012c0-4b66-40c1-899f-30c30fb9a647"
      },
      "execution_count": 6,
      "outputs": [
        {
          "output_type": "stream",
          "name": "stderr",
          "text": [
            "/usr/local/lib/python3.9/dist-packages/sklearn/cluster/_kmeans.py:870: FutureWarning: The default value of `n_init` will change from 10 to 'auto' in 1.4. Set the value of `n_init` explicitly to suppress the warning\n",
            "  warnings.warn(\n",
            "/usr/local/lib/python3.9/dist-packages/sklearn/cluster/_kmeans.py:870: FutureWarning: The default value of `n_init` will change from 10 to 'auto' in 1.4. Set the value of `n_init` explicitly to suppress the warning\n",
            "  warnings.warn(\n",
            "/usr/local/lib/python3.9/dist-packages/sklearn/cluster/_kmeans.py:870: FutureWarning: The default value of `n_init` will change from 10 to 'auto' in 1.4. Set the value of `n_init` explicitly to suppress the warning\n",
            "  warnings.warn(\n",
            "/usr/local/lib/python3.9/dist-packages/sklearn/cluster/_kmeans.py:870: FutureWarning: The default value of `n_init` will change from 10 to 'auto' in 1.4. Set the value of `n_init` explicitly to suppress the warning\n",
            "  warnings.warn(\n",
            "/usr/local/lib/python3.9/dist-packages/sklearn/cluster/_kmeans.py:870: FutureWarning: The default value of `n_init` will change from 10 to 'auto' in 1.4. Set the value of `n_init` explicitly to suppress the warning\n",
            "  warnings.warn(\n",
            "/usr/local/lib/python3.9/dist-packages/sklearn/cluster/_kmeans.py:870: FutureWarning: The default value of `n_init` will change from 10 to 'auto' in 1.4. Set the value of `n_init` explicitly to suppress the warning\n",
            "  warnings.warn(\n",
            "/usr/local/lib/python3.9/dist-packages/sklearn/cluster/_kmeans.py:870: FutureWarning: The default value of `n_init` will change from 10 to 'auto' in 1.4. Set the value of `n_init` explicitly to suppress the warning\n",
            "  warnings.warn(\n",
            "/usr/local/lib/python3.9/dist-packages/sklearn/cluster/_kmeans.py:870: FutureWarning: The default value of `n_init` will change from 10 to 'auto' in 1.4. Set the value of `n_init` explicitly to suppress the warning\n",
            "  warnings.warn(\n",
            "/usr/local/lib/python3.9/dist-packages/sklearn/cluster/_kmeans.py:870: FutureWarning: The default value of `n_init` will change from 10 to 'auto' in 1.4. Set the value of `n_init` explicitly to suppress the warning\n",
            "  warnings.warn(\n",
            "/usr/local/lib/python3.9/dist-packages/sklearn/cluster/_kmeans.py:870: FutureWarning: The default value of `n_init` will change from 10 to 'auto' in 1.4. Set the value of `n_init` explicitly to suppress the warning\n",
            "  warnings.warn(\n"
          ]
        },
        {
          "output_type": "display_data",
          "data": {
            "text/plain": [
              "<Figure size 432x288 with 1 Axes>"
            ],
            "image/png": "[encoded data removed]"
          },
          "metadata": {
            "needs_background": "light"
          }
        },
        {
          "output_type": "stream",
          "name": "stdout",
          "text": [
            "Accuracy of K-Means clustering algorithm: 67.45%\n"
          ]
        },
        {
          "output_type": "stream",
          "name": "stderr",
          "text": [
            "/usr/local/lib/python3.9/dist-packages/sklearn/cluster/_kmeans.py:870: FutureWarning: The default value of `n_init` will change from 10 to 'auto' in 1.4. Set the value of `n_init` explicitly to suppress the warning\n",
            "  warnings.warn(\n"
          ]
        }
      ]
    },
    {
      "cell_type": "code",
      "source": [
        "# Get user input\n",
        "input_features = []\n",
        "for feature in df.columns[:-1]:\n",
        "    value = input(\"Enter {} value: \".format(feature))\n",
        "    input_features.append(float(value))\n",
        "\n",
        "# Classify the user as diabetic or non-diabetic\n",
        "user_df = pd.DataFrame([input_features], columns=df.columns[:-1])\n",
        "user_std = scaler.transform(user_df)\n",
        "user_pc = pca.transform(user_std)\n",
        "user_label = kmeans.predict(user_pc)[0]\n",
        "\n",
        "if user_label == 0:\n",
        "    print(\"You are classified as a non-diabetic patient.\")\n",
        "else:\n",
        "    print(\"You are classified as a type-2 diabetic patient.\")\n"
      ],
      "metadata": {
        "colab": {
          "base_uri": "https://localhost:8080/"
        },
        "id": "G9j2i6CITJ2I",
        "outputId": "66c91116-0bcb-4b20-df53-130bcf0ee7fc"
      },
      "execution_count": 15,
      "outputs": [
        {
          "output_type": "stream",
          "name": "stdout",
          "text": [
            "Enter Pregnancies value: 6\n",
            "Enter Glucose value: 148\n",
            "Enter BloodPressure value: 72\n",
            "Enter SkinThickness value: 35\n",
            "Enter Insulin value: 0\n",
            "Enter BMI value: 33.6\n",
            "Enter DiabetesPedigreeFunction value: 0\n",
            "Enter Age value: 21\n",
            "You are classified as a non-diabetic patient.\n"
          ]
        },
        {
          "output_type": "stream",
          "name": "stderr",
          "text": [
            "/usr/local/lib/python3.9/dist-packages/sklearn/base.py:439: UserWarning: X does not have valid feature names, but KMeans was fitted with feature names\n",
            "  warnings.warn(\n"
          ]
        }
      ]
    },
    {
      "cell_type": "code",
      "source": [
        "if user_label == 0:\n",
        "    # User is non-diabetic, recommend any food\n",
        "    # Code for recommending any food goes here\n",
        "    print(\"Wala kang diabetes\")\n",
        "else:\n",
        "    # User is type-2 diabetic, recommend suitable foods\n",
        "    # Code for recommending suitable foods goes here\n",
        "    print(\"May diabetes ka\")"
      ],
      "metadata": {
        "colab": {
          "base_uri": "https://localhost:8080/"
        },
        "id": "EhpXq_XIToc6",
        "outputId": "6dd1cce1-6b82-41ae-ccef-0a456b37d0c5"
      },
      "execution_count": 14,
      "outputs": [
        {
          "output_type": "stream",
          "name": "stdout",
          "text": [
            "Ang ganda ng bebe ko\n"
          ]
        }
      ]
    },
    {
      "cell_type": "markdown",
      "source": [
        "# Ejected Test"
      ],
      "metadata": {
        "id": "W-faBF0OUYkd"
      }
    },
    {
      "cell_type": "code",
      "source": [
        "data = pd.read_csv('https://query.data.world/s/bn4zzv3dzqdf6nwlbvbpryimitkdey?dws=00000')"
      ],
      "metadata": {
        "id": "WpemrERroWmI"
      },
      "execution_count": null,
      "outputs": []
    },
    {
      "cell_type": "code",
      "source": [
        "data.columns"
      ],
      "metadata": {
        "colab": {
          "base_uri": "https://localhost:8080/"
        },
        "id": "4Z3Z-8bRtIjq",
        "outputId": "fadeb60f-2f7c-4aa8-bbfa-0942332b33f1"
      },
      "execution_count": null,
      "outputs": [
        {
          "output_type": "execute_result",
          "data": {
            "text/plain": [
              "Index(['ID', 'FoodGroup', 'ShortDescrip', 'Descrip', 'CommonName', 'MfgName',\n",
              "       'ScientificName', 'Energy_kcal', 'Protein_g', 'Fat_g', 'Carb_g',\n",
              "       'Sugar_g', 'Fiber_g', 'VitA_mcg', 'VitB6_mg', 'VitB12_mcg', 'VitC_mg',\n",
              "       'VitE_mg', 'Folate_mcg', 'Niacin_mg', 'Riboflavin_mg', 'Thiamin_mg',\n",
              "       'Calcium_mg', 'Copper_mcg', 'Iron_mg', 'Magnesium_mg', 'Manganese_mg',\n",
              "       'Phosphorus_mg', 'Selenium_mcg', 'Zinc_mg', 'VitA_USRDA', 'VitB6_USRDA',\n",
              "       'VitB12_USRDA', 'VitC_USRDA', 'VitE_USRDA', 'Folate_USRDA',\n",
              "       'Niacin_USRDA', 'Riboflavin_USRDA', 'Thiamin_USRDA', 'Calcium_USRDA',\n",
              "       'Copper_USRDA', 'Magnesium_USRDA', 'Phosphorus_USRDA', 'Selenium_USRDA',\n",
              "       'Zinc_USRDA'],\n",
              "      dtype='object')"
            ]
          },
          "metadata": {},
          "execution_count": 3
        }
      ]
    },
    {
      "cell_type": "code",
      "source": [
        "from sklearn.feature_extraction.text import CountVectorizer\n",
        "\n",
        "# Create a CountVectorizer object to extract features from the 'long_desc' column\n",
        "vectorizer = CountVectorizer(stop_words='english', max_features=1000)\n",
        "\n",
        "# Fit the vectorizer to the 'long_desc' column\n",
        "features = vectorizer.fit_transform(data['Descrip'])\n",
        "\n",
        "# Convert the features to a DataFrame\n",
        "features_df = pd.DataFrame(features.toarray(), columns=vectorizer.vocabulary_)\n",
        "\n",
        "# Concatenate the features DataFrame with the original data\n",
        "data_with_features = pd.concat([data, features_df], axis=1)\n",
        "\n",
        "# Print the first five rows of the data with features\n",
        "print(data_with_features.head())"
      ],
      "metadata": {
        "colab": {
          "base_uri": "https://localhost:8080/"
        },
        "id": "91cEnHrmqGCd",
        "outputId": "c75eb234-301f-4341-8296-55f6668ead2f"
      },
      "execution_count": null,
      "outputs": [
        {
          "output_type": "stream",
          "name": "stdout",
          "text": [
            "     ID               FoodGroup              ShortDescrip  \\\n",
            "0  1001  Dairy and Egg Products          BUTTER,WITH SALT   \n",
            "1  1002  Dairy and Egg Products  BUTTER,WHIPPED,WITH SALT   \n",
            "2  1003  Dairy and Egg Products      BUTTER OIL,ANHYDROUS   \n",
            "3  1004  Dairy and Egg Products               CHEESE,BLUE   \n",
            "4  1005  Dairy and Egg Products              CHEESE,BRICK   \n",
            "\n",
            "                      Descrip CommonName MfgName ScientificName  Energy_kcal  \\\n",
            "0              Butter, salted        NaN     NaN            NaN        717.0   \n",
            "1  Butter, whipped, with salt        NaN     NaN            NaN        717.0   \n",
            "2       Butter oil, anhydrous        NaN     NaN            NaN        876.0   \n",
            "3                Cheese, blue        NaN     NaN            NaN        353.0   \n",
            "4               Cheese, brick        NaN     NaN            NaN        371.0   \n",
            "\n",
            "   Protein_g  Fat_g  ...  bannock  plains  indians  steller  applebee  kid  \\\n",
            "0       0.85  81.11  ...        0       0        0        0         0    0   \n",
            "1       0.85  81.11  ...        0       0        0        0         0    0   \n",
            "2       0.28  99.48  ...        0       0        0        0         0    0   \n",
            "3      21.40  28.74  ...        0       0        0        0         0    0   \n",
            "4      23.24  29.68  ...        0       0        0        0         0    0   \n",
            "\n",
            "   menu  friday  barrel  denny  \n",
            "0     0       0       0      0  \n",
            "1     0       0       0      0  \n",
            "2     0       0       0      0  \n",
            "3     0       0       0      0  \n",
            "4     0       0       0      0  \n",
            "\n",
            "[5 rows x 1045 columns]\n"
          ]
        }
      ]
    },
    {
      "cell_type": "code",
      "source": [
        "from sklearn.cluster import KMeans\n",
        "\n",
        "# Fit a KMeans clustering model to the features\n",
        "kmeans = KMeans(n_clusters=10, random_state=0)\n",
        "kmeans.fit(features_df)\n",
        "\n",
        "# Assign each food to a cluster based on its features\n",
        "data['cluster'] = kmeans.predict(features_df)\n",
        "\n",
        "# Define a function to recommend foods based on the clusters\n",
        "def recommend_foods(food_id, num_recommendations):\n",
        "    cluster = data.loc[data['ID'] == food_id, 'cluster'].iloc[0]\n",
        "    cluster_foods = data.loc[data['cluster'] == cluster]\n",
        "    recommendations = cluster_foods.sort_values('cluster', ascending=False).head(num_recommendations)\n",
        "    return recommendations\n",
        "\n",
        "# Test the recommender system by recommending 5 foods similar to food ID 1102\n",
        "recommendations = recommend_foods(90240, 5)\n",
        "print(recommendations)"
      ],
      "metadata": {
        "id": "9vc41OMbugpq",
        "colab": {
          "base_uri": "https://localhost:8080/"
        },
        "outputId": "2fc97d18-3501-4a27-c99f-63a477dc94dd"
      },
      "execution_count": null,
      "outputs": [
        {
          "output_type": "stream",
          "name": "stderr",
          "text": [
            "/usr/local/lib/python3.9/dist-packages/sklearn/cluster/_kmeans.py:870: FutureWarning: The default value of `n_init` will change from 10 to 'auto' in 1.4. Set the value of `n_init` explicitly to suppress the warning\n",
            "  warnings.warn(\n"
          ]
        },
        {
          "output_type": "stream",
          "name": "stdout",
          "text": [
            "         ID                       FoodGroup                    ShortDescrip  \\\n",
            "116    1128          Dairy and Egg Products               EGG,WHL,CKD,FRIED   \n",
            "4675  15225  Finfish and Shellfish Products  YELLOWTAIL,MXD SP,CKD,DRY HEAT   \n",
            "4664  15214  Finfish and Shellfish Products    SEATROUT,MXD SP,CKD,DRY HEAT   \n",
            "4665  15215  Finfish and Shellfish Products      SHAD,AMERICAN,CKD,DRY HEAT   \n",
            "4666  15216  Finfish and Shellfish Products            SPOT,COOKED,DRY HEAT   \n",
            "\n",
            "                                                Descrip CommonName MfgName  \\\n",
            "116                           Egg, whole, cooked, fried        NaN     NaN   \n",
            "4675  Fish, yellowtail, mixed species, cooked, dry heat        NaN     NaN   \n",
            "4664    Fish, seatrout, mixed species, cooked, dry heat        NaN     NaN   \n",
            "4665             Fish, shad, american, cooked, dry heat        NaN     NaN   \n",
            "4666                       Fish, spot, cooked, dry heat        NaN     NaN   \n",
            "\n",
            "     ScientificName  Energy_kcal  Protein_g  Fat_g  ...  Niacin_USRDA  \\\n",
            "116             NaN        196.0      13.61  14.84  ...      0.005125   \n",
            "4675            NaN        187.0      29.67   6.72  ...      0.544875   \n",
            "4664            NaN        133.0      21.46   4.63  ...      0.182688   \n",
            "4665            NaN        252.0      21.71  17.65  ...      0.673063   \n",
            "4666            NaN        158.0      23.73   6.28  ...      0.532875   \n",
            "\n",
            "      Riboflavin_USRDA  Thiamin_USRDA  Calcium_USRDA  Copper_USRDA  \\\n",
            "116           0.380769       0.036667       0.051667      0.000087   \n",
            "4675          0.039231       0.145833       0.024167      0.000064   \n",
            "4664          0.159231       0.057500       0.018333      0.000042   \n",
            "4665          0.236923       0.152500       0.050000      0.000091   \n",
            "4666          0.206154       0.154167       0.015000      0.000066   \n",
            "\n",
            "      Magnesium_USRDA  Phosphorus_USRDA  Selenium_USRDA  Zinc_USRDA  cluster  \n",
            "116          0.030952          0.307143        0.601818    0.126364        5  \n",
            "4675         0.090476          0.287143        0.850909    0.060909        5  \n",
            "4664         0.095238          0.458571        0.850909    0.052727        5  \n",
            "4665         0.090476          0.498571        0.850909    0.042727        5  \n",
            "4666         0.128571          0.340000        0.850909    0.059091        5  \n",
            "\n",
            "[5 rows x 46 columns]\n"
          ]
        }
      ]
    },
    {
      "cell_type": "code",
      "source": [
        "from sklearn.metrics import silhouette_score\n",
        "\n",
        "# Evaluate the model using silhouette score\n",
        "silhouette_avg = silhouette_score(features_df, kmeans.labels_)\n",
        "print(f\"Silhouette Score: {silhouette_avg:.2f}\")"
      ],
      "metadata": {
        "colab": {
          "base_uri": "https://localhost:8080/"
        },
        "id": "LIngNYRzdo3j",
        "outputId": "67cab5f2-d552-46cb-fde2-577a7f3e4898"
      },
      "execution_count": null,
      "outputs": [
        {
          "output_type": "stream",
          "name": "stdout",
          "text": [
            "Silhouette Score: 0.08\n"
          ]
        }
      ]
    },
    {
      "cell_type": "code",
      "source": [
        "from sklearn.feature_extraction.text import TfidfVectorizer"
      ],
      "metadata": {
        "id": "eogJju6f8JbM"
      },
      "execution_count": null,
      "outputs": []
    },
    {
      "cell_type": "code",
      "source": [
        "\n",
        "\n",
        "# Create a CountVectorizer object to extract features from the 'long_desc' column\n",
        "vectorizer = TfidfVectorizer(stop_words='english', max_features=1250)\n",
        "\n",
        "# Fit the vectorizer to the 'long_desc' column\n",
        "features = vectorizer.fit_transform(data['Descrip'])\n",
        "\n",
        "# Convert the features to a DataFrame\n",
        "features_df = pd.DataFrame(features.toarray(), columns=vectorizer.vocabulary_)\n",
        "\n",
        "# Concatenate the features DataFrame with the original data\n",
        "data_with_features = pd.concat([data, features_df], axis=1)\n",
        "\n",
        "# Print the first five rows of the data with features\n",
        "print(data_with_features.head())"
      ],
      "metadata": {
        "colab": {
          "base_uri": "https://localhost:8080/"
        },
        "id": "y2_q1RKCfClc",
        "outputId": "56183b87-6a3c-4a75-f74b-b1aeb2ac7740"
      },
      "execution_count": null,
      "outputs": [
        {
          "output_type": "stream",
          "name": "stdout",
          "text": [
            "     ID               FoodGroup              ShortDescrip  \\\n",
            "0  1001  Dairy and Egg Products          BUTTER,WITH SALT   \n",
            "1  1002  Dairy and Egg Products  BUTTER,WHIPPED,WITH SALT   \n",
            "2  1003  Dairy and Egg Products      BUTTER OIL,ANHYDROUS   \n",
            "3  1004  Dairy and Egg Products               CHEESE,BLUE   \n",
            "4  1005  Dairy and Egg Products              CHEESE,BRICK   \n",
            "\n",
            "                      Descrip CommonName MfgName ScientificName  Energy_kcal  \\\n",
            "0              Butter, salted        NaN     NaN            NaN        717.0   \n",
            "1  Butter, whipped, with salt        NaN     NaN            NaN        717.0   \n",
            "2       Butter oil, anhydrous        NaN     NaN            NaN        876.0   \n",
            "3                Cheese, blue        NaN     NaN            NaN        353.0   \n",
            "4               Cheese, brick        NaN     NaN            NaN        371.0   \n",
            "\n",
            "   Protein_g  Fat_g  ...  kid  menu  friday  platter  barrel  denny  carrabba  \\\n",
            "0       0.85  81.11  ...  0.0   0.0     0.0      0.0     0.0    0.0       0.0   \n",
            "1       0.85  81.11  ...  0.0   0.0     0.0      0.0     0.0    0.0       0.0   \n",
            "2       0.28  99.48  ...  0.0   0.0     0.0      0.0     0.0    0.0       0.0   \n",
            "3      21.40  28.74  ...  0.0   0.0     0.0      0.0     0.0    0.0       0.0   \n",
            "4      23.24  29.68  ...  0.0   0.0     0.0      0.0     0.0    0.0       0.0   \n",
            "\n",
            "   border  pupusas  dietetic  \n",
            "0     0.0      0.0       0.0  \n",
            "1     0.0      0.0       0.0  \n",
            "2     0.0      0.0       0.0  \n",
            "3     0.0      0.0       0.0  \n",
            "4     0.0      0.0       0.0  \n",
            "\n",
            "[5 rows x 1296 columns]\n"
          ]
        }
      ]
    },
    {
      "cell_type": "code",
      "source": [
        "\n",
        "\n",
        "# Fit a KMeans clustering model to the features\n",
        "kmeans = KMeans(n_clusters=3, random_state=0)\n",
        "kmeans.fit(features_df)\n",
        "\n",
        "# Assign each food to a cluster based on its features\n",
        "data['cluster'] = kmeans.predict(features_df)\n",
        "\n",
        "# Define a function to recommend foods based on the clusters\n",
        "def recommend_foods(food_id, num_recommendations):\n",
        "    cluster = data.loc[data['ID'] == food_id, 'cluster'].iloc[0]\n",
        "    cluster_foods = data.loc[data['cluster'] == cluster]\n",
        "    recommendations = cluster_foods.sort_values('cluster', ascending=False).head(num_recommendations)\n",
        "    return recommendations\n",
        "\n",
        "# Test the recommender system by recommending 5 foods similar to food ID 1102\n",
        "recommendations = recommend_foods(90240, 5)\n",
        "print(recommendations)"
      ],
      "metadata": {
        "colab": {
          "base_uri": "https://localhost:8080/"
        },
        "id": "UnmPZZ87gU_m",
        "outputId": "7ac0d48a-bad0-4152-a3da-03721a7406cc"
      },
      "execution_count": null,
      "outputs": [
        {
          "output_type": "stream",
          "name": "stderr",
          "text": [
            "/usr/local/lib/python3.9/dist-packages/sklearn/cluster/_kmeans.py:870: FutureWarning: The default value of `n_init` will change from 10 to 'auto' in 1.4. Set the value of `n_init` explicitly to suppress the warning\n",
            "  warnings.warn(\n"
          ]
        },
        {
          "output_type": "stream",
          "name": "stdout",
          "text": [
            "         ID               FoodGroup  \\\n",
            "0      1001  Dairy and Egg Products   \n",
            "5817  18375          Baked Products   \n",
            "5815  18373          Baked Products   \n",
            "5814  18372          Baked Products   \n",
            "5813  18371          Baked Products   \n",
            "\n",
            "                                   ShortDescrip  \\\n",
            "0                              BUTTER,WITH SALT   \n",
            "5817  LEAVENING AGENTS,YEAST,BAKER'S,ACTIVE DRY   \n",
            "5815             LEAVENING AGENTS,CRM OF TARTAR   \n",
            "5814               LEAVENING AGENTS,BAKING SODA   \n",
            "5813     LEAVENING AGENTS,BAKING PDR,LOW-SODIUM   \n",
            "\n",
            "                                           Descrip CommonName MfgName  \\\n",
            "0                                   Butter, salted        NaN     NaN   \n",
            "5817  Leavening agents, yeast, baker's, active dry        NaN     NaN   \n",
            "5815             Leavening agents, cream of tartar        NaN     NaN   \n",
            "5814                 Leavening agents, baking soda        NaN     NaN   \n",
            "5813   Leavening agents, baking powder, low-sodium        NaN     NaN   \n",
            "\n",
            "     ScientificName  Energy_kcal  Protein_g  Fat_g  ...  Niacin_USRDA  \\\n",
            "0               NaN        717.0       0.85  81.11  ...      0.002625   \n",
            "5817            NaN        325.0      40.44   7.61  ...      2.512500   \n",
            "5815            NaN        258.0       0.00   0.00  ...      0.000000   \n",
            "5814            NaN          0.0       0.00   0.00  ...      0.000000   \n",
            "5813            NaN         97.0       0.10   0.40  ...      0.000000   \n",
            "\n",
            "      Riboflavin_USRDA  Thiamin_USRDA  Calcium_USRDA  Copper_USRDA  \\\n",
            "0             0.026154       0.004167       0.020000      0.000000   \n",
            "5817          3.076923       9.158333       0.025000      0.000484   \n",
            "5815          0.000000       0.000000       0.006667      0.000217   \n",
            "5814          0.000000       0.000000       0.000000      0.000000   \n",
            "5813          0.000000       0.000000       3.610000      0.000021   \n",
            "\n",
            "      Magnesium_USRDA  Phosphorus_USRDA  Selenium_USRDA  Zinc_USRDA  cluster  \n",
            "0            0.004762          0.034286        0.018182    0.008182        1  \n",
            "5817         0.128571          0.910000        0.143636    0.721818        1  \n",
            "5815         0.004762          0.007143        0.003636    0.038182        1  \n",
            "5814         0.000000          0.000000        0.003636    0.000000        1  \n",
            "5813         0.069048          9.812857        0.003636    0.065455        1  \n",
            "\n",
            "[5 rows x 46 columns]\n"
          ]
        }
      ]
    },
    {
      "cell_type": "code",
      "source": [
        "# Evaluate the model using silhouette score\n",
        "silhouette_avg = silhouette_score(features_df, kmeans.labels_)\n",
        "print(f\"Silhouette Score: {silhouette_avg:.2f}\")"
      ],
      "metadata": {
        "colab": {
          "base_uri": "https://localhost:8080/"
        },
        "id": "GF6y7iVFgiIo",
        "outputId": "8d83c47b-2691-40a3-c2e0-af872e9ad386"
      },
      "execution_count": null,
      "outputs": [
        {
          "output_type": "stream",
          "name": "stdout",
          "text": [
            "Silhouette Score: 0.03\n"
          ]
        }
      ]
    },
    {
      "cell_type": "code",
      "source": [
        "import pandas as pd\n",
        "from sklearn.preprocessing import StandardScaler\n",
        "from sklearn.decomposition import PCA\n",
        "from sklearn.cluster import KMeans\n",
        "import matplotlib.pyplot as plt\n"
      ],
      "metadata": {
        "id": "IC9bwKSeFOKS"
      },
      "execution_count": null,
      "outputs": []
    },
    {
      "cell_type": "code",
      "source": [
        "# Load the dataset\n",
        "df = pd.read_excel(\"ABBREV.xlsx\")\n",
        "\n",
        "# Remove columns that are not required\n",
        "columns_to_drop = ['Shrt_Desc', 'GmWt_Desc1', 'GmWt_Desc2', 'Refuse_Pct', 'Phosphorus_(mg)']\n",
        "df.drop(columns_to_drop, axis=1, inplace=True)\n",
        "\n",
        "# Drop rows with missing values\n",
        "df.fillna(0, inplace=True)\n",
        "\n",
        "# Convert categorical variables to numerical variables\n",
        "df['Shrt_Desc'] = pd.to_numeric(df['Shrt_Desc'], errors='coerce')\n",
        "df['GmWt_Desc1'] = pd.to_numeric(df['GmWt_Desc1'], errors='coerce')\n",
        "df['GmWt_Desc2'] = pd.to_numeric(df['GmWt_Desc2'], errors='coerce')\n",
        "df['Refuse_Pct'] = pd.to_numeric(df['Refuse_Pct'], errors='coerce')\n",
        "df['Phosphorus_(mg)'] = pd.to_numeric(df['Phosphorus_(mg)'], errors='coerce')\n",
        "\n",
        "df['Fiber_TD_(g)'] = pd.to_numeric(df['Fiber_TD_(g)'], errors='coerce')\n",
        "df['FA_Sat_(g)'] = pd.to_numeric(df['FA_Sat_(g)'], errors='coerce')\n",
        "df['Cholestrl_(mg)'] = pd.to_numeric(df['Cholestrl_(mg)'], errors='coerce')\n",
        "df['Sodium_(mg)'] = pd.to_numeric(df['Sodium_(mg)'], errors='coerce')\n",
        "df['Carbohydrt_(g)'] = pd.to_numeric(df['Carbohydrt_(g)'], errors='coerce')\n",
        "df['Sugar_Tot_(g)'] = pd.to_numeric(df['Sugar_Tot_(g)'], errors='coerce')\n",
        "df['Calcium_(mg)'] = pd.to_numeric(df['Calcium_(mg)'], errors='coerce')\n",
        "df['Iron_(mg)'] = pd.to_numeric(df['Iron_(mg)'], errors='coerce')\n",
        "df['Potassium_(mg)'] = pd.to_numeric(df['Potassium_(mg)'], errors='coerce')\n",
        "df['Vit_A_IU'] = pd.to_numeric(df['Vit_A_IU'], errors='coerce')\n",
        "df['Vit_C_(mg)'] = pd.to_numeric(df['Vit_C_(mg)'], errors='coerce')\n",
        "df['Vit_E_(mg)'] = pd.to_numeric(df['Vit_E_(mg)'], errors='coerce')\n",
        "df['Vit_D_IU'] = pd.to_numeric(df['Vit_D_IU'], errors='coerce')\n",
        "\n",
        "# Standardize the data\n",
        "scaler = StandardScaler()\n",
        "scaled_data = scaler.fit_transform(df)\n",
        "df_normalized = pd.DataFrame(scaled_data, columns=df.columns)\n",
        "\n",
        "# Apply feature extraction\n",
        "from sklearn.decomposition import PCA\n",
        "\n",
        "pca = PCA(n_components=2)\n",
        "principal_components = pca.fit_transform(df_normalized)\n",
        "\n",
        "principal_df = pd.DataFrame(data=principal_components, columns=['pc1', 'pc2'])\n",
        "\n",
        "# Apply elbow method\n",
        "wcss = []\n",
        "\n",
        "for i in range(1, 11):\n",
        "    kmeans = KMeans(n_clusters=i, init='k-means++', random_state=42)\n",
        "    kmeans.fit(principal_df)\n",
        "    wcss.append(kmeans.inertia_)\n",
        "\n",
        "# Plot the results of the Elbow Method\n",
        "plt.plot(range(1, 11), wcss)\n",
        "plt.title('Elbow Method')\n",
        "plt.xlabel('Number of Clusters')\n",
        "plt.ylabel('WCSS')\n",
        "plt.show()\n",
        "\n",
        "# Apply K-Means clustering algorithm\n",
        "kmeans = KMeans(n_clusters=3, init='k-means++', random_state=42)\n",
        "kmeans.fit(principal_df)\n",
        "y_kmeans = kmeans.predict(principal_df)\n",
        "\n",
        "# Combine Feature Extraction and K-Means Clustering\n",
        "principal_df['cluster'] = y_kmeans\n",
        "\n",
        "# Calculate the Silhouette Coefficient\n",
        "from sklearn.metrics import silhouette_score\n",
        "\n",
        "score = silhouette_score(principal_df.drop('cluster', axis=1), y_kmeans)\n",
        "print(\"Silhouette Coefficient:\", score)"
      ],
      "metadata": {
        "id": "QJdvyBEqFPEH"
      },
      "execution_count": null,
      "outputs": []
    },
    {
      "cell_type": "markdown",
      "source": [
        "# Feature Extraction and K-means clustering"
      ],
      "metadata": {
        "id": "u3ImjhaoOEag"
      }
    },
    {
      "cell_type": "code",
      "source": [
        "import pandas as pd\n",
        "import numpy as np\n",
        "from sklearn.preprocessing import StandardScaler\n",
        "from sklearn.decomposition import PCA\n",
        "from sklearn.cluster import KMeans\n",
        "import matplotlib.pyplot as plt\n"
      ],
      "metadata": {
        "id": "kLpeCBFjKN0E"
      },
      "execution_count": 16,
      "outputs": []
    },
    {
      "cell_type": "code",
      "source": [
        "# Load the dataset\n",
        "df = pd.read_excel(\"ABBREV.xlsx\")"
      ],
      "metadata": {
        "id": "7yDdgSKcKZx-"
      },
      "execution_count": 43,
      "outputs": []
    },
    {
      "cell_type": "code",
      "source": [
        "# Preprocess the dataset\n",
        "# Code for preprocessing goes here\n",
        "df['GmWt_Desc1'] = pd.to_numeric(df['GmWt_Desc1'], errors='coerce')\n",
        "df['GmWt_Desc2'] = pd.to_numeric(df['GmWt_Desc2'], errors='coerce')\n",
        "df['Refuse_Pct'] = pd.to_numeric(df['Refuse_Pct'], errors='coerce')\n",
        "df['Phosphorus_(mg)'] = pd.to_numeric(df['Phosphorus_(mg)'], errors='coerce')\n",
        "\n",
        "df['Fiber_TD_(g)'] = pd.to_numeric(df['Fiber_TD_(g)'], errors='coerce')\n",
        "df['FA_Sat_(g)'] = pd.to_numeric(df['FA_Sat_(g)'], errors='coerce')\n",
        "df['Cholestrl_(mg)'] = pd.to_numeric(df['Cholestrl_(mg)'], errors='coerce')\n",
        "df['Sodium_(mg)'] = pd.to_numeric(df['Sodium_(mg)'], errors='coerce')\n",
        "df['Carbohydrt_(g)'] = pd.to_numeric(df['Carbohydrt_(g)'], errors='coerce')\n",
        "df['Sugar_Tot_(g)'] = pd.to_numeric(df['Sugar_Tot_(g)'], errors='coerce')\n",
        "df['Calcium_(mg)'] = pd.to_numeric(df['Calcium_(mg)'], errors='coerce')\n",
        "df['Iron_(mg)'] = pd.to_numeric(df['Iron_(mg)'], errors='coerce')\n",
        "df['Potassium_(mg)'] = pd.to_numeric(df['Potassium_(mg)'], errors='coerce')\n",
        "df['Vit_A_IU'] = pd.to_numeric(df['Vit_A_IU'], errors='coerce')\n",
        "df['Vit_C_(mg)'] = pd.to_numeric(df['Vit_C_(mg)'], errors='coerce')\n",
        "df['Vit_E_(mg)'] = pd.to_numeric(df['Vit_E_(mg)'], errors='coerce')\n",
        "df['Vit_D_IU'] = pd.to_numeric(df['Vit_D_IU'], errors='coerce')\n",
        "\n",
        "df.fillna(0, inplace=True)"
      ],
      "metadata": {
        "id": "EkhHN8H8LVy1"
      },
      "execution_count": 44,
      "outputs": []
    },
    {
      "cell_type": "code",
      "source": [
        "# Remove Outliers\n",
        "Q1 = df.quantile(0.25)\n",
        "Q3 = df.quantile(0.75)\n",
        "IQR = Q3 - Q1\n",
        "df = df[~((df < (Q1 - 1.5 * IQR)) | (df > (Q3 + 1.5 * IQR))).any(axis=1)]"
      ],
      "metadata": {
        "colab": {
          "base_uri": "https://localhost:8080/"
        },
        "id": "fCKvMD7oXKJO",
        "outputId": "49b6f8dc-2a0e-4088-92b1-502e5ea97f10"
      },
      "execution_count": 45,
      "outputs": [
        {
          "output_type": "stream",
          "name": "stderr",
          "text": [
            "<ipython-input-45-f7f2e4adb4d0>:5: FutureWarning: Automatic reindexing on DataFrame vs Series comparisons is deprecated and will raise ValueError in a future version. Do `left, right = left.align(right, axis=1, copy=False)` before e.g. `left == right`\n",
            "  df = df[~((df < (Q1 - 1.5 * IQR)) | (df > (Q3 + 1.5 * IQR))).any(axis=1)]\n"
          ]
        }
      ]
    },
    {
      "cell_type": "code",
      "source": [
        "df.isnull().sum()"
      ],
      "metadata": {
        "colab": {
          "base_uri": "https://localhost:8080/"
        },
        "id": "oRTdsxtWLau8",
        "outputId": "5cd4ced3-171c-4ca5-fdaf-e2e575bac096"
      },
      "execution_count": 46,
      "outputs": [
        {
          "output_type": "execute_result",
          "data": {
            "text/plain": [
              "NDB_No               0\n",
              "Shrt_Desc            0\n",
              "Water_(g)            0\n",
              "Energ_Kcal           0\n",
              "Protein_(g)          0\n",
              "Lipid_Tot_(g)        0\n",
              "Ash_(g)              0\n",
              "Carbohydrt_(g)       0\n",
              "Fiber_TD_(g)         0\n",
              "Sugar_Tot_(g)        0\n",
              "Calcium_(mg)         0\n",
              "Iron_(mg)            0\n",
              "Magnesium_(mg)       0\n",
              "Phosphorus_(mg)      0\n",
              "Potassium_(mg)       0\n",
              "Sodium_(mg)          0\n",
              "Zinc_(mg)            0\n",
              "Copper_mg)           0\n",
              "Manganese_(mg)       0\n",
              "Selenium_(µg)        0\n",
              "Vit_C_(mg)           0\n",
              "Thiamin_(mg)         0\n",
              "Riboflavin_(mg)      0\n",
              "Niacin_(mg)          0\n",
              "Panto_Acid_mg)       0\n",
              "Vit_B6_(mg)          0\n",
              "Folate_Tot_(µg)      0\n",
              "Folic_Acid_(µg)      0\n",
              "Food_Folate_(µg)     0\n",
              "Folate_DFE_(µg)      0\n",
              "Choline_Tot_ (mg)    0\n",
              "Vit_B12_(µg)         0\n",
              "Vit_A_IU             0\n",
              "Vit_A_RAE            0\n",
              "Retinol_(µg)         0\n",
              "Alpha_Carot_(µg)     0\n",
              "Beta_Carot_(µg)      0\n",
              "Beta_Crypt_(µg)      0\n",
              "Lycopene_(µg)        0\n",
              "Lut+Zea_ (µg)        0\n",
              "Vit_E_(mg)           0\n",
              "Vit_D_µg             0\n",
              "Vit_D_IU             0\n",
              "Vit_K_(µg)           0\n",
              "FA_Sat_(g)           0\n",
              "FA_Mono_(g)          0\n",
              "FA_Poly_(g)          0\n",
              "Cholestrl_(mg)       0\n",
              "GmWt_1               0\n",
              "GmWt_Desc1           0\n",
              "GmWt_2               0\n",
              "GmWt_Desc2           0\n",
              "Refuse_Pct           0\n",
              "dtype: int64"
            ]
          },
          "metadata": {},
          "execution_count": 46
        }
      ]
    },
    {
      "cell_type": "code",
      "source": [
        "# Apply Standardization\n",
        "scaler = StandardScaler()\n",
        "df_std = scaler.fit_transform(df.drop('Shrt_Desc', axis=1))\n",
        "\n",
        "# Apply PCA for feature extraction\n",
        "pca = PCA(n_components=2)\n",
        "principal_components = pca.fit_transform(df_std)\n",
        "\n",
        "# Convert principal components to a dataframe\n",
        "principal_df = pd.DataFrame(data=principal_components, columns=['PC1', 'PC2'])\n"
      ],
      "metadata": {
        "id": "qw3eFcjhKhOz"
      },
      "execution_count": 47,
      "outputs": []
    },
    {
      "cell_type": "code",
      "source": [
        "# Get user input\n",
        "calorie_req = input(\"Enter your calorie requirement: \")\n",
        "food_allergy = input(\"Enter any food allergies: \")\n",
        "#nutrient_req = input(\"Enter your preferred nutrient values (e.g. protein, fiber): \")"
      ],
      "metadata": {
        "colab": {
          "base_uri": "https://localhost:8080/"
        },
        "id": "Po8OP7jYLq3r",
        "outputId": "58b266d1-64ed-4e0d-f11d-f96de3accae8"
      },
      "execution_count": 48,
      "outputs": [
        {
          "name": "stdout",
          "output_type": "stream",
          "text": [
            "Enter your calorie requirement: 1000\n",
            "Enter any food allergies: Butter\n"
          ]
        }
      ]
    },
    {
      "cell_type": "code",
      "source": [
        "# Filter the dataset based on user input\n",
        "filtered_df = df[(df['Energ_Kcal'] <= float(calorie_req)) & (~df['Shrt_Desc'].str.contains(food_allergy, na=False))\n",
        "                  & (df['Sugar_Tot_(g)'] <= 10) & (df['Fiber_TD_(g)'] >= 5) & (df['Carbohydrt_(g)'] < 55)]\n",
        "filtered_df = filtered_df.sort_values(by=['Protein_(g)'], ascending=False)\n"
      ],
      "metadata": {
        "id": "oUolwa_pL9Th"
      },
      "execution_count": 49,
      "outputs": []
    },
    {
      "cell_type": "code",
      "source": [
        "# Apply K-Means clustering algorithm and elbow method\n",
        "wcss = []\n",
        "for i in range(1, 11):\n",
        "    kmeans = KMeans(n_clusters=i, init='k-means++', random_state=42)\n",
        "    kmeans.fit(principal_df)\n",
        "    wcss.append(kmeans.inertia_)\n",
        "\n",
        "plt.plot(range(1, 11), wcss)\n",
        "plt.title('Elbow Method')\n",
        "plt.xlabel('Number of clusters')\n",
        "plt.ylabel('WCSS')\n",
        "plt.show()\n",
        "\n",
        "# Based on the elbow plot, select the number of clusters (e.g. 3)\n",
        "n_clusters = 3\n",
        "\n",
        "# Apply K-Means clustering algorithm\n",
        "kmeans = KMeans(n_clusters=n_clusters, init='k-means++', random_state=42)\n",
        "kmeans.fit(principal_df)\n",
        "y_kmeans = kmeans.predict(principal_df)\n"
      ],
      "metadata": {
        "colab": {
          "base_uri": "https://localhost:8080/",
          "height": 697
        },
        "id": "NNiBH9Z-NNDt",
        "outputId": "6868ae9c-bc77-45a1-e825-61e98e2dc180"
      },
      "execution_count": 50,
      "outputs": [
        {
          "output_type": "stream",
          "name": "stderr",
          "text": [
            "/usr/local/lib/python3.9/dist-packages/sklearn/cluster/_kmeans.py:870: FutureWarning: The default value of `n_init` will change from 10 to 'auto' in 1.4. Set the value of `n_init` explicitly to suppress the warning\n",
            "  warnings.warn(\n",
            "/usr/local/lib/python3.9/dist-packages/sklearn/cluster/_kmeans.py:870: FutureWarning: The default value of `n_init` will change from 10 to 'auto' in 1.4. Set the value of `n_init` explicitly to suppress the warning\n",
            "  warnings.warn(\n",
            "/usr/local/lib/python3.9/dist-packages/sklearn/cluster/_kmeans.py:870: FutureWarning: The default value of `n_init` will change from 10 to 'auto' in 1.4. Set the value of `n_init` explicitly to suppress the warning\n",
            "  warnings.warn(\n",
            "/usr/local/lib/python3.9/dist-packages/sklearn/cluster/_kmeans.py:870: FutureWarning: The default value of `n_init` will change from 10 to 'auto' in 1.4. Set the value of `n_init` explicitly to suppress the warning\n",
            "  warnings.warn(\n",
            "/usr/local/lib/python3.9/dist-packages/sklearn/cluster/_kmeans.py:870: FutureWarning: The default value of `n_init` will change from 10 to 'auto' in 1.4. Set the value of `n_init` explicitly to suppress the warning\n",
            "  warnings.warn(\n",
            "/usr/local/lib/python3.9/dist-packages/sklearn/cluster/_kmeans.py:870: FutureWarning: The default value of `n_init` will change from 10 to 'auto' in 1.4. Set the value of `n_init` explicitly to suppress the warning\n",
            "  warnings.warn(\n",
            "/usr/local/lib/python3.9/dist-packages/sklearn/cluster/_kmeans.py:870: FutureWarning: The default value of `n_init` will change from 10 to 'auto' in 1.4. Set the value of `n_init` explicitly to suppress the warning\n",
            "  warnings.warn(\n",
            "/usr/local/lib/python3.9/dist-packages/sklearn/cluster/_kmeans.py:870: FutureWarning: The default value of `n_init` will change from 10 to 'auto' in 1.4. Set the value of `n_init` explicitly to suppress the warning\n",
            "  warnings.warn(\n",
            "/usr/local/lib/python3.9/dist-packages/sklearn/cluster/_kmeans.py:870: FutureWarning: The default value of `n_init` will change from 10 to 'auto' in 1.4. Set the value of `n_init` explicitly to suppress the warning\n",
            "  warnings.warn(\n",
            "/usr/local/lib/python3.9/dist-packages/sklearn/cluster/_kmeans.py:870: FutureWarning: The default value of `n_init` will change from 10 to 'auto' in 1.4. Set the value of `n_init` explicitly to suppress the warning\n",
            "  warnings.warn(\n"
          ]
        },
        {
          "output_type": "display_data",
          "data": {
            "text/plain": [
              "<Figure size 432x288 with 1 Axes>"
            ],
            "image/png": "[encoded data removed]"
          },
          "metadata": {
            "needs_background": "light"
          }
        },
        {
          "output_type": "stream",
          "name": "stderr",
          "text": [
            "/usr/local/lib/python3.9/dist-packages/sklearn/cluster/_kmeans.py:870: FutureWarning: The default value of `n_init` will change from 10 to 'auto' in 1.4. Set the value of `n_init` explicitly to suppress the warning\n",
            "  warnings.warn(\n"
          ]
        }
      ]
    },
    {
      "cell_type": "code",
      "source": [
        "# Initialize centroids and colors\n",
        "centroids = kmeans.cluster_centers_\n",
        "colors = ['r', 'g', 'b']\n",
        "\n",
        "# Plot initial centroids and data points\n",
        "fig, ax = plt.subplots()\n",
        "for i in range(n_clusters):\n",
        "    ax.scatter(principal_df[y_kmeans == i]['PC1'], principal_df[y_kmeans == i]['PC2'], c=colors[i])\n",
        "ax.scatter(centroids[:, 0], centroids[:, 1], marker='*', s=200, c='#050505')\n",
        "\n",
        "# Update centroids until convergence\n",
        "while True:\n",
        "    # Assign each data point to the nearest centroid\n",
        "    old_centroids = centroids\n",
        "    y_kmeans = kmeans.predict(principal_df)\n",
        "    centroids = kmeans.cluster_centers_\n",
        "    \n",
        "    # Plot updated centroids and data points\n",
        "    fig, ax = plt.subplots()\n",
        "    for i in range(n_clusters):\n",
        "        ax.scatter(principal_df[y_kmeans == i]['PC1'], principal_df[y_kmeans == i]['PC2'], c=colors[i])\n",
        "    ax.scatter(centroids[:, 0], centroids[:, 1], marker='*', s=200, c='#050505')\n",
        "    \n",
        "    # Check for convergence\n",
        "    if (old_centroids == centroids).all():\n",
        "        break"
      ],
      "metadata": {
        "colab": {
          "base_uri": "https://localhost:8080/",
          "height": 519
        },
        "id": "08hV44DMTpLy",
        "outputId": "7f798318-03d2-4da6-a7e4-47eb59f0a2e3"
      },
      "execution_count": 51,
      "outputs": [
        {
          "output_type": "display_data",
          "data": {
            "text/plain": [
              "<Figure size 432x288 with 1 Axes>"
            ],
            "image/png": "[encoded data removed]"
          },
          "metadata": {
            "needs_background": "light"
          }
        },
        {
          "output_type": "display_data",
          "data": {
            "text/plain": [
              "<Figure size 432x288 with 1 Axes>"
            ],
            "image/png": "[encoded data removed]"
          },
          "metadata": {
            "needs_background": "light"
          }
        }
      ]
    },
    {
      "cell_type": "code",
      "source": [
        "# Combine Feature Extraction and K-Means Clustering\n",
        "principal_df['cluster'] = y_kmeans\n"
      ],
      "metadata": {
        "id": "Hi_ObAMQNUcU"
      },
      "execution_count": 52,
      "outputs": []
    },
    {
      "cell_type": "code",
      "source": [
        "# Get recommendations for the user\n",
        "recommended_foods = []\n",
        "for i in range(n_clusters):\n",
        "    cluster_df = principal_df[principal_df['cluster'] == i]#.drop('cluster', axis=1)\n",
        "    #cluster_df = pd.merge(cluster_df, df, left_index=True, right_index=True)\n",
        "    #cluster_df = cluster_df.sort_values(by=['Protein_(g)'], ascending=False)\n",
        "    index_list = cluster_df.index.tolist()\n",
        "    cluster_food_df = df.iloc[index_list,:]\n",
        "    #cluster_foods = filtered_df[filtered_df.index.isin(cluster_df.index)]\n",
        "    if not cluster_food_df.empty:  # add check for empty DataFrame\n",
        "      recommended_foods.append(cluster_food_df.iloc[0]['Shrt_Desc'])\n",
        "    \n",
        "print(\"Recommended foods for you:\")\n",
        "for food in recommended_foods:\n",
        "    print(\"- \" + food)\n"
      ],
      "metadata": {
        "colab": {
          "base_uri": "https://localhost:8080/"
        },
        "id": "Kse8ofgsNWxE",
        "outputId": "d1a26465-f9fb-4704-d567-4fb485ba76d8"
      },
      "execution_count": 57,
      "outputs": [
        {
          "output_type": "stream",
          "name": "stdout",
          "text": [
            "Recommended foods for you:\n",
            "- YOGURT,CHOC,NONFAT MILK\n",
            "- BABYFOOD,MEAT,PORK,STR\n",
            "- CHEESE,COTTAGE,NONFAT,UNCRMD,DRY,LRG OR SML CURD\n"
          ]
        }
      ]
    },
    {
      "cell_type": "code",
      "source": [
        "# Evaluate the system\n",
        "from sklearn.metrics import silhouette_score\n",
        "\n",
        "silhouette_scores = []\n",
        "inertia_scores = []\n",
        "for n_clusters in range(2, 11):\n",
        "    kmeans = KMeans(n_clusters=n_clusters, init='k-means++', random_state=42)\n",
        "    kmeans.fit(principal_df)\n",
        "    labels = kmeans.predict(principal_df)\n",
        "    silhouette_avg = silhouette_score(principal_df, labels)\n",
        "    inertia = kmeans.inertia_\n",
        "    silhouette_scores.append(silhouette_avg)\n",
        "    inertia_scores.append(inertia)\n",
        "\n",
        "# Plot evaluation metrics\n",
        "fig, ax1 = plt.subplots()\n",
        "\n",
        "ax2 = ax1.twinx()\n",
        "ax1.plot(range(2, 11), silhouette_scores, 'g-', label='Silhouette Score')\n",
        "ax2.plot(range(2, 11), inertia_scores, 'b-', label='Inertia')\n",
        "ax1.set_xlabel('Number of clusters')\n",
        "ax1.set_ylabel('Silhouette Score', color='g')\n",
        "ax2.set_ylabel('Inertia', color='b')\n",
        "plt.show()\n"
      ],
      "metadata": {
        "colab": {
          "base_uri": "https://localhost:8080/",
          "height": 611
        },
        "id": "6qda80alNqGm",
        "outputId": "89849fc0-2a4f-4001-f5d9-09efffa3f9a8"
      },
      "execution_count": 58,
      "outputs": [
        {
          "output_type": "stream",
          "name": "stderr",
          "text": [
            "/usr/local/lib/python3.9/dist-packages/sklearn/cluster/_kmeans.py:870: FutureWarning: The default value of `n_init` will change from 10 to 'auto' in 1.4. Set the value of `n_init` explicitly to suppress the warning\n",
            "  warnings.warn(\n",
            "/usr/local/lib/python3.9/dist-packages/sklearn/cluster/_kmeans.py:870: FutureWarning: The default value of `n_init` will change from 10 to 'auto' in 1.4. Set the value of `n_init` explicitly to suppress the warning\n",
            "  warnings.warn(\n",
            "/usr/local/lib/python3.9/dist-packages/sklearn/cluster/_kmeans.py:870: FutureWarning: The default value of `n_init` will change from 10 to 'auto' in 1.4. Set the value of `n_init` explicitly to suppress the warning\n",
            "  warnings.warn(\n",
            "/usr/local/lib/python3.9/dist-packages/sklearn/cluster/_kmeans.py:870: FutureWarning: The default value of `n_init` will change from 10 to 'auto' in 1.4. Set the value of `n_init` explicitly to suppress the warning\n",
            "  warnings.warn(\n",
            "/usr/local/lib/python3.9/dist-packages/sklearn/cluster/_kmeans.py:870: FutureWarning: The default value of `n_init` will change from 10 to 'auto' in 1.4. Set the value of `n_init` explicitly to suppress the warning\n",
            "  warnings.warn(\n",
            "/usr/local/lib/python3.9/dist-packages/sklearn/cluster/_kmeans.py:870: FutureWarning: The default value of `n_init` will change from 10 to 'auto' in 1.4. Set the value of `n_init` explicitly to suppress the warning\n",
            "  warnings.warn(\n",
            "/usr/local/lib/python3.9/dist-packages/sklearn/cluster/_kmeans.py:870: FutureWarning: The default value of `n_init` will change from 10 to 'auto' in 1.4. Set the value of `n_init` explicitly to suppress the warning\n",
            "  warnings.warn(\n",
            "/usr/local/lib/python3.9/dist-packages/sklearn/cluster/_kmeans.py:870: FutureWarning: The default value of `n_init` will change from 10 to 'auto' in 1.4. Set the value of `n_init` explicitly to suppress the warning\n",
            "  warnings.warn(\n",
            "/usr/local/lib/python3.9/dist-packages/sklearn/cluster/_kmeans.py:870: FutureWarning: The default value of `n_init` will change from 10 to 'auto' in 1.4. Set the value of `n_init` explicitly to suppress the warning\n",
            "  warnings.warn(\n"
          ]
        },
        {
          "output_type": "display_data",
          "data": {
            "text/plain": [
              "<Figure size 432x288 with 2 Axes>"
            ],
            "image/png": "[encoded data removed]"
          },
          "metadata": {
            "needs_background": "light"
          }
        }
      ]
    },
    {
      "cell_type": "code",
      "source": [
        "#The feature extraction method that we used is the Principal Component Analysis\n",
        "#The MATRIX that we used is called Principal Components Matrix\n",
        "print(principal_df)"
      ],
      "metadata": {
        "colab": {
          "base_uri": "https://localhost:8080/"
        },
        "id": "1fCWbaVYQV6T",
        "outputId": "d30d5e15-48e6-4263-a258-645b2f990d31"
      },
      "execution_count": 59,
      "outputs": [
        {
          "output_type": "stream",
          "name": "stdout",
          "text": [
            "           PC1       PC2  cluster\n",
            "0     0.896364 -1.017832        2\n",
            "1     1.033056 -2.218180        2\n",
            "2     0.063298 -0.520842        2\n",
            "3    -0.857106  0.015182        2\n",
            "4     0.600606 -2.184748        2\n",
            "..         ...       ...      ...\n",
            "657  10.260000 -4.566626        1\n",
            "658   4.871189  0.171486        0\n",
            "659   0.952355 -1.198835        2\n",
            "660  10.975797 -5.047164        1\n",
            "661   8.130655 -2.919043        1\n",
            "\n",
            "[662 rows x 3 columns]\n"
          ]
        }
      ]
    },
    {
      "cell_type": "code",
      "source": [
        "df['NDB_No'].head(20)"
      ],
      "metadata": {
        "colab": {
          "base_uri": "https://localhost:8080/"
        },
        "id": "ieB1Ack4c7fA",
        "outputId": "edf28cd7-271c-43b5-bb57-b7d51f702bce"
      },
      "execution_count": 60,
      "outputs": [
        {
          "output_type": "execute_result",
          "data": {
            "text/plain": [
              "13     1014\n",
              "15     1016\n",
              "58     1060\n",
              "61     1068\n",
              "80     1088\n",
              "112    1124\n",
              "158    1184\n",
              "161    1187\n",
              "215    1256\n",
              "226    1275\n",
              "230    1281\n",
              "296    2048\n",
              "298    2050\n",
              "299    2051\n",
              "300    2052\n",
              "301    2053\n",
              "308    2068\n",
              "309    2069\n",
              "319    3007\n",
              "325    3013\n",
              "Name: NDB_No, dtype: int64"
            ]
          },
          "metadata": {},
          "execution_count": 60
        }
      ]
    }
  ]
}