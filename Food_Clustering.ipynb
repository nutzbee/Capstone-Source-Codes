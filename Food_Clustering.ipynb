{
 "cells": [
  {
   "cell_type": "code",
   "execution_count": 2,
   "metadata": {},
   "outputs": [],
   "source": [
    "import pandas as pd\n",
    "import matplotlib.pyplot as plt\n",
    "import matplotlib.cm as cm\n",
    "import numpy as np\n",
    "import seaborn as sns\n",
    "import pickle\n",
    "from sklearn import metrics, datasets, cluster\n",
    "from pandas import DataFrame\n",
    "from sklearn.model_selection import train_test_split\n",
    "from sklearn import model_selection\n",
    "from sklearn.neighbors import KNeighborsClassifier\n",
    "from sklearn.datasets import make_blobs\n",
    "from sklearn.cluster import KMeans\n",
    "from sklearn.metrics import silhouette_samples, silhouette_score\n",
    "from sklearn.preprocessing import MinMaxScaler\n",
    "from sklearn.preprocessing import StandardScaler\n",
    "from itertools import cycle, islice\n",
    "from pandas.plotting import parallel_coordinates\n",
    "from sklearn.preprocessing import LabelEncoder\n",
    "from yellowbrick.cluster import SilhouetteVisualizer\n",
    "from sklearn.decomposition import PCA\n",
    "from yellowbrick.cluster import KElbowVisualizer\n",
    "from ipywidgets import interact"
   ]
  },
  {
   "cell_type": "markdown",
   "metadata": {},
   "source": [
    "# Filtered Dataframe"
   ]
  },
  {
   "cell_type": "code",
   "execution_count": 4,
   "metadata": {},
   "outputs": [],
   "source": [
    "df1 = pd.read_excel(\"ABBREV.xlsx\")"
   ]
  },
  {
   "cell_type": "code",
   "execution_count": 5,
   "metadata": {},
   "outputs": [
    {
     "data": {
      "text/plain": [
       "(7940, 53)"
      ]
     },
     "execution_count": 5,
     "metadata": {},
     "output_type": "execute_result"
    }
   ],
   "source": [
    "class filtered:\n",
    "    df1 = df1.fillna(0)\n",
    "    df_sugar_filtered = df1[df1['Sugar_Tot_(g)'] <= 25]\n",
    "    df_sorted = df_sugar_filtered.sort_values('NDB_No', ascending=True)\n",
    "filtered.df_sorted.shape "
   ]
  },
  {
   "cell_type": "code",
   "execution_count": 6,
   "metadata": {},
   "outputs": [
    {
     "data": {
      "text/plain": [
       "(236, 53)"
      ]
     },
     "execution_count": 6,
     "metadata": {},
     "output_type": "execute_result"
    }
   ],
   "source": [
    "class dairy:\n",
    "    df_dairy = filtered.df_sorted[filtered.df_sorted['NDB_No'] >= 1001]\n",
    "    df_dairy = df_dairy[df_dairy['NDB_No'] < 1307]\n",
    "dairy.df_dairy.shape"
   ]
  },
  {
   "cell_type": "code",
   "execution_count": 7,
   "metadata": {},
   "outputs": [
    {
     "data": {
      "text/plain": [
       "(64, 53)"
      ]
     },
     "execution_count": 7,
     "metadata": {},
     "output_type": "execute_result"
    }
   ],
   "source": [
    "class spices_n_herbs:\n",
    "    df_snh = filtered.df_sorted[filtered.df_sorted['NDB_No'] >= 2000]\n",
    "    df_snh = df_snh[df_snh['NDB_No'] < 2077]\n",
    "spices_n_herbs.df_snh.shape"
   ]
  },
  {
   "cell_type": "code",
   "execution_count": 8,
   "metadata": {},
   "outputs": [
    {
     "data": {
      "text/plain": [
       "(198, 53)"
      ]
     },
     "execution_count": 8,
     "metadata": {},
     "output_type": "execute_result"
    }
   ],
   "source": [
    "class baby_foods:\n",
    "    df_babyf = filtered.df_sorted[filtered.df_sorted['NDB_No'] >= 3000]\n",
    "    df_babyf = df_babyf[df_babyf['NDB_No'] < 3713]\n",
    "baby_foods.df_babyf.shape"
   ]
  },
  {
   "cell_type": "code",
   "execution_count": 9,
   "metadata": {},
   "outputs": [
    {
     "data": {
      "text/plain": [
       "(79, 53)"
      ]
     },
     "execution_count": 9,
     "metadata": {},
     "output_type": "execute_result"
    }
   ],
   "source": [
    "class inff_formula:#for baby foods\n",
    "    df_inff = filtered.df_sorted[filtered.df_sorted['NDB_No'] >= 3800]\n",
    "    df_inff = df_inff[df_inff['NDB_No'] < 4000]\n",
    "inff_formula.df_inff.shape"
   ]
  },
  {
   "cell_type": "code",
   "execution_count": 10,
   "metadata": {},
   "outputs": [
    {
     "data": {
      "text/plain": [
       "(188, 53)"
      ]
     },
     "execution_count": 10,
     "metadata": {},
     "output_type": "execute_result"
    }
   ],
   "source": [
    "class fats_and_oils:\n",
    "    df_fats = filtered.df_sorted[filtered.df_sorted['NDB_No'] >= 4000]\n",
    "    df_fats = df_fats[df_fats['NDB_No'] < 4710]\n",
    "fats_and_oils.df_fats.shape"
   ]
  },
  {
   "cell_type": "code",
   "execution_count": 11,
   "metadata": {},
   "outputs": [
    {
     "data": {
      "text/plain": [
       "(382, 53)"
      ]
     },
     "execution_count": 11,
     "metadata": {},
     "output_type": "execute_result"
    }
   ],
   "source": [
    "class poultry_products:\n",
    "    df_poultry = filtered.df_sorted[filtered.df_sorted['NDB_No'] >= 5000]\n",
    "    df_poultry = df_poultry[df_poultry['NDB_No'] < 5750]\n",
    "poultry_products.df_poultry.shape"
   ]
  },
  {
   "cell_type": "code",
   "execution_count": 12,
   "metadata": {},
   "outputs": [
    {
     "data": {
      "text/plain": [
       "(412, 53)"
      ]
     },
     "execution_count": 12,
     "metadata": {},
     "output_type": "execute_result"
    }
   ],
   "source": [
    "class soups_sauces_gravies1:\n",
    "    df_ssg = filtered.df_sorted[filtered.df_sorted['NDB_No'] >= 6000]\n",
    "    df_ssg = df_ssg[df_ssg['NDB_No'] < 7000]\n",
    "soups_sauces_gravies1.df_ssg.shape"
   ]
  },
  {
   "cell_type": "code",
   "execution_count": 13,
   "metadata": {},
   "outputs": [
    {
     "data": {
      "text/plain": [
       "(155, 53)"
      ]
     },
     "execution_count": 13,
     "metadata": {},
     "output_type": "execute_result"
    }
   ],
   "source": [
    "class processed_meats:\n",
    "    df_meats = filtered.df_sorted[filtered.df_sorted['NDB_No'] >= 7000]\n",
    "    df_meats = df_meats[df_meats['NDB_No'] < 7980]\n",
    "processed_meats.df_meats.shape"
   ]
  },
  {
   "cell_type": "code",
   "execution_count": 14,
   "metadata": {},
   "outputs": [
    {
     "data": {
      "text/plain": [
       "(213, 53)"
      ]
     },
     "execution_count": 14,
     "metadata": {},
     "output_type": "execute_result"
    }
   ],
   "source": [
    "class grains:\n",
    "    df_grains = filtered.df_sorted[filtered.df_sorted['NDB_No'] >= 8000]\n",
    "    df_grains = df_grains[df_grains['NDB_No'] < 8713]\n",
    "grains.df_grains.shape"
   ]
  },
  {
   "cell_type": "code",
   "execution_count": 15,
   "metadata": {},
   "outputs": [
    {
     "data": {
      "text/plain": [
       "(324, 53)"
      ]
     },
     "execution_count": 15,
     "metadata": {},
     "output_type": "execute_result"
    }
   ],
   "source": [
    "class fruits:\n",
    "    df_fruits = filtered.df_sorted[filtered.df_sorted['NDB_No'] >= 9000]\n",
    "    df_fruits = df_fruits[df_fruits['NDB_No'] < 9532]\n",
    "fruits.df_fruits.shape"
   ]
  },
  {
   "cell_type": "code",
   "execution_count": 16,
   "metadata": {},
   "outputs": [
    {
     "data": {
      "text/plain": [
       "(336, 53)"
      ]
     },
     "execution_count": 16,
     "metadata": {},
     "output_type": "execute_result"
    }
   ],
   "source": [
    "class red_meats:\n",
    "    df_red_meats = filtered.df_sorted[filtered.df_sorted['NDB_No'] >= 10000]\n",
    "    df_red_meats = df_red_meats[df_red_meats['NDB_No'] < 10999]\n",
    "red_meats.df_red_meats.shape"
   ]
  },
  {
   "cell_type": "code",
   "execution_count": 17,
   "metadata": {},
   "outputs": [
    {
     "data": {
      "text/plain": [
       "(779, 53)"
      ]
     },
     "execution_count": 17,
     "metadata": {},
     "output_type": "execute_result"
    }
   ],
   "source": [
    "class vegetables:\n",
    "    df_vegetables = filtered.df_sorted[filtered.df_sorted['NDB_No'] >= 11000]\n",
    "    df_vegetables = df_vegetables[df_vegetables['NDB_No'] < 11999]\n",
    "vegetables.df_vegetables.shape"
   ]
  },
  {
   "cell_type": "code",
   "execution_count": 18,
   "metadata": {},
   "outputs": [
    {
     "data": {
      "text/plain": [
       "(132, 53)"
      ]
     },
     "execution_count": 18,
     "metadata": {},
     "output_type": "execute_result"
    }
   ],
   "source": [
    "class nuts_n_seeds:\n",
    "    df_nutsnseeds = filtered.df_sorted[filtered.df_sorted['NDB_No'] >= 12000]\n",
    "    df_nutsnseeds = df_nutsnseeds[df_nutsnseeds['NDB_No'] < 12739]\n",
    "nuts_n_seeds.df_nutsnseeds.shape"
   ]
  },
  {
   "cell_type": "code",
   "execution_count": 19,
   "metadata": {},
   "outputs": [
    {
     "data": {
      "text/plain": [
       "(380, 53)"
      ]
     },
     "execution_count": 19,
     "metadata": {},
     "output_type": "execute_result"
    }
   ],
   "source": [
    "13-13986\n",
    "class beef_products:\n",
    "    df_beef_prod = filtered.df_sorted[filtered.df_sorted['NDB_No'] >= 13000]\n",
    "    df_beef_prod = df_beef_prod[df_beef_prod['NDB_No'] < 13986]\n",
    "beef_products.df_beef_prod.shape"
   ]
  },
  {
   "cell_type": "code",
   "execution_count": 20,
   "metadata": {},
   "outputs": [
    {
     "data": {
      "text/plain": [
       "(323, 53)"
      ]
     },
     "execution_count": 20,
     "metadata": {},
     "output_type": "execute_result"
    }
   ],
   "source": [
    "class beverages:\n",
    "    df_beverages = filtered.df_sorted[filtered.df_sorted['NDB_No'] >= 14000]\n",
    "    df_beverages = df_beverages[df_beverages['NDB_No'] < 14655]\n",
    "beverages.df_beverages.shape"
   ]
  },
  {
   "cell_type": "code",
   "execution_count": 21,
   "metadata": {},
   "outputs": [
    {
     "data": {
      "text/plain": [
       "(259, 53)"
      ]
     },
     "execution_count": 21,
     "metadata": {},
     "output_type": "execute_result"
    }
   ],
   "source": [
    "class fish:\n",
    "    df_fish = filtered.df_sorted[filtered.df_sorted['NDB_No'] >= 15000]\n",
    "    df_fish = df_fish[df_fish['NDB_No'] < 15275]\n",
    "fish.df_fish.shape"
   ]
  },
  {
   "cell_type": "code",
   "execution_count": 22,
   "metadata": {},
   "outputs": [
    {
     "data": {
      "text/plain": [
       "(356, 53)"
      ]
     },
     "execution_count": 22,
     "metadata": {},
     "output_type": "execute_result"
    }
   ],
   "source": [
    "class legumes:#and legume products\n",
    "    df_legumes = filtered.df_sorted[filtered.df_sorted['NDB_No'] >= 16000]\n",
    "    df_legumes = df_legumes[df_legumes['NDB_No'] < 16620]\n",
    "legumes.df_legumes.shape"
   ]
  },
  {
   "cell_type": "code",
   "execution_count": 23,
   "metadata": {},
   "outputs": [
    {
     "data": {
      "text/plain": [
       "(464, 53)"
      ]
     },
     "execution_count": 23,
     "metadata": {},
     "output_type": "execute_result"
    }
   ],
   "source": [
    "class lamb_veal_game:#products\n",
    "    df_lamb_veal_game = filtered.df_sorted[filtered.df_sorted['NDB_No'] >= 17000]\n",
    "    df_lamb_veal_game = df_lamb_veal_game[df_lamb_veal_game['NDB_No'] < 17465]\n",
    "lamb_veal_game.df_lamb_veal_game.shape"
   ]
  },
  {
   "cell_type": "code",
   "execution_count": 24,
   "metadata": {},
   "outputs": [
    {
     "data": {
      "text/plain": [
       "(370, 53)"
      ]
     },
     "execution_count": 24,
     "metadata": {},
     "output_type": "execute_result"
    }
   ],
   "source": [
    "class baked:#products\n",
    "    df_baked = filtered.df_sorted[filtered.df_sorted['NDB_No'] >= 18000]\n",
    "    df_baked = df_baked[df_baked['NDB_No'] < 19000]\n",
    "baked.df_baked.shape"
   ]
  },
  {
   "cell_type": "code",
   "execution_count": 25,
   "metadata": {},
   "outputs": [
    {
     "data": {
      "text/plain": [
       "(223, 53)"
      ]
     },
     "execution_count": 25,
     "metadata": {},
     "output_type": "execute_result"
    }
   ],
   "source": [
    "class sweets:#products\n",
    "    df_sweets = filtered.df_sorted[filtered.df_sorted['NDB_No'] >= 19000]\n",
    "    df_sweets = df_sweets[df_sweets['NDB_No'] < 19925]\n",
    "sweets.df_sweets.shape"
   ]
  },
  {
   "cell_type": "code",
   "execution_count": 26,
   "metadata": {},
   "outputs": [
    {
     "data": {
      "text/plain": [
       "(180, 53)"
      ]
     },
     "execution_count": 26,
     "metadata": {},
     "output_type": "execute_result"
    }
   ],
   "source": [
    "class whole_grain:#products\n",
    "    df_whole_grain = filtered.df_sorted[filtered.df_sorted['NDB_No'] >= 20000]\n",
    "    df_whole_grain = df_whole_grain[df_whole_grain['NDB_No'] < 20658]\n",
    "whole_grain.df_whole_grain.shape"
   ]
  },
  {
   "cell_type": "code",
   "execution_count": 27,
   "metadata": {},
   "outputs": [
    {
     "data": {
      "text/plain": [
       "(356, 53)"
      ]
     },
     "execution_count": 27,
     "metadata": {},
     "output_type": "execute_result"
    }
   ],
   "source": [
    "class fast_foods:#products\n",
    "    df_fast_food = filtered.df_sorted[filtered.df_sorted['NDB_No'] >= 21000]\n",
    "    df_fast_food = df_fast_food[df_fast_food['NDB_No'] < 21612]\n",
    "fast_foods.df_fast_food.shape"
   ]
  },
  {
   "cell_type": "code",
   "execution_count": 28,
   "metadata": {},
   "outputs": [
    {
     "data": {
      "text/plain": [
       "(685, 53)"
      ]
     },
     "execution_count": 28,
     "metadata": {},
     "output_type": "execute_result"
    }
   ],
   "source": [
    "class processed_foods:#products\n",
    "    df_processed_foods = filtered.df_sorted[filtered.df_sorted['NDB_No'] >= 22110]\n",
    "    df_processed_foods = df_processed_foods[df_processed_foods['NDB_No'] < 23661]\n",
    "processed_foods.df_processed_foods.shape"
   ]
  },
  {
   "cell_type": "code",
   "execution_count": 29,
   "metadata": {},
   "outputs": [
    {
     "data": {
      "text/plain": [
       "(32, 53)"
      ]
     },
     "execution_count": 29,
     "metadata": {},
     "output_type": "execute_result"
    }
   ],
   "source": [
    "class snacks:#products\n",
    "    df_snacks = filtered.df_sorted[filtered.df_sorted['NDB_No'] >= 25000]\n",
    "    df_snacks = df_snacks[df_snacks['NDB_No'] < 25072]\n",
    "snacks.df_snacks.shape"
   ]
  },
  {
   "cell_type": "code",
   "execution_count": 30,
   "metadata": {},
   "outputs": [
    {
     "data": {
      "text/plain": [
       "(46, 53)"
      ]
     },
     "execution_count": 30,
     "metadata": {},
     "output_type": "execute_result"
    }
   ],
   "source": [
    "class soups_sauces_gravies:#products\n",
    "    df_soupsaucegravy = filtered.df_sorted[filtered.df_sorted['NDB_No'] >= 27000]\n",
    "    df_soupsaucegravy = df_soupsaucegravy[df_soupsaucegravy['NDB_No'] < 27069]\n",
    "soups_sauces_gravies.df_soupsaucegravy.shape"
   ]
  },
  {
   "cell_type": "code",
   "execution_count": 31,
   "metadata": {},
   "outputs": [
    {
     "data": {
      "text/plain": [
       "(221, 53)"
      ]
     },
     "execution_count": 31,
     "metadata": {},
     "output_type": "execute_result"
    }
   ],
   "source": [
    "class cookies:#products\n",
    "    df_cookies = filtered.df_sorted[filtered.df_sorted['NDB_No'] >= 28000]\n",
    "    df_cookies = df_cookies[df_cookies['NDB_No'] < 28400]\n",
    "cookies.df_cookies.shape"
   ]
  },
  {
   "cell_type": "code",
   "execution_count": 32,
   "metadata": {},
   "outputs": [
    {
     "data": {
      "text/plain": [
       "(33, 53)"
      ]
     },
     "execution_count": 32,
     "metadata": {},
     "output_type": "execute_result"
    }
   ],
   "source": [
    "class vegetable:#products\n",
    "    df_vegprod = filtered.df_sorted[filtered.df_sorted['NDB_No'] >= 31000]\n",
    "    df_vegprod = df_vegprod[df_vegprod['NDB_No'] < 31037]\n",
    "vegetable.df_vegprod.shape"
   ]
  },
  {
   "cell_type": "code",
   "execution_count": 33,
   "metadata": {},
   "outputs": [
    {
     "data": {
      "text/plain": [
       "(36, 53)"
      ]
     },
     "execution_count": 33,
     "metadata": {},
     "output_type": "execute_result"
    }
   ],
   "source": [
    "class starchy_food:#products\n",
    "    df_starchy = filtered.df_sorted[filtered.df_sorted['NDB_No'] >= 32000]\n",
    "    df_starchy = df_starchy[df_starchy['NDB_No'] < 32037]\n",
    "starchy_food.df_starchy.shape"
   ]
  },
  {
   "cell_type": "code",
   "execution_count": 34,
   "metadata": {},
   "outputs": [
    {
     "data": {
      "text/plain": [
       "(7, 53)"
      ]
     },
     "execution_count": 34,
     "metadata": {},
     "output_type": "execute_result"
    }
   ],
   "source": [
    "class inf_formula:#inf stands for formerly infection formula\n",
    "    df_inf = filtered.df_sorted[filtered.df_sorted['NDB_No'] >= 33862]\n",
    "    df_inf = df_inf[df_inf['NDB_No'] < 33880]\n",
    "inf_formula.df_inf.shape"
   ]
  },
  {
   "cell_type": "code",
   "execution_count": 35,
   "metadata": {},
   "outputs": [
    {
     "data": {
      "text/plain": [
       "(164, 53)"
      ]
     },
     "execution_count": 35,
     "metadata": {},
     "output_type": "execute_result"
    }
   ],
   "source": [
    "class aioranf:#aioranf stands for American Indian/Alaska Native Foods\n",
    "    df_aioranf = filtered.df_sorted[filtered.df_sorted['NDB_No'] >= 35000]\n",
    "    df_aioranf = df_aioranf[df_aioranf['NDB_No'] < 35241]\n",
    "aioranf.df_aioranf.shape"
   ]
  },
  {
   "cell_type": "code",
   "execution_count": 36,
   "metadata": {},
   "outputs": [
    {
     "data": {
      "text/plain": [
       "(109, 53)"
      ]
     },
     "execution_count": 36,
     "metadata": {},
     "output_type": "execute_result"
    }
   ],
   "source": [
    "class restaurant:#foods\n",
    "    df_res = filtered.df_sorted[filtered.df_sorted['NDB_No'] >= 36000]\n",
    "    df_res = df_res[df_res['NDB_No'] < 36634]\n",
    "restaurant.df_res.shape"
   ]
  },
  {
   "cell_type": "code",
   "execution_count": 37,
   "metadata": {},
   "outputs": [
    {
     "data": {
      "text/plain": [
       "(63, 53)"
      ]
     },
     "execution_count": 37,
     "metadata": {},
     "output_type": "execute_result"
    }
   ],
   "source": [
    "class sweets2:#foods\n",
    "    df_sweets2 = filtered.df_sorted[filtered.df_sorted['NDB_No'] >= 42040]\n",
    "    df_sweets2 = df_sweets2[df_sweets2['NDB_No'] < 42317]\n",
    "sweets2.df_sweets2.shape"
   ]
  },
  {
   "cell_type": "code",
   "execution_count": 38,
   "metadata": {},
   "outputs": [
    {
     "data": {
      "text/plain": [
       "(121, 53)"
      ]
     },
     "execution_count": 38,
     "metadata": {},
     "output_type": "execute_result"
    }
   ],
   "source": [
    "class desserts:#foods\n",
    "    df_dessert = filtered.df_sorted[filtered.df_sorted['NDB_No'] >= 43000]\n",
    "    df_dessert = df_dessert[df_dessert['NDB_No'] < 43599]\n",
    "desserts.df_dessert.shape"
   ]
  },
  {
   "cell_type": "code",
   "execution_count": 39,
   "metadata": {},
   "outputs": [
    {
     "data": {
      "text/plain": [
       "(8, 53)"
      ]
     },
     "execution_count": 39,
     "metadata": {},
     "output_type": "execute_result"
    }
   ],
   "source": [
    "class dietary_lipids:#foods\n",
    "    df_dlipids = filtered.df_sorted[filtered.df_sorted['NDB_No'] >= 44000]\n",
    "    df_dlipids = df_dlipids[df_dlipids['NDB_No'] < 44261]\n",
    "dietary_lipids.df_dlipids.shape"
   ]
  },
  {
   "cell_type": "code",
   "execution_count": 40,
   "metadata": {},
   "outputs": [
    {
     "data": {
      "text/plain": [
       "(1, 53)"
      ]
     },
     "execution_count": 40,
     "metadata": {},
     "output_type": "execute_result"
    }
   ],
   "source": [
    "class hppbma:#high protein plant-based meal alternative\n",
    "    df_hppbma = filtered.df_sorted[filtered.df_sorted['NDB_No'] == 48052]\n",
    "hppbma.df_hppbma.shape"
   ]
  },
  {
   "cell_type": "markdown",
   "metadata": {},
   "source": [
    "# Progress"
   ]
  },
  {
   "cell_type": "code",
   "execution_count": 3,
   "metadata": {},
   "outputs": [],
   "source": [
    "sampleDf = pd.read_csv('Food_Preference.csv')"
   ]
  },
  {
   "cell_type": "code",
   "execution_count": 4,
   "metadata": {},
   "outputs": [
    {
     "data": {
      "text/html": [
       "<div>\n",
       "<style scoped>\n",
       "    .dataframe tbody tr th:only-of-type {\n",
       "        vertical-align: middle;\n",
       "    }\n",
       "\n",
       "    .dataframe tbody tr th {\n",
       "        vertical-align: top;\n",
       "    }\n",
       "\n",
       "    .dataframe thead th {\n",
       "        text-align: right;\n",
       "    }\n",
       "</style>\n",
       "<table border=\"1\" class=\"dataframe\">\n",
       "  <thead>\n",
       "    <tr style=\"text-align: right;\">\n",
       "      <th></th>\n",
       "      <th>Timestamp</th>\n",
       "      <th>Participant_ID</th>\n",
       "      <th>Gender</th>\n",
       "      <th>Nationality</th>\n",
       "      <th>Age</th>\n",
       "      <th>Food</th>\n",
       "      <th>Juice</th>\n",
       "      <th>Dessert</th>\n",
       "    </tr>\n",
       "  </thead>\n",
       "  <tbody>\n",
       "    <tr>\n",
       "      <th>0</th>\n",
       "      <td>2019/05/07 2:59:13 PM GMT+8</td>\n",
       "      <td>FPS001</td>\n",
       "      <td>Male</td>\n",
       "      <td>Indian</td>\n",
       "      <td>24</td>\n",
       "      <td>Traditional food</td>\n",
       "      <td>Fresh Juice</td>\n",
       "      <td>Maybe</td>\n",
       "    </tr>\n",
       "    <tr>\n",
       "      <th>1</th>\n",
       "      <td>2019/05/07 2:59:45 PM GMT+8</td>\n",
       "      <td>FPS002</td>\n",
       "      <td>Female</td>\n",
       "      <td>Indian</td>\n",
       "      <td>22</td>\n",
       "      <td>Western Food</td>\n",
       "      <td>Carbonated drinks</td>\n",
       "      <td>Yes</td>\n",
       "    </tr>\n",
       "    <tr>\n",
       "      <th>2</th>\n",
       "      <td>2019/05/07 3:00:05 PM GMT+8</td>\n",
       "      <td>FPS003</td>\n",
       "      <td>Male</td>\n",
       "      <td>Indian</td>\n",
       "      <td>31</td>\n",
       "      <td>Western Food</td>\n",
       "      <td>Fresh Juice</td>\n",
       "      <td>Maybe</td>\n",
       "    </tr>\n",
       "    <tr>\n",
       "      <th>3</th>\n",
       "      <td>2019/05/07 3:00:11 PM GMT+8</td>\n",
       "      <td>FPS004</td>\n",
       "      <td>Female</td>\n",
       "      <td>Indian</td>\n",
       "      <td>25</td>\n",
       "      <td>Traditional food</td>\n",
       "      <td>Fresh Juice</td>\n",
       "      <td>Maybe</td>\n",
       "    </tr>\n",
       "    <tr>\n",
       "      <th>4</th>\n",
       "      <td>2019/05/07 3:02:50 PM GMT+8</td>\n",
       "      <td>FPS005</td>\n",
       "      <td>Male</td>\n",
       "      <td>Indian</td>\n",
       "      <td>27</td>\n",
       "      <td>Traditional food</td>\n",
       "      <td>Fresh Juice</td>\n",
       "      <td>Maybe</td>\n",
       "    </tr>\n",
       "  </tbody>\n",
       "</table>\n",
       "</div>"
      ],
      "text/plain": [
       "                     Timestamp Participant_ID  Gender Nationality  Age  \\\n",
       "0  2019/05/07 2:59:13 PM GMT+8         FPS001    Male      Indian   24   \n",
       "1  2019/05/07 2:59:45 PM GMT+8         FPS002  Female      Indian   22   \n",
       "2  2019/05/07 3:00:05 PM GMT+8         FPS003    Male      Indian   31   \n",
       "3  2019/05/07 3:00:11 PM GMT+8         FPS004  Female      Indian   25   \n",
       "4  2019/05/07 3:02:50 PM GMT+8         FPS005    Male      Indian   27   \n",
       "\n",
       "               Food              Juice Dessert  \n",
       "0  Traditional food        Fresh Juice   Maybe  \n",
       "1      Western Food  Carbonated drinks     Yes  \n",
       "2      Western Food        Fresh Juice   Maybe  \n",
       "3  Traditional food        Fresh Juice   Maybe  \n",
       "4  Traditional food        Fresh Juice   Maybe  "
      ]
     },
     "execution_count": 4,
     "metadata": {},
     "output_type": "execute_result"
    }
   ],
   "source": [
    "sampleDf.head()"
   ]
  },
  {
   "cell_type": "code",
   "execution_count": 5,
   "metadata": {},
   "outputs": [
    {
     "data": {
      "text/html": [
       "<div>\n",
       "<style scoped>\n",
       "    .dataframe tbody tr th:only-of-type {\n",
       "        vertical-align: middle;\n",
       "    }\n",
       "\n",
       "    .dataframe tbody tr th {\n",
       "        vertical-align: top;\n",
       "    }\n",
       "\n",
       "    .dataframe thead th {\n",
       "        text-align: right;\n",
       "    }\n",
       "</style>\n",
       "<table border=\"1\" class=\"dataframe\">\n",
       "  <thead>\n",
       "    <tr style=\"text-align: right;\">\n",
       "      <th></th>\n",
       "      <th>Timestamp</th>\n",
       "      <th>Participant_ID</th>\n",
       "      <th>Gender</th>\n",
       "      <th>Nationality</th>\n",
       "      <th>Age</th>\n",
       "      <th>Food</th>\n",
       "      <th>Juice</th>\n",
       "      <th>Dessert</th>\n",
       "    </tr>\n",
       "  </thead>\n",
       "  <tbody>\n",
       "    <tr>\n",
       "      <th>0</th>\n",
       "      <td>2019/05/07 2:59:13 PM GMT+8</td>\n",
       "      <td>FPS001</td>\n",
       "      <td>1</td>\n",
       "      <td>3</td>\n",
       "      <td>13</td>\n",
       "      <td>0</td>\n",
       "      <td>1</td>\n",
       "      <td>0</td>\n",
       "    </tr>\n",
       "    <tr>\n",
       "      <th>1</th>\n",
       "      <td>2019/05/07 2:59:45 PM GMT+8</td>\n",
       "      <td>FPS002</td>\n",
       "      <td>0</td>\n",
       "      <td>3</td>\n",
       "      <td>11</td>\n",
       "      <td>1</td>\n",
       "      <td>0</td>\n",
       "      <td>2</td>\n",
       "    </tr>\n",
       "    <tr>\n",
       "      <th>2</th>\n",
       "      <td>2019/05/07 3:00:05 PM GMT+8</td>\n",
       "      <td>FPS003</td>\n",
       "      <td>1</td>\n",
       "      <td>3</td>\n",
       "      <td>20</td>\n",
       "      <td>1</td>\n",
       "      <td>1</td>\n",
       "      <td>0</td>\n",
       "    </tr>\n",
       "    <tr>\n",
       "      <th>3</th>\n",
       "      <td>2019/05/07 3:00:11 PM GMT+8</td>\n",
       "      <td>FPS004</td>\n",
       "      <td>0</td>\n",
       "      <td>3</td>\n",
       "      <td>14</td>\n",
       "      <td>0</td>\n",
       "      <td>1</td>\n",
       "      <td>0</td>\n",
       "    </tr>\n",
       "    <tr>\n",
       "      <th>4</th>\n",
       "      <td>2019/05/07 3:02:50 PM GMT+8</td>\n",
       "      <td>FPS005</td>\n",
       "      <td>1</td>\n",
       "      <td>3</td>\n",
       "      <td>16</td>\n",
       "      <td>0</td>\n",
       "      <td>1</td>\n",
       "      <td>0</td>\n",
       "    </tr>\n",
       "  </tbody>\n",
       "</table>\n",
       "</div>"
      ],
      "text/plain": [
       "                     Timestamp Participant_ID  Gender  Nationality  Age  Food  \\\n",
       "0  2019/05/07 2:59:13 PM GMT+8         FPS001       1            3   13     0   \n",
       "1  2019/05/07 2:59:45 PM GMT+8         FPS002       0            3   11     1   \n",
       "2  2019/05/07 3:00:05 PM GMT+8         FPS003       1            3   20     1   \n",
       "3  2019/05/07 3:00:11 PM GMT+8         FPS004       0            3   14     0   \n",
       "4  2019/05/07 3:02:50 PM GMT+8         FPS005       1            3   16     0   \n",
       "\n",
       "   Juice  Dessert  \n",
       "0      1        0  \n",
       "1      0        2  \n",
       "2      1        0  \n",
       "3      1        0  \n",
       "4      1        0  "
      ]
     },
     "execution_count": 5,
     "metadata": {},
     "output_type": "execute_result"
    }
   ],
   "source": [
    "#from string to integer \n",
    "le = LabelEncoder()\n",
    "sampleDf['Age'] = le.fit_transform(sampleDf['Age'])\n",
    "sampleDf['Gender'] = le.fit_transform(sampleDf['Gender'])\n",
    "sampleDf['Nationality'] = le.fit_transform(sampleDf['Nationality'])\n",
    "sampleDf['Food'] = le.fit_transform(sampleDf['Food'])\n",
    "sampleDf['Juice'] = le.fit_transform(sampleDf['Juice'])\n",
    "sampleDf['Dessert'] = le.fit_transform(sampleDf['Dessert'])\n",
    "sampleDf.head()"
   ]
  },
  {
   "cell_type": "code",
   "execution_count": 6,
   "metadata": {},
   "outputs": [
    {
     "data": {
      "text/plain": [
       "Index(['Timestamp', 'Participant_ID', 'Gender', 'Nationality', 'Age', 'Food',\n",
       "       'Juice', 'Dessert'],\n",
       "      dtype='object')"
      ]
     },
     "execution_count": 6,
     "metadata": {},
     "output_type": "execute_result"
    }
   ],
   "source": [
    "sampleDf.columns"
   ]
  },
  {
   "cell_type": "code",
   "execution_count": 7,
   "metadata": {},
   "outputs": [],
   "source": [
    "feature = ['Gender', 'Nationality', 'Age', 'Food', 'Juice', 'Dessert']\n",
    "\n",
    "sampleNutrientsDf = sampleDf[feature]"
   ]
  },
  {
   "cell_type": "code",
   "execution_count": 8,
   "metadata": {},
   "outputs": [
    {
     "data": {
      "text/plain": [
       "Gender         0\n",
       "Nationality    0\n",
       "Age            0\n",
       "Food           0\n",
       "Juice          0\n",
       "Dessert        0\n",
       "dtype: int64"
      ]
     },
     "execution_count": 8,
     "metadata": {},
     "output_type": "execute_result"
    }
   ],
   "source": [
    "sampleNutrientsDf.isnull().sum()"
   ]
  },
  {
   "cell_type": "code",
   "execution_count": 138,
   "metadata": {},
   "outputs": [
    {
     "data": {
      "text/plain": [
       "Gender         0\n",
       "Nationality    0\n",
       "Age            0\n",
       "Food           0\n",
       "Juice          0\n",
       "Dessert        0\n",
       "dtype: int64"
      ]
     },
     "execution_count": 138,
     "metadata": {},
     "output_type": "execute_result"
    }
   ],
   "source": [
    "sampleNutrientsDf = sampleNutrientsDf.fillna(0)\n",
    "sampleNutrientsDf.isnull().sum()"
   ]
  },
  {
   "cell_type": "code",
   "execution_count": 9,
   "metadata": {},
   "outputs": [
    {
     "data": {
      "text/plain": [
       "(288, 6)"
      ]
     },
     "execution_count": 9,
     "metadata": {},
     "output_type": "execute_result"
    }
   ],
   "source": [
    "sampleNutrientsDf.shape"
   ]
  },
  {
   "cell_type": "code",
   "execution_count": 10,
   "metadata": {},
   "outputs": [
    {
     "data": {
      "text/html": [
       "<div>\n",
       "<style scoped>\n",
       "    .dataframe tbody tr th:only-of-type {\n",
       "        vertical-align: middle;\n",
       "    }\n",
       "\n",
       "    .dataframe tbody tr th {\n",
       "        vertical-align: top;\n",
       "    }\n",
       "\n",
       "    .dataframe thead th {\n",
       "        text-align: right;\n",
       "    }\n",
       "</style>\n",
       "<table border=\"1\" class=\"dataframe\">\n",
       "  <thead>\n",
       "    <tr style=\"text-align: right;\">\n",
       "      <th></th>\n",
       "      <th>Gender</th>\n",
       "      <th>Nationality</th>\n",
       "      <th>Age</th>\n",
       "      <th>Food</th>\n",
       "      <th>Juice</th>\n",
       "      <th>Dessert</th>\n",
       "    </tr>\n",
       "  </thead>\n",
       "  <tbody>\n",
       "    <tr>\n",
       "      <th>0</th>\n",
       "      <td>1</td>\n",
       "      <td>3</td>\n",
       "      <td>13</td>\n",
       "      <td>0</td>\n",
       "      <td>1</td>\n",
       "      <td>0</td>\n",
       "    </tr>\n",
       "    <tr>\n",
       "      <th>1</th>\n",
       "      <td>0</td>\n",
       "      <td>3</td>\n",
       "      <td>11</td>\n",
       "      <td>1</td>\n",
       "      <td>0</td>\n",
       "      <td>2</td>\n",
       "    </tr>\n",
       "    <tr>\n",
       "      <th>2</th>\n",
       "      <td>1</td>\n",
       "      <td>3</td>\n",
       "      <td>20</td>\n",
       "      <td>1</td>\n",
       "      <td>1</td>\n",
       "      <td>0</td>\n",
       "    </tr>\n",
       "    <tr>\n",
       "      <th>3</th>\n",
       "      <td>0</td>\n",
       "      <td>3</td>\n",
       "      <td>14</td>\n",
       "      <td>0</td>\n",
       "      <td>1</td>\n",
       "      <td>0</td>\n",
       "    </tr>\n",
       "    <tr>\n",
       "      <th>4</th>\n",
       "      <td>1</td>\n",
       "      <td>3</td>\n",
       "      <td>16</td>\n",
       "      <td>0</td>\n",
       "      <td>1</td>\n",
       "      <td>0</td>\n",
       "    </tr>\n",
       "  </tbody>\n",
       "</table>\n",
       "</div>"
      ],
      "text/plain": [
       "   Gender  Nationality  Age  Food  Juice  Dessert\n",
       "0       1            3   13     0      1        0\n",
       "1       0            3   11     1      0        2\n",
       "2       1            3   20     1      1        0\n",
       "3       0            3   14     0      1        0\n",
       "4       1            3   16     0      1        0"
      ]
     },
     "execution_count": 10,
     "metadata": {},
     "output_type": "execute_result"
    }
   ],
   "source": [
    "sampleNutrientsDf.head()"
   ]
  },
  {
   "cell_type": "code",
   "execution_count": 11,
   "metadata": {},
   "outputs": [],
   "source": [
    "X = StandardScaler().fit_transform(sampleNutrientsDf)"
   ]
  },
  {
   "cell_type": "code",
   "execution_count": 12,
   "metadata": {},
   "outputs": [
    {
     "data": {
      "text/plain": [
       "array([[ 1.06739615, -0.35139624, -0.6403903 , -0.45834925,  0.35355339,\n",
       "        -1.07450973],\n",
       "       [-0.8419833 , -0.35139624, -0.84914231,  2.18174242, -2.82842712,\n",
       "         1.13591029],\n",
       "       [ 1.06739615, -0.35139624,  0.09024176,  2.18174242,  0.35355339,\n",
       "        -1.07450973],\n",
       "       ...,\n",
       "       [ 1.06739615, -0.35139624, -0.53601429, -0.45834925,  0.35355339,\n",
       "         1.13591029],\n",
       "       [ 1.06739615, -0.35139624, -0.32726227, -0.45834925,  0.35355339,\n",
       "         1.13591029],\n",
       "       [ 1.06739615, -0.35139624, -0.32726227, -0.45834925,  0.35355339,\n",
       "         0.03070028]])"
      ]
     },
     "execution_count": 12,
     "metadata": {},
     "output_type": "execute_result"
    }
   ],
   "source": [
    "X"
   ]
  },
  {
   "cell_type": "markdown",
   "metadata": {},
   "source": [
    "**Algorithm**"
   ]
  },
  {
   "cell_type": "code",
   "execution_count": 13,
   "metadata": {},
   "outputs": [
    {
     "data": {
      "text/plain": [
       "<matplotlib.collections.PathCollection at 0x1a766388df0>"
      ]
     },
     "execution_count": 13,
     "metadata": {},
     "output_type": "execute_result"
    },
    {
     "data": {
      "image/png": "[encoded data removed]",
      "text/plain": [
       "<Figure size 576x396 with 1 Axes>"
      ]
     },
     "metadata": {},
     "output_type": "display_data"
    }
   ],
   "source": [
    "plt.scatter(X[:,0], X[:,1], label=\"True position\")"
   ]
  },
  {
   "cell_type": "code",
   "execution_count": 14,
   "metadata": {},
   "outputs": [
    {
     "name": "stderr",
     "output_type": "stream",
     "text": [
      "C:\\Users\\Mizzia Pontino\\anaconda3\\lib\\site-packages\\sklearn\\cluster\\_kmeans.py:1334: UserWarning: KMeans is known to have a memory leak on Windows with MKL, when there are less chunks than available threads. You can avoid it by setting the environment variable OMP_NUM_THREADS=2.\n",
      "  warnings.warn(\n"
     ]
    },
    {
     "data": {
      "text/html": [
       "<style>#sk-container-id-1 {color: black;background-color: white;}#sk-container-id-1 pre{padding: 0;}#sk-container-id-1 div.sk-toggleable {background-color: white;}#sk-container-id-1 label.sk-toggleable__label {cursor: pointer;display: block;width: 100%;margin-bottom: 0;padding: 0.3em;box-sizing: border-box;text-align: center;}#sk-container-id-1 label.sk-toggleable__label-arrow:before {content: \"▸\";float: left;margin-right: 0.25em;color: #696969;}#sk-container-id-1 label.sk-toggleable__label-arrow:hover:before {color: black;}#sk-container-id-1 div.sk-estimator:hover label.sk-toggleable__label-arrow:before {color: black;}#sk-container-id-1 div.sk-toggleable__content {max-height: 0;max-width: 0;overflow: hidden;text-align: left;background-color: #f0f8ff;}#sk-container-id-1 div.sk-toggleable__content pre {margin: 0.2em;color: black;border-radius: 0.25em;background-color: #f0f8ff;}#sk-container-id-1 input.sk-toggleable__control:checked~div.sk-toggleable__content {max-height: 200px;max-width: 100%;overflow: auto;}#sk-container-id-1 input.sk-toggleable__control:checked~label.sk-toggleable__label-arrow:before {content: \"▾\";}#sk-container-id-1 div.sk-estimator input.sk-toggleable__control:checked~label.sk-toggleable__label {background-color: #d4ebff;}#sk-container-id-1 div.sk-label input.sk-toggleable__control:checked~label.sk-toggleable__label {background-color: #d4ebff;}#sk-container-id-1 input.sk-hidden--visually {border: 0;clip: rect(1px 1px 1px 1px);clip: rect(1px, 1px, 1px, 1px);height: 1px;margin: -1px;overflow: hidden;padding: 0;position: absolute;width: 1px;}#sk-container-id-1 div.sk-estimator {font-family: monospace;background-color: #f0f8ff;border: 1px dotted black;border-radius: 0.25em;box-sizing: border-box;margin-bottom: 0.5em;}#sk-container-id-1 div.sk-estimator:hover {background-color: #d4ebff;}#sk-container-id-1 div.sk-parallel-item::after {content: \"\";width: 100%;border-bottom: 1px solid gray;flex-grow: 1;}#sk-container-id-1 div.sk-label:hover label.sk-toggleable__label {background-color: #d4ebff;}#sk-container-id-1 div.sk-serial::before {content: \"\";position: absolute;border-left: 1px solid gray;box-sizing: border-box;top: 0;bottom: 0;left: 50%;z-index: 0;}#sk-container-id-1 div.sk-serial {display: flex;flex-direction: column;align-items: center;background-color: white;padding-right: 0.2em;padding-left: 0.2em;position: relative;}#sk-container-id-1 div.sk-item {position: relative;z-index: 1;}#sk-container-id-1 div.sk-parallel {display: flex;align-items: stretch;justify-content: center;background-color: white;position: relative;}#sk-container-id-1 div.sk-item::before, #sk-container-id-1 div.sk-parallel-item::before {content: \"\";position: absolute;border-left: 1px solid gray;box-sizing: border-box;top: 0;bottom: 0;left: 50%;z-index: -1;}#sk-container-id-1 div.sk-parallel-item {display: flex;flex-direction: column;z-index: 1;position: relative;background-color: white;}#sk-container-id-1 div.sk-parallel-item:first-child::after {align-self: flex-end;width: 50%;}#sk-container-id-1 div.sk-parallel-item:last-child::after {align-self: flex-start;width: 50%;}#sk-container-id-1 div.sk-parallel-item:only-child::after {width: 0;}#sk-container-id-1 div.sk-dashed-wrapped {border: 1px dashed gray;margin: 0 0.4em 0.5em 0.4em;box-sizing: border-box;padding-bottom: 0.4em;background-color: white;}#sk-container-id-1 div.sk-label label {font-family: monospace;font-weight: bold;display: inline-block;line-height: 1.2em;}#sk-container-id-1 div.sk-label-container {text-align: center;}#sk-container-id-1 div.sk-container {/* jupyter's `normalize.less` sets `[hidden] { display: none; }` but bootstrap.min.css set `[hidden] { display: none !important; }` so we also need the `!important` here to be able to override the default hidden behavior on the sphinx rendered scikit-learn.org. See: https://github.com/scikit-learn/scikit-learn/issues/21755 */display: inline-block !important;position: relative;}#sk-container-id-1 div.sk-text-repr-fallback {display: none;}</style><div id=\"sk-container-id-1\" class=\"sk-top-container\"><div class=\"sk-text-repr-fallback\"><pre>KMeans(n_clusters=3)</pre><b>In a Jupyter environment, please rerun this cell to show the HTML representation or trust the notebook. <br />On GitHub, the HTML representation is unable to render, please try loading this page with nbviewer.org.</b></div><div class=\"sk-container\" hidden><div class=\"sk-item\"><div class=\"sk-estimator sk-toggleable\"><input class=\"sk-toggleable__control sk-hidden--visually\" id=\"sk-estimator-id-1\" type=\"checkbox\" checked><label for=\"sk-estimator-id-1\" class=\"sk-toggleable__label sk-toggleable__label-arrow\">KMeans</label><div class=\"sk-toggleable__content\"><pre>KMeans(n_clusters=3)</pre></div></div></div></div></div>"
      ],
      "text/plain": [
       "KMeans(n_clusters=3)"
      ]
     },
     "execution_count": 14,
     "metadata": {},
     "output_type": "execute_result"
    }
   ],
   "source": [
    "kmeanss = KMeans(n_clusters = 3, max_iter=300)\n",
    "kmeanss.fit(X)"
   ]
  },
  {
   "cell_type": "code",
   "execution_count": 15,
   "metadata": {},
   "outputs": [
    {
     "name": "stdout",
     "output_type": "stream",
     "text": [
      "[[-0.75346902 -0.29374353  0.41442949 -0.24854064  0.35355339 -0.10104661]\n",
      " [ 0.99465788  0.31395715 -0.53004995  0.14510028  0.35355339  0.07280352]\n",
      " [ 0.29171075  0.35593038 -0.21636277  0.69669086 -2.82842712  0.23792715]]\n"
     ]
    }
   ],
   "source": [
    "print(kmeanss.cluster_centers_)"
   ]
  },
  {
   "cell_type": "code",
   "execution_count": 16,
   "metadata": {},
   "outputs": [
    {
     "name": "stdout",
     "output_type": "stream",
     "text": [
      "[1 2 1 0 1 1 0 2 0 1 1 0 0 2 1 1 1 1 0 0 2 1 1 1 1 0 0 1 1 1 2 0 1 1 1 1 1\n",
      " 1 1 0 1 1 1 2 2 1 1 1 1 0 0 1 1 0 0 2 0 1 0 2 0 0 2 2 2 0 0 1 2 0 0 1 0 0\n",
      " 2 1 0 1 1 0 0 1 0 0 1 0 0 0 0 1 0 1 0 1 0 2 2 1 2 0 0 1 1 0 0 0 0 0 2 1 1\n",
      " 0 0 0 1 1 0 0 0 0 0 1 0 1 2 2 1 1 0 1 0 1 0 0 0 0 2 0 0 0 0 2 0 0 1 1 0 0\n",
      " 0 1 1 1 1 1 2 0 0 1 2 1 1 0 0 0 1 0 0 1 0 2 1 0 2 0 0 2 1 1 0 0 0 0 0 0 0\n",
      " 0 0 0 0 0 0 1 0 0 1 0 0 0 0 0 0 1 0 0 0 0 0 0 0 0 0 0 0 2 0 0 0 0 0 1 0 1\n",
      " 0 0 1 1 0 0 0 1 1 2 0 0 0 1 0 0 0 0 1 0 0 0 0 0 0 0 0 0 0 0 0 0 0 0 0 0 0\n",
      " 0 0 0 1 1 1 1 1 1 1 1 2 1 1 0 1 1 2 1 2 1 1 1 1 1 1 1 1 1]\n"
     ]
    }
   ],
   "source": [
    "print(kmeanss.labels_)"
   ]
  },
  {
   "cell_type": "code",
   "execution_count": 17,
   "metadata": {},
   "outputs": [
    {
     "data": {
      "text/plain": [
       "<matplotlib.collections.PathCollection at 0x1a766b8adf0>"
      ]
     },
     "execution_count": 17,
     "metadata": {},
     "output_type": "execute_result"
    },
    {
     "data": {
      "image/png": "[encoded data removed]",
      "text/plain": [
       "<Figure size 576x396 with 1 Axes>"
      ]
     },
     "metadata": {},
     "output_type": "display_data"
    }
   ],
   "source": [
    "plt.scatter(X[:, 0], X[:, 1], c=kmeanss.labels_, cmap='rainbow')"
   ]
  },
  {
   "cell_type": "code",
   "execution_count": 44,
   "metadata": {},
   "outputs": [
    {
     "name": "stderr",
     "output_type": "stream",
     "text": [
      "C:\\Users\\Mizzia Pontino\\anaconda3\\lib\\site-packages\\sklearn\\cluster\\_kmeans.py:1334: UserWarning: KMeans is known to have a memory leak on Windows with MKL, when there are less chunks than available threads. You can avoid it by setting the environment variable OMP_NUM_THREADS=2.\n",
      "  warnings.warn(\n",
      "C:\\Users\\Mizzia Pontino\\anaconda3\\lib\\site-packages\\sklearn\\cluster\\_kmeans.py:1334: UserWarning: KMeans is known to have a memory leak on Windows with MKL, when there are less chunks than available threads. You can avoid it by setting the environment variable OMP_NUM_THREADS=2.\n",
      "  warnings.warn(\n"
     ]
    },
    {
     "ename": "ValueError",
     "evalue": "max_iter should be > 0, got 0 instead.",
     "output_type": "error",
     "traceback": [
      "\u001b[1;31m---------------------------------------------------------------------------\u001b[0m",
      "\u001b[1;31mValueError\u001b[0m                                Traceback (most recent call last)",
      "\u001b[1;32mC:\\Users\\MIZZIA~1\\AppData\\Local\\Temp/ipykernel_7240/1345533652.py\u001b[0m in \u001b[0;36m<module>\u001b[1;34m\u001b[0m\n\u001b[0;32m      5\u001b[0m \u001b[1;33m\u001b[0m\u001b[0m\n\u001b[0;32m      6\u001b[0m \u001b[1;32mfor\u001b[0m \u001b[0mi\u001b[0m \u001b[1;32min\u001b[0m \u001b[0mrange\u001b[0m\u001b[1;33m(\u001b[0m\u001b[1;36m300\u001b[0m\u001b[1;33m)\u001b[0m\u001b[1;33m:\u001b[0m\u001b[1;33m\u001b[0m\u001b[1;33m\u001b[0m\u001b[0m\n\u001b[1;32m----> 7\u001b[1;33m     \u001b[0mkmeans\u001b[0m\u001b[1;33m.\u001b[0m\u001b[0mfit\u001b[0m\u001b[1;33m(\u001b[0m\u001b[0mX\u001b[0m\u001b[1;33m)\u001b[0m\u001b[1;33m\u001b[0m\u001b[1;33m\u001b[0m\u001b[0m\n\u001b[0m\u001b[0;32m      8\u001b[0m     \u001b[0mintermediate_centers\u001b[0m \u001b[1;33m=\u001b[0m \u001b[0mkmeans\u001b[0m\u001b[1;33m.\u001b[0m\u001b[0mcluster_centers_\u001b[0m\u001b[1;33m\u001b[0m\u001b[1;33m\u001b[0m\u001b[0m\n\u001b[0;32m      9\u001b[0m     \u001b[0mkmeans\u001b[0m \u001b[1;33m=\u001b[0m \u001b[0mKMeans\u001b[0m\u001b[1;33m(\u001b[0m\u001b[0mmax_iter\u001b[0m\u001b[1;33m=\u001b[0m\u001b[0mi\u001b[0m\u001b[1;33m,\u001b[0m \u001b[0minit\u001b[0m\u001b[1;33m=\u001b[0m\u001b[0mintermediate_centers\u001b[0m\u001b[1;33m)\u001b[0m\u001b[1;33m\u001b[0m\u001b[1;33m\u001b[0m\u001b[0m\n",
      "\u001b[1;32m~\\anaconda3\\lib\\site-packages\\sklearn\\cluster\\_kmeans.py\u001b[0m in \u001b[0;36mfit\u001b[1;34m(self, X, y, sample_weight)\u001b[0m\n\u001b[0;32m   1374\u001b[0m         )\n\u001b[0;32m   1375\u001b[0m \u001b[1;33m\u001b[0m\u001b[0m\n\u001b[1;32m-> 1376\u001b[1;33m         \u001b[0mself\u001b[0m\u001b[1;33m.\u001b[0m\u001b[0m_check_params\u001b[0m\u001b[1;33m(\u001b[0m\u001b[0mX\u001b[0m\u001b[1;33m)\u001b[0m\u001b[1;33m\u001b[0m\u001b[1;33m\u001b[0m\u001b[0m\n\u001b[0m\u001b[0;32m   1377\u001b[0m         \u001b[0mrandom_state\u001b[0m \u001b[1;33m=\u001b[0m \u001b[0mcheck_random_state\u001b[0m\u001b[1;33m(\u001b[0m\u001b[0mself\u001b[0m\u001b[1;33m.\u001b[0m\u001b[0mrandom_state\u001b[0m\u001b[1;33m)\u001b[0m\u001b[1;33m\u001b[0m\u001b[1;33m\u001b[0m\u001b[0m\n\u001b[0;32m   1378\u001b[0m         \u001b[0msample_weight\u001b[0m \u001b[1;33m=\u001b[0m \u001b[0m_check_sample_weight\u001b[0m\u001b[1;33m(\u001b[0m\u001b[0msample_weight\u001b[0m\u001b[1;33m,\u001b[0m \u001b[0mX\u001b[0m\u001b[1;33m,\u001b[0m \u001b[0mdtype\u001b[0m\u001b[1;33m=\u001b[0m\u001b[0mX\u001b[0m\u001b[1;33m.\u001b[0m\u001b[0mdtype\u001b[0m\u001b[1;33m)\u001b[0m\u001b[1;33m\u001b[0m\u001b[1;33m\u001b[0m\u001b[0m\n",
      "\u001b[1;32m~\\anaconda3\\lib\\site-packages\\sklearn\\cluster\\_kmeans.py\u001b[0m in \u001b[0;36m_check_params\u001b[1;34m(self, X)\u001b[0m\n\u001b[0;32m   1305\u001b[0m \u001b[1;33m\u001b[0m\u001b[0m\n\u001b[0;32m   1306\u001b[0m     \u001b[1;32mdef\u001b[0m \u001b[0m_check_params\u001b[0m\u001b[1;33m(\u001b[0m\u001b[0mself\u001b[0m\u001b[1;33m,\u001b[0m \u001b[0mX\u001b[0m\u001b[1;33m)\u001b[0m\u001b[1;33m:\u001b[0m\u001b[1;33m\u001b[0m\u001b[1;33m\u001b[0m\u001b[0m\n\u001b[1;32m-> 1307\u001b[1;33m         \u001b[0msuper\u001b[0m\u001b[1;33m(\u001b[0m\u001b[1;33m)\u001b[0m\u001b[1;33m.\u001b[0m\u001b[0m_check_params\u001b[0m\u001b[1;33m(\u001b[0m\u001b[0mX\u001b[0m\u001b[1;33m)\u001b[0m\u001b[1;33m\u001b[0m\u001b[1;33m\u001b[0m\u001b[0m\n\u001b[0m\u001b[0;32m   1308\u001b[0m \u001b[1;33m\u001b[0m\u001b[0m\n\u001b[0;32m   1309\u001b[0m         \u001b[1;31m# algorithm\u001b[0m\u001b[1;33m\u001b[0m\u001b[1;33m\u001b[0m\u001b[0m\n",
      "\u001b[1;32m~\\anaconda3\\lib\\site-packages\\sklearn\\cluster\\_kmeans.py\u001b[0m in \u001b[0;36m_check_params\u001b[1;34m(self, X)\u001b[0m\n\u001b[0;32m    822\u001b[0m         \u001b[1;31m# max_iter\u001b[0m\u001b[1;33m\u001b[0m\u001b[1;33m\u001b[0m\u001b[0m\n\u001b[0;32m    823\u001b[0m         \u001b[1;32mif\u001b[0m \u001b[0mself\u001b[0m\u001b[1;33m.\u001b[0m\u001b[0mmax_iter\u001b[0m \u001b[1;33m<=\u001b[0m \u001b[1;36m0\u001b[0m\u001b[1;33m:\u001b[0m\u001b[1;33m\u001b[0m\u001b[1;33m\u001b[0m\u001b[0m\n\u001b[1;32m--> 824\u001b[1;33m             \u001b[1;32mraise\u001b[0m \u001b[0mValueError\u001b[0m\u001b[1;33m(\u001b[0m\u001b[1;34mf\"max_iter should be > 0, got {self.max_iter} instead.\"\u001b[0m\u001b[1;33m)\u001b[0m\u001b[1;33m\u001b[0m\u001b[1;33m\u001b[0m\u001b[0m\n\u001b[0m\u001b[0;32m    825\u001b[0m \u001b[1;33m\u001b[0m\u001b[0m\n\u001b[0;32m    826\u001b[0m         \u001b[1;31m# n_clusters\u001b[0m\u001b[1;33m\u001b[0m\u001b[1;33m\u001b[0m\u001b[0m\n",
      "\u001b[1;31mValueError\u001b[0m: max_iter should be > 0, got 0 instead."
     ]
    },
    {
     "data": {
      "image/png": "[encoded data removed]",
      "text/plain": [
       "<Figure size 576x396 with 1 Axes>"
      ]
     },
     "metadata": {},
     "output_type": "display_data"
    }
   ],
   "source": [
    "kmeans = KMeans(n_clusters=3, n_init=10,max_iter=100).fit(X)\n",
    "\n",
    "#cluster_centres = kmeans.cluster_centers_\n",
    "y_kmeans = kmeans.predict(X)\n",
    "\n",
    "for i in range(300):\n",
    "    kmeans.fit(X)\n",
    "    intermediate_centers = kmeans.cluster_centers_\n",
    "    kmeans = KMeans(max_iter=i, init=intermediate_centers)\n",
    "    plt.scatter(X[:, 0], X[:, 1], c=y_kmeans, s=50, cmap='viridis')\n",
    "    for centroid in intermediate_centers:\n",
    "        plt.scatter(centroid[0],  centroid[1], s=300,  c='black', alpha=0.5)"
   ]
  },
  {
   "cell_type": "code",
   "execution_count": 45,
   "metadata": {},
   "outputs": [
    {
     "name": "stderr",
     "output_type": "stream",
     "text": [
      "C:\\Users\\MIZZIA~1\\AppData\\Local\\Temp/ipykernel_7240/3566925859.py:1: SettingWithCopyWarning: \n",
      "A value is trying to be set on a copy of a slice from a DataFrame.\n",
      "Try using .loc[row_indexer,col_indexer] = value instead\n",
      "\n",
      "See the caveats in the documentation: https://pandas.pydata.org/pandas-docs/stable/user_guide/indexing.html#returning-a-view-versus-a-copy\n",
      "  sampleNutrientsDf['cluster'] = y_kmeans\n"
     ]
    },
    {
     "data": {
      "text/html": [
       "<div>\n",
       "<style scoped>\n",
       "    .dataframe tbody tr th:only-of-type {\n",
       "        vertical-align: middle;\n",
       "    }\n",
       "\n",
       "    .dataframe tbody tr th {\n",
       "        vertical-align: top;\n",
       "    }\n",
       "\n",
       "    .dataframe thead th {\n",
       "        text-align: right;\n",
       "    }\n",
       "</style>\n",
       "<table border=\"1\" class=\"dataframe\">\n",
       "  <thead>\n",
       "    <tr style=\"text-align: right;\">\n",
       "      <th></th>\n",
       "      <th>Gender</th>\n",
       "      <th>Nationality</th>\n",
       "      <th>Age</th>\n",
       "      <th>Food</th>\n",
       "      <th>Juice</th>\n",
       "      <th>Dessert</th>\n",
       "      <th>cluster</th>\n",
       "    </tr>\n",
       "  </thead>\n",
       "  <tbody>\n",
       "    <tr>\n",
       "      <th>0</th>\n",
       "      <td>1</td>\n",
       "      <td>3</td>\n",
       "      <td>13</td>\n",
       "      <td>0</td>\n",
       "      <td>1</td>\n",
       "      <td>0</td>\n",
       "      <td>1</td>\n",
       "    </tr>\n",
       "    <tr>\n",
       "      <th>1</th>\n",
       "      <td>0</td>\n",
       "      <td>3</td>\n",
       "      <td>11</td>\n",
       "      <td>1</td>\n",
       "      <td>0</td>\n",
       "      <td>2</td>\n",
       "      <td>2</td>\n",
       "    </tr>\n",
       "    <tr>\n",
       "      <th>2</th>\n",
       "      <td>1</td>\n",
       "      <td>3</td>\n",
       "      <td>20</td>\n",
       "      <td>1</td>\n",
       "      <td>1</td>\n",
       "      <td>0</td>\n",
       "      <td>1</td>\n",
       "    </tr>\n",
       "    <tr>\n",
       "      <th>3</th>\n",
       "      <td>0</td>\n",
       "      <td>3</td>\n",
       "      <td>14</td>\n",
       "      <td>0</td>\n",
       "      <td>1</td>\n",
       "      <td>0</td>\n",
       "      <td>0</td>\n",
       "    </tr>\n",
       "    <tr>\n",
       "      <th>4</th>\n",
       "      <td>1</td>\n",
       "      <td>3</td>\n",
       "      <td>16</td>\n",
       "      <td>0</td>\n",
       "      <td>1</td>\n",
       "      <td>0</td>\n",
       "      <td>1</td>\n",
       "    </tr>\n",
       "  </tbody>\n",
       "</table>\n",
       "</div>"
      ],
      "text/plain": [
       "   Gender  Nationality  Age  Food  Juice  Dessert  cluster\n",
       "0       1            3   13     0      1        0        1\n",
       "1       0            3   11     1      0        2        2\n",
       "2       1            3   20     1      1        0        1\n",
       "3       0            3   14     0      1        0        0\n",
       "4       1            3   16     0      1        0        1"
      ]
     },
     "execution_count": 45,
     "metadata": {},
     "output_type": "execute_result"
    }
   ],
   "source": [
    "sampleNutrientsDf['cluster'] = y_kmeans\n",
    "sampleNutrientsDf.head()"
   ]
  },
  {
   "cell_type": "code",
   "execution_count": 46,
   "metadata": {},
   "outputs": [
    {
     "name": "stderr",
     "output_type": "stream",
     "text": [
      "C:\\Users\\Mizzia Pontino\\anaconda3\\lib\\site-packages\\sklearn\\cluster\\_kmeans.py:1334: UserWarning: KMeans is known to have a memory leak on Windows with MKL, when there are less chunks than available threads. You can avoid it by setting the environment variable OMP_NUM_THREADS=2.\n",
      "  warnings.warn(\n"
     ]
    },
    {
     "name": "stdout",
     "output_type": "stream",
     "text": [
      "Cluster number 2 Score 0.32813335806539395\n"
     ]
    },
    {
     "name": "stderr",
     "output_type": "stream",
     "text": [
      "C:\\Users\\Mizzia Pontino\\anaconda3\\lib\\site-packages\\sklearn\\cluster\\_kmeans.py:1334: UserWarning: KMeans is known to have a memory leak on Windows with MKL, when there are less chunks than available threads. You can avoid it by setting the environment variable OMP_NUM_THREADS=2.\n",
      "  warnings.warn(\n"
     ]
    },
    {
     "name": "stdout",
     "output_type": "stream",
     "text": [
      "Cluster number 3 Score 0.2748003488223488\n"
     ]
    },
    {
     "name": "stderr",
     "output_type": "stream",
     "text": [
      "C:\\Users\\Mizzia Pontino\\anaconda3\\lib\\site-packages\\sklearn\\cluster\\_kmeans.py:1334: UserWarning: KMeans is known to have a memory leak on Windows with MKL, when there are less chunks than available threads. You can avoid it by setting the environment variable OMP_NUM_THREADS=2.\n",
      "  warnings.warn(\n"
     ]
    },
    {
     "name": "stdout",
     "output_type": "stream",
     "text": [
      "Cluster number 4 Score 0.30851861799719443\n"
     ]
    },
    {
     "name": "stderr",
     "output_type": "stream",
     "text": [
      "C:\\Users\\Mizzia Pontino\\anaconda3\\lib\\site-packages\\sklearn\\cluster\\_kmeans.py:1334: UserWarning: KMeans is known to have a memory leak on Windows with MKL, when there are less chunks than available threads. You can avoid it by setting the environment variable OMP_NUM_THREADS=2.\n",
      "  warnings.warn(\n"
     ]
    },
    {
     "name": "stdout",
     "output_type": "stream",
     "text": [
      "Cluster number 5 Score 0.32422734406869985\n"
     ]
    },
    {
     "name": "stderr",
     "output_type": "stream",
     "text": [
      "C:\\Users\\Mizzia Pontino\\anaconda3\\lib\\site-packages\\sklearn\\cluster\\_kmeans.py:1334: UserWarning: KMeans is known to have a memory leak on Windows with MKL, when there are less chunks than available threads. You can avoid it by setting the environment variable OMP_NUM_THREADS=2.\n",
      "  warnings.warn(\n"
     ]
    },
    {
     "name": "stdout",
     "output_type": "stream",
     "text": [
      "Cluster number 6 Score 0.3191098129242132\n"
     ]
    }
   ],
   "source": [
    "no_of_clusters = [2,3,4,5,6]\n",
    "for n_clusters in no_of_clusters:\n",
    "    cluster = KMeans(n_clusters = n_clusters)\n",
    "    cluster_labels = cluster.fit_predict(X)\n",
    "    silhouette_avg = silhouette_score(X, cluster_labels)\n",
    "\n",
    "    #print process\n",
    "    print(\"Cluster number\", n_clusters, \n",
    "          \"Score\", silhouette_avg)"
   ]
  },
  {
   "cell_type": "markdown",
   "metadata": {},
   "source": [
    "Markdowns"
   ]
  },
  {
   "cell_type": "code",
   "execution_count": 49,
   "metadata": {},
   "outputs": [
    {
     "name": "stderr",
     "output_type": "stream",
     "text": [
      "C:\\Users\\Mizzia Pontino\\anaconda3\\lib\\site-packages\\sklearn\\cluster\\_kmeans.py:1334: UserWarning: KMeans is known to have a memory leak on Windows with MKL, when there are less chunks than available threads. You can avoid it by setting the environment variable OMP_NUM_THREADS=2.\n",
      "  warnings.warn(\n"
     ]
    },
    {
     "data": {
      "image/png": "[encoded data removed]",
      "text/plain": [
       "<Figure size 576x396 with 1 Axes>"
      ]
     },
     "metadata": {},
     "output_type": "display_data"
    },
    {
     "name": "stderr",
     "output_type": "stream",
     "text": [
      "C:\\Users\\Mizzia Pontino\\anaconda3\\lib\\site-packages\\sklearn\\cluster\\_kmeans.py:1334: UserWarning: KMeans is known to have a memory leak on Windows with MKL, when there are less chunks than available threads. You can avoid it by setting the environment variable OMP_NUM_THREADS=2.\n",
      "  warnings.warn(\n"
     ]
    },
    {
     "data": {
      "image/png": "[encoded data removed]",
      "text/plain": [
       "<Figure size 576x396 with 1 Axes>"
      ]
     },
     "metadata": {},
     "output_type": "display_data"
    },
    {
     "name": "stderr",
     "output_type": "stream",
     "text": [
      "C:\\Users\\Mizzia Pontino\\anaconda3\\lib\\site-packages\\sklearn\\cluster\\_kmeans.py:1334: UserWarning: KMeans is known to have a memory leak on Windows with MKL, when there are less chunks than available threads. You can avoid it by setting the environment variable OMP_NUM_THREADS=2.\n",
      "  warnings.warn(\n"
     ]
    },
    {
     "data": {
      "image/png": "[encoded data removed]",
      "text/plain": [
       "<Figure size 576x396 with 1 Axes>"
      ]
     },
     "metadata": {},
     "output_type": "display_data"
    },
    {
     "name": "stderr",
     "output_type": "stream",
     "text": [
      "C:\\Users\\Mizzia Pontino\\anaconda3\\lib\\site-packages\\sklearn\\cluster\\_kmeans.py:1334: UserWarning: KMeans is known to have a memory leak on Windows with MKL, when there are less chunks than available threads. You can avoid it by setting the environment variable OMP_NUM_THREADS=2.\n",
      "  warnings.warn(\n"
     ]
    },
    {
     "data": {
      "image/png": "[encoded data removed]",
      "text/plain": [
       "<Figure size 576x396 with 1 Axes>"
      ]
     },
     "metadata": {},
     "output_type": "display_data"
    },
    {
     "name": "stderr",
     "output_type": "stream",
     "text": [
      "C:\\Users\\Mizzia Pontino\\anaconda3\\lib\\site-packages\\sklearn\\cluster\\_kmeans.py:1334: UserWarning: KMeans is known to have a memory leak on Windows with MKL, when there are less chunks than available threads. You can avoid it by setting the environment variable OMP_NUM_THREADS=2.\n",
      "  warnings.warn(\n"
     ]
    },
    {
     "data": {
      "image/png": "[encoded data removed]",
      "text/plain": [
       "<Figure size 576x396 with 1 Axes>"
      ]
     },
     "metadata": {},
     "output_type": "display_data"
    }
   ],
   "source": [
    "for i in [2, 3, 4, 5, 6]:\n",
    "    kmeanss = KMeans(n_clusters=i)\n",
    "    visualizer = SilhouetteVisualizer(kmeanss, colors='yellowbrick')\n",
    "\n",
    "    visualizer.fit(X)      # Fit the data to the visualizer\n",
    "    visualizer.show()"
   ]
  },
  {
   "cell_type": "markdown",
   "metadata": {},
   "source": [
    "# Trial & Error 1"
   ]
  },
  {
   "cell_type": "code",
   "execution_count": null,
   "metadata": {},
   "outputs": [],
   "source": [
    "pickle.dump(df1, open('example.pkl','wb'))"
   ]
  },
  {
   "cell_type": "code",
   "execution_count": null,
   "metadata": {},
   "outputs": [],
   "source": [
    "unpickled = pickle.load(open('example.pkl', 'rb'))"
   ]
  },
  {
   "cell_type": "code",
   "execution_count": null,
   "metadata": {},
   "outputs": [
    {
     "data": {
      "text/html": [
       "<div>\n",
       "<style scoped>\n",
       "    .dataframe tbody tr th:only-of-type {\n",
       "        vertical-align: middle;\n",
       "    }\n",
       "\n",
       "    .dataframe tbody tr th {\n",
       "        vertical-align: top;\n",
       "    }\n",
       "\n",
       "    .dataframe thead th {\n",
       "        text-align: right;\n",
       "    }\n",
       "</style>\n",
       "<table border=\"1\" class=\"dataframe\">\n",
       "  <thead>\n",
       "    <tr style=\"text-align: right;\">\n",
       "      <th></th>\n",
       "      <th>NDB_No</th>\n",
       "      <th>Shrt_Desc</th>\n",
       "      <th>Water_(g)</th>\n",
       "      <th>Energ_Kcal</th>\n",
       "      <th>Protein_(g)</th>\n",
       "      <th>Lipid_Tot_(g)</th>\n",
       "      <th>Ash_(g)</th>\n",
       "      <th>Carbohydrt_(g)</th>\n",
       "      <th>Fiber_TD_(g)</th>\n",
       "      <th>Sugar_Tot_(g)</th>\n",
       "      <th>...</th>\n",
       "      <th>Vit_K_(µg)</th>\n",
       "      <th>FA_Sat_(g)</th>\n",
       "      <th>FA_Mono_(g)</th>\n",
       "      <th>FA_Poly_(g)</th>\n",
       "      <th>Cholestrl_(mg)</th>\n",
       "      <th>GmWt_1</th>\n",
       "      <th>GmWt_Desc1</th>\n",
       "      <th>GmWt_2</th>\n",
       "      <th>GmWt_Desc2</th>\n",
       "      <th>Refuse_Pct</th>\n",
       "    </tr>\n",
       "  </thead>\n",
       "  <tbody>\n",
       "    <tr>\n",
       "      <th>2099</th>\n",
       "      <td>8692</td>\n",
       "      <td>CEREALS,QUAKER,OATMEAL,REAL MEDLEYS,PEACH ALMO...</td>\n",
       "      <td>8.10</td>\n",
       "      <td>387</td>\n",
       "      <td>10.10</td>\n",
       "      <td>9.84</td>\n",
       "      <td>3.35</td>\n",
       "      <td>68.61</td>\n",
       "      <td>7.4</td>\n",
       "      <td>24.85</td>\n",
       "      <td>...</td>\n",
       "      <td>NaN</td>\n",
       "      <td>1.114</td>\n",
       "      <td>5.242</td>\n",
       "      <td>2.641</td>\n",
       "      <td>0.0</td>\n",
       "      <td>75.0</td>\n",
       "      <td>1 package,  (1 NLEA serving)</td>\n",
       "      <td>NaN</td>\n",
       "      <td>NaN</td>\n",
       "      <td>0.0</td>\n",
       "    </tr>\n",
       "    <tr>\n",
       "      <th>1886</th>\n",
       "      <td>8206</td>\n",
       "      <td>CEREALS RTE,MALT-O-MEAL,COCO-ROOS</td>\n",
       "      <td>2.50</td>\n",
       "      <td>389</td>\n",
       "      <td>3.41</td>\n",
       "      <td>4.61</td>\n",
       "      <td>2.73</td>\n",
       "      <td>86.75</td>\n",
       "      <td>3.3</td>\n",
       "      <td>48.11</td>\n",
       "      <td>...</td>\n",
       "      <td>0.0</td>\n",
       "      <td>2.570</td>\n",
       "      <td>0.887</td>\n",
       "      <td>0.555</td>\n",
       "      <td>0.0</td>\n",
       "      <td>30.0</td>\n",
       "      <td>.75 cup,  (1 NLEA serving)</td>\n",
       "      <td>NaN</td>\n",
       "      <td>NaN</td>\n",
       "      <td>0.0</td>\n",
       "    </tr>\n",
       "    <tr>\n",
       "      <th>1791</th>\n",
       "      <td>8029</td>\n",
       "      <td>CEREALS RTE,POST BRAN FLAKES</td>\n",
       "      <td>3.40</td>\n",
       "      <td>328</td>\n",
       "      <td>9.90</td>\n",
       "      <td>2.10</td>\n",
       "      <td>4.10</td>\n",
       "      <td>80.50</td>\n",
       "      <td>18.3</td>\n",
       "      <td>18.60</td>\n",
       "      <td>...</td>\n",
       "      <td>1.4</td>\n",
       "      <td>0.400</td>\n",
       "      <td>0.300</td>\n",
       "      <td>1.200</td>\n",
       "      <td>0.0</td>\n",
       "      <td>30.0</td>\n",
       "      <td>.75 cup,  (1 NLEA serving)</td>\n",
       "      <td>NaN</td>\n",
       "      <td>NaN</td>\n",
       "      <td>0.0</td>\n",
       "    </tr>\n",
       "    <tr>\n",
       "      <th>1851</th>\n",
       "      <td>8128</td>\n",
       "      <td>CEREALS,OATS,INST,FORT,W/ CINN &amp; SPICE,DRY</td>\n",
       "      <td>6.92</td>\n",
       "      <td>369</td>\n",
       "      <td>9.53</td>\n",
       "      <td>4.84</td>\n",
       "      <td>2.63</td>\n",
       "      <td>76.08</td>\n",
       "      <td>8.0</td>\n",
       "      <td>25.33</td>\n",
       "      <td>...</td>\n",
       "      <td>1.9</td>\n",
       "      <td>0.768</td>\n",
       "      <td>1.487</td>\n",
       "      <td>1.696</td>\n",
       "      <td>0.0</td>\n",
       "      <td>45.0</td>\n",
       "      <td>1 packet</td>\n",
       "      <td>NaN</td>\n",
       "      <td>NaN</td>\n",
       "      <td>0.0</td>\n",
       "    </tr>\n",
       "    <tr>\n",
       "      <th>8607</th>\n",
       "      <td>42236</td>\n",
       "      <td>CEREALS RTE,FRSTD OAT CRL W/MARSHMALLOWS</td>\n",
       "      <td>2.80</td>\n",
       "      <td>400</td>\n",
       "      <td>7.10</td>\n",
       "      <td>3.33</td>\n",
       "      <td>2.27</td>\n",
       "      <td>84.70</td>\n",
       "      <td>4.3</td>\n",
       "      <td>36.13</td>\n",
       "      <td>...</td>\n",
       "      <td>1.4</td>\n",
       "      <td>0.620</td>\n",
       "      <td>1.100</td>\n",
       "      <td>1.280</td>\n",
       "      <td>0.0</td>\n",
       "      <td>30.0</td>\n",
       "      <td>.75 cup,  (1 NLEA serving)</td>\n",
       "      <td>NaN</td>\n",
       "      <td>NaN</td>\n",
       "      <td>0.0</td>\n",
       "    </tr>\n",
       "    <tr>\n",
       "      <th>...</th>\n",
       "      <td>...</td>\n",
       "      <td>...</td>\n",
       "      <td>...</td>\n",
       "      <td>...</td>\n",
       "      <td>...</td>\n",
       "      <td>...</td>\n",
       "      <td>...</td>\n",
       "      <td>...</td>\n",
       "      <td>...</td>\n",
       "      <td>...</td>\n",
       "      <td>...</td>\n",
       "      <td>...</td>\n",
       "      <td>...</td>\n",
       "      <td>...</td>\n",
       "      <td>...</td>\n",
       "      <td>...</td>\n",
       "      <td>...</td>\n",
       "      <td>...</td>\n",
       "      <td>...</td>\n",
       "      <td>...</td>\n",
       "      <td>...</td>\n",
       "    </tr>\n",
       "    <tr>\n",
       "      <th>2071</th>\n",
       "      <td>8662</td>\n",
       "      <td>CEREALS RTE,POST,HONEY BUNCHES OF OATS,W/ REAL...</td>\n",
       "      <td>2.90</td>\n",
       "      <td>399</td>\n",
       "      <td>6.70</td>\n",
       "      <td>4.90</td>\n",
       "      <td>2.20</td>\n",
       "      <td>83.30</td>\n",
       "      <td>5.4</td>\n",
       "      <td>24.00</td>\n",
       "      <td>...</td>\n",
       "      <td>NaN</td>\n",
       "      <td>0.600</td>\n",
       "      <td>2.500</td>\n",
       "      <td>1.500</td>\n",
       "      <td>0.0</td>\n",
       "      <td>31.0</td>\n",
       "      <td>.75 cup,  (1 NLEA serving)</td>\n",
       "      <td>NaN</td>\n",
       "      <td>NaN</td>\n",
       "      <td>0.0</td>\n",
       "    </tr>\n",
       "    <tr>\n",
       "      <th>2013</th>\n",
       "      <td>8574</td>\n",
       "      <td>CEREALS,CRM OF WHT,2 1/2 MIN CK,CKD W/H2O,STOV...</td>\n",
       "      <td>86.20</td>\n",
       "      <td>56</td>\n",
       "      <td>1.44</td>\n",
       "      <td>0.20</td>\n",
       "      <td>0.42</td>\n",
       "      <td>11.74</td>\n",
       "      <td>0.7</td>\n",
       "      <td>0.07</td>\n",
       "      <td>...</td>\n",
       "      <td>0.0</td>\n",
       "      <td>0.051</td>\n",
       "      <td>0.030</td>\n",
       "      <td>0.102</td>\n",
       "      <td>NaN</td>\n",
       "      <td>244.0</td>\n",
       "      <td>1 cup</td>\n",
       "      <td>NaN</td>\n",
       "      <td>NaN</td>\n",
       "      <td>0.0</td>\n",
       "    </tr>\n",
       "    <tr>\n",
       "      <th>1789</th>\n",
       "      <td>8025</td>\n",
       "      <td>CEREALS RTE,RALSTON CRISP RICE</td>\n",
       "      <td>3.62</td>\n",
       "      <td>394</td>\n",
       "      <td>6.69</td>\n",
       "      <td>1.26</td>\n",
       "      <td>2.22</td>\n",
       "      <td>86.22</td>\n",
       "      <td>0.7</td>\n",
       "      <td>12.12</td>\n",
       "      <td>...</td>\n",
       "      <td>0.0</td>\n",
       "      <td>0.360</td>\n",
       "      <td>0.243</td>\n",
       "      <td>0.293</td>\n",
       "      <td>0.0</td>\n",
       "      <td>33.0</td>\n",
       "      <td>1.25 cup,  (1 NLEA serving)</td>\n",
       "      <td>28.0</td>\n",
       "      <td>1 cup</td>\n",
       "      <td>0.0</td>\n",
       "    </tr>\n",
       "    <tr>\n",
       "      <th>2101</th>\n",
       "      <td>8694</td>\n",
       "      <td>CEREALS,QUAKER,INST OATMEAL,WEIGHT CONTROL,CINN</td>\n",
       "      <td>9.09</td>\n",
       "      <td>361</td>\n",
       "      <td>16.50</td>\n",
       "      <td>6.28</td>\n",
       "      <td>3.93</td>\n",
       "      <td>64.21</td>\n",
       "      <td>13.0</td>\n",
       "      <td>1.27</td>\n",
       "      <td>...</td>\n",
       "      <td>NaN</td>\n",
       "      <td>1.207</td>\n",
       "      <td>2.224</td>\n",
       "      <td>1.839</td>\n",
       "      <td>1.0</td>\n",
       "      <td>45.0</td>\n",
       "      <td>1 packet,  (1 NLEA serving)</td>\n",
       "      <td>NaN</td>\n",
       "      <td>NaN</td>\n",
       "      <td>0.0</td>\n",
       "    </tr>\n",
       "    <tr>\n",
       "      <th>1910</th>\n",
       "      <td>8263</td>\n",
       "      <td>CEREALS RTE,GENERAL MILLS,APPL CINN CHEERIOS</td>\n",
       "      <td>2.29</td>\n",
       "      <td>386</td>\n",
       "      <td>8.30</td>\n",
       "      <td>6.09</td>\n",
       "      <td>3.40</td>\n",
       "      <td>79.90</td>\n",
       "      <td>7.3</td>\n",
       "      <td>34.20</td>\n",
       "      <td>...</td>\n",
       "      <td>3.1</td>\n",
       "      <td>1.100</td>\n",
       "      <td>2.790</td>\n",
       "      <td>1.890</td>\n",
       "      <td>0.0</td>\n",
       "      <td>30.0</td>\n",
       "      <td>.75 cup,  (1 NLEA serving)</td>\n",
       "      <td>NaN</td>\n",
       "      <td>NaN</td>\n",
       "      <td>0.0</td>\n",
       "    </tr>\n",
       "  </tbody>\n",
       "</table>\n",
       "<p>197 rows × 53 columns</p>\n",
       "</div>"
      ],
      "text/plain": [
       "      NDB_No                                          Shrt_Desc  Water_(g)  \\\n",
       "2099    8692  CEREALS,QUAKER,OATMEAL,REAL MEDLEYS,PEACH ALMO...       8.10   \n",
       "1886    8206                  CEREALS RTE,MALT-O-MEAL,COCO-ROOS       2.50   \n",
       "1791    8029                       CEREALS RTE,POST BRAN FLAKES       3.40   \n",
       "1851    8128         CEREALS,OATS,INST,FORT,W/ CINN & SPICE,DRY       6.92   \n",
       "8607   42236           CEREALS RTE,FRSTD OAT CRL W/MARSHMALLOWS       2.80   \n",
       "...      ...                                                ...        ...   \n",
       "2071    8662  CEREALS RTE,POST,HONEY BUNCHES OF OATS,W/ REAL...       2.90   \n",
       "2013    8574  CEREALS,CRM OF WHT,2 1/2 MIN CK,CKD W/H2O,STOV...      86.20   \n",
       "1789    8025                     CEREALS RTE,RALSTON CRISP RICE       3.62   \n",
       "2101    8694    CEREALS,QUAKER,INST OATMEAL,WEIGHT CONTROL,CINN       9.09   \n",
       "1910    8263       CEREALS RTE,GENERAL MILLS,APPL CINN CHEERIOS       2.29   \n",
       "\n",
       "      Energ_Kcal  Protein_(g)  Lipid_Tot_(g)  Ash_(g)  Carbohydrt_(g)  \\\n",
       "2099         387        10.10           9.84     3.35           68.61   \n",
       "1886         389         3.41           4.61     2.73           86.75   \n",
       "1791         328         9.90           2.10     4.10           80.50   \n",
       "1851         369         9.53           4.84     2.63           76.08   \n",
       "8607         400         7.10           3.33     2.27           84.70   \n",
       "...          ...          ...            ...      ...             ...   \n",
       "2071         399         6.70           4.90     2.20           83.30   \n",
       "2013          56         1.44           0.20     0.42           11.74   \n",
       "1789         394         6.69           1.26     2.22           86.22   \n",
       "2101         361        16.50           6.28     3.93           64.21   \n",
       "1910         386         8.30           6.09     3.40           79.90   \n",
       "\n",
       "      Fiber_TD_(g)  Sugar_Tot_(g)  ...  Vit_K_(µg)  FA_Sat_(g)  FA_Mono_(g)  \\\n",
       "2099           7.4          24.85  ...         NaN       1.114        5.242   \n",
       "1886           3.3          48.11  ...         0.0       2.570        0.887   \n",
       "1791          18.3          18.60  ...         1.4       0.400        0.300   \n",
       "1851           8.0          25.33  ...         1.9       0.768        1.487   \n",
       "8607           4.3          36.13  ...         1.4       0.620        1.100   \n",
       "...            ...            ...  ...         ...         ...          ...   \n",
       "2071           5.4          24.00  ...         NaN       0.600        2.500   \n",
       "2013           0.7           0.07  ...         0.0       0.051        0.030   \n",
       "1789           0.7          12.12  ...         0.0       0.360        0.243   \n",
       "2101          13.0           1.27  ...         NaN       1.207        2.224   \n",
       "1910           7.3          34.20  ...         3.1       1.100        2.790   \n",
       "\n",
       "      FA_Poly_(g)  Cholestrl_(mg)  GmWt_1                    GmWt_Desc1  \\\n",
       "2099        2.641             0.0    75.0  1 package,  (1 NLEA serving)   \n",
       "1886        0.555             0.0    30.0    .75 cup,  (1 NLEA serving)   \n",
       "1791        1.200             0.0    30.0    .75 cup,  (1 NLEA serving)   \n",
       "1851        1.696             0.0    45.0                      1 packet   \n",
       "8607        1.280             0.0    30.0    .75 cup,  (1 NLEA serving)   \n",
       "...           ...             ...     ...                           ...   \n",
       "2071        1.500             0.0    31.0    .75 cup,  (1 NLEA serving)   \n",
       "2013        0.102             NaN   244.0                         1 cup   \n",
       "1789        0.293             0.0    33.0   1.25 cup,  (1 NLEA serving)   \n",
       "2101        1.839             1.0    45.0   1 packet,  (1 NLEA serving)   \n",
       "1910        1.890             0.0    30.0    .75 cup,  (1 NLEA serving)   \n",
       "\n",
       "      GmWt_2  GmWt_Desc2  Refuse_Pct  \n",
       "2099     NaN         NaN         0.0  \n",
       "1886     NaN         NaN         0.0  \n",
       "1791     NaN         NaN         0.0  \n",
       "1851     NaN         NaN         0.0  \n",
       "8607     NaN         NaN         0.0  \n",
       "...      ...         ...         ...  \n",
       "2071     NaN         NaN         0.0  \n",
       "2013     NaN         NaN         0.0  \n",
       "1789    28.0       1 cup         0.0  \n",
       "2101     NaN         NaN         0.0  \n",
       "1910     NaN         NaN         0.0  \n",
       "\n",
       "[197 rows x 53 columns]"
      ]
     },
     "execution_count": 28,
     "metadata": {},
     "output_type": "execute_result"
    }
   ],
   "source": [
    "ex = unpickled[unpickled['Shrt_Desc'].str.contains('cereal', case=False)]\n",
    "ex"
   ]
  },
  {
   "cell_type": "markdown",
   "metadata": {},
   "source": [
    "# Trial & Error 2"
   ]
  },
  {
   "cell_type": "code",
   "execution_count": null,
   "metadata": {},
   "outputs": [],
   "source": [
    "#Let's say this is the user's input in our super-admin page\n",
    "x0 = 'Champorado'\n",
    "x01 = '8790'\n",
    "x1 = '4.56'\n",
    "x2 = '394'\n",
    "x3 = '10.99'\n",
    "x4 = '6.36'\n",
    "x5 = '4.60'\n",
    "x6 = '73.48'"
   ]
  },
  {
   "cell_type": "code",
   "execution_count": null,
   "metadata": {},
   "outputs": [],
   "source": [
    "#Let's limit only our columns first since our input conists of 6 only\n",
    "example_df = df1[['NDB_No','Water_(g)',\n",
    "'Energ_Kcal','Protein_(g)','Lipid_Tot_(g)',\n",
    "'Ash_(g)','Carbohydrt_(g)']]\n",
    "example_df.tail()\n",
    "#our input will be added in our dataframe inside of these \n",
    "# columns presented below"
   ]
  },
  {
   "cell_type": "code",
   "execution_count": null,
   "metadata": {},
   "outputs": [],
   "source": [
    "#we will now add our input to the dataframe\n",
    "new = ['0',x1,x2,x3,x4,x5,x6]\n",
    "new2 = ['0',x0,x1,x2,x3,x4,x5,x6]\n",
    "\n",
    "df1 = df1.append(pd.Series(new2, index=df1.columns[:len(new2)]), ignore_index=True)\n",
    "example_df = example_df.append(pd.Series(new, index=example_df.columns[:len(new)]), ignore_index=True)\n",
    "#our input is now added to our original dataframe and to what dataframe we are using\n",
    "#you might be wondering about 2 variables and 2 appends, \n",
    "# df1 is our original DF and example_df is what we are currently using\n",
    "#we added the input in our original DF because what we just want \n",
    "# to see here is what cluster will this food be included\n",
    "print(example_df.shape)\n",
    "print(df1.shape)"
   ]
  },
  {
   "cell_type": "code",
   "execution_count": null,
   "metadata": {},
   "outputs": [],
   "source": [
    "example_df = example_df.fillna(0) \n",
    "#we will all the NaN or null values inside our \n",
    "#dataframe if the input consists of null data it will now be 0\n",
    "example_df.isnull().sum() \n",
    "#check if there is still NaN in our DF"
   ]
  },
  {
   "cell_type": "code",
   "execution_count": null,
   "metadata": {},
   "outputs": [],
   "source": [
    "ex = StandardScaler().fit_transform(example_df)\n",
    "ex"
   ]
  },
  {
   "cell_type": "code",
   "execution_count": null,
   "metadata": {},
   "outputs": [],
   "source": [
    "kmeans = KMeans(n_clusters=4) \n",
    "\n",
    "# fit kmeans object to data\n",
    "kmeans.fit(ex)"
   ]
  },
  {
   "cell_type": "code",
   "execution_count": null,
   "metadata": {},
   "outputs": [],
   "source": [
    "y_predicted = kmeans.fit_predict(example_df)\n",
    "print(y_predicted)"
   ]
  },
  {
   "cell_type": "code",
   "execution_count": null,
   "metadata": {},
   "outputs": [],
   "source": [
    "example_df['cluster']=y_predicted\n",
    "example_df.head()"
   ]
  },
  {
   "cell_type": "code",
   "execution_count": null,
   "metadata": {},
   "outputs": [],
   "source": [
    "#merge here\n",
    "example_df = example_df[['NDB_No','cluster']]\n",
    "example_df = pd.merge(df1, example_df)\n",
    "example_df.tail()"
   ]
  },
  {
   "cell_type": "markdown",
   "metadata": {},
   "source": [
    "# Trial & Error 3"
   ]
  },
  {
   "cell_type": "code",
   "execution_count": null,
   "metadata": {},
   "outputs": [
    {
     "name": "stdout",
     "output_type": "stream",
     "text": [
      "Food name is ' Sampaloc ' with food id of ' 14197 ' and your cluster is in cluster ' 1 '\n",
      "Your are looking for  yogurt  so here's the list for you\n",
      "      NDB_No                                      Shrt_Desc  Water_(g)  \\\n",
      "1715   16251  SILK VANILLA SOY YOGURT (SINGLE SERVING SIZE)      79.35   \n",
      "2578   16253                     SILK STRAWBERRY SOY YOGURT      77.00   \n",
      "2894   16252                            SILK PLN SOY YOGURT      84.67   \n",
      "3649   16256                   SILK BLACK CHERRY SOY YOGURT      78.18   \n",
      "3787   16254                      SILK RASPBERRY SOY YOGURT      77.59   \n",
      "\n",
      "      Energ_Kcal  Protein_(g)  Lipid_Tot_(g)  Ash_(g)  Carbohydrt_(g)  \\\n",
      "1715          88         2.94           1.76     1.24           14.71   \n",
      "2578          94         2.35           1.18     1.24           18.24   \n",
      "2894          66         2.64           1.76     1.24            9.69   \n",
      "3649          88         2.35           1.18     1.24           17.06   \n",
      "3787          88         2.35           1.18     1.24           17.65   \n",
      "\n",
      "      Fiber_TD_(g)  Sugar_Tot_(g)  ...  FA_Sat_(g)  FA_Mono_(g)  FA_Poly_(g)  \\\n",
      "1715           0.6          10.59  ...        0.00          NaN          NaN   \n",
      "2578           0.6          12.94  ...        0.00          NaN          NaN   \n",
      "2894           0.4           5.29  ...        0.22          NaN          NaN   \n",
      "3649           0.6          11.76  ...        0.00          NaN          NaN   \n",
      "3787           0.6          12.94  ...        0.00          NaN          NaN   \n",
      "\n",
      "      Cholestrl_(mg)  GmWt_1   GmWt_Desc1  GmWt_2  GmWt_Desc2  Refuse_Pct  \\\n",
      "1715             0.0   170.0  1 container     NaN         NaN         0.0   \n",
      "2578             0.0   170.0  1 container     NaN         NaN         0.0   \n",
      "2894             0.0   227.0  1 container     NaN         NaN         0.0   \n",
      "3649             0.0   170.0  1 container     NaN         NaN         0.0   \n",
      "3787             0.0   170.0  1 container     NaN         NaN         0.0   \n",
      "\n",
      "      cluster  \n",
      "1715        1  \n",
      "2578        1  \n",
      "2894        1  \n",
      "3649        1  \n",
      "3787        1  \n",
      "\n",
      "[5 rows x 54 columns]\n"
     ]
    },
    {
     "name": "stderr",
     "output_type": "stream",
     "text": [
      "C:\\Users\\User\\AppData\\Local\\Temp\\ipykernel_14792\\1967472145.py:20: FutureWarning: The frame.append method is deprecated and will be removed from pandas in a future version. Use pandas.concat instead.\n",
      "  example_df = example_df.append(pd.Series(users_inputex,\n",
      "C:\\Users\\User\\AppData\\Local\\Temp\\ipykernel_14792\\1967472145.py:22: FutureWarning: The frame.append method is deprecated and will be removed from pandas in a future version. Use pandas.concat instead.\n",
      "  df1 = df.append(pd.Series(users_inputdf1,\n"
     ]
    }
   ],
   "source": [
    "class example_class:\n",
    "    example_df = df[['NDB_No','Water_(g)','Energ_Kcal',\n",
    "    'Protein_(g)','Lipid_Tot_(g)','Ash_(g)','Carbohydrt_(g)']]\n",
    "\n",
    "    max = int(example_df.iloc[-1]['NDB_No'])\n",
    "\n",
    "    foodId = max+1\n",
    "    food_name = input(\"Food name: \")\n",
    "    data1 = int(input(\"Nutrient 1: \"))\n",
    "    data2 = int(input(\"Nutrient 2: \"))\n",
    "    data3 = int(input(\"Nutrient 3: \"))\n",
    "    data4 = int(input(\"Nutrient 4: \"))\n",
    "    data5 = int(input(\"Nutrient 5: \"))\n",
    "    data6 = int(input(\"Nutrient 6: \"))\n",
    "    answer = input(\"What food are you looking for?\")\n",
    "\n",
    "    users_inputdf1 = [foodId,food_name,data1,data2,data3,data4,data5,data6]\n",
    "    users_inputex = [foodId,data1,data2,data3,data4,data5,data6]\n",
    "\n",
    "    example_df = example_df.append(pd.Series(users_inputex, \n",
    "    index=example_df.columns[:len(users_inputex)]), ignore_index=True)\n",
    "    df1 = df.append(pd.Series(users_inputdf1, \n",
    "    index=df.columns[:len(users_inputdf1)]), ignore_index=True)\n",
    "    #example_df.concat((example_df,users_inputex), axis=0)\n",
    "    \n",
    "    example_df = example_df.fillna(0)\n",
    "\n",
    "    ex = StandardScaler().fit_transform(example_df)\n",
    "\n",
    "    kmeans = KMeans(n_clusters=4)\n",
    "    kmeans.fit(ex)\n",
    "    KMeans(n_clusters=4)\n",
    "\n",
    "    y_predict = kmeans.fit_predict(example_df)\n",
    "    example_df['cluster'] = y_predict\n",
    "    example_df = example_df[['NDB_No','cluster']]\n",
    "    example_df = pd.merge(df1, example_df)\n",
    "\n",
    "    source = example_df[example_df['NDB_No'] == foodId]\n",
    "    final_food_name = source.iloc[-1]['Shrt_Desc']\n",
    "    cluster = source.iloc[-1]['cluster']\n",
    "    final_foodId = source.iloc[-1]['NDB_No']\n",
    "    rer = example_df[example_df['cluster'] == cluster]\n",
    "    rer = rer[rer['Shrt_Desc'].str.contains(answer, case=False)]\n",
    "\n",
    "    print(\"Food name is '\",final_food_name,\"' with food id of '\",final_foodId,\n",
    "    \"' and your cluster is in cluster '\",cluster,\"'\")\n",
    "    print(\"Your are looking for \", answer, \" so here's the list for you\")\n",
    "    print(rer)"
   ]
  },
  {
   "cell_type": "code",
   "execution_count": null,
   "metadata": {},
   "outputs": [
    {
     "data": {
      "text/html": [
       "<div>\n",
       "<style scoped>\n",
       "    .dataframe tbody tr th:only-of-type {\n",
       "        vertical-align: middle;\n",
       "    }\n",
       "\n",
       "    .dataframe tbody tr th {\n",
       "        vertical-align: top;\n",
       "    }\n",
       "\n",
       "    .dataframe thead th {\n",
       "        text-align: right;\n",
       "    }\n",
       "</style>\n",
       "<table border=\"1\" class=\"dataframe\">\n",
       "  <thead>\n",
       "    <tr style=\"text-align: right;\">\n",
       "      <th></th>\n",
       "      <th>NDB_No</th>\n",
       "      <th>Shrt_Desc</th>\n",
       "      <th>Water_(g)</th>\n",
       "      <th>Energ_Kcal</th>\n",
       "      <th>Protein_(g)</th>\n",
       "      <th>Lipid_Tot_(g)</th>\n",
       "      <th>Ash_(g)</th>\n",
       "      <th>Carbohydrt_(g)</th>\n",
       "      <th>Fiber_TD_(g)</th>\n",
       "      <th>Sugar_Tot_(g)</th>\n",
       "      <th>...</th>\n",
       "      <th>FA_Sat_(g)</th>\n",
       "      <th>FA_Mono_(g)</th>\n",
       "      <th>FA_Poly_(g)</th>\n",
       "      <th>Cholestrl_(mg)</th>\n",
       "      <th>GmWt_1</th>\n",
       "      <th>GmWt_Desc1</th>\n",
       "      <th>GmWt_2</th>\n",
       "      <th>GmWt_Desc2</th>\n",
       "      <th>Refuse_Pct</th>\n",
       "      <th>cluster</th>\n",
       "    </tr>\n",
       "  </thead>\n",
       "  <tbody>\n",
       "    <tr>\n",
       "      <th>4996</th>\n",
       "      <td>13384</td>\n",
       "      <td>BEEF,CHUCK,UNDER BLADE POT RST,BNLESS,LN,0\" FA...</td>\n",
       "      <td>58.79</td>\n",
       "      <td>216</td>\n",
       "      <td>30.68</td>\n",
       "      <td>9.44</td>\n",
       "      <td>1.58</td>\n",
       "      <td>0.0</td>\n",
       "      <td>0.0</td>\n",
       "      <td>0.00</td>\n",
       "      <td>...</td>\n",
       "      <td>3.487</td>\n",
       "      <td>4.164</td>\n",
       "      <td>0.520</td>\n",
       "      <td>102.0</td>\n",
       "      <td>85.0</td>\n",
       "      <td>3 oz</td>\n",
       "      <td>629.0</td>\n",
       "      <td>1 roast</td>\n",
       "      <td>23.0</td>\n",
       "      <td>2</td>\n",
       "    </tr>\n",
       "    <tr>\n",
       "      <th>4997</th>\n",
       "      <td>19328</td>\n",
       "      <td>CANDIES,MARS SNACKFOOD US,COCOAVIA CRISPY CHOC...</td>\n",
       "      <td>1.9</td>\n",
       "      <td>517</td>\n",
       "      <td>8.21</td>\n",
       "      <td>26.23</td>\n",
       "      <td>1.6</td>\n",
       "      <td>62.06</td>\n",
       "      <td>7.8</td>\n",
       "      <td>34.96</td>\n",
       "      <td>...</td>\n",
       "      <td>14.007</td>\n",
       "      <td>NaN</td>\n",
       "      <td>NaN</td>\n",
       "      <td>0.0</td>\n",
       "      <td>20.0</td>\n",
       "      <td>1 serving, 0.7 oz bar</td>\n",
       "      <td>NaN</td>\n",
       "      <td>NaN</td>\n",
       "      <td>0.0</td>\n",
       "      <td>0</td>\n",
       "    </tr>\n",
       "    <tr>\n",
       "      <th>4998</th>\n",
       "      <td>17075</td>\n",
       "      <td>LAMB,NZ,IMP,FRZ,LEG,WHL (SHK&amp;SIRL),LN,CKD,RSTD</td>\n",
       "      <td>63.92</td>\n",
       "      <td>181</td>\n",
       "      <td>27.68</td>\n",
       "      <td>7.01</td>\n",
       "      <td>1.52</td>\n",
       "      <td>0.0</td>\n",
       "      <td>0.0</td>\n",
       "      <td>NaN</td>\n",
       "      <td>...</td>\n",
       "      <td>3.050</td>\n",
       "      <td>2.750</td>\n",
       "      <td>0.410</td>\n",
       "      <td>100.0</td>\n",
       "      <td>85.0</td>\n",
       "      <td>3 oz</td>\n",
       "      <td>218.0</td>\n",
       "      <td>1 piece, cooked, excluding refuse (yield from ...</td>\n",
       "      <td>36.0</td>\n",
       "      <td>2</td>\n",
       "    </tr>\n",
       "    <tr>\n",
       "      <th>4999</th>\n",
       "      <td>22906</td>\n",
       "      <td>CHICKEN POT PIE,FRZ ENTREE,PREP</td>\n",
       "      <td>62.58</td>\n",
       "      <td>204</td>\n",
       "      <td>5.11</td>\n",
       "      <td>11.85</td>\n",
       "      <td>1.25</td>\n",
       "      <td>19.21</td>\n",
       "      <td>1.1</td>\n",
       "      <td>2.26</td>\n",
       "      <td>...</td>\n",
       "      <td>4.365</td>\n",
       "      <td>3.613</td>\n",
       "      <td>3.302</td>\n",
       "      <td>15.0</td>\n",
       "      <td>302.0</td>\n",
       "      <td>1 pie</td>\n",
       "      <td>NaN</td>\n",
       "      <td>NaN</td>\n",
       "      <td>0.0</td>\n",
       "      <td>0</td>\n",
       "    </tr>\n",
       "    <tr>\n",
       "      <th>5000</th>\n",
       "      <td>22907</td>\n",
       "      <td>ryko</td>\n",
       "      <td>2</td>\n",
       "      <td>3</td>\n",
       "      <td>2</td>\n",
       "      <td>4</td>\n",
       "      <td>5</td>\n",
       "      <td>2</td>\n",
       "      <td>NaN</td>\n",
       "      <td>NaN</td>\n",
       "      <td>...</td>\n",
       "      <td>NaN</td>\n",
       "      <td>NaN</td>\n",
       "      <td>NaN</td>\n",
       "      <td>NaN</td>\n",
       "      <td>NaN</td>\n",
       "      <td>NaN</td>\n",
       "      <td>NaN</td>\n",
       "      <td>NaN</td>\n",
       "      <td>NaN</td>\n",
       "      <td>0</td>\n",
       "    </tr>\n",
       "  </tbody>\n",
       "</table>\n",
       "<p>5 rows × 54 columns</p>\n",
       "</div>"
      ],
      "text/plain": [
       "      NDB_No                                          Shrt_Desc Water_(g)  \\\n",
       "4996   13384  BEEF,CHUCK,UNDER BLADE POT RST,BNLESS,LN,0\" FA...     58.79   \n",
       "4997   19328  CANDIES,MARS SNACKFOOD US,COCOAVIA CRISPY CHOC...       1.9   \n",
       "4998   17075     LAMB,NZ,IMP,FRZ,LEG,WHL (SHK&SIRL),LN,CKD,RSTD     63.92   \n",
       "4999   22906                    CHICKEN POT PIE,FRZ ENTREE,PREP     62.58   \n",
       "5000   22907                                               ryko         2   \n",
       "\n",
       "     Energ_Kcal Protein_(g) Lipid_Tot_(g) Ash_(g) Carbohydrt_(g)  \\\n",
       "4996        216       30.68          9.44    1.58            0.0   \n",
       "4997        517        8.21         26.23     1.6          62.06   \n",
       "4998        181       27.68          7.01    1.52            0.0   \n",
       "4999        204        5.11         11.85    1.25          19.21   \n",
       "5000          3           2             4       5              2   \n",
       "\n",
       "      Fiber_TD_(g)  Sugar_Tot_(g)  ...  FA_Sat_(g)  FA_Mono_(g)  FA_Poly_(g)  \\\n",
       "4996           0.0           0.00  ...       3.487        4.164        0.520   \n",
       "4997           7.8          34.96  ...      14.007          NaN          NaN   \n",
       "4998           0.0            NaN  ...       3.050        2.750        0.410   \n",
       "4999           1.1           2.26  ...       4.365        3.613        3.302   \n",
       "5000           NaN            NaN  ...         NaN          NaN          NaN   \n",
       "\n",
       "      Cholestrl_(mg)  GmWt_1             GmWt_Desc1  GmWt_2  \\\n",
       "4996           102.0    85.0                   3 oz   629.0   \n",
       "4997             0.0    20.0  1 serving, 0.7 oz bar     NaN   \n",
       "4998           100.0    85.0                   3 oz   218.0   \n",
       "4999            15.0   302.0                  1 pie     NaN   \n",
       "5000             NaN     NaN                    NaN     NaN   \n",
       "\n",
       "                                             GmWt_Desc2  Refuse_Pct  cluster  \n",
       "4996                                            1 roast        23.0        2  \n",
       "4997                                                NaN         0.0        0  \n",
       "4998  1 piece, cooked, excluding refuse (yield from ...        36.0        2  \n",
       "4999                                                NaN         0.0        0  \n",
       "5000                                                NaN         NaN        0  \n",
       "\n",
       "[5 rows x 54 columns]"
      ]
     },
     "execution_count": 175,
     "metadata": {},
     "output_type": "execute_result"
    }
   ],
   "source": [
    "example_class.example_df.tail()"
   ]
  },
  {
   "cell_type": "markdown",
   "metadata": {},
   "source": [
    "**Trial and error section**"
   ]
  },
  {
   "cell_type": "code",
   "execution_count": null,
   "metadata": {},
   "outputs": [
    {
     "name": "stdout",
     "output_type": "stream",
     "text": [
      "1\n"
     ]
    },
    {
     "name": "stderr",
     "output_type": "stream",
     "text": [
      "c:\\Users\\User\\anaconda3\\lib\\site-packages\\sklearn\\base.py:450: UserWarning: X does not have valid feature names, but KMeans was fitted with feature names\n",
      "  warnings.warn(\n"
     ]
    }
   ],
   "source": [
    "class predict:\n",
    "    #data = [2,2,2,2,2,2,4]\n",
    "    data = example_class.kmeans.predict([[3,6,9,12,15,18,21]])\n",
    "    \n",
    "    print(int(data))"
   ]
  },
  {
   "cell_type": "code",
   "execution_count": null,
   "metadata": {},
   "outputs": [
    {
     "data": {
      "text/html": [
       "<div>\n",
       "<style scoped>\n",
       "    .dataframe tbody tr th:only-of-type {\n",
       "        vertical-align: middle;\n",
       "    }\n",
       "\n",
       "    .dataframe tbody tr th {\n",
       "        vertical-align: top;\n",
       "    }\n",
       "\n",
       "    .dataframe thead th {\n",
       "        text-align: right;\n",
       "    }\n",
       "</style>\n",
       "<table border=\"1\" class=\"dataframe\">\n",
       "  <thead>\n",
       "    <tr style=\"text-align: right;\">\n",
       "      <th></th>\n",
       "      <th>NDB_No</th>\n",
       "      <th>Water_(g)</th>\n",
       "      <th>Energ_Kcal</th>\n",
       "      <th>Protein_(g)</th>\n",
       "      <th>Lipid_Tot_(g)</th>\n",
       "      <th>Ash_(g)</th>\n",
       "      <th>Carbohydrt_(g)</th>\n",
       "      <th>0</th>\n",
       "    </tr>\n",
       "  </thead>\n",
       "  <tbody>\n",
       "    <tr>\n",
       "      <th>8792</th>\n",
       "      <td>NaN</td>\n",
       "      <td>NaN</td>\n",
       "      <td>NaN</td>\n",
       "      <td>NaN</td>\n",
       "      <td>NaN</td>\n",
       "      <td>NaN</td>\n",
       "      <td>NaN</td>\n",
       "      <td>1.0</td>\n",
       "    </tr>\n",
       "    <tr>\n",
       "      <th>8793</th>\n",
       "      <td>NaN</td>\n",
       "      <td>NaN</td>\n",
       "      <td>NaN</td>\n",
       "      <td>NaN</td>\n",
       "      <td>NaN</td>\n",
       "      <td>NaN</td>\n",
       "      <td>NaN</td>\n",
       "      <td>1.0</td>\n",
       "    </tr>\n",
       "    <tr>\n",
       "      <th>8794</th>\n",
       "      <td>NaN</td>\n",
       "      <td>NaN</td>\n",
       "      <td>NaN</td>\n",
       "      <td>NaN</td>\n",
       "      <td>NaN</td>\n",
       "      <td>NaN</td>\n",
       "      <td>NaN</td>\n",
       "      <td>1.0</td>\n",
       "    </tr>\n",
       "    <tr>\n",
       "      <th>8795</th>\n",
       "      <td>NaN</td>\n",
       "      <td>NaN</td>\n",
       "      <td>NaN</td>\n",
       "      <td>NaN</td>\n",
       "      <td>NaN</td>\n",
       "      <td>NaN</td>\n",
       "      <td>NaN</td>\n",
       "      <td>2.0</td>\n",
       "    </tr>\n",
       "    <tr>\n",
       "      <th>8796</th>\n",
       "      <td>NaN</td>\n",
       "      <td>NaN</td>\n",
       "      <td>NaN</td>\n",
       "      <td>NaN</td>\n",
       "      <td>NaN</td>\n",
       "      <td>NaN</td>\n",
       "      <td>NaN</td>\n",
       "      <td>3.0</td>\n",
       "    </tr>\n",
       "  </tbody>\n",
       "</table>\n",
       "</div>"
      ],
      "text/plain": [
       "      NDB_No  Water_(g)  Energ_Kcal  Protein_(g)  Lipid_Tot_(g)  Ash_(g)  \\\n",
       "8792     NaN        NaN         NaN          NaN            NaN      NaN   \n",
       "8793     NaN        NaN         NaN          NaN            NaN      NaN   \n",
       "8794     NaN        NaN         NaN          NaN            NaN      NaN   \n",
       "8795     NaN        NaN         NaN          NaN            NaN      NaN   \n",
       "8796     NaN        NaN         NaN          NaN            NaN      NaN   \n",
       "\n",
       "      Carbohydrt_(g)    0  \n",
       "8792             NaN  1.0  \n",
       "8793             NaN  1.0  \n",
       "8794             NaN  1.0  \n",
       "8795             NaN  2.0  \n",
       "8796             NaN  3.0  "
      ]
     },
     "execution_count": 46,
     "metadata": {},
     "output_type": "execute_result"
    }
   ],
   "source": [
    "#trying concat with series\n",
    "class wiwiwi:\n",
    "    df = df1[['NDB_No','Water_(g)','Energ_Kcal',\n",
    "    'Protein_(g)','Lipid_Tot_(g)','Ash_(g)','Carbohydrt_(g)']]\n",
    "    dff = pd.DataFrame([1,1,1,1,1,2,3])\n",
    "    dd = pd.concat([df,dff], axis=0, ignore_index=True)\n",
    "#wiwiwi.dd.tail()\n",
    "wiwiwi.dd.tail()\n"
   ]
  },
  {
   "cell_type": "code",
   "execution_count": null,
   "metadata": {},
   "outputs": [],
   "source": [
    "#di nagamit\n",
    "pickle.dump(example_class, open('example.pkl','wb'))"
   ]
  },
  {
   "cell_type": "code",
   "execution_count": null,
   "metadata": {},
   "outputs": [],
   "source": [
    "#print(example_df.tail())\n",
    "#print(example_df.shape)\n",
    "print(df1.shape)\n",
    "df1.tail()"
   ]
  },
  {
   "cell_type": "code",
   "execution_count": null,
   "metadata": {},
   "outputs": [],
   "source": [
    "example = {'id':['10002','10003','10004'],\n",
    "'value':['23232323232323', 'ggg', 'asdasdas']}\n",
    "example = pd.DataFrame(example)\n",
    "\n",
    "#data1 = int(input(\"Nutrient 1: \"))\n",
    "#data2 = input(\"Nutrient 1: \")\n",
    "\n",
    "users_inputdf1 = [data1,data2]\n",
    "example = example.append(pd.Series(users_inputdf1, \n",
    "index=example.columns[:len(users_inputdf1)]), ignore_index=True)\n",
    "\n",
    "max = int(example.iloc[-1]['id'])\n",
    "max = max+1\n",
    "max\n",
    "\n",
    "#max_id = 10002\n",
    "##example['id'] = (max_id + 1, max_id + len(example)+1)\n",
    "\n",
    "#example = pd.DataFrame(df1)\n",
    "#x = (max_id + 1, max_id + len(example) + 1)\n"
   ]
  },
  {
   "cell_type": "markdown",
   "metadata": {},
   "source": [
    "# Trial & Error 4"
   ]
  },
  {
   "cell_type": "code",
   "execution_count": 52,
   "metadata": {},
   "outputs": [
    {
     "name": "stderr",
     "output_type": "stream",
     "text": [
      "C:\\Users\\MIZZIA~1\\AppData\\Local\\Temp/ipykernel_788/115955214.py:3: FutureWarning: Dropping of nuisance columns in DataFrame reductions (with 'numeric_only=None') is deprecated; in a future version this will raise TypeError.  Select only valid columns before calling the reduction.\n",
      "  df = df.fillna(df.median())\n"
     ]
    },
    {
     "data": {
      "image/png": "[encoded data removed]",
      "text/plain": [
       "<Figure size 576x396 with 1 Axes>"
      ]
     },
     "metadata": {},
     "output_type": "display_data"
    },
    {
     "name": "stdout",
     "output_type": "stream",
     "text": [
      "Cluster number 2 Score 0.5908631241162109\n",
      "Cluster number 3 Score 0.2453143379058356\n",
      "Cluster number 4 Score 0.15539975403312847\n",
      "Cluster number 5 Score 0.14953503517912164\n",
      "Cluster number 6 Score 0.17694082881758247\n"
     ]
    }
   ],
   "source": [
    "#overall code in preprocessing\n",
    "class preprocess:\n",
    "    df = df.fillna(df.median())\n",
    "    df = df.fillna('No Data')\n",
    "\n",
    "    le = LabelEncoder()\n",
    "    df['GmWt_Desc2'] = le.fit_transform(df['GmWt_Desc2'])\n",
    "    df['GmWt_Desc1'] = le.fit_transform(df['GmWt_Desc1'])\n",
    "\n",
    "    #in_max_scaler = MinMaxScaler()\n",
    "    in_standard_scaler = StandardScaler()\n",
    "    feature = ['Water_(g)', 'Energ_Kcal', 'Protein_(g)',\n",
    "       'Lipid_Tot_(g)', 'Ash_(g)', 'Carbohydrt_(g)', 'Fiber_TD_(g)',\n",
    "       'Sugar_Tot_(g)', 'Calcium_(mg)', 'Iron_(mg)', 'Magnesium_(mg)',\n",
    "       'Phosphorus_(mg)', 'Potassium_(mg)', 'Sodium_(mg)', 'Zinc_(mg)',\n",
    "       'Copper_mg)', 'Manganese_(mg)', 'Selenium_(µg)', 'Vit_C_(mg)',\n",
    "       'Thiamin_(mg)', 'Riboflavin_(mg)', 'Niacin_(mg)', 'Panto_Acid_mg)',\n",
    "       'Vit_B6_(mg)', 'Folate_Tot_(µg)', 'Folic_Acid_(µg)', 'Food_Folate_(µg)',\n",
    "       'Folate_DFE_(µg)', 'Choline_Tot_ (mg)', 'Vit_B12_(µg)', 'Vit_A_IU',\n",
    "       'Vit_A_RAE', 'Retinol_(µg)', 'Alpha_Carot_(µg)', 'Beta_Carot_(µg)',\n",
    "       'Beta_Crypt_(µg)', 'Lycopene_(µg)', 'Lut+Zea_ (µg)', 'Vit_E_(mg)',\n",
    "       'Vit_D_µg', 'Vit_D_IU', 'Vit_K_(µg)', 'FA_Sat_(g)', 'FA_Mono_(g)',\n",
    "       'FA_Poly_(g)', 'Cholestrl_(mg)', 'GmWt_1', 'GmWt_Desc1', 'GmWt_2',\n",
    "       'GmWt_Desc2', 'Refuse_Pct']\n",
    "    #msc = in_max_scaler.fit_transform(df[feature])\n",
    "    ssc = in_standard_scaler.fit_transform(df[feature])\n",
    "    \n",
    "    pca = PCA(n_components=0.95)\n",
    "    numpy_arr = pca.fit_transform(ssc)\n",
    "    sspca = pd.DataFrame(data=numpy_arr.flatten())\n",
    "    \n",
    "    kmeans = KMeans(n_clusters=4, random_state=2)\n",
    "    #dsd = df[feature]\n",
    "    kmeans.fit(numpy_arr)\n",
    "    #sss = pd.DataFrame(df[feature]).to_numpy()\n",
    "    #plt.scatter(sss[:,0], sss[:,1])\n",
    "    clusters = kmeans.cluster_centers_\n",
    "    y_km = kmeans.fit_predict(numpy_arr)\n",
    "        \n",
    "    plt.scatter(numpy_arr[y_km == 0,0], numpy_arr[y_km == 0,1], s=50, color='red')\n",
    "    plt.scatter(numpy_arr[y_km == 1,0], numpy_arr[y_km == 1,1], s=50, color='blue')\n",
    "    plt.scatter(numpy_arr[y_km == 2,0], numpy_arr[y_km == 2,1], s=50, color='yellow')\n",
    "    plt.scatter(numpy_arr[y_km == 3,0], numpy_arr[y_km == 3,1], s=50, color='green')\n",
    "\n",
    "    plt.scatter(clusters[0][0], clusters[0][1], marker='*', s=150, color='black')\n",
    "    plt.scatter(clusters[1][0], clusters[1][1], marker='*', s=150, color='black')\n",
    "    plt.scatter(clusters[2][0], clusters[2][1], marker='*', s=150, color='black')\n",
    "    plt.scatter(clusters[3][0], clusters[3][1], marker='*', s=150, color='black')\n",
    "    plt.title('dataset')\n",
    "    plt.show()\n",
    "    \n",
    "class silhouette:\n",
    "    no_of_clusters = [2,3,4,5,6]\n",
    "    for n_clusters in no_of_clusters:\n",
    "        cluster = KMeans(n_clusters = n_clusters)\n",
    "        cluster_labels = cluster.fit_predict(preprocess.numpy_arr)\n",
    "        silhouette_avg = silhouette_score(preprocess.numpy_arr, cluster_labels)\n",
    "\n",
    "        print(\"Cluster number\", n_clusters, \"Score\", silhouette_avg)"
   ]
  },
  {
   "cell_type": "markdown",
   "metadata": {},
   "source": [
    "*5/7 repeatition with 5000 samples, cluster 4 is consistent in rounded value of 0.11 - 0.24 which is close and near to 0. Therefore cluster number 4 is also a good choice in choosing for a value of K*"
   ]
  },
  {
   "cell_type": "code",
   "execution_count": 50,
   "metadata": {},
   "outputs": [
    {
     "name": "stdout",
     "output_type": "stream",
     "text": [
      "[2.09843286 1.99368197 2.12722532 1.40486549 2.51898504 1.82391033\n",
      " 1.74057087 1.82652899 1.86170743 1.28072062 1.05143586 0.93371633\n",
      " 1.09371272 1.24545273 1.39378977 1.19886049 1.26560186 1.22859346\n",
      " 0.85209127 0.98971993 0.99088023 1.09617669 1.22100201 0.94820264\n",
      " 1.05424415 1.11587736 0.80911887 0.86930268 0.91202469 0.83931611\n",
      " 0.8558393  0.87441942 0.79577522 0.84282748]\n",
      "[1.03235211 0.89746851 1.31700804 1.40115751 0.70504228 1.13406808\n",
      " 1.19248012 0.86750341 0.7032421  0.70001219 0.99797824 1.02477483\n",
      " 0.64182991 0.77711351 0.72887139 0.66997274 0.72263573 0.68933026\n",
      " 0.83055072 0.66610814 0.76827408 0.64130557 0.55385357 0.70137073\n",
      " 0.51997508 0.49013958 0.69294114 0.58042793 0.48862849 0.41772004\n",
      " 0.44061942 0.34668086 0.33807687 0.36478523]\n",
      "[4.64205636 6.51021201 7.59235    6.83995093 3.19893214 4.56830054\n",
      " 2.2812779  2.32477302 1.08919687 6.5799543  1.14791014 2.92988484\n",
      " 5.89020268 2.74832111 1.2323595  5.14680835 1.55692289 2.80609316\n",
      " 4.40131491 6.54112061 1.08555267 3.4508286  1.26951772 1.9335608\n",
      " 4.50202659 1.8432074  1.28747435 2.78007081 2.02843292 3.10437793\n",
      " 1.40465876 2.72682721 3.14290039 1.74784551]\n",
      "[5.74263105 1.53019247 2.27225942 3.32151137 4.26431096 2.25925965\n",
      " 2.56639447 2.32131365 2.33277383 4.55143051 2.8507169  2.58782441\n",
      " 4.15738309 2.50232715 1.56971592 2.63208343 2.0406423  2.06905698\n",
      " 2.21273972 2.5446294  1.93371316 2.14566447 1.64857889 1.56281838\n",
      " 1.79496227 1.54360777 1.26282722 1.39725811 1.81606354 1.95648099\n",
      " 1.60750214 1.820091   1.87231051 1.58812833]\n"
     ]
    }
   ],
   "source": [
    "#standard dev per cluster\n",
    "class standard_deviation:\n",
    "    for i in range(4):\n",
    "        print(np.std(preprocess.numpy_arr[preprocess.y_km==i], axis=0))"
   ]
  },
  {
   "cell_type": "code",
   "execution_count": 51,
   "metadata": {
    "scrolled": true
   },
   "outputs": [
    {
     "name": "stdout",
     "output_type": "stream",
     "text": [
      "(5000, 34)\n",
      "Index(['NDB',     1,     2,     3,     4,     5,     6,     7,     8,     9,\n",
      "          10,    11,    12,    13,    14,    15,    16,    17,    18,    19,\n",
      "          20,    21,    22,    23,    24,    25,    26,    27,    28,    29,\n",
      "          30,    31,    32,    33],\n",
      "      dtype='object')\n"
     ]
    }
   ],
   "source": [
    "#checking for pca's df\n",
    "class pca_df:\n",
    "    print(preprocess.numpy_arr.shape)\n",
    "    numpy_arr = pd.DataFrame(preprocess.numpy_arr)\n",
    "    #print(numpy_arr.head())\n",
    "    numpy_arr.rename(columns = {0:'NDB'}, inplace=True)\n",
    "    print(numpy_arr.columns)"
   ]
  },
  {
   "cell_type": "markdown",
   "metadata": {},
   "source": [
    "# Trial & Error 6"
   ]
  },
  {
   "cell_type": "code",
   "execution_count": null,
   "metadata": {},
   "outputs": [],
   "source": [
    "import matplotlib.pyplot as plt\n",
    "import numpy as np\n",
    "from sklearn.cluster import KMeans\n",
    "from sklearn.datasets import make_blobs"
   ]
  },
  {
   "cell_type": "code",
   "execution_count": null,
   "metadata": {},
   "outputs": [
    {
     "name": "stderr",
     "output_type": "stream",
     "text": [
      "c:\\Users\\Mizzia Pontino\\anaconda3\\lib\\site-packages\\sklearn\\cluster\\_kmeans.py:1334: UserWarning: KMeans is known to have a memory leak on Windows with MKL, when there are less chunks than available threads. You can avoid it by setting the environment variable OMP_NUM_THREADS=2.\n",
      "  warnings.warn(\n"
     ]
    },
    {
     "data": {
      "image/png": "[encoded data removed]",
      "text/plain": [
       "<Figure size 432x288 with 1 Axes>"
      ]
     },
     "metadata": {
      "needs_background": "light"
     },
     "output_type": "display_data"
    }
   ],
   "source": [
    "K = 4\n",
    "X, y_true = make_blobs(n_samples=300, centers=K, \n",
    "                       cluster_std=0.60, random_state=0)\n",
    "k_means = KMeans(K)\n",
    "k_means.fit(X)\n",
    "\n",
    "cluster_centres = k_means.cluster_centers_\n",
    "\n",
    "y_kmeans = k_means.predict(X)\n",
    "plt.scatter(X[:, 0], X[:, 1], c=y_kmeans, s=50, cmap='viridis')\n",
    "\n",
    "for centroid in cluster_centres:\n",
    "    plt.scatter(centroid[0],  centroid[1], s=300,  c='black', alpha=0.5)"
   ]
  },
  {
   "cell_type": "code",
   "execution_count": 52,
   "metadata": {},
   "outputs": [
    {
     "ename": "ValueError",
     "evalue": "Input X contains NaN.\nKMeans does not accept missing values encoded as NaN natively. For supervised learning, you might want to consider sklearn.ensemble.HistGradientBoostingClassifier and Regressor which accept missing values encoded as NaNs natively. Alternatively, it is possible to preprocess the data, for instance by using an imputer transformer in a pipeline or drop samples with missing values. See https://scikit-learn.org/stable/modules/impute.html You can find a list of all estimators that handle NaN values at the following page: https://scikit-learn.org/stable/modules/impute.html#estimators-that-handle-nan-values",
     "output_type": "error",
     "traceback": [
      "\u001b[1;31m---------------------------------------------------------------------------\u001b[0m",
      "\u001b[1;31mValueError\u001b[0m                                Traceback (most recent call last)",
      "\u001b[1;32mC:\\Users\\MIZZIA~1\\AppData\\Local\\Temp/ipykernel_6776/1599711910.py\u001b[0m in \u001b[0;36m<module>\u001b[1;34m\u001b[0m\n\u001b[0;32m      1\u001b[0m \u001b[0mkmeans\u001b[0m \u001b[1;33m=\u001b[0m \u001b[0mKMeans\u001b[0m\u001b[1;33m(\u001b[0m\u001b[0mn_clusters\u001b[0m\u001b[1;33m=\u001b[0m\u001b[1;36m3\u001b[0m\u001b[1;33m)\u001b[0m\u001b[1;33m\u001b[0m\u001b[1;33m\u001b[0m\u001b[0m\n\u001b[0;32m      2\u001b[0m \u001b[1;31m# Fitting the input data\u001b[0m\u001b[1;33m\u001b[0m\u001b[1;33m\u001b[0m\u001b[0m\n\u001b[1;32m----> 3\u001b[1;33m \u001b[0mkmeans\u001b[0m \u001b[1;33m=\u001b[0m \u001b[0mkmeans\u001b[0m\u001b[1;33m.\u001b[0m\u001b[0mfit\u001b[0m\u001b[1;33m(\u001b[0m\u001b[0mX\u001b[0m\u001b[1;33m)\u001b[0m\u001b[1;33m\u001b[0m\u001b[1;33m\u001b[0m\u001b[0m\n\u001b[0m\u001b[0;32m      4\u001b[0m \u001b[1;31m# Getting the cluster labels\u001b[0m\u001b[1;33m\u001b[0m\u001b[1;33m\u001b[0m\u001b[0m\n\u001b[0;32m      5\u001b[0m \u001b[0mlabels\u001b[0m \u001b[1;33m=\u001b[0m \u001b[0mkmeans\u001b[0m\u001b[1;33m.\u001b[0m\u001b[0mpredict\u001b[0m\u001b[1;33m(\u001b[0m\u001b[0mX\u001b[0m\u001b[1;33m)\u001b[0m\u001b[1;33m\u001b[0m\u001b[1;33m\u001b[0m\u001b[0m\n",
      "\u001b[1;32mc:\\Users\\Mizzia Pontino\\anaconda3\\lib\\site-packages\\sklearn\\cluster\\_kmeans.py\u001b[0m in \u001b[0;36mfit\u001b[1;34m(self, X, y, sample_weight)\u001b[0m\n\u001b[0;32m   1365\u001b[0m             \u001b[0mFitted\u001b[0m \u001b[0mestimator\u001b[0m\u001b[1;33m.\u001b[0m\u001b[1;33m\u001b[0m\u001b[1;33m\u001b[0m\u001b[0m\n\u001b[0;32m   1366\u001b[0m         \"\"\"\n\u001b[1;32m-> 1367\u001b[1;33m         X = self._validate_data(\n\u001b[0m\u001b[0;32m   1368\u001b[0m             \u001b[0mX\u001b[0m\u001b[1;33m,\u001b[0m\u001b[1;33m\u001b[0m\u001b[1;33m\u001b[0m\u001b[0m\n\u001b[0;32m   1369\u001b[0m             \u001b[0maccept_sparse\u001b[0m\u001b[1;33m=\u001b[0m\u001b[1;34m\"csr\"\u001b[0m\u001b[1;33m,\u001b[0m\u001b[1;33m\u001b[0m\u001b[1;33m\u001b[0m\u001b[0m\n",
      "\u001b[1;32mc:\\Users\\Mizzia Pontino\\anaconda3\\lib\\site-packages\\sklearn\\base.py\u001b[0m in \u001b[0;36m_validate_data\u001b[1;34m(self, X, y, reset, validate_separately, **check_params)\u001b[0m\n\u001b[0;32m    575\u001b[0m             \u001b[1;32mraise\u001b[0m \u001b[0mValueError\u001b[0m\u001b[1;33m(\u001b[0m\u001b[1;34m\"Validation should be done on X, y or both.\"\u001b[0m\u001b[1;33m)\u001b[0m\u001b[1;33m\u001b[0m\u001b[1;33m\u001b[0m\u001b[0m\n\u001b[0;32m    576\u001b[0m         \u001b[1;32melif\u001b[0m \u001b[1;32mnot\u001b[0m \u001b[0mno_val_X\u001b[0m \u001b[1;32mand\u001b[0m \u001b[0mno_val_y\u001b[0m\u001b[1;33m:\u001b[0m\u001b[1;33m\u001b[0m\u001b[1;33m\u001b[0m\u001b[0m\n\u001b[1;32m--> 577\u001b[1;33m             \u001b[0mX\u001b[0m \u001b[1;33m=\u001b[0m \u001b[0mcheck_array\u001b[0m\u001b[1;33m(\u001b[0m\u001b[0mX\u001b[0m\u001b[1;33m,\u001b[0m \u001b[0minput_name\u001b[0m\u001b[1;33m=\u001b[0m\u001b[1;34m\"X\"\u001b[0m\u001b[1;33m,\u001b[0m \u001b[1;33m**\u001b[0m\u001b[0mcheck_params\u001b[0m\u001b[1;33m)\u001b[0m\u001b[1;33m\u001b[0m\u001b[1;33m\u001b[0m\u001b[0m\n\u001b[0m\u001b[0;32m    578\u001b[0m             \u001b[0mout\u001b[0m \u001b[1;33m=\u001b[0m \u001b[0mX\u001b[0m\u001b[1;33m\u001b[0m\u001b[1;33m\u001b[0m\u001b[0m\n\u001b[0;32m    579\u001b[0m         \u001b[1;32melif\u001b[0m \u001b[0mno_val_X\u001b[0m \u001b[1;32mand\u001b[0m \u001b[1;32mnot\u001b[0m \u001b[0mno_val_y\u001b[0m\u001b[1;33m:\u001b[0m\u001b[1;33m\u001b[0m\u001b[1;33m\u001b[0m\u001b[0m\n",
      "\u001b[1;32mc:\\Users\\Mizzia Pontino\\anaconda3\\lib\\site-packages\\sklearn\\utils\\validation.py\u001b[0m in \u001b[0;36mcheck_array\u001b[1;34m(array, accept_sparse, accept_large_sparse, dtype, order, copy, force_all_finite, ensure_2d, allow_nd, ensure_min_samples, ensure_min_features, estimator, input_name)\u001b[0m\n\u001b[0;32m    897\u001b[0m \u001b[1;33m\u001b[0m\u001b[0m\n\u001b[0;32m    898\u001b[0m         \u001b[1;32mif\u001b[0m \u001b[0mforce_all_finite\u001b[0m\u001b[1;33m:\u001b[0m\u001b[1;33m\u001b[0m\u001b[1;33m\u001b[0m\u001b[0m\n\u001b[1;32m--> 899\u001b[1;33m             _assert_all_finite(\n\u001b[0m\u001b[0;32m    900\u001b[0m                 \u001b[0marray\u001b[0m\u001b[1;33m,\u001b[0m\u001b[1;33m\u001b[0m\u001b[1;33m\u001b[0m\u001b[0m\n\u001b[0;32m    901\u001b[0m                 \u001b[0minput_name\u001b[0m\u001b[1;33m=\u001b[0m\u001b[0minput_name\u001b[0m\u001b[1;33m,\u001b[0m\u001b[1;33m\u001b[0m\u001b[1;33m\u001b[0m\u001b[0m\n",
      "\u001b[1;32mc:\\Users\\Mizzia Pontino\\anaconda3\\lib\\site-packages\\sklearn\\utils\\validation.py\u001b[0m in \u001b[0;36m_assert_all_finite\u001b[1;34m(X, allow_nan, msg_dtype, estimator_name, input_name)\u001b[0m\n\u001b[0;32m    144\u001b[0m                     \u001b[1;34m\"#estimators-that-handle-nan-values\"\u001b[0m\u001b[1;33m\u001b[0m\u001b[1;33m\u001b[0m\u001b[0m\n\u001b[0;32m    145\u001b[0m                 )\n\u001b[1;32m--> 146\u001b[1;33m             \u001b[1;32mraise\u001b[0m \u001b[0mValueError\u001b[0m\u001b[1;33m(\u001b[0m\u001b[0mmsg_err\u001b[0m\u001b[1;33m)\u001b[0m\u001b[1;33m\u001b[0m\u001b[1;33m\u001b[0m\u001b[0m\n\u001b[0m\u001b[0;32m    147\u001b[0m \u001b[1;33m\u001b[0m\u001b[0m\n\u001b[0;32m    148\u001b[0m     \u001b[1;31m# for object dtype data, we only check for NaNs (GH-13254)\u001b[0m\u001b[1;33m\u001b[0m\u001b[1;33m\u001b[0m\u001b[0m\n",
      "\u001b[1;31mValueError\u001b[0m: Input X contains NaN.\nKMeans does not accept missing values encoded as NaN natively. For supervised learning, you might want to consider sklearn.ensemble.HistGradientBoostingClassifier and Regressor which accept missing values encoded as NaNs natively. Alternatively, it is possible to preprocess the data, for instance by using an imputer transformer in a pipeline or drop samples with missing values. See https://scikit-learn.org/stable/modules/impute.html You can find a list of all estimators that handle NaN values at the following page: https://scikit-learn.org/stable/modules/impute.html#estimators-that-handle-nan-values"
     ]
    }
   ],
   "source": [
    "kmeans = KMeans(n_clusters=3)\n",
    "# Fitting the input data\n",
    "kmeans = kmeans.fit(X)\n",
    "# Getting the cluster labels\n",
    "labels = kmeans.predict(X)\n",
    "# Centroid values\n",
    "centroids = kmeans.cluster_centers_"
   ]
  }
 ],
 "metadata": {
  "kernelspec": {
   "display_name": "Python 3 (ipykernel)",
   "language": "python",
   "name": "python3"
  },
  "language_info": {
   "codemirror_mode": {
    "name": "ipython",
    "version": 3
   },
   "file_extension": ".py",
   "mimetype": "text/x-python",
   "name": "python",
   "nbconvert_exporter": "python",
   "pygments_lexer": "ipython3",
   "version": "3.9.7"
  },
  "vscode": {
   "interpreter": {
    "hash": "00494cd225ab54c8998015331e1c979ba0044bca5c5249885b0d39fc35581a7e"
   }
  }
 },
 "nbformat": 4,
 "nbformat_minor": 2
}
