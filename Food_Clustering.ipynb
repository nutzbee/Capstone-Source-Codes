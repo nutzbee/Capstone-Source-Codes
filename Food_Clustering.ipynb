{
 "cells": [
  {
   "cell_type": "code",
   "execution_count": 1,
   "metadata": {},
   "outputs": [],
   "source": [
    "import pandas as pd\n",
    "import matplotlib.pyplot as plt\n",
    "import matplotlib.cm as cm\n",
    "import numpy as np\n",
    "import pickle\n",
    "from sklearn import metrics, datasets, cluster\n",
    "from pandas import DataFrame\n",
    "from sklearn.model_selection import train_test_split\n",
    "from sklearn import model_selection\n",
    "from sklearn.neighbors import KNeighborsClassifier\n",
    "from sklearn.datasets import make_blobs\n",
    "from sklearn.cluster import KMeans\n",
    "from sklearn.metrics import silhouette_samples, silhouette_score\n",
    "from sklearn.preprocessing import MinMaxScaler\n",
    "from sklearn.preprocessing import StandardScaler\n",
    "from itertools import cycle, islice\n",
    "from pandas.plotting import parallel_coordinates\n",
    "from sklearn.preprocessing import LabelEncoder\n",
    "from yellowbrick.cluster import SilhouetteVisualizer\n",
    "from yellowbrick.cluster import KElbowVisualizer"
   ]
  },
  {
   "attachments": {},
   "cell_type": "markdown",
   "metadata": {},
   "source": [
    "# March 25 Test"
   ]
  },
  {
   "cell_type": "code",
   "execution_count": 3,
   "metadata": {},
   "outputs": [],
   "source": [
    "import pandas as pd"
   ]
  },
  {
   "cell_type": "code",
   "execution_count": 73,
   "metadata": {},
   "outputs": [],
   "source": [
    "data = pd.read_csv('https://query.data.world/s/fi2bevplbllb74x5ubngogdz6fl44c?dws=00000')"
   ]
  },
  {
   "cell_type": "code",
   "execution_count": 74,
   "metadata": {},
   "outputs": [
    {
     "data": {
      "text/plain": [
       "(8618, 45)"
      ]
     },
     "execution_count": 74,
     "metadata": {},
     "output_type": "execute_result"
    }
   ],
   "source": [
    "data.shape"
   ]
  },
  {
   "cell_type": "code",
   "execution_count": 75,
   "metadata": {},
   "outputs": [
    {
     "data": {
      "text/plain": [
       "(8618, 45)"
      ]
     },
     "execution_count": 75,
     "metadata": {},
     "output_type": "execute_result"
    }
   ],
   "source": [
    "data = data.drop_duplicates()\n",
    "data.shape"
   ]
  },
  {
   "cell_type": "code",
   "execution_count": 76,
   "metadata": {},
   "outputs": [],
   "source": [
    "data = data.fillna(0)"
   ]
  },
  {
   "cell_type": "code",
   "execution_count": 77,
   "metadata": {},
   "outputs": [
    {
     "data": {
      "text/plain": [
       "Index(['ID', 'FoodGroup', 'ShortDescrip', 'Descrip', 'CommonName', 'MfgName',\n",
       "       'ScientificName', 'Energy_kcal', 'Protein_g', 'Fat_g', 'Carb_g',\n",
       "       'Sugar_g', 'Fiber_g', 'VitA_mcg', 'VitB6_mg', 'VitB12_mcg', 'VitC_mg',\n",
       "       'VitE_mg', 'Folate_mcg', 'Niacin_mg', 'Riboflavin_mg', 'Thiamin_mg',\n",
       "       'Calcium_mg', 'Copper_mcg', 'Iron_mg', 'Magnesium_mg', 'Manganese_mg',\n",
       "       'Phosphorus_mg', 'Selenium_mcg', 'Zinc_mg', 'VitA_USRDA', 'VitB6_USRDA',\n",
       "       'VitB12_USRDA', 'VitC_USRDA', 'VitE_USRDA', 'Folate_USRDA',\n",
       "       'Niacin_USRDA', 'Riboflavin_USRDA', 'Thiamin_USRDA', 'Calcium_USRDA',\n",
       "       'Copper_USRDA', 'Magnesium_USRDA', 'Phosphorus_USRDA', 'Selenium_USRDA',\n",
       "       'Zinc_USRDA'],\n",
       "      dtype='object')"
      ]
     },
     "execution_count": 77,
     "metadata": {},
     "output_type": "execute_result"
    }
   ],
   "source": [
    "data.columns"
   ]
  },
  {
   "cell_type": "code",
   "execution_count": 78,
   "metadata": {},
   "outputs": [],
   "source": [
    "data['diabetes_nutrient_density'] = ((\n",
    "    data['Protein_g']*4 + data['Fiber_g']*2 + \n",
    "    data['Magnesium_mg'] + (data['Zinc_mg'] + data['Magnesium_mg']) +#data['Chromium_(mcg)'] + \n",
    "    data['Zinc_mg']) / data['Energy_kcal']) * 100\n"
   ]
  },
  {
   "cell_type": "code",
   "execution_count": 79,
   "metadata": {},
   "outputs": [],
   "source": [
    "data.sort_values(by='diabetes_nutrient_density', ascending=False, inplace=True)\n"
   ]
  },
  {
   "cell_type": "code",
   "execution_count": 80,
   "metadata": {},
   "outputs": [],
   "source": [
    "data.to_csv('nndb_healthfulness.csv', index=False)"
   ]
  },
  {
   "cell_type": "code",
   "execution_count": 81,
   "metadata": {},
   "outputs": [
    {
     "ename": "ValueError",
     "evalue": "Grouper for 'ID' not 1-dimensional",
     "output_type": "error",
     "traceback": [
      "\u001b[1;31m---------------------------------------------------------------------------\u001b[0m",
      "\u001b[1;31mValueError\u001b[0m                                Traceback (most recent call last)",
      "Cell \u001b[1;32mIn[81], line 2\u001b[0m\n\u001b[0;32m      1\u001b[0m \u001b[39m# Create a matrix of user preferences\u001b[39;00m\n\u001b[1;32m----> 2\u001b[0m user_item_matrix \u001b[39m=\u001b[39m data\u001b[39m.\u001b[39;49mpivot_table(index\u001b[39m=\u001b[39;49m\u001b[39m'\u001b[39;49m\u001b[39mID\u001b[39;49m\u001b[39m'\u001b[39;49m, columns\u001b[39m=\u001b[39;49m\u001b[39m'\u001b[39;49m\u001b[39mID\u001b[39;49m\u001b[39m'\u001b[39;49m, values\u001b[39m=\u001b[39;49m\u001b[39m'\u001b[39;49m\u001b[39mdiabetes_nutrient_density\u001b[39;49m\u001b[39m'\u001b[39;49m)\n\u001b[0;32m      3\u001b[0m \u001b[39m# Fill NaN values with zeros\u001b[39;00m\n\u001b[0;32m      4\u001b[0m user_item_matrix \u001b[39m=\u001b[39m user_item_matrix\u001b[39m.\u001b[39mfillna(\u001b[39m0\u001b[39m)\n",
      "File \u001b[1;32md:\\Applications\\Python311\\Lib\\site-packages\\pandas\\core\\frame.py:8731\u001b[0m, in \u001b[0;36mDataFrame.pivot_table\u001b[1;34m(self, values, index, columns, aggfunc, fill_value, margins, dropna, margins_name, observed, sort)\u001b[0m\n\u001b[0;32m   8714\u001b[0m \u001b[39m@Substitution\u001b[39m(\u001b[39m\"\u001b[39m\u001b[39m\"\u001b[39m)\n\u001b[0;32m   8715\u001b[0m \u001b[39m@Appender\u001b[39m(_shared_docs[\u001b[39m\"\u001b[39m\u001b[39mpivot_table\u001b[39m\u001b[39m\"\u001b[39m])\n\u001b[0;32m   8716\u001b[0m \u001b[39mdef\u001b[39;00m \u001b[39mpivot_table\u001b[39m(\n\u001b[1;32m   (...)\u001b[0m\n\u001b[0;32m   8727\u001b[0m     sort\u001b[39m=\u001b[39m\u001b[39mTrue\u001b[39;00m,\n\u001b[0;32m   8728\u001b[0m ) \u001b[39m-\u001b[39m\u001b[39m>\u001b[39m DataFrame:\n\u001b[0;32m   8729\u001b[0m     \u001b[39mfrom\u001b[39;00m \u001b[39mpandas\u001b[39;00m\u001b[39m.\u001b[39;00m\u001b[39mcore\u001b[39;00m\u001b[39m.\u001b[39;00m\u001b[39mreshape\u001b[39;00m\u001b[39m.\u001b[39;00m\u001b[39mpivot\u001b[39;00m \u001b[39mimport\u001b[39;00m pivot_table\n\u001b[1;32m-> 8731\u001b[0m     \u001b[39mreturn\u001b[39;00m pivot_table(\n\u001b[0;32m   8732\u001b[0m         \u001b[39mself\u001b[39;49m,\n\u001b[0;32m   8733\u001b[0m         values\u001b[39m=\u001b[39;49mvalues,\n\u001b[0;32m   8734\u001b[0m         index\u001b[39m=\u001b[39;49mindex,\n\u001b[0;32m   8735\u001b[0m         columns\u001b[39m=\u001b[39;49mcolumns,\n\u001b[0;32m   8736\u001b[0m         aggfunc\u001b[39m=\u001b[39;49maggfunc,\n\u001b[0;32m   8737\u001b[0m         fill_value\u001b[39m=\u001b[39;49mfill_value,\n\u001b[0;32m   8738\u001b[0m         margins\u001b[39m=\u001b[39;49mmargins,\n\u001b[0;32m   8739\u001b[0m         dropna\u001b[39m=\u001b[39;49mdropna,\n\u001b[0;32m   8740\u001b[0m         margins_name\u001b[39m=\u001b[39;49mmargins_name,\n\u001b[0;32m   8741\u001b[0m         observed\u001b[39m=\u001b[39;49mobserved,\n\u001b[0;32m   8742\u001b[0m         sort\u001b[39m=\u001b[39;49msort,\n\u001b[0;32m   8743\u001b[0m     )\n",
      "File \u001b[1;32md:\\Applications\\Python311\\Lib\\site-packages\\pandas\\core\\reshape\\pivot.py:97\u001b[0m, in \u001b[0;36mpivot_table\u001b[1;34m(data, values, index, columns, aggfunc, fill_value, margins, dropna, margins_name, observed, sort)\u001b[0m\n\u001b[0;32m     94\u001b[0m     table \u001b[39m=\u001b[39m concat(pieces, keys\u001b[39m=\u001b[39mkeys, axis\u001b[39m=\u001b[39m\u001b[39m1\u001b[39m)\n\u001b[0;32m     95\u001b[0m     \u001b[39mreturn\u001b[39;00m table\u001b[39m.\u001b[39m__finalize__(data, method\u001b[39m=\u001b[39m\u001b[39m\"\u001b[39m\u001b[39mpivot_table\u001b[39m\u001b[39m\"\u001b[39m)\n\u001b[1;32m---> 97\u001b[0m table \u001b[39m=\u001b[39m __internal_pivot_table(\n\u001b[0;32m     98\u001b[0m     data,\n\u001b[0;32m     99\u001b[0m     values,\n\u001b[0;32m    100\u001b[0m     index,\n\u001b[0;32m    101\u001b[0m     columns,\n\u001b[0;32m    102\u001b[0m     aggfunc,\n\u001b[0;32m    103\u001b[0m     fill_value,\n\u001b[0;32m    104\u001b[0m     margins,\n\u001b[0;32m    105\u001b[0m     dropna,\n\u001b[0;32m    106\u001b[0m     margins_name,\n\u001b[0;32m    107\u001b[0m     observed,\n\u001b[0;32m    108\u001b[0m     sort,\n\u001b[0;32m    109\u001b[0m )\n\u001b[0;32m    110\u001b[0m \u001b[39mreturn\u001b[39;00m table\u001b[39m.\u001b[39m__finalize__(data, method\u001b[39m=\u001b[39m\u001b[39m\"\u001b[39m\u001b[39mpivot_table\u001b[39m\u001b[39m\"\u001b[39m)\n",
      "File \u001b[1;32md:\\Applications\\Python311\\Lib\\site-packages\\pandas\\core\\reshape\\pivot.py:166\u001b[0m, in \u001b[0;36m__internal_pivot_table\u001b[1;34m(data, values, index, columns, aggfunc, fill_value, margins, dropna, margins_name, observed, sort)\u001b[0m\n\u001b[0;32m    163\u001b[0m             \u001b[39mpass\u001b[39;00m\n\u001b[0;32m    164\u001b[0m     values \u001b[39m=\u001b[39m \u001b[39mlist\u001b[39m(values)\n\u001b[1;32m--> 166\u001b[0m grouped \u001b[39m=\u001b[39m data\u001b[39m.\u001b[39;49mgroupby(keys, observed\u001b[39m=\u001b[39;49mobserved, sort\u001b[39m=\u001b[39;49msort)\n\u001b[0;32m    167\u001b[0m msg \u001b[39m=\u001b[39m (\n\u001b[0;32m    168\u001b[0m     \u001b[39m\"\u001b[39m\u001b[39mpivot_table dropped a column because it failed to aggregate. This behavior \u001b[39m\u001b[39m\"\u001b[39m\n\u001b[0;32m    169\u001b[0m     \u001b[39m\"\u001b[39m\u001b[39mis deprecated and will raise in a future version of pandas. Select only the \u001b[39m\u001b[39m\"\u001b[39m\n\u001b[0;32m    170\u001b[0m     \u001b[39m\"\u001b[39m\u001b[39mcolumns that can be aggregated.\u001b[39m\u001b[39m\"\u001b[39m\n\u001b[0;32m    171\u001b[0m )\n\u001b[0;32m    172\u001b[0m \u001b[39mwith\u001b[39;00m rewrite_warning(\n\u001b[0;32m    173\u001b[0m     target_message\u001b[39m=\u001b[39m\u001b[39m\"\u001b[39m\u001b[39mThe default value of numeric_only\u001b[39m\u001b[39m\"\u001b[39m,\n\u001b[0;32m    174\u001b[0m     target_category\u001b[39m=\u001b[39m\u001b[39mFutureWarning\u001b[39;00m,\n\u001b[0;32m    175\u001b[0m     new_message\u001b[39m=\u001b[39mmsg,\n\u001b[0;32m    176\u001b[0m ):\n",
      "File \u001b[1;32md:\\Applications\\Python311\\Lib\\site-packages\\pandas\\core\\frame.py:8402\u001b[0m, in \u001b[0;36mDataFrame.groupby\u001b[1;34m(self, by, axis, level, as_index, sort, group_keys, squeeze, observed, dropna)\u001b[0m\n\u001b[0;32m   8399\u001b[0m     \u001b[39mraise\u001b[39;00m \u001b[39mTypeError\u001b[39;00m(\u001b[39m\"\u001b[39m\u001b[39mYou have to supply one of \u001b[39m\u001b[39m'\u001b[39m\u001b[39mby\u001b[39m\u001b[39m'\u001b[39m\u001b[39m and \u001b[39m\u001b[39m'\u001b[39m\u001b[39mlevel\u001b[39m\u001b[39m'\u001b[39m\u001b[39m\"\u001b[39m)\n\u001b[0;32m   8400\u001b[0m axis \u001b[39m=\u001b[39m \u001b[39mself\u001b[39m\u001b[39m.\u001b[39m_get_axis_number(axis)\n\u001b[1;32m-> 8402\u001b[0m \u001b[39mreturn\u001b[39;00m DataFrameGroupBy(\n\u001b[0;32m   8403\u001b[0m     obj\u001b[39m=\u001b[39;49m\u001b[39mself\u001b[39;49m,\n\u001b[0;32m   8404\u001b[0m     keys\u001b[39m=\u001b[39;49mby,\n\u001b[0;32m   8405\u001b[0m     axis\u001b[39m=\u001b[39;49maxis,\n\u001b[0;32m   8406\u001b[0m     level\u001b[39m=\u001b[39;49mlevel,\n\u001b[0;32m   8407\u001b[0m     as_index\u001b[39m=\u001b[39;49mas_index,\n\u001b[0;32m   8408\u001b[0m     sort\u001b[39m=\u001b[39;49msort,\n\u001b[0;32m   8409\u001b[0m     group_keys\u001b[39m=\u001b[39;49mgroup_keys,\n\u001b[0;32m   8410\u001b[0m     squeeze\u001b[39m=\u001b[39;49msqueeze,\n\u001b[0;32m   8411\u001b[0m     observed\u001b[39m=\u001b[39;49mobserved,\n\u001b[0;32m   8412\u001b[0m     dropna\u001b[39m=\u001b[39;49mdropna,\n\u001b[0;32m   8413\u001b[0m )\n",
      "File \u001b[1;32md:\\Applications\\Python311\\Lib\\site-packages\\pandas\\core\\groupby\\groupby.py:965\u001b[0m, in \u001b[0;36mGroupBy.__init__\u001b[1;34m(self, obj, keys, axis, level, grouper, exclusions, selection, as_index, sort, group_keys, squeeze, observed, mutated, dropna)\u001b[0m\n\u001b[0;32m    962\u001b[0m \u001b[39mif\u001b[39;00m grouper \u001b[39mis\u001b[39;00m \u001b[39mNone\u001b[39;00m:\n\u001b[0;32m    963\u001b[0m     \u001b[39mfrom\u001b[39;00m \u001b[39mpandas\u001b[39;00m\u001b[39m.\u001b[39;00m\u001b[39mcore\u001b[39;00m\u001b[39m.\u001b[39;00m\u001b[39mgroupby\u001b[39;00m\u001b[39m.\u001b[39;00m\u001b[39mgrouper\u001b[39;00m \u001b[39mimport\u001b[39;00m get_grouper\n\u001b[1;32m--> 965\u001b[0m     grouper, exclusions, obj \u001b[39m=\u001b[39m get_grouper(\n\u001b[0;32m    966\u001b[0m         obj,\n\u001b[0;32m    967\u001b[0m         keys,\n\u001b[0;32m    968\u001b[0m         axis\u001b[39m=\u001b[39;49maxis,\n\u001b[0;32m    969\u001b[0m         level\u001b[39m=\u001b[39;49mlevel,\n\u001b[0;32m    970\u001b[0m         sort\u001b[39m=\u001b[39;49msort,\n\u001b[0;32m    971\u001b[0m         observed\u001b[39m=\u001b[39;49mobserved,\n\u001b[0;32m    972\u001b[0m         mutated\u001b[39m=\u001b[39;49m\u001b[39mself\u001b[39;49m\u001b[39m.\u001b[39;49mmutated,\n\u001b[0;32m    973\u001b[0m         dropna\u001b[39m=\u001b[39;49m\u001b[39mself\u001b[39;49m\u001b[39m.\u001b[39;49mdropna,\n\u001b[0;32m    974\u001b[0m     )\n\u001b[0;32m    976\u001b[0m \u001b[39mself\u001b[39m\u001b[39m.\u001b[39mobj \u001b[39m=\u001b[39m obj\n\u001b[0;32m    977\u001b[0m \u001b[39mself\u001b[39m\u001b[39m.\u001b[39maxis \u001b[39m=\u001b[39m obj\u001b[39m.\u001b[39m_get_axis_number(axis)\n",
      "File \u001b[1;32md:\\Applications\\Python311\\Lib\\site-packages\\pandas\\core\\groupby\\grouper.py:883\u001b[0m, in \u001b[0;36mget_grouper\u001b[1;34m(obj, key, axis, level, sort, observed, mutated, validate, dropna)\u001b[0m\n\u001b[0;32m    879\u001b[0m     in_axis, name, gpr \u001b[39m=\u001b[39m \u001b[39mTrue\u001b[39;00m, gpr, obj[gpr]\n\u001b[0;32m    880\u001b[0m     \u001b[39mif\u001b[39;00m gpr\u001b[39m.\u001b[39mndim \u001b[39m!=\u001b[39m \u001b[39m1\u001b[39m:\n\u001b[0;32m    881\u001b[0m         \u001b[39m# non-unique columns; raise here to get the name in the\u001b[39;00m\n\u001b[0;32m    882\u001b[0m         \u001b[39m# exception message\u001b[39;00m\n\u001b[1;32m--> 883\u001b[0m         \u001b[39mraise\u001b[39;00m \u001b[39mValueError\u001b[39;00m(\u001b[39mf\u001b[39m\u001b[39m\"\u001b[39m\u001b[39mGrouper for \u001b[39m\u001b[39m'\u001b[39m\u001b[39m{\u001b[39;00mname\u001b[39m}\u001b[39;00m\u001b[39m'\u001b[39m\u001b[39m not 1-dimensional\u001b[39m\u001b[39m\"\u001b[39m)\n\u001b[0;32m    884\u001b[0m     exclusions\u001b[39m.\u001b[39madd(name)\n\u001b[0;32m    885\u001b[0m \u001b[39melif\u001b[39;00m obj\u001b[39m.\u001b[39m_is_level_reference(gpr, axis\u001b[39m=\u001b[39maxis):\n",
      "\u001b[1;31mValueError\u001b[0m: Grouper for 'ID' not 1-dimensional"
     ]
    }
   ],
   "source": [
    "# Create a matrix of user preferences\n",
    "user_item_matrix = data.pivot_table(index='ID', columns='ID', values='diabetes_nutrient_density')\n",
    "# Fill NaN values with zeros\n",
    "user_item_matrix = user_item_matrix.fillna(0)"
   ]
  },
  {
   "cell_type": "markdown",
   "metadata": {},
   "source": [
    "# TNE9TH-120622(MERGING)"
   ]
  },
  {
   "cell_type": "code",
   "execution_count": 215,
   "metadata": {},
   "outputs": [],
   "source": [
    "fpDf = pd.read_csv('Food_Preference.csv')\n",
    "diaDf = pd.read_csv('diabetes.csv')"
   ]
  },
  {
   "cell_type": "code",
   "execution_count": 216,
   "metadata": {},
   "outputs": [],
   "source": [
    "mergedDf = pd.concat([fpDf,diaDf]).drop_duplicates().reset_index(drop=True)"
   ]
  },
  {
   "cell_type": "code",
   "execution_count": 218,
   "metadata": {},
   "outputs": [],
   "source": [
    "mergedDf = mergedDf.fillna(0)\n",
    "mergedDf.to_csv('mergedDf.csv', index=False)"
   ]
  },
  {
   "cell_type": "code",
   "execution_count": 211,
   "metadata": {},
   "outputs": [
    {
     "data": {
      "text/plain": [
       "Text(0, 0.5, 'Blood Pressure')"
      ]
     },
     "execution_count": 211,
     "metadata": {},
     "output_type": "execute_result"
    },
    {
     "data": {
      "image/png": "[encoded data removed]",
      "text/plain": [
       "<Figure size 576x396 with 1 Axes>"
      ]
     },
     "metadata": {},
     "output_type": "display_data"
    }
   ],
   "source": [
    "mergedkm = KMeans(n_clusters=3)\n",
    "y_mergedpredict = mergedkm.fit_predict(mergedDf[['Age', 'BloodPressure']])\n",
    "mergedDf['cluster'] = y_mergedpredict\n",
    "\n",
    "df1 = mergedDf[mergedDf.cluster==0]\n",
    "df2 = mergedDf[mergedDf.cluster==1]\n",
    "df3 = mergedDf[mergedDf.cluster==2]\n",
    "\n",
    "plt.scatter(df1['Age'], df1.BloodPressure, color='green')\n",
    "plt.scatter(df2['Age'], df2.BloodPressure, color='red')\n",
    "plt.scatter(df3['Age'], df3.BloodPressure, color='blue')\n",
    "\n",
    "plt.scatter(mergedkm.cluster_centers_[:,0],mergedkm.cluster_centers_[:,1],color='purple', marker='*', label='centroid', s=500)\n",
    "\n",
    "plt.xlabel('Age')\n",
    "plt.ylabel('Blood Pressure')"
   ]
  },
  {
   "cell_type": "markdown",
   "metadata": {},
   "source": [
    "# TNE8TH-120622F"
   ]
  },
  {
   "cell_type": "code",
   "execution_count": 165,
   "metadata": {},
   "outputs": [],
   "source": [
    "foodDf = pd.read_excel('ABBREV.xlsx')"
   ]
  },
  {
   "cell_type": "code",
   "execution_count": 166,
   "metadata": {},
   "outputs": [
    {
     "data": {
      "text/html": [
       "<div>\n",
       "<style scoped>\n",
       "    .dataframe tbody tr th:only-of-type {\n",
       "        vertical-align: middle;\n",
       "    }\n",
       "\n",
       "    .dataframe tbody tr th {\n",
       "        vertical-align: top;\n",
       "    }\n",
       "\n",
       "    .dataframe thead th {\n",
       "        text-align: right;\n",
       "    }\n",
       "</style>\n",
       "<table border=\"1\" class=\"dataframe\">\n",
       "  <thead>\n",
       "    <tr style=\"text-align: right;\">\n",
       "      <th></th>\n",
       "      <th>NDB_No</th>\n",
       "      <th>Shrt_Desc</th>\n",
       "      <th>Water_(g)</th>\n",
       "      <th>Energ_Kcal</th>\n",
       "      <th>Protein_(g)</th>\n",
       "      <th>Lipid_Tot_(g)</th>\n",
       "      <th>Ash_(g)</th>\n",
       "      <th>Carbohydrt_(g)</th>\n",
       "      <th>Fiber_TD_(g)</th>\n",
       "      <th>Sugar_Tot_(g)</th>\n",
       "      <th>...</th>\n",
       "      <th>Vit_K_(µg)</th>\n",
       "      <th>FA_Sat_(g)</th>\n",
       "      <th>FA_Mono_(g)</th>\n",
       "      <th>FA_Poly_(g)</th>\n",
       "      <th>Cholestrl_(mg)</th>\n",
       "      <th>GmWt_1</th>\n",
       "      <th>GmWt_Desc1</th>\n",
       "      <th>GmWt_2</th>\n",
       "      <th>GmWt_Desc2</th>\n",
       "      <th>Refuse_Pct</th>\n",
       "    </tr>\n",
       "  </thead>\n",
       "  <tbody>\n",
       "    <tr>\n",
       "      <th>0</th>\n",
       "      <td>1001</td>\n",
       "      <td>BUTTER,WITH SALT</td>\n",
       "      <td>15.87</td>\n",
       "      <td>717</td>\n",
       "      <td>0.85</td>\n",
       "      <td>81.11</td>\n",
       "      <td>2.11</td>\n",
       "      <td>0.06</td>\n",
       "      <td>0.0</td>\n",
       "      <td>0.06</td>\n",
       "      <td>...</td>\n",
       "      <td>7.0</td>\n",
       "      <td>51.368</td>\n",
       "      <td>21.021</td>\n",
       "      <td>3.043</td>\n",
       "      <td>215.0</td>\n",
       "      <td>5.00</td>\n",
       "      <td>1 pat,  (1\" sq, 1/3\" high)</td>\n",
       "      <td>14.2</td>\n",
       "      <td>1 tbsp</td>\n",
       "      <td>0.0</td>\n",
       "    </tr>\n",
       "    <tr>\n",
       "      <th>1</th>\n",
       "      <td>1002</td>\n",
       "      <td>BUTTER,WHIPPED,W/ SALT</td>\n",
       "      <td>16.72</td>\n",
       "      <td>718</td>\n",
       "      <td>0.49</td>\n",
       "      <td>78.30</td>\n",
       "      <td>1.62</td>\n",
       "      <td>2.87</td>\n",
       "      <td>0.0</td>\n",
       "      <td>0.06</td>\n",
       "      <td>...</td>\n",
       "      <td>4.6</td>\n",
       "      <td>45.390</td>\n",
       "      <td>19.874</td>\n",
       "      <td>3.331</td>\n",
       "      <td>225.0</td>\n",
       "      <td>3.80</td>\n",
       "      <td>1 pat,  (1\" sq, 1/3\" high)</td>\n",
       "      <td>9.4</td>\n",
       "      <td>1 tbsp</td>\n",
       "      <td>0.0</td>\n",
       "    </tr>\n",
       "    <tr>\n",
       "      <th>2</th>\n",
       "      <td>1003</td>\n",
       "      <td>BUTTER OIL,ANHYDROUS</td>\n",
       "      <td>0.24</td>\n",
       "      <td>876</td>\n",
       "      <td>0.28</td>\n",
       "      <td>99.48</td>\n",
       "      <td>0.00</td>\n",
       "      <td>0.00</td>\n",
       "      <td>0.0</td>\n",
       "      <td>0.00</td>\n",
       "      <td>...</td>\n",
       "      <td>8.6</td>\n",
       "      <td>61.924</td>\n",
       "      <td>28.732</td>\n",
       "      <td>3.694</td>\n",
       "      <td>256.0</td>\n",
       "      <td>12.80</td>\n",
       "      <td>1 tbsp</td>\n",
       "      <td>205.0</td>\n",
       "      <td>1 cup</td>\n",
       "      <td>0.0</td>\n",
       "    </tr>\n",
       "    <tr>\n",
       "      <th>3</th>\n",
       "      <td>1004</td>\n",
       "      <td>CHEESE,BLUE</td>\n",
       "      <td>42.41</td>\n",
       "      <td>353</td>\n",
       "      <td>21.40</td>\n",
       "      <td>28.74</td>\n",
       "      <td>5.11</td>\n",
       "      <td>2.34</td>\n",
       "      <td>0.0</td>\n",
       "      <td>0.50</td>\n",
       "      <td>...</td>\n",
       "      <td>2.4</td>\n",
       "      <td>18.669</td>\n",
       "      <td>7.778</td>\n",
       "      <td>0.800</td>\n",
       "      <td>75.0</td>\n",
       "      <td>28.35</td>\n",
       "      <td>1 oz</td>\n",
       "      <td>17.0</td>\n",
       "      <td>1 cubic inch</td>\n",
       "      <td>0.0</td>\n",
       "    </tr>\n",
       "    <tr>\n",
       "      <th>4</th>\n",
       "      <td>1005</td>\n",
       "      <td>CHEESE,BRICK</td>\n",
       "      <td>41.11</td>\n",
       "      <td>371</td>\n",
       "      <td>23.24</td>\n",
       "      <td>29.68</td>\n",
       "      <td>3.18</td>\n",
       "      <td>2.79</td>\n",
       "      <td>0.0</td>\n",
       "      <td>0.51</td>\n",
       "      <td>...</td>\n",
       "      <td>2.5</td>\n",
       "      <td>18.764</td>\n",
       "      <td>8.598</td>\n",
       "      <td>0.784</td>\n",
       "      <td>94.0</td>\n",
       "      <td>132.00</td>\n",
       "      <td>1 cup, diced</td>\n",
       "      <td>113.0</td>\n",
       "      <td>1 cup, shredded</td>\n",
       "      <td>0.0</td>\n",
       "    </tr>\n",
       "  </tbody>\n",
       "</table>\n",
       "<p>5 rows × 53 columns</p>\n",
       "</div>"
      ],
      "text/plain": [
       "   NDB_No               Shrt_Desc  Water_(g)  Energ_Kcal  Protein_(g)  \\\n",
       "0    1001        BUTTER,WITH SALT      15.87         717         0.85   \n",
       "1    1002  BUTTER,WHIPPED,W/ SALT      16.72         718         0.49   \n",
       "2    1003    BUTTER OIL,ANHYDROUS       0.24         876         0.28   \n",
       "3    1004             CHEESE,BLUE      42.41         353        21.40   \n",
       "4    1005            CHEESE,BRICK      41.11         371        23.24   \n",
       "\n",
       "   Lipid_Tot_(g)  Ash_(g)  Carbohydrt_(g)  Fiber_TD_(g)  Sugar_Tot_(g)  ...  \\\n",
       "0          81.11     2.11            0.06           0.0           0.06  ...   \n",
       "1          78.30     1.62            2.87           0.0           0.06  ...   \n",
       "2          99.48     0.00            0.00           0.0           0.00  ...   \n",
       "3          28.74     5.11            2.34           0.0           0.50  ...   \n",
       "4          29.68     3.18            2.79           0.0           0.51  ...   \n",
       "\n",
       "   Vit_K_(µg)  FA_Sat_(g)  FA_Mono_(g)  FA_Poly_(g)  Cholestrl_(mg)  GmWt_1  \\\n",
       "0         7.0      51.368       21.021        3.043           215.0    5.00   \n",
       "1         4.6      45.390       19.874        3.331           225.0    3.80   \n",
       "2         8.6      61.924       28.732        3.694           256.0   12.80   \n",
       "3         2.4      18.669        7.778        0.800            75.0   28.35   \n",
       "4         2.5      18.764        8.598        0.784            94.0  132.00   \n",
       "\n",
       "                   GmWt_Desc1  GmWt_2       GmWt_Desc2  Refuse_Pct  \n",
       "0  1 pat,  (1\" sq, 1/3\" high)    14.2           1 tbsp         0.0  \n",
       "1  1 pat,  (1\" sq, 1/3\" high)     9.4           1 tbsp         0.0  \n",
       "2                      1 tbsp   205.0            1 cup         0.0  \n",
       "3                        1 oz    17.0     1 cubic inch         0.0  \n",
       "4                1 cup, diced   113.0  1 cup, shredded         0.0  \n",
       "\n",
       "[5 rows x 53 columns]"
      ]
     },
     "execution_count": 166,
     "metadata": {},
     "output_type": "execute_result"
    }
   ],
   "source": [
    "foodDf.head()"
   ]
  },
  {
   "cell_type": "code",
   "execution_count": 168,
   "metadata": {},
   "outputs": [
    {
     "data": {
      "text/html": [
       "<div>\n",
       "<style scoped>\n",
       "    .dataframe tbody tr th:only-of-type {\n",
       "        vertical-align: middle;\n",
       "    }\n",
       "\n",
       "    .dataframe tbody tr th {\n",
       "        vertical-align: top;\n",
       "    }\n",
       "\n",
       "    .dataframe thead th {\n",
       "        text-align: right;\n",
       "    }\n",
       "</style>\n",
       "<table border=\"1\" class=\"dataframe\">\n",
       "  <thead>\n",
       "    <tr style=\"text-align: right;\">\n",
       "      <th></th>\n",
       "      <th>NDB_No</th>\n",
       "      <th>Shrt_Desc</th>\n",
       "      <th>Water_(g)</th>\n",
       "      <th>Energ_Kcal</th>\n",
       "      <th>Protein_(g)</th>\n",
       "      <th>Lipid_Tot_(g)</th>\n",
       "      <th>Ash_(g)</th>\n",
       "      <th>Carbohydrt_(g)</th>\n",
       "      <th>Fiber_TD_(g)</th>\n",
       "      <th>Sugar_Tot_(g)</th>\n",
       "      <th>...</th>\n",
       "      <th>Vit_K_(µg)</th>\n",
       "      <th>FA_Sat_(g)</th>\n",
       "      <th>FA_Mono_(g)</th>\n",
       "      <th>FA_Poly_(g)</th>\n",
       "      <th>Cholestrl_(mg)</th>\n",
       "      <th>GmWt_1</th>\n",
       "      <th>GmWt_Desc1</th>\n",
       "      <th>GmWt_2</th>\n",
       "      <th>GmWt_Desc2</th>\n",
       "      <th>Refuse_Pct</th>\n",
       "    </tr>\n",
       "  </thead>\n",
       "  <tbody>\n",
       "    <tr>\n",
       "      <th>0</th>\n",
       "      <td>1001</td>\n",
       "      <td>2097</td>\n",
       "      <td>15.87</td>\n",
       "      <td>717</td>\n",
       "      <td>0.85</td>\n",
       "      <td>81.11</td>\n",
       "      <td>2.11</td>\n",
       "      <td>0.06</td>\n",
       "      <td>0.0</td>\n",
       "      <td>0.06</td>\n",
       "      <td>...</td>\n",
       "      <td>7.0</td>\n",
       "      <td>51.368</td>\n",
       "      <td>21.021</td>\n",
       "      <td>3.043</td>\n",
       "      <td>215.0</td>\n",
       "      <td>5.00</td>\n",
       "      <td>411</td>\n",
       "      <td>14.2</td>\n",
       "      <td>783</td>\n",
       "      <td>0.0</td>\n",
       "    </tr>\n",
       "    <tr>\n",
       "      <th>1</th>\n",
       "      <td>1002</td>\n",
       "      <td>2096</td>\n",
       "      <td>16.72</td>\n",
       "      <td>718</td>\n",
       "      <td>0.49</td>\n",
       "      <td>78.30</td>\n",
       "      <td>1.62</td>\n",
       "      <td>2.87</td>\n",
       "      <td>0.0</td>\n",
       "      <td>0.06</td>\n",
       "      <td>...</td>\n",
       "      <td>4.6</td>\n",
       "      <td>45.390</td>\n",
       "      <td>19.874</td>\n",
       "      <td>3.331</td>\n",
       "      <td>225.0</td>\n",
       "      <td>3.80</td>\n",
       "      <td>411</td>\n",
       "      <td>9.4</td>\n",
       "      <td>783</td>\n",
       "      <td>0.0</td>\n",
       "    </tr>\n",
       "    <tr>\n",
       "      <th>2</th>\n",
       "      <td>1003</td>\n",
       "      <td>2092</td>\n",
       "      <td>0.24</td>\n",
       "      <td>876</td>\n",
       "      <td>0.28</td>\n",
       "      <td>99.48</td>\n",
       "      <td>0.00</td>\n",
       "      <td>0.00</td>\n",
       "      <td>0.0</td>\n",
       "      <td>0.00</td>\n",
       "      <td>...</td>\n",
       "      <td>8.6</td>\n",
       "      <td>61.924</td>\n",
       "      <td>28.732</td>\n",
       "      <td>3.694</td>\n",
       "      <td>256.0</td>\n",
       "      <td>12.80</td>\n",
       "      <td>670</td>\n",
       "      <td>205.0</td>\n",
       "      <td>227</td>\n",
       "      <td>0.0</td>\n",
       "    </tr>\n",
       "    <tr>\n",
       "      <th>3</th>\n",
       "      <td>1004</td>\n",
       "      <td>2921</td>\n",
       "      <td>42.41</td>\n",
       "      <td>353</td>\n",
       "      <td>21.40</td>\n",
       "      <td>28.74</td>\n",
       "      <td>5.11</td>\n",
       "      <td>2.34</td>\n",
       "      <td>0.0</td>\n",
       "      <td>0.50</td>\n",
       "      <td>...</td>\n",
       "      <td>2.4</td>\n",
       "      <td>18.669</td>\n",
       "      <td>7.778</td>\n",
       "      <td>0.800</td>\n",
       "      <td>75.0</td>\n",
       "      <td>28.35</td>\n",
       "      <td>368</td>\n",
       "      <td>17.0</td>\n",
       "      <td>224</td>\n",
       "      <td>0.0</td>\n",
       "    </tr>\n",
       "    <tr>\n",
       "      <th>4</th>\n",
       "      <td>1005</td>\n",
       "      <td>2922</td>\n",
       "      <td>41.11</td>\n",
       "      <td>371</td>\n",
       "      <td>23.24</td>\n",
       "      <td>29.68</td>\n",
       "      <td>3.18</td>\n",
       "      <td>2.79</td>\n",
       "      <td>0.0</td>\n",
       "      <td>0.51</td>\n",
       "      <td>...</td>\n",
       "      <td>2.5</td>\n",
       "      <td>18.764</td>\n",
       "      <td>8.598</td>\n",
       "      <td>0.784</td>\n",
       "      <td>94.0</td>\n",
       "      <td>132.00</td>\n",
       "      <td>219</td>\n",
       "      <td>113.0</td>\n",
       "      <td>273</td>\n",
       "      <td>0.0</td>\n",
       "    </tr>\n",
       "  </tbody>\n",
       "</table>\n",
       "<p>5 rows × 53 columns</p>\n",
       "</div>"
      ],
      "text/plain": [
       "   NDB_No  Shrt_Desc  Water_(g)  Energ_Kcal  Protein_(g)  Lipid_Tot_(g)  \\\n",
       "0    1001       2097      15.87         717         0.85          81.11   \n",
       "1    1002       2096      16.72         718         0.49          78.30   \n",
       "2    1003       2092       0.24         876         0.28          99.48   \n",
       "3    1004       2921      42.41         353        21.40          28.74   \n",
       "4    1005       2922      41.11         371        23.24          29.68   \n",
       "\n",
       "   Ash_(g)  Carbohydrt_(g)  Fiber_TD_(g)  Sugar_Tot_(g)  ...  Vit_K_(µg)  \\\n",
       "0     2.11            0.06           0.0           0.06  ...         7.0   \n",
       "1     1.62            2.87           0.0           0.06  ...         4.6   \n",
       "2     0.00            0.00           0.0           0.00  ...         8.6   \n",
       "3     5.11            2.34           0.0           0.50  ...         2.4   \n",
       "4     3.18            2.79           0.0           0.51  ...         2.5   \n",
       "\n",
       "   FA_Sat_(g)  FA_Mono_(g)  FA_Poly_(g)  Cholestrl_(mg)  GmWt_1  GmWt_Desc1  \\\n",
       "0      51.368       21.021        3.043           215.0    5.00         411   \n",
       "1      45.390       19.874        3.331           225.0    3.80         411   \n",
       "2      61.924       28.732        3.694           256.0   12.80         670   \n",
       "3      18.669        7.778        0.800            75.0   28.35         368   \n",
       "4      18.764        8.598        0.784            94.0  132.00         219   \n",
       "\n",
       "   GmWt_2  GmWt_Desc2  Refuse_Pct  \n",
       "0    14.2         783         0.0  \n",
       "1     9.4         783         0.0  \n",
       "2   205.0         227         0.0  \n",
       "3    17.0         224         0.0  \n",
       "4   113.0         273         0.0  \n",
       "\n",
       "[5 rows x 53 columns]"
      ]
     },
     "execution_count": 168,
     "metadata": {},
     "output_type": "execute_result"
    }
   ],
   "source": [
    "le = LabelEncoder()\n",
    "foodDf['GmWt_Desc1'] = le.fit_transform(foodDf['GmWt_Desc1'])\n",
    "foodDf['GmWt_Desc2'] = le.fit_transform(foodDf['GmWt_Desc2'])\n",
    "foodDf['Shrt_Desc'] = le.fit_transform(foodDf['Shrt_Desc'])\n",
    "foodDf.head()"
   ]
  },
  {
   "cell_type": "code",
   "execution_count": 169,
   "metadata": {},
   "outputs": [
    {
     "data": {
      "text/html": [
       "<style>#sk-container-id-7 {color: black;background-color: white;}#sk-container-id-7 pre{padding: 0;}#sk-container-id-7 div.sk-toggleable {background-color: white;}#sk-container-id-7 label.sk-toggleable__label {cursor: pointer;display: block;width: 100%;margin-bottom: 0;padding: 0.3em;box-sizing: border-box;text-align: center;}#sk-container-id-7 label.sk-toggleable__label-arrow:before {content: \"▸\";float: left;margin-right: 0.25em;color: #696969;}#sk-container-id-7 label.sk-toggleable__label-arrow:hover:before {color: black;}#sk-container-id-7 div.sk-estimator:hover label.sk-toggleable__label-arrow:before {color: black;}#sk-container-id-7 div.sk-toggleable__content {max-height: 0;max-width: 0;overflow: hidden;text-align: left;background-color: #f0f8ff;}#sk-container-id-7 div.sk-toggleable__content pre {margin: 0.2em;color: black;border-radius: 0.25em;background-color: #f0f8ff;}#sk-container-id-7 input.sk-toggleable__control:checked~div.sk-toggleable__content {max-height: 200px;max-width: 100%;overflow: auto;}#sk-container-id-7 input.sk-toggleable__control:checked~label.sk-toggleable__label-arrow:before {content: \"▾\";}#sk-container-id-7 div.sk-estimator input.sk-toggleable__control:checked~label.sk-toggleable__label {background-color: #d4ebff;}#sk-container-id-7 div.sk-label input.sk-toggleable__control:checked~label.sk-toggleable__label {background-color: #d4ebff;}#sk-container-id-7 input.sk-hidden--visually {border: 0;clip: rect(1px 1px 1px 1px);clip: rect(1px, 1px, 1px, 1px);height: 1px;margin: -1px;overflow: hidden;padding: 0;position: absolute;width: 1px;}#sk-container-id-7 div.sk-estimator {font-family: monospace;background-color: #f0f8ff;border: 1px dotted black;border-radius: 0.25em;box-sizing: border-box;margin-bottom: 0.5em;}#sk-container-id-7 div.sk-estimator:hover {background-color: #d4ebff;}#sk-container-id-7 div.sk-parallel-item::after {content: \"\";width: 100%;border-bottom: 1px solid gray;flex-grow: 1;}#sk-container-id-7 div.sk-label:hover label.sk-toggleable__label {background-color: #d4ebff;}#sk-container-id-7 div.sk-serial::before {content: \"\";position: absolute;border-left: 1px solid gray;box-sizing: border-box;top: 0;bottom: 0;left: 50%;z-index: 0;}#sk-container-id-7 div.sk-serial {display: flex;flex-direction: column;align-items: center;background-color: white;padding-right: 0.2em;padding-left: 0.2em;position: relative;}#sk-container-id-7 div.sk-item {position: relative;z-index: 1;}#sk-container-id-7 div.sk-parallel {display: flex;align-items: stretch;justify-content: center;background-color: white;position: relative;}#sk-container-id-7 div.sk-item::before, #sk-container-id-7 div.sk-parallel-item::before {content: \"\";position: absolute;border-left: 1px solid gray;box-sizing: border-box;top: 0;bottom: 0;left: 50%;z-index: -1;}#sk-container-id-7 div.sk-parallel-item {display: flex;flex-direction: column;z-index: 1;position: relative;background-color: white;}#sk-container-id-7 div.sk-parallel-item:first-child::after {align-self: flex-end;width: 50%;}#sk-container-id-7 div.sk-parallel-item:last-child::after {align-self: flex-start;width: 50%;}#sk-container-id-7 div.sk-parallel-item:only-child::after {width: 0;}#sk-container-id-7 div.sk-dashed-wrapped {border: 1px dashed gray;margin: 0 0.4em 0.5em 0.4em;box-sizing: border-box;padding-bottom: 0.4em;background-color: white;}#sk-container-id-7 div.sk-label label {font-family: monospace;font-weight: bold;display: inline-block;line-height: 1.2em;}#sk-container-id-7 div.sk-label-container {text-align: center;}#sk-container-id-7 div.sk-container {/* jupyter's `normalize.less` sets `[hidden] { display: none; }` but bootstrap.min.css set `[hidden] { display: none !important; }` so we also need the `!important` here to be able to override the default hidden behavior on the sphinx rendered scikit-learn.org. See: https://github.com/scikit-learn/scikit-learn/issues/21755 */display: inline-block !important;position: relative;}#sk-container-id-7 div.sk-text-repr-fallback {display: none;}</style><div id=\"sk-container-id-7\" class=\"sk-top-container\"><div class=\"sk-text-repr-fallback\"><pre>KMeans(n_clusters=3)</pre><b>In a Jupyter environment, please rerun this cell to show the HTML representation or trust the notebook. <br />On GitHub, the HTML representation is unable to render, please try loading this page with nbviewer.org.</b></div><div class=\"sk-container\" hidden><div class=\"sk-item\"><div class=\"sk-estimator sk-toggleable\"><input class=\"sk-toggleable__control sk-hidden--visually\" id=\"sk-estimator-id-7\" type=\"checkbox\" checked><label for=\"sk-estimator-id-7\" class=\"sk-toggleable__label sk-toggleable__label-arrow\">KMeans</label><div class=\"sk-toggleable__content\"><pre>KMeans(n_clusters=3)</pre></div></div></div></div></div>"
      ],
      "text/plain": [
       "KMeans(n_clusters=3)"
      ]
     },
     "execution_count": 169,
     "metadata": {},
     "output_type": "execute_result"
    }
   ],
   "source": [
    "foodkm = KMeans(n_clusters=3)\n",
    "foodkm"
   ]
  },
  {
   "cell_type": "code",
   "execution_count": 171,
   "metadata": {},
   "outputs": [
    {
     "data": {
      "text/plain": [
       "array([1, 1, 1, ..., 0, 0, 0])"
      ]
     },
     "execution_count": 171,
     "metadata": {},
     "output_type": "execute_result"
    }
   ],
   "source": [
    "y_predict = foodkm.fit_predict(foodDf[['Shrt_Desc', 'Energ_Kcal']])\n",
    "y_predict"
   ]
  },
  {
   "cell_type": "code",
   "execution_count": 172,
   "metadata": {},
   "outputs": [
    {
     "data": {
      "text/html": [
       "<div>\n",
       "<style scoped>\n",
       "    .dataframe tbody tr th:only-of-type {\n",
       "        vertical-align: middle;\n",
       "    }\n",
       "\n",
       "    .dataframe tbody tr th {\n",
       "        vertical-align: top;\n",
       "    }\n",
       "\n",
       "    .dataframe thead th {\n",
       "        text-align: right;\n",
       "    }\n",
       "</style>\n",
       "<table border=\"1\" class=\"dataframe\">\n",
       "  <thead>\n",
       "    <tr style=\"text-align: right;\">\n",
       "      <th></th>\n",
       "      <th>NDB_No</th>\n",
       "      <th>Shrt_Desc</th>\n",
       "      <th>Water_(g)</th>\n",
       "      <th>Energ_Kcal</th>\n",
       "      <th>Protein_(g)</th>\n",
       "      <th>Lipid_Tot_(g)</th>\n",
       "      <th>Ash_(g)</th>\n",
       "      <th>Carbohydrt_(g)</th>\n",
       "      <th>Fiber_TD_(g)</th>\n",
       "      <th>Sugar_Tot_(g)</th>\n",
       "      <th>...</th>\n",
       "      <th>FA_Sat_(g)</th>\n",
       "      <th>FA_Mono_(g)</th>\n",
       "      <th>FA_Poly_(g)</th>\n",
       "      <th>Cholestrl_(mg)</th>\n",
       "      <th>GmWt_1</th>\n",
       "      <th>GmWt_Desc1</th>\n",
       "      <th>GmWt_2</th>\n",
       "      <th>GmWt_Desc2</th>\n",
       "      <th>Refuse_Pct</th>\n",
       "      <th>cluster</th>\n",
       "    </tr>\n",
       "  </thead>\n",
       "  <tbody>\n",
       "    <tr>\n",
       "      <th>0</th>\n",
       "      <td>1001</td>\n",
       "      <td>2097</td>\n",
       "      <td>15.87</td>\n",
       "      <td>717</td>\n",
       "      <td>0.85</td>\n",
       "      <td>81.11</td>\n",
       "      <td>2.11</td>\n",
       "      <td>0.06</td>\n",
       "      <td>0.0</td>\n",
       "      <td>0.06</td>\n",
       "      <td>...</td>\n",
       "      <td>51.368</td>\n",
       "      <td>21.021</td>\n",
       "      <td>3.043</td>\n",
       "      <td>215.0</td>\n",
       "      <td>5.00</td>\n",
       "      <td>411</td>\n",
       "      <td>14.2</td>\n",
       "      <td>783</td>\n",
       "      <td>0.0</td>\n",
       "      <td>1</td>\n",
       "    </tr>\n",
       "    <tr>\n",
       "      <th>1</th>\n",
       "      <td>1002</td>\n",
       "      <td>2096</td>\n",
       "      <td>16.72</td>\n",
       "      <td>718</td>\n",
       "      <td>0.49</td>\n",
       "      <td>78.30</td>\n",
       "      <td>1.62</td>\n",
       "      <td>2.87</td>\n",
       "      <td>0.0</td>\n",
       "      <td>0.06</td>\n",
       "      <td>...</td>\n",
       "      <td>45.390</td>\n",
       "      <td>19.874</td>\n",
       "      <td>3.331</td>\n",
       "      <td>225.0</td>\n",
       "      <td>3.80</td>\n",
       "      <td>411</td>\n",
       "      <td>9.4</td>\n",
       "      <td>783</td>\n",
       "      <td>0.0</td>\n",
       "      <td>1</td>\n",
       "    </tr>\n",
       "    <tr>\n",
       "      <th>2</th>\n",
       "      <td>1003</td>\n",
       "      <td>2092</td>\n",
       "      <td>0.24</td>\n",
       "      <td>876</td>\n",
       "      <td>0.28</td>\n",
       "      <td>99.48</td>\n",
       "      <td>0.00</td>\n",
       "      <td>0.00</td>\n",
       "      <td>0.0</td>\n",
       "      <td>0.00</td>\n",
       "      <td>...</td>\n",
       "      <td>61.924</td>\n",
       "      <td>28.732</td>\n",
       "      <td>3.694</td>\n",
       "      <td>256.0</td>\n",
       "      <td>12.80</td>\n",
       "      <td>670</td>\n",
       "      <td>205.0</td>\n",
       "      <td>227</td>\n",
       "      <td>0.0</td>\n",
       "      <td>1</td>\n",
       "    </tr>\n",
       "    <tr>\n",
       "      <th>3</th>\n",
       "      <td>1004</td>\n",
       "      <td>2921</td>\n",
       "      <td>42.41</td>\n",
       "      <td>353</td>\n",
       "      <td>21.40</td>\n",
       "      <td>28.74</td>\n",
       "      <td>5.11</td>\n",
       "      <td>2.34</td>\n",
       "      <td>0.0</td>\n",
       "      <td>0.50</td>\n",
       "      <td>...</td>\n",
       "      <td>18.669</td>\n",
       "      <td>7.778</td>\n",
       "      <td>0.800</td>\n",
       "      <td>75.0</td>\n",
       "      <td>28.35</td>\n",
       "      <td>368</td>\n",
       "      <td>17.0</td>\n",
       "      <td>224</td>\n",
       "      <td>0.0</td>\n",
       "      <td>1</td>\n",
       "    </tr>\n",
       "    <tr>\n",
       "      <th>4</th>\n",
       "      <td>1005</td>\n",
       "      <td>2922</td>\n",
       "      <td>41.11</td>\n",
       "      <td>371</td>\n",
       "      <td>23.24</td>\n",
       "      <td>29.68</td>\n",
       "      <td>3.18</td>\n",
       "      <td>2.79</td>\n",
       "      <td>0.0</td>\n",
       "      <td>0.51</td>\n",
       "      <td>...</td>\n",
       "      <td>18.764</td>\n",
       "      <td>8.598</td>\n",
       "      <td>0.784</td>\n",
       "      <td>94.0</td>\n",
       "      <td>132.00</td>\n",
       "      <td>219</td>\n",
       "      <td>113.0</td>\n",
       "      <td>273</td>\n",
       "      <td>0.0</td>\n",
       "      <td>1</td>\n",
       "    </tr>\n",
       "  </tbody>\n",
       "</table>\n",
       "<p>5 rows × 54 columns</p>\n",
       "</div>"
      ],
      "text/plain": [
       "   NDB_No  Shrt_Desc  Water_(g)  Energ_Kcal  Protein_(g)  Lipid_Tot_(g)  \\\n",
       "0    1001       2097      15.87         717         0.85          81.11   \n",
       "1    1002       2096      16.72         718         0.49          78.30   \n",
       "2    1003       2092       0.24         876         0.28          99.48   \n",
       "3    1004       2921      42.41         353        21.40          28.74   \n",
       "4    1005       2922      41.11         371        23.24          29.68   \n",
       "\n",
       "   Ash_(g)  Carbohydrt_(g)  Fiber_TD_(g)  Sugar_Tot_(g)  ...  FA_Sat_(g)  \\\n",
       "0     2.11            0.06           0.0           0.06  ...      51.368   \n",
       "1     1.62            2.87           0.0           0.06  ...      45.390   \n",
       "2     0.00            0.00           0.0           0.00  ...      61.924   \n",
       "3     5.11            2.34           0.0           0.50  ...      18.669   \n",
       "4     3.18            2.79           0.0           0.51  ...      18.764   \n",
       "\n",
       "   FA_Mono_(g)  FA_Poly_(g)  Cholestrl_(mg)  GmWt_1  GmWt_Desc1  GmWt_2  \\\n",
       "0       21.021        3.043           215.0    5.00         411    14.2   \n",
       "1       19.874        3.331           225.0    3.80         411     9.4   \n",
       "2       28.732        3.694           256.0   12.80         670   205.0   \n",
       "3        7.778        0.800            75.0   28.35         368    17.0   \n",
       "4        8.598        0.784            94.0  132.00         219   113.0   \n",
       "\n",
       "   GmWt_Desc2  Refuse_Pct  cluster  \n",
       "0         783         0.0        1  \n",
       "1         783         0.0        1  \n",
       "2         227         0.0        1  \n",
       "3         224         0.0        1  \n",
       "4         273         0.0        1  \n",
       "\n",
       "[5 rows x 54 columns]"
      ]
     },
     "execution_count": 172,
     "metadata": {},
     "output_type": "execute_result"
    }
   ],
   "source": [
    "foodDf['cluster'] = y_predict\n",
    "foodDf.head()"
   ]
  },
  {
   "cell_type": "code",
   "execution_count": 174,
   "metadata": {},
   "outputs": [
    {
     "data": {
      "text/plain": [
       "<matplotlib.legend.Legend at 0x24f75347070>"
      ]
     },
     "execution_count": 174,
     "metadata": {},
     "output_type": "execute_result"
    },
    {
     "data": {
      "image/png": "[encoded data removed]",
      "text/plain": [
       "<Figure size 576x396 with 1 Axes>"
      ]
     },
     "metadata": {},
     "output_type": "display_data"
    }
   ],
   "source": [
    "df1 = foodDf[foodDf.cluster==0]\n",
    "df2 = foodDf[foodDf.cluster==1]\n",
    "df3 = foodDf[foodDf.cluster==2]\n",
    "\n",
    "plt.scatter(df1['Shrt_Desc'], df1.Energ_Kcal, color='green')\n",
    "plt.scatter(df2['Shrt_Desc'], df2.Energ_Kcal, color='red')\n",
    "plt.scatter(df3['Shrt_Desc'], df3.Energ_Kcal, color='blue')\n",
    "\n",
    "plt.scatter(foodkm.cluster_centers_[:,0],foodkm.cluster_centers_[:,1],color='purple', marker='*', label='centroid', s=500)\n",
    "\n",
    "plt.xlabel('Food')\n",
    "plt.ylabel('Calories')\n",
    "plt.legend()"
   ]
  },
  {
   "cell_type": "code",
   "execution_count": 178,
   "metadata": {},
   "outputs": [],
   "source": [
    "foodDf2 = pd.read_excel('ABBREV.xlsx')"
   ]
  },
  {
   "cell_type": "code",
   "execution_count": 179,
   "metadata": {},
   "outputs": [
    {
     "data": {
      "text/html": [
       "<div>\n",
       "<style scoped>\n",
       "    .dataframe tbody tr th:only-of-type {\n",
       "        vertical-align: middle;\n",
       "    }\n",
       "\n",
       "    .dataframe tbody tr th {\n",
       "        vertical-align: top;\n",
       "    }\n",
       "\n",
       "    .dataframe thead th {\n",
       "        text-align: right;\n",
       "    }\n",
       "</style>\n",
       "<table border=\"1\" class=\"dataframe\">\n",
       "  <thead>\n",
       "    <tr style=\"text-align: right;\">\n",
       "      <th></th>\n",
       "      <th>NDB_No</th>\n",
       "      <th>Shrt_Desc</th>\n",
       "      <th>Water_(g)</th>\n",
       "      <th>Energ_Kcal</th>\n",
       "      <th>Protein_(g)</th>\n",
       "      <th>Lipid_Tot_(g)</th>\n",
       "      <th>Ash_(g)</th>\n",
       "      <th>Carbohydrt_(g)</th>\n",
       "      <th>Fiber_TD_(g)</th>\n",
       "      <th>Sugar_Tot_(g)</th>\n",
       "      <th>...</th>\n",
       "      <th>FA_Sat_(g)</th>\n",
       "      <th>FA_Mono_(g)</th>\n",
       "      <th>FA_Poly_(g)</th>\n",
       "      <th>Cholestrl_(mg)</th>\n",
       "      <th>GmWt_1</th>\n",
       "      <th>GmWt_Desc1</th>\n",
       "      <th>GmWt_2</th>\n",
       "      <th>GmWt_Desc2</th>\n",
       "      <th>Refuse_Pct</th>\n",
       "      <th>cluster</th>\n",
       "    </tr>\n",
       "  </thead>\n",
       "  <tbody>\n",
       "    <tr>\n",
       "      <th>0</th>\n",
       "      <td>1001</td>\n",
       "      <td>BUTTER,WITH SALT</td>\n",
       "      <td>15.87</td>\n",
       "      <td>717</td>\n",
       "      <td>0.85</td>\n",
       "      <td>81.11</td>\n",
       "      <td>2.11</td>\n",
       "      <td>0.06</td>\n",
       "      <td>0.0</td>\n",
       "      <td>0.06</td>\n",
       "      <td>...</td>\n",
       "      <td>51.368</td>\n",
       "      <td>21.021</td>\n",
       "      <td>3.043</td>\n",
       "      <td>215.0</td>\n",
       "      <td>5.00</td>\n",
       "      <td>1 pat,  (1\" sq, 1/3\" high)</td>\n",
       "      <td>14.2</td>\n",
       "      <td>1 tbsp</td>\n",
       "      <td>0.0</td>\n",
       "      <td>1</td>\n",
       "    </tr>\n",
       "    <tr>\n",
       "      <th>1</th>\n",
       "      <td>1002</td>\n",
       "      <td>BUTTER,WHIPPED,W/ SALT</td>\n",
       "      <td>16.72</td>\n",
       "      <td>718</td>\n",
       "      <td>0.49</td>\n",
       "      <td>78.30</td>\n",
       "      <td>1.62</td>\n",
       "      <td>2.87</td>\n",
       "      <td>0.0</td>\n",
       "      <td>0.06</td>\n",
       "      <td>...</td>\n",
       "      <td>45.390</td>\n",
       "      <td>19.874</td>\n",
       "      <td>3.331</td>\n",
       "      <td>225.0</td>\n",
       "      <td>3.80</td>\n",
       "      <td>1 pat,  (1\" sq, 1/3\" high)</td>\n",
       "      <td>9.4</td>\n",
       "      <td>1 tbsp</td>\n",
       "      <td>0.0</td>\n",
       "      <td>1</td>\n",
       "    </tr>\n",
       "    <tr>\n",
       "      <th>2</th>\n",
       "      <td>1003</td>\n",
       "      <td>BUTTER OIL,ANHYDROUS</td>\n",
       "      <td>0.24</td>\n",
       "      <td>876</td>\n",
       "      <td>0.28</td>\n",
       "      <td>99.48</td>\n",
       "      <td>0.00</td>\n",
       "      <td>0.00</td>\n",
       "      <td>0.0</td>\n",
       "      <td>0.00</td>\n",
       "      <td>...</td>\n",
       "      <td>61.924</td>\n",
       "      <td>28.732</td>\n",
       "      <td>3.694</td>\n",
       "      <td>256.0</td>\n",
       "      <td>12.80</td>\n",
       "      <td>1 tbsp</td>\n",
       "      <td>205.0</td>\n",
       "      <td>1 cup</td>\n",
       "      <td>0.0</td>\n",
       "      <td>1</td>\n",
       "    </tr>\n",
       "    <tr>\n",
       "      <th>3</th>\n",
       "      <td>1004</td>\n",
       "      <td>CHEESE,BLUE</td>\n",
       "      <td>42.41</td>\n",
       "      <td>353</td>\n",
       "      <td>21.40</td>\n",
       "      <td>28.74</td>\n",
       "      <td>5.11</td>\n",
       "      <td>2.34</td>\n",
       "      <td>0.0</td>\n",
       "      <td>0.50</td>\n",
       "      <td>...</td>\n",
       "      <td>18.669</td>\n",
       "      <td>7.778</td>\n",
       "      <td>0.800</td>\n",
       "      <td>75.0</td>\n",
       "      <td>28.35</td>\n",
       "      <td>1 oz</td>\n",
       "      <td>17.0</td>\n",
       "      <td>1 cubic inch</td>\n",
       "      <td>0.0</td>\n",
       "      <td>1</td>\n",
       "    </tr>\n",
       "    <tr>\n",
       "      <th>4</th>\n",
       "      <td>1005</td>\n",
       "      <td>CHEESE,BRICK</td>\n",
       "      <td>41.11</td>\n",
       "      <td>371</td>\n",
       "      <td>23.24</td>\n",
       "      <td>29.68</td>\n",
       "      <td>3.18</td>\n",
       "      <td>2.79</td>\n",
       "      <td>0.0</td>\n",
       "      <td>0.51</td>\n",
       "      <td>...</td>\n",
       "      <td>18.764</td>\n",
       "      <td>8.598</td>\n",
       "      <td>0.784</td>\n",
       "      <td>94.0</td>\n",
       "      <td>132.00</td>\n",
       "      <td>1 cup, diced</td>\n",
       "      <td>113.0</td>\n",
       "      <td>1 cup, shredded</td>\n",
       "      <td>0.0</td>\n",
       "      <td>1</td>\n",
       "    </tr>\n",
       "  </tbody>\n",
       "</table>\n",
       "<p>5 rows × 54 columns</p>\n",
       "</div>"
      ],
      "text/plain": [
       "   NDB_No               Shrt_Desc  Water_(g)  Energ_Kcal  Protein_(g)  \\\n",
       "0    1001        BUTTER,WITH SALT      15.87         717         0.85   \n",
       "1    1002  BUTTER,WHIPPED,W/ SALT      16.72         718         0.49   \n",
       "2    1003    BUTTER OIL,ANHYDROUS       0.24         876         0.28   \n",
       "3    1004             CHEESE,BLUE      42.41         353        21.40   \n",
       "4    1005            CHEESE,BRICK      41.11         371        23.24   \n",
       "\n",
       "   Lipid_Tot_(g)  Ash_(g)  Carbohydrt_(g)  Fiber_TD_(g)  Sugar_Tot_(g)  ...  \\\n",
       "0          81.11     2.11            0.06           0.0           0.06  ...   \n",
       "1          78.30     1.62            2.87           0.0           0.06  ...   \n",
       "2          99.48     0.00            0.00           0.0           0.00  ...   \n",
       "3          28.74     5.11            2.34           0.0           0.50  ...   \n",
       "4          29.68     3.18            2.79           0.0           0.51  ...   \n",
       "\n",
       "   FA_Sat_(g)  FA_Mono_(g)  FA_Poly_(g)  Cholestrl_(mg)  GmWt_1  \\\n",
       "0      51.368       21.021        3.043           215.0    5.00   \n",
       "1      45.390       19.874        3.331           225.0    3.80   \n",
       "2      61.924       28.732        3.694           256.0   12.80   \n",
       "3      18.669        7.778        0.800            75.0   28.35   \n",
       "4      18.764        8.598        0.784            94.0  132.00   \n",
       "\n",
       "                   GmWt_Desc1  GmWt_2       GmWt_Desc2  Refuse_Pct  cluster  \n",
       "0  1 pat,  (1\" sq, 1/3\" high)    14.2           1 tbsp         0.0        1  \n",
       "1  1 pat,  (1\" sq, 1/3\" high)     9.4           1 tbsp         0.0        1  \n",
       "2                      1 tbsp   205.0            1 cup         0.0        1  \n",
       "3                        1 oz    17.0     1 cubic inch         0.0        1  \n",
       "4                1 cup, diced   113.0  1 cup, shredded         0.0        1  \n",
       "\n",
       "[5 rows x 54 columns]"
      ]
     },
     "execution_count": 179,
     "metadata": {},
     "output_type": "execute_result"
    }
   ],
   "source": [
    "foodDfClusters = foodDf[['NDB_No', 'cluster']]\n",
    "merged = pd.merge(foodDf2, foodDfClusters)\n",
    "merged.head()"
   ]
  },
  {
   "cell_type": "markdown",
   "metadata": {},
   "source": [
    "# TNE7TH-120622F"
   ]
  },
  {
   "cell_type": "code",
   "execution_count": 2,
   "metadata": {},
   "outputs": [],
   "source": [
    "sampleDf = pd.read_csv('mergedDf.csv')"
   ]
  },
  {
   "cell_type": "code",
   "execution_count": 3,
   "metadata": {},
   "outputs": [
    {
     "data": {
      "text/html": [
       "<div>\n",
       "<style scoped>\n",
       "    .dataframe tbody tr th:only-of-type {\n",
       "        vertical-align: middle;\n",
       "    }\n",
       "\n",
       "    .dataframe tbody tr th {\n",
       "        vertical-align: top;\n",
       "    }\n",
       "\n",
       "    .dataframe thead th {\n",
       "        text-align: right;\n",
       "    }\n",
       "</style>\n",
       "<table border=\"1\" class=\"dataframe\">\n",
       "  <thead>\n",
       "    <tr style=\"text-align: right;\">\n",
       "      <th></th>\n",
       "      <th>Timestamp</th>\n",
       "      <th>Participant_ID</th>\n",
       "      <th>Gender</th>\n",
       "      <th>Nationality</th>\n",
       "      <th>Age</th>\n",
       "      <th>Food</th>\n",
       "      <th>Juice</th>\n",
       "      <th>Dessert</th>\n",
       "      <th>Pregnancies</th>\n",
       "      <th>Glucose</th>\n",
       "      <th>BloodPressure</th>\n",
       "      <th>SkinThickness</th>\n",
       "      <th>Insulin</th>\n",
       "      <th>BMI</th>\n",
       "      <th>DiabetesPedigreeFunction</th>\n",
       "      <th>Outcome</th>\n",
       "    </tr>\n",
       "  </thead>\n",
       "  <tbody>\n",
       "    <tr>\n",
       "      <th>0</th>\n",
       "      <td>2019/05/07 2:59:13 PM GMT+8</td>\n",
       "      <td>FPS001</td>\n",
       "      <td>Male</td>\n",
       "      <td>Indian</td>\n",
       "      <td>24</td>\n",
       "      <td>Traditional food</td>\n",
       "      <td>Fresh Juice</td>\n",
       "      <td>Maybe</td>\n",
       "      <td>0.0</td>\n",
       "      <td>0.0</td>\n",
       "      <td>0.0</td>\n",
       "      <td>0.0</td>\n",
       "      <td>0.0</td>\n",
       "      <td>0.0</td>\n",
       "      <td>0.0</td>\n",
       "      <td>0.0</td>\n",
       "    </tr>\n",
       "    <tr>\n",
       "      <th>1</th>\n",
       "      <td>2019/05/07 2:59:45 PM GMT+8</td>\n",
       "      <td>FPS002</td>\n",
       "      <td>Female</td>\n",
       "      <td>Indian</td>\n",
       "      <td>22</td>\n",
       "      <td>Western Food</td>\n",
       "      <td>Carbonated drinks</td>\n",
       "      <td>Yes</td>\n",
       "      <td>0.0</td>\n",
       "      <td>0.0</td>\n",
       "      <td>0.0</td>\n",
       "      <td>0.0</td>\n",
       "      <td>0.0</td>\n",
       "      <td>0.0</td>\n",
       "      <td>0.0</td>\n",
       "      <td>0.0</td>\n",
       "    </tr>\n",
       "    <tr>\n",
       "      <th>2</th>\n",
       "      <td>2019/05/07 3:00:05 PM GMT+8</td>\n",
       "      <td>FPS003</td>\n",
       "      <td>Male</td>\n",
       "      <td>Indian</td>\n",
       "      <td>31</td>\n",
       "      <td>Western Food</td>\n",
       "      <td>Fresh Juice</td>\n",
       "      <td>Maybe</td>\n",
       "      <td>0.0</td>\n",
       "      <td>0.0</td>\n",
       "      <td>0.0</td>\n",
       "      <td>0.0</td>\n",
       "      <td>0.0</td>\n",
       "      <td>0.0</td>\n",
       "      <td>0.0</td>\n",
       "      <td>0.0</td>\n",
       "    </tr>\n",
       "    <tr>\n",
       "      <th>3</th>\n",
       "      <td>2019/05/07 3:00:11 PM GMT+8</td>\n",
       "      <td>FPS004</td>\n",
       "      <td>Female</td>\n",
       "      <td>Indian</td>\n",
       "      <td>25</td>\n",
       "      <td>Traditional food</td>\n",
       "      <td>Fresh Juice</td>\n",
       "      <td>Maybe</td>\n",
       "      <td>0.0</td>\n",
       "      <td>0.0</td>\n",
       "      <td>0.0</td>\n",
       "      <td>0.0</td>\n",
       "      <td>0.0</td>\n",
       "      <td>0.0</td>\n",
       "      <td>0.0</td>\n",
       "      <td>0.0</td>\n",
       "    </tr>\n",
       "    <tr>\n",
       "      <th>4</th>\n",
       "      <td>2019/05/07 3:02:50 PM GMT+8</td>\n",
       "      <td>FPS005</td>\n",
       "      <td>Male</td>\n",
       "      <td>Indian</td>\n",
       "      <td>27</td>\n",
       "      <td>Traditional food</td>\n",
       "      <td>Fresh Juice</td>\n",
       "      <td>Maybe</td>\n",
       "      <td>0.0</td>\n",
       "      <td>0.0</td>\n",
       "      <td>0.0</td>\n",
       "      <td>0.0</td>\n",
       "      <td>0.0</td>\n",
       "      <td>0.0</td>\n",
       "      <td>0.0</td>\n",
       "      <td>0.0</td>\n",
       "    </tr>\n",
       "  </tbody>\n",
       "</table>\n",
       "</div>"
      ],
      "text/plain": [
       "                     Timestamp Participant_ID  Gender Nationality  Age  \\\n",
       "0  2019/05/07 2:59:13 PM GMT+8         FPS001    Male      Indian   24   \n",
       "1  2019/05/07 2:59:45 PM GMT+8         FPS002  Female      Indian   22   \n",
       "2  2019/05/07 3:00:05 PM GMT+8         FPS003    Male      Indian   31   \n",
       "3  2019/05/07 3:00:11 PM GMT+8         FPS004  Female      Indian   25   \n",
       "4  2019/05/07 3:02:50 PM GMT+8         FPS005    Male      Indian   27   \n",
       "\n",
       "               Food              Juice Dessert  Pregnancies  Glucose  \\\n",
       "0  Traditional food        Fresh Juice   Maybe          0.0      0.0   \n",
       "1      Western Food  Carbonated drinks     Yes          0.0      0.0   \n",
       "2      Western Food        Fresh Juice   Maybe          0.0      0.0   \n",
       "3  Traditional food        Fresh Juice   Maybe          0.0      0.0   \n",
       "4  Traditional food        Fresh Juice   Maybe          0.0      0.0   \n",
       "\n",
       "   BloodPressure  SkinThickness  Insulin  BMI  DiabetesPedigreeFunction  \\\n",
       "0            0.0            0.0      0.0  0.0                       0.0   \n",
       "1            0.0            0.0      0.0  0.0                       0.0   \n",
       "2            0.0            0.0      0.0  0.0                       0.0   \n",
       "3            0.0            0.0      0.0  0.0                       0.0   \n",
       "4            0.0            0.0      0.0  0.0                       0.0   \n",
       "\n",
       "   Outcome  \n",
       "0      0.0  \n",
       "1      0.0  \n",
       "2      0.0  \n",
       "3      0.0  \n",
       "4      0.0  "
      ]
     },
     "execution_count": 3,
     "metadata": {},
     "output_type": "execute_result"
    }
   ],
   "source": [
    "sampleDf.head()"
   ]
  },
  {
   "cell_type": "code",
   "execution_count": 273,
   "metadata": {},
   "outputs": [
    {
     "data": {
      "text/html": [
       "<div>\n",
       "<style scoped>\n",
       "    .dataframe tbody tr th:only-of-type {\n",
       "        vertical-align: middle;\n",
       "    }\n",
       "\n",
       "    .dataframe tbody tr th {\n",
       "        vertical-align: top;\n",
       "    }\n",
       "\n",
       "    .dataframe thead th {\n",
       "        text-align: right;\n",
       "    }\n",
       "</style>\n",
       "<table border=\"1\" class=\"dataframe\">\n",
       "  <thead>\n",
       "    <tr style=\"text-align: right;\">\n",
       "      <th></th>\n",
       "      <th>Timestamp</th>\n",
       "      <th>Participant_ID</th>\n",
       "      <th>Gender</th>\n",
       "      <th>Nationality</th>\n",
       "      <th>Age</th>\n",
       "      <th>Food</th>\n",
       "      <th>Juice</th>\n",
       "      <th>Dessert</th>\n",
       "      <th>Pregnancies</th>\n",
       "      <th>Glucose</th>\n",
       "      <th>BloodPressure</th>\n",
       "      <th>SkinThickness</th>\n",
       "      <th>Insulin</th>\n",
       "      <th>BMI</th>\n",
       "      <th>DiabetesPedigreeFunction</th>\n",
       "      <th>Outcome</th>\n",
       "    </tr>\n",
       "  </thead>\n",
       "  <tbody>\n",
       "    <tr>\n",
       "      <th>0</th>\n",
       "      <td>2019/05/07 2:59:13 PM GMT+8</td>\n",
       "      <td>1</td>\n",
       "      <td>2</td>\n",
       "      <td>4</td>\n",
       "      <td>24</td>\n",
       "      <td>1</td>\n",
       "      <td>2</td>\n",
       "      <td>1</td>\n",
       "      <td>0.0</td>\n",
       "      <td>0.0</td>\n",
       "      <td>0.0</td>\n",
       "      <td>0.0</td>\n",
       "      <td>0.0</td>\n",
       "      <td>0.0</td>\n",
       "      <td>0.0</td>\n",
       "      <td>0.0</td>\n",
       "    </tr>\n",
       "    <tr>\n",
       "      <th>1</th>\n",
       "      <td>2019/05/07 2:59:45 PM GMT+8</td>\n",
       "      <td>2</td>\n",
       "      <td>1</td>\n",
       "      <td>4</td>\n",
       "      <td>22</td>\n",
       "      <td>2</td>\n",
       "      <td>1</td>\n",
       "      <td>3</td>\n",
       "      <td>0.0</td>\n",
       "      <td>0.0</td>\n",
       "      <td>0.0</td>\n",
       "      <td>0.0</td>\n",
       "      <td>0.0</td>\n",
       "      <td>0.0</td>\n",
       "      <td>0.0</td>\n",
       "      <td>0.0</td>\n",
       "    </tr>\n",
       "    <tr>\n",
       "      <th>2</th>\n",
       "      <td>2019/05/07 3:00:05 PM GMT+8</td>\n",
       "      <td>3</td>\n",
       "      <td>2</td>\n",
       "      <td>4</td>\n",
       "      <td>31</td>\n",
       "      <td>2</td>\n",
       "      <td>2</td>\n",
       "      <td>1</td>\n",
       "      <td>0.0</td>\n",
       "      <td>0.0</td>\n",
       "      <td>0.0</td>\n",
       "      <td>0.0</td>\n",
       "      <td>0.0</td>\n",
       "      <td>0.0</td>\n",
       "      <td>0.0</td>\n",
       "      <td>0.0</td>\n",
       "    </tr>\n",
       "    <tr>\n",
       "      <th>3</th>\n",
       "      <td>2019/05/07 3:00:11 PM GMT+8</td>\n",
       "      <td>4</td>\n",
       "      <td>1</td>\n",
       "      <td>4</td>\n",
       "      <td>25</td>\n",
       "      <td>1</td>\n",
       "      <td>2</td>\n",
       "      <td>1</td>\n",
       "      <td>0.0</td>\n",
       "      <td>0.0</td>\n",
       "      <td>0.0</td>\n",
       "      <td>0.0</td>\n",
       "      <td>0.0</td>\n",
       "      <td>0.0</td>\n",
       "      <td>0.0</td>\n",
       "      <td>0.0</td>\n",
       "    </tr>\n",
       "    <tr>\n",
       "      <th>4</th>\n",
       "      <td>2019/05/07 3:02:50 PM GMT+8</td>\n",
       "      <td>5</td>\n",
       "      <td>2</td>\n",
       "      <td>4</td>\n",
       "      <td>27</td>\n",
       "      <td>1</td>\n",
       "      <td>2</td>\n",
       "      <td>1</td>\n",
       "      <td>0.0</td>\n",
       "      <td>0.0</td>\n",
       "      <td>0.0</td>\n",
       "      <td>0.0</td>\n",
       "      <td>0.0</td>\n",
       "      <td>0.0</td>\n",
       "      <td>0.0</td>\n",
       "      <td>0.0</td>\n",
       "    </tr>\n",
       "  </tbody>\n",
       "</table>\n",
       "</div>"
      ],
      "text/plain": [
       "                     Timestamp  Participant_ID  Gender  Nationality  Age  \\\n",
       "0  2019/05/07 2:59:13 PM GMT+8               1       2            4   24   \n",
       "1  2019/05/07 2:59:45 PM GMT+8               2       1            4   22   \n",
       "2  2019/05/07 3:00:05 PM GMT+8               3       2            4   31   \n",
       "3  2019/05/07 3:00:11 PM GMT+8               4       1            4   25   \n",
       "4  2019/05/07 3:02:50 PM GMT+8               5       2            4   27   \n",
       "\n",
       "   Food  Juice  Dessert  Pregnancies  Glucose  BloodPressure  SkinThickness  \\\n",
       "0     1      2        1          0.0      0.0            0.0            0.0   \n",
       "1     2      1        3          0.0      0.0            0.0            0.0   \n",
       "2     2      2        1          0.0      0.0            0.0            0.0   \n",
       "3     1      2        1          0.0      0.0            0.0            0.0   \n",
       "4     1      2        1          0.0      0.0            0.0            0.0   \n",
       "\n",
       "   Insulin  BMI  DiabetesPedigreeFunction  Outcome  \n",
       "0      0.0  0.0                       0.0      0.0  \n",
       "1      0.0  0.0                       0.0      0.0  \n",
       "2      0.0  0.0                       0.0      0.0  \n",
       "3      0.0  0.0                       0.0      0.0  \n",
       "4      0.0  0.0                       0.0      0.0  "
      ]
     },
     "execution_count": 273,
     "metadata": {},
     "output_type": "execute_result"
    }
   ],
   "source": [
    "#from string to integer \n",
    "le = LabelEncoder()\n",
    "sampleDf['Participant_ID'] = le.fit_transform(sampleDf['Participant_ID'])\n",
    "sampleDf['Gender'] = le.fit_transform(sampleDf['Gender'])\n",
    "sampleDf['Nationality'] = le.fit_transform(sampleDf['Nationality'])\n",
    "sampleDf['Food'] = le.fit_transform(sampleDf['Food'])\n",
    "sampleDf['Juice'] = le.fit_transform(sampleDf['Juice'])\n",
    "sampleDf['Dessert'] = le.fit_transform(sampleDf['Dessert'])\n",
    "sampleDf.head()"
   ]
  },
  {
   "cell_type": "code",
   "execution_count": 274,
   "metadata": {},
   "outputs": [
    {
     "data": {
      "text/plain": [
       "<matplotlib.collections.PathCollection at 0x24f76fe2b80>"
      ]
     },
     "execution_count": 274,
     "metadata": {},
     "output_type": "execute_result"
    },
    {
     "data": {
      "image/png": "[encoded data removed]",
      "text/plain": [
       "<Figure size 576x396 with 1 Axes>"
      ]
     },
     "metadata": {},
     "output_type": "display_data"
    }
   ],
   "source": [
    "plt.scatter(sampleDf['Age'],sampleDf['BloodPressure'])"
   ]
  },
  {
   "cell_type": "code",
   "execution_count": 275,
   "metadata": {},
   "outputs": [
    {
     "data": {
      "text/plain": [
       "Index(['Timestamp', 'Participant_ID', 'Gender', 'Nationality', 'Age', 'Food',\n",
       "       'Juice', 'Dessert', 'Pregnancies', 'Glucose', 'BloodPressure',\n",
       "       'SkinThickness', 'Insulin', 'BMI', 'DiabetesPedigreeFunction',\n",
       "       'Outcome'],\n",
       "      dtype='object')"
      ]
     },
     "execution_count": 275,
     "metadata": {},
     "output_type": "execute_result"
    }
   ],
   "source": [
    "sampleDf.columns"
   ]
  },
  {
   "cell_type": "code",
   "execution_count": 4,
   "metadata": {},
   "outputs": [],
   "source": [
    "feature = ['Gender', 'Age', 'Food', 'Juice', 'Dessert', 'Pregnancies', 'Glucose', 'BloodPressure',\n",
    "       'SkinThickness', 'Insulin', 'BMI']\n",
    "\n",
    "sampleNutrientsDf = sampleDf[feature] "
   ]
  },
  {
   "cell_type": "code",
   "execution_count": 5,
   "metadata": {},
   "outputs": [
    {
     "data": {
      "text/plain": [
       "Gender           0\n",
       "Age              0\n",
       "Food             0\n",
       "Juice            0\n",
       "Dessert          0\n",
       "Pregnancies      0\n",
       "Glucose          0\n",
       "BloodPressure    0\n",
       "SkinThickness    0\n",
       "Insulin          0\n",
       "BMI              0\n",
       "dtype: int64"
      ]
     },
     "execution_count": 5,
     "metadata": {},
     "output_type": "execute_result"
    }
   ],
   "source": [
    "sampleNutrientsDf = sampleNutrientsDf.fillna(0)\n",
    "sampleNutrientsDf.isnull().sum()"
   ]
  },
  {
   "cell_type": "code",
   "execution_count": 6,
   "metadata": {},
   "outputs": [
    {
     "data": {
      "text/plain": [
       "(1056, 11)"
      ]
     },
     "execution_count": 6,
     "metadata": {},
     "output_type": "execute_result"
    }
   ],
   "source": [
    "sampleNutrientsDf.shape"
   ]
  },
  {
   "cell_type": "code",
   "execution_count": 7,
   "metadata": {},
   "outputs": [
    {
     "data": {
      "text/html": [
       "<div>\n",
       "<style scoped>\n",
       "    .dataframe tbody tr th:only-of-type {\n",
       "        vertical-align: middle;\n",
       "    }\n",
       "\n",
       "    .dataframe tbody tr th {\n",
       "        vertical-align: top;\n",
       "    }\n",
       "\n",
       "    .dataframe thead th {\n",
       "        text-align: right;\n",
       "    }\n",
       "</style>\n",
       "<table border=\"1\" class=\"dataframe\">\n",
       "  <thead>\n",
       "    <tr style=\"text-align: right;\">\n",
       "      <th></th>\n",
       "      <th>Gender</th>\n",
       "      <th>Age</th>\n",
       "      <th>Food</th>\n",
       "      <th>Juice</th>\n",
       "      <th>Dessert</th>\n",
       "      <th>Pregnancies</th>\n",
       "      <th>Glucose</th>\n",
       "      <th>BloodPressure</th>\n",
       "      <th>SkinThickness</th>\n",
       "      <th>Insulin</th>\n",
       "      <th>BMI</th>\n",
       "    </tr>\n",
       "  </thead>\n",
       "  <tbody>\n",
       "    <tr>\n",
       "      <th>0</th>\n",
       "      <td>Male</td>\n",
       "      <td>24</td>\n",
       "      <td>Traditional food</td>\n",
       "      <td>Fresh Juice</td>\n",
       "      <td>Maybe</td>\n",
       "      <td>0.0</td>\n",
       "      <td>0.0</td>\n",
       "      <td>0.0</td>\n",
       "      <td>0.0</td>\n",
       "      <td>0.0</td>\n",
       "      <td>0.0</td>\n",
       "    </tr>\n",
       "    <tr>\n",
       "      <th>1</th>\n",
       "      <td>Female</td>\n",
       "      <td>22</td>\n",
       "      <td>Western Food</td>\n",
       "      <td>Carbonated drinks</td>\n",
       "      <td>Yes</td>\n",
       "      <td>0.0</td>\n",
       "      <td>0.0</td>\n",
       "      <td>0.0</td>\n",
       "      <td>0.0</td>\n",
       "      <td>0.0</td>\n",
       "      <td>0.0</td>\n",
       "    </tr>\n",
       "    <tr>\n",
       "      <th>2</th>\n",
       "      <td>Male</td>\n",
       "      <td>31</td>\n",
       "      <td>Western Food</td>\n",
       "      <td>Fresh Juice</td>\n",
       "      <td>Maybe</td>\n",
       "      <td>0.0</td>\n",
       "      <td>0.0</td>\n",
       "      <td>0.0</td>\n",
       "      <td>0.0</td>\n",
       "      <td>0.0</td>\n",
       "      <td>0.0</td>\n",
       "    </tr>\n",
       "    <tr>\n",
       "      <th>3</th>\n",
       "      <td>Female</td>\n",
       "      <td>25</td>\n",
       "      <td>Traditional food</td>\n",
       "      <td>Fresh Juice</td>\n",
       "      <td>Maybe</td>\n",
       "      <td>0.0</td>\n",
       "      <td>0.0</td>\n",
       "      <td>0.0</td>\n",
       "      <td>0.0</td>\n",
       "      <td>0.0</td>\n",
       "      <td>0.0</td>\n",
       "    </tr>\n",
       "    <tr>\n",
       "      <th>4</th>\n",
       "      <td>Male</td>\n",
       "      <td>27</td>\n",
       "      <td>Traditional food</td>\n",
       "      <td>Fresh Juice</td>\n",
       "      <td>Maybe</td>\n",
       "      <td>0.0</td>\n",
       "      <td>0.0</td>\n",
       "      <td>0.0</td>\n",
       "      <td>0.0</td>\n",
       "      <td>0.0</td>\n",
       "      <td>0.0</td>\n",
       "    </tr>\n",
       "  </tbody>\n",
       "</table>\n",
       "</div>"
      ],
      "text/plain": [
       "   Gender  Age              Food              Juice Dessert  Pregnancies  \\\n",
       "0    Male   24  Traditional food        Fresh Juice   Maybe          0.0   \n",
       "1  Female   22      Western Food  Carbonated drinks     Yes          0.0   \n",
       "2    Male   31      Western Food        Fresh Juice   Maybe          0.0   \n",
       "3  Female   25  Traditional food        Fresh Juice   Maybe          0.0   \n",
       "4    Male   27  Traditional food        Fresh Juice   Maybe          0.0   \n",
       "\n",
       "   Glucose  BloodPressure  SkinThickness  Insulin  BMI  \n",
       "0      0.0            0.0            0.0      0.0  0.0  \n",
       "1      0.0            0.0            0.0      0.0  0.0  \n",
       "2      0.0            0.0            0.0      0.0  0.0  \n",
       "3      0.0            0.0            0.0      0.0  0.0  \n",
       "4      0.0            0.0            0.0      0.0  0.0  "
      ]
     },
     "execution_count": 7,
     "metadata": {},
     "output_type": "execute_result"
    }
   ],
   "source": [
    "sampleNutrientsDf.head()"
   ]
  },
  {
   "cell_type": "code",
   "execution_count": 8,
   "metadata": {},
   "outputs": [],
   "source": [
    "X = sampleNutrientsDf"
   ]
  },
  {
   "cell_type": "markdown",
   "metadata": {},
   "source": [
    "**Algorithm**"
   ]
  },
  {
   "cell_type": "code",
   "execution_count": 9,
   "metadata": {},
   "outputs": [
    {
     "data": {
      "text/plain": [
       "<matplotlib.collections.PathCollection at 0x22b9217fc10>"
      ]
     },
     "execution_count": 9,
     "metadata": {},
     "output_type": "execute_result"
    },
    {
     "data": {
      "image/png": "[encoded data removed]",
      "text/plain": [
       "<Figure size 576x396 with 1 Axes>"
      ]
     },
     "metadata": {},
     "output_type": "display_data"
    }
   ],
   "source": [
    "plt.scatter(X['Age'], X['BloodPressure'], label=\"True position\")"
   ]
  },
  {
   "cell_type": "code",
   "execution_count": 10,
   "metadata": {},
   "outputs": [],
   "source": [
    "label_color_map = {0 : 'red',\n",
    "                    1 : 'blue',\n",
    "                    2 : 'cyan'}"
   ]
  },
  {
   "cell_type": "code",
   "execution_count": 11,
   "metadata": {},
   "outputs": [],
   "source": [
    "x = X['Age']\n",
    "y = X['BloodPressure']"
   ]
  },
  {
   "cell_type": "code",
   "execution_count": 12,
   "metadata": {},
   "outputs": [
    {
     "data": {
      "image/png": "[encoded data removed]",
      "text/plain": [
       "<Figure size 576x396 with 1 Axes>"
      ]
     },
     "metadata": {},
     "output_type": "display_data"
    },
    {
     "data": {
      "image/png": "[encoded data removed]",
      "text/plain": [
       "<Figure size 576x396 with 1 Axes>"
      ]
     },
     "metadata": {},
     "output_type": "display_data"
    },
    {
     "data": {
      "image/png": "[encoded data removed]",
      "text/plain": [
       "<Figure size 576x396 with 1 Axes>"
      ]
     },
     "metadata": {},
     "output_type": "display_data"
    },
    {
     "data": {
      "image/png": "[encoded data removed]",
      "text/plain": [
       "<Figure size 576x396 with 1 Axes>"
      ]
     },
     "metadata": {},
     "output_type": "display_data"
    },
    {
     "name": "stdout",
     "output_type": "stream",
     "text": [
      "Converged\n",
      "Epochs:  4\n"
     ]
    }
   ],
   "source": [
    "for i in range(1,16):\n",
    "    kmeanss = KMeans(3, n_init=i, max_iter=500)\n",
    "    kmeanss.fit_predict(X[['Age','BloodPressure']])\n",
    "    cluster_centres = kmeanss.cluster_centers_\n",
    "    y_kmeans = kmeanss.labels_\n",
    "\n",
    "    label_color = [label_color_map[l] for l in y_kmeans]\n",
    "\n",
    "    plt.scatter(x, y, alpha=0.8, c=label_color)\n",
    "\n",
    "    csx = cluster_centres[:,0]\n",
    "    csy = cluster_centres[:,1]\n",
    "\n",
    "    plt.scatter(csx, csy, marker='*', s=400, c='black')\n",
    "    plt.title('Iteration #%i' %i)\n",
    "    plt.ylabel('Age')\n",
    "    plt.xlabel('BloodPressure')\n",
    "    plt.show()\n",
    "\n",
    "    if i == kmeanss.n_iter_:\n",
    "        print('Converged')\n",
    "        break\n",
    "print('Epochs: ', kmeanss.n_iter_)"
   ]
  },
  {
   "cell_type": "code",
   "execution_count": 13,
   "metadata": {},
   "outputs": [
    {
     "data": {
      "text/plain": [
       "157683.67740392586"
      ]
     },
     "execution_count": 13,
     "metadata": {},
     "output_type": "execute_result"
    }
   ],
   "source": [
    "kmeanss.inertia_"
   ]
  },
  {
   "cell_type": "code",
   "execution_count": 14,
   "metadata": {},
   "outputs": [
    {
     "data": {
      "text/html": [
       "<div>\n",
       "<style scoped>\n",
       "    .dataframe tbody tr th:only-of-type {\n",
       "        vertical-align: middle;\n",
       "    }\n",
       "\n",
       "    .dataframe tbody tr th {\n",
       "        vertical-align: top;\n",
       "    }\n",
       "\n",
       "    .dataframe thead th {\n",
       "        text-align: right;\n",
       "    }\n",
       "</style>\n",
       "<table border=\"1\" class=\"dataframe\">\n",
       "  <thead>\n",
       "    <tr style=\"text-align: right;\">\n",
       "      <th></th>\n",
       "      <th>Gender</th>\n",
       "      <th>Age</th>\n",
       "      <th>Food</th>\n",
       "      <th>Juice</th>\n",
       "      <th>Dessert</th>\n",
       "      <th>Pregnancies</th>\n",
       "      <th>Glucose</th>\n",
       "      <th>BloodPressure</th>\n",
       "      <th>SkinThickness</th>\n",
       "      <th>Insulin</th>\n",
       "      <th>BMI</th>\n",
       "      <th>cluster</th>\n",
       "    </tr>\n",
       "  </thead>\n",
       "  <tbody>\n",
       "    <tr>\n",
       "      <th>0</th>\n",
       "      <td>Male</td>\n",
       "      <td>24</td>\n",
       "      <td>Traditional food</td>\n",
       "      <td>Fresh Juice</td>\n",
       "      <td>Maybe</td>\n",
       "      <td>0.0</td>\n",
       "      <td>0.0</td>\n",
       "      <td>0.0</td>\n",
       "      <td>0.0</td>\n",
       "      <td>0.0</td>\n",
       "      <td>0.0</td>\n",
       "      <td>1</td>\n",
       "    </tr>\n",
       "    <tr>\n",
       "      <th>1</th>\n",
       "      <td>Female</td>\n",
       "      <td>22</td>\n",
       "      <td>Western Food</td>\n",
       "      <td>Carbonated drinks</td>\n",
       "      <td>Yes</td>\n",
       "      <td>0.0</td>\n",
       "      <td>0.0</td>\n",
       "      <td>0.0</td>\n",
       "      <td>0.0</td>\n",
       "      <td>0.0</td>\n",
       "      <td>0.0</td>\n",
       "      <td>1</td>\n",
       "    </tr>\n",
       "    <tr>\n",
       "      <th>2</th>\n",
       "      <td>Male</td>\n",
       "      <td>31</td>\n",
       "      <td>Western Food</td>\n",
       "      <td>Fresh Juice</td>\n",
       "      <td>Maybe</td>\n",
       "      <td>0.0</td>\n",
       "      <td>0.0</td>\n",
       "      <td>0.0</td>\n",
       "      <td>0.0</td>\n",
       "      <td>0.0</td>\n",
       "      <td>0.0</td>\n",
       "      <td>1</td>\n",
       "    </tr>\n",
       "    <tr>\n",
       "      <th>3</th>\n",
       "      <td>Female</td>\n",
       "      <td>25</td>\n",
       "      <td>Traditional food</td>\n",
       "      <td>Fresh Juice</td>\n",
       "      <td>Maybe</td>\n",
       "      <td>0.0</td>\n",
       "      <td>0.0</td>\n",
       "      <td>0.0</td>\n",
       "      <td>0.0</td>\n",
       "      <td>0.0</td>\n",
       "      <td>0.0</td>\n",
       "      <td>1</td>\n",
       "    </tr>\n",
       "    <tr>\n",
       "      <th>4</th>\n",
       "      <td>Male</td>\n",
       "      <td>27</td>\n",
       "      <td>Traditional food</td>\n",
       "      <td>Fresh Juice</td>\n",
       "      <td>Maybe</td>\n",
       "      <td>0.0</td>\n",
       "      <td>0.0</td>\n",
       "      <td>0.0</td>\n",
       "      <td>0.0</td>\n",
       "      <td>0.0</td>\n",
       "      <td>0.0</td>\n",
       "      <td>1</td>\n",
       "    </tr>\n",
       "  </tbody>\n",
       "</table>\n",
       "</div>"
      ],
      "text/plain": [
       "   Gender  Age              Food              Juice Dessert  Pregnancies  \\\n",
       "0    Male   24  Traditional food        Fresh Juice   Maybe          0.0   \n",
       "1  Female   22      Western Food  Carbonated drinks     Yes          0.0   \n",
       "2    Male   31      Western Food        Fresh Juice   Maybe          0.0   \n",
       "3  Female   25  Traditional food        Fresh Juice   Maybe          0.0   \n",
       "4    Male   27  Traditional food        Fresh Juice   Maybe          0.0   \n",
       "\n",
       "   Glucose  BloodPressure  SkinThickness  Insulin  BMI  cluster  \n",
       "0      0.0            0.0            0.0      0.0  0.0        1  \n",
       "1      0.0            0.0            0.0      0.0  0.0        1  \n",
       "2      0.0            0.0            0.0      0.0  0.0        1  \n",
       "3      0.0            0.0            0.0      0.0  0.0        1  \n",
       "4      0.0            0.0            0.0      0.0  0.0        1  "
      ]
     },
     "execution_count": 14,
     "metadata": {},
     "output_type": "execute_result"
    }
   ],
   "source": [
    "sampleNutrientsDf['cluster'] = y_kmeans\n",
    "sampleNutrientsDf.head()"
   ]
  },
  {
   "cell_type": "code",
   "execution_count": 15,
   "metadata": {},
   "outputs": [
    {
     "name": "stdout",
     "output_type": "stream",
     "text": [
      "Cluster number 2 with a score of 0.7535977479871027\n",
      "Cluster number 3 with a score of 0.5488747493955349\n",
      "Cluster number 4 with a score of 0.5260456413504205\n",
      "Cluster number 5 with a score of 0.46218024623367676\n",
      "Cluster number 6 with a score of 0.43637675119670405\n"
     ]
    }
   ],
   "source": [
    "no_of_clusters = [2,3,4,5,6]\n",
    "for n_clusters in no_of_clusters:\n",
    "    cluster = KMeans(n_clusters = n_clusters)\n",
    "    cluster_labels = cluster.fit_predict(X[['Age','BloodPressure']])\n",
    "    silhouette_avg = silhouette_score(X[['Age','BloodPressure']], cluster_labels)\n",
    "\n",
    "    #print process\n",
    "    print(\"Cluster number\", n_clusters, \n",
    "          \"with a score of\", silhouette_avg)"
   ]
  },
  {
   "cell_type": "code",
   "execution_count": 18,
   "metadata": {},
   "outputs": [
    {
     "data": {
      "image/png": "[encoded data removed]",
      "text/plain": [
       "<Figure size 576x396 with 1 Axes>"
      ]
     },
     "metadata": {},
     "output_type": "display_data"
    },
    {
     "data": {
      "image/png": "[encoded data removed]",
      "text/plain": [
       "<Figure size 576x396 with 1 Axes>"
      ]
     },
     "metadata": {},
     "output_type": "display_data"
    },
    {
     "data": {
      "image/png": "[encoded data removed]",
      "text/plain": [
       "<Figure size 576x396 with 1 Axes>"
      ]
     },
     "metadata": {},
     "output_type": "display_data"
    },
    {
     "data": {
      "image/png": "[encoded data removed]",
      "text/plain": [
       "<Figure size 576x396 with 1 Axes>"
      ]
     },
     "metadata": {},
     "output_type": "display_data"
    },
    {
     "data": {
      "image/png": "[encoded data removed]",
      "text/plain": [
       "<Figure size 576x396 with 1 Axes>"
      ]
     },
     "metadata": {},
     "output_type": "display_data"
    }
   ],
   "source": [
    "for i in [2, 3, 4, 5, 6]:\n",
    "    kmeanss = KMeans(n_clusters=i)\n",
    "    visualizer = SilhouetteVisualizer(kmeanss, colors='yellowbrick')\n",
    "\n",
    "    visualizer.fit(X[['Age','BloodPressure']])      # Fit the data to the visualizer\n",
    "    visualizer.show()"
   ]
  },
  {
   "cell_type": "markdown",
   "metadata": {},
   "source": [
    "# Trial & Error 3"
   ]
  },
  {
   "cell_type": "code",
   "execution_count": 192,
   "metadata": {},
   "outputs": [
    {
     "data": {
      "text/html": [
       "<div>\n",
       "<style scoped>\n",
       "    .dataframe tbody tr th:only-of-type {\n",
       "        vertical-align: middle;\n",
       "    }\n",
       "\n",
       "    .dataframe tbody tr th {\n",
       "        vertical-align: top;\n",
       "    }\n",
       "\n",
       "    .dataframe thead th {\n",
       "        text-align: right;\n",
       "    }\n",
       "</style>\n",
       "<table border=\"1\" class=\"dataframe\">\n",
       "  <thead>\n",
       "    <tr style=\"text-align: right;\">\n",
       "      <th></th>\n",
       "      <th>Participant_ID</th>\n",
       "      <th>Gender</th>\n",
       "      <th>Nationality</th>\n",
       "      <th>Age</th>\n",
       "      <th>Food</th>\n",
       "      <th>Juice</th>\n",
       "      <th>Dessert</th>\n",
       "      <th>cluster</th>\n",
       "      <th>Pregnancies</th>\n",
       "      <th>Glucose</th>\n",
       "      <th>BloodPressure</th>\n",
       "      <th>SkinThickness</th>\n",
       "      <th>Insulin</th>\n",
       "      <th>BMI</th>\n",
       "      <th>DiabetesPedigreeFunction</th>\n",
       "      <th>Outcome</th>\n",
       "    </tr>\n",
       "  </thead>\n",
       "  <tbody>\n",
       "    <tr>\n",
       "      <th>0</th>\n",
       "      <td>1</td>\n",
       "      <td>0</td>\n",
       "      <td>3</td>\n",
       "      <td>22</td>\n",
       "      <td>1</td>\n",
       "      <td>0</td>\n",
       "      <td>2</td>\n",
       "      <td>0</td>\n",
       "      <td>3</td>\n",
       "      <td>123</td>\n",
       "      <td>100</td>\n",
       "      <td>35</td>\n",
       "      <td>240</td>\n",
       "      <td>57.3</td>\n",
       "      <td>0.880</td>\n",
       "      <td>0</td>\n",
       "    </tr>\n",
       "    <tr>\n",
       "      <th>1</th>\n",
       "      <td>11</td>\n",
       "      <td>0</td>\n",
       "      <td>3</td>\n",
       "      <td>22</td>\n",
       "      <td>0</td>\n",
       "      <td>1</td>\n",
       "      <td>2</td>\n",
       "      <td>0</td>\n",
       "      <td>3</td>\n",
       "      <td>123</td>\n",
       "      <td>100</td>\n",
       "      <td>35</td>\n",
       "      <td>240</td>\n",
       "      <td>57.3</td>\n",
       "      <td>0.880</td>\n",
       "      <td>0</td>\n",
       "    </tr>\n",
       "    <tr>\n",
       "      <th>2</th>\n",
       "      <td>12</td>\n",
       "      <td>0</td>\n",
       "      <td>5</td>\n",
       "      <td>22</td>\n",
       "      <td>0</td>\n",
       "      <td>1</td>\n",
       "      <td>0</td>\n",
       "      <td>0</td>\n",
       "      <td>3</td>\n",
       "      <td>123</td>\n",
       "      <td>100</td>\n",
       "      <td>35</td>\n",
       "      <td>240</td>\n",
       "      <td>57.3</td>\n",
       "      <td>0.880</td>\n",
       "      <td>0</td>\n",
       "    </tr>\n",
       "    <tr>\n",
       "      <th>3</th>\n",
       "      <td>17</td>\n",
       "      <td>1</td>\n",
       "      <td>11</td>\n",
       "      <td>22</td>\n",
       "      <td>0</td>\n",
       "      <td>1</td>\n",
       "      <td>1</td>\n",
       "      <td>0</td>\n",
       "      <td>3</td>\n",
       "      <td>123</td>\n",
       "      <td>100</td>\n",
       "      <td>35</td>\n",
       "      <td>240</td>\n",
       "      <td>57.3</td>\n",
       "      <td>0.880</td>\n",
       "      <td>0</td>\n",
       "    </tr>\n",
       "    <tr>\n",
       "      <th>4</th>\n",
       "      <td>23</td>\n",
       "      <td>1</td>\n",
       "      <td>14</td>\n",
       "      <td>22</td>\n",
       "      <td>1</td>\n",
       "      <td>1</td>\n",
       "      <td>2</td>\n",
       "      <td>0</td>\n",
       "      <td>3</td>\n",
       "      <td>123</td>\n",
       "      <td>100</td>\n",
       "      <td>35</td>\n",
       "      <td>240</td>\n",
       "      <td>57.3</td>\n",
       "      <td>0.880</td>\n",
       "      <td>0</td>\n",
       "    </tr>\n",
       "    <tr>\n",
       "      <th>5</th>\n",
       "      <td>50</td>\n",
       "      <td>0</td>\n",
       "      <td>3</td>\n",
       "      <td>22</td>\n",
       "      <td>0</td>\n",
       "      <td>1</td>\n",
       "      <td>0</td>\n",
       "      <td>0</td>\n",
       "      <td>3</td>\n",
       "      <td>123</td>\n",
       "      <td>100</td>\n",
       "      <td>35</td>\n",
       "      <td>240</td>\n",
       "      <td>57.3</td>\n",
       "      <td>0.880</td>\n",
       "      <td>0</td>\n",
       "    </tr>\n",
       "    <tr>\n",
       "      <th>6</th>\n",
       "      <td>93</td>\n",
       "      <td>1</td>\n",
       "      <td>5</td>\n",
       "      <td>22</td>\n",
       "      <td>0</td>\n",
       "      <td>1</td>\n",
       "      <td>0</td>\n",
       "      <td>0</td>\n",
       "      <td>3</td>\n",
       "      <td>123</td>\n",
       "      <td>100</td>\n",
       "      <td>35</td>\n",
       "      <td>240</td>\n",
       "      <td>57.3</td>\n",
       "      <td>0.880</td>\n",
       "      <td>0</td>\n",
       "    </tr>\n",
       "    <tr>\n",
       "      <th>7</th>\n",
       "      <td>108</td>\n",
       "      <td>1</td>\n",
       "      <td>3</td>\n",
       "      <td>22</td>\n",
       "      <td>1</td>\n",
       "      <td>0</td>\n",
       "      <td>2</td>\n",
       "      <td>0</td>\n",
       "      <td>3</td>\n",
       "      <td>123</td>\n",
       "      <td>100</td>\n",
       "      <td>35</td>\n",
       "      <td>240</td>\n",
       "      <td>57.3</td>\n",
       "      <td>0.880</td>\n",
       "      <td>0</td>\n",
       "    </tr>\n",
       "    <tr>\n",
       "      <th>8</th>\n",
       "      <td>242</td>\n",
       "      <td>0</td>\n",
       "      <td>3</td>\n",
       "      <td>22</td>\n",
       "      <td>1</td>\n",
       "      <td>1</td>\n",
       "      <td>0</td>\n",
       "      <td>0</td>\n",
       "      <td>3</td>\n",
       "      <td>123</td>\n",
       "      <td>100</td>\n",
       "      <td>35</td>\n",
       "      <td>240</td>\n",
       "      <td>57.3</td>\n",
       "      <td>0.880</td>\n",
       "      <td>0</td>\n",
       "    </tr>\n",
       "    <tr>\n",
       "      <th>9</th>\n",
       "      <td>273</td>\n",
       "      <td>0</td>\n",
       "      <td>3</td>\n",
       "      <td>22</td>\n",
       "      <td>0</td>\n",
       "      <td>1</td>\n",
       "      <td>0</td>\n",
       "      <td>0</td>\n",
       "      <td>3</td>\n",
       "      <td>123</td>\n",
       "      <td>100</td>\n",
       "      <td>35</td>\n",
       "      <td>240</td>\n",
       "      <td>57.3</td>\n",
       "      <td>0.880</td>\n",
       "      <td>0</td>\n",
       "    </tr>\n",
       "    <tr>\n",
       "      <th>10</th>\n",
       "      <td>2</td>\n",
       "      <td>1</td>\n",
       "      <td>3</td>\n",
       "      <td>31</td>\n",
       "      <td>1</td>\n",
       "      <td>1</td>\n",
       "      <td>0</td>\n",
       "      <td>1</td>\n",
       "      <td>1</td>\n",
       "      <td>85</td>\n",
       "      <td>66</td>\n",
       "      <td>29</td>\n",
       "      <td>0</td>\n",
       "      <td>26.6</td>\n",
       "      <td>0.351</td>\n",
       "      <td>0</td>\n",
       "    </tr>\n",
       "    <tr>\n",
       "      <th>11</th>\n",
       "      <td>2</td>\n",
       "      <td>1</td>\n",
       "      <td>3</td>\n",
       "      <td>31</td>\n",
       "      <td>1</td>\n",
       "      <td>1</td>\n",
       "      <td>0</td>\n",
       "      <td>1</td>\n",
       "      <td>7</td>\n",
       "      <td>107</td>\n",
       "      <td>74</td>\n",
       "      <td>0</td>\n",
       "      <td>0</td>\n",
       "      <td>29.6</td>\n",
       "      <td>0.254</td>\n",
       "      <td>1</td>\n",
       "    </tr>\n",
       "    <tr>\n",
       "      <th>12</th>\n",
       "      <td>2</td>\n",
       "      <td>1</td>\n",
       "      <td>3</td>\n",
       "      <td>31</td>\n",
       "      <td>1</td>\n",
       "      <td>1</td>\n",
       "      <td>0</td>\n",
       "      <td>1</td>\n",
       "      <td>7</td>\n",
       "      <td>103</td>\n",
       "      <td>66</td>\n",
       "      <td>32</td>\n",
       "      <td>0</td>\n",
       "      <td>39.1</td>\n",
       "      <td>0.344</td>\n",
       "      <td>1</td>\n",
       "    </tr>\n",
       "    <tr>\n",
       "      <th>13</th>\n",
       "      <td>2</td>\n",
       "      <td>1</td>\n",
       "      <td>3</td>\n",
       "      <td>31</td>\n",
       "      <td>1</td>\n",
       "      <td>1</td>\n",
       "      <td>0</td>\n",
       "      <td>1</td>\n",
       "      <td>2</td>\n",
       "      <td>125</td>\n",
       "      <td>60</td>\n",
       "      <td>20</td>\n",
       "      <td>140</td>\n",
       "      <td>33.8</td>\n",
       "      <td>0.088</td>\n",
       "      <td>0</td>\n",
       "    </tr>\n",
       "    <tr>\n",
       "      <th>14</th>\n",
       "      <td>2</td>\n",
       "      <td>1</td>\n",
       "      <td>3</td>\n",
       "      <td>31</td>\n",
       "      <td>1</td>\n",
       "      <td>1</td>\n",
       "      <td>0</td>\n",
       "      <td>1</td>\n",
       "      <td>8</td>\n",
       "      <td>109</td>\n",
       "      <td>76</td>\n",
       "      <td>39</td>\n",
       "      <td>114</td>\n",
       "      <td>27.9</td>\n",
       "      <td>0.640</td>\n",
       "      <td>1</td>\n",
       "    </tr>\n",
       "    <tr>\n",
       "      <th>15</th>\n",
       "      <td>2</td>\n",
       "      <td>1</td>\n",
       "      <td>3</td>\n",
       "      <td>31</td>\n",
       "      <td>1</td>\n",
       "      <td>1</td>\n",
       "      <td>0</td>\n",
       "      <td>1</td>\n",
       "      <td>4</td>\n",
       "      <td>197</td>\n",
       "      <td>70</td>\n",
       "      <td>39</td>\n",
       "      <td>744</td>\n",
       "      <td>36.7</td>\n",
       "      <td>2.329</td>\n",
       "      <td>0</td>\n",
       "    </tr>\n",
       "    <tr>\n",
       "      <th>16</th>\n",
       "      <td>2</td>\n",
       "      <td>1</td>\n",
       "      <td>3</td>\n",
       "      <td>31</td>\n",
       "      <td>1</td>\n",
       "      <td>1</td>\n",
       "      <td>0</td>\n",
       "      <td>1</td>\n",
       "      <td>2</td>\n",
       "      <td>128</td>\n",
       "      <td>78</td>\n",
       "      <td>37</td>\n",
       "      <td>182</td>\n",
       "      <td>43.3</td>\n",
       "      <td>1.224</td>\n",
       "      <td>1</td>\n",
       "    </tr>\n",
       "    <tr>\n",
       "      <th>17</th>\n",
       "      <td>2</td>\n",
       "      <td>1</td>\n",
       "      <td>3</td>\n",
       "      <td>31</td>\n",
       "      <td>1</td>\n",
       "      <td>1</td>\n",
       "      <td>0</td>\n",
       "      <td>1</td>\n",
       "      <td>4</td>\n",
       "      <td>129</td>\n",
       "      <td>60</td>\n",
       "      <td>12</td>\n",
       "      <td>231</td>\n",
       "      <td>27.5</td>\n",
       "      <td>0.527</td>\n",
       "      <td>0</td>\n",
       "    </tr>\n",
       "    <tr>\n",
       "      <th>18</th>\n",
       "      <td>2</td>\n",
       "      <td>1</td>\n",
       "      <td>3</td>\n",
       "      <td>31</td>\n",
       "      <td>1</td>\n",
       "      <td>1</td>\n",
       "      <td>0</td>\n",
       "      <td>1</td>\n",
       "      <td>4</td>\n",
       "      <td>158</td>\n",
       "      <td>78</td>\n",
       "      <td>0</td>\n",
       "      <td>0</td>\n",
       "      <td>32.9</td>\n",
       "      <td>0.803</td>\n",
       "      <td>1</td>\n",
       "    </tr>\n",
       "    <tr>\n",
       "      <th>19</th>\n",
       "      <td>2</td>\n",
       "      <td>1</td>\n",
       "      <td>3</td>\n",
       "      <td>31</td>\n",
       "      <td>1</td>\n",
       "      <td>1</td>\n",
       "      <td>0</td>\n",
       "      <td>1</td>\n",
       "      <td>4</td>\n",
       "      <td>95</td>\n",
       "      <td>64</td>\n",
       "      <td>0</td>\n",
       "      <td>0</td>\n",
       "      <td>32.0</td>\n",
       "      <td>0.161</td>\n",
       "      <td>1</td>\n",
       "    </tr>\n",
       "    <tr>\n",
       "      <th>20</th>\n",
       "      <td>2</td>\n",
       "      <td>1</td>\n",
       "      <td>3</td>\n",
       "      <td>31</td>\n",
       "      <td>1</td>\n",
       "      <td>1</td>\n",
       "      <td>0</td>\n",
       "      <td>1</td>\n",
       "      <td>4</td>\n",
       "      <td>184</td>\n",
       "      <td>78</td>\n",
       "      <td>39</td>\n",
       "      <td>277</td>\n",
       "      <td>37.0</td>\n",
       "      <td>0.264</td>\n",
       "      <td>1</td>\n",
       "    </tr>\n",
       "    <tr>\n",
       "      <th>21</th>\n",
       "      <td>2</td>\n",
       "      <td>1</td>\n",
       "      <td>3</td>\n",
       "      <td>31</td>\n",
       "      <td>1</td>\n",
       "      <td>1</td>\n",
       "      <td>0</td>\n",
       "      <td>1</td>\n",
       "      <td>7</td>\n",
       "      <td>114</td>\n",
       "      <td>76</td>\n",
       "      <td>17</td>\n",
       "      <td>110</td>\n",
       "      <td>23.8</td>\n",
       "      <td>0.466</td>\n",
       "      <td>0</td>\n",
       "    </tr>\n",
       "    <tr>\n",
       "      <th>22</th>\n",
       "      <td>2</td>\n",
       "      <td>1</td>\n",
       "      <td>3</td>\n",
       "      <td>31</td>\n",
       "      <td>1</td>\n",
       "      <td>1</td>\n",
       "      <td>0</td>\n",
       "      <td>1</td>\n",
       "      <td>0</td>\n",
       "      <td>111</td>\n",
       "      <td>65</td>\n",
       "      <td>0</td>\n",
       "      <td>0</td>\n",
       "      <td>24.6</td>\n",
       "      <td>0.660</td>\n",
       "      <td>0</td>\n",
       "    </tr>\n",
       "    <tr>\n",
       "      <th>23</th>\n",
       "      <td>2</td>\n",
       "      <td>1</td>\n",
       "      <td>3</td>\n",
       "      <td>31</td>\n",
       "      <td>1</td>\n",
       "      <td>1</td>\n",
       "      <td>0</td>\n",
       "      <td>1</td>\n",
       "      <td>10</td>\n",
       "      <td>92</td>\n",
       "      <td>62</td>\n",
       "      <td>0</td>\n",
       "      <td>0</td>\n",
       "      <td>25.9</td>\n",
       "      <td>0.167</td>\n",
       "      <td>0</td>\n",
       "    </tr>\n",
       "    <tr>\n",
       "      <th>24</th>\n",
       "      <td>2</td>\n",
       "      <td>1</td>\n",
       "      <td>3</td>\n",
       "      <td>31</td>\n",
       "      <td>1</td>\n",
       "      <td>1</td>\n",
       "      <td>0</td>\n",
       "      <td>1</td>\n",
       "      <td>6</td>\n",
       "      <td>195</td>\n",
       "      <td>70</td>\n",
       "      <td>0</td>\n",
       "      <td>0</td>\n",
       "      <td>30.9</td>\n",
       "      <td>0.328</td>\n",
       "      <td>1</td>\n",
       "    </tr>\n",
       "    <tr>\n",
       "      <th>25</th>\n",
       "      <td>2</td>\n",
       "      <td>1</td>\n",
       "      <td>3</td>\n",
       "      <td>31</td>\n",
       "      <td>1</td>\n",
       "      <td>1</td>\n",
       "      <td>0</td>\n",
       "      <td>1</td>\n",
       "      <td>3</td>\n",
       "      <td>169</td>\n",
       "      <td>74</td>\n",
       "      <td>19</td>\n",
       "      <td>125</td>\n",
       "      <td>29.9</td>\n",
       "      <td>0.268</td>\n",
       "      <td>1</td>\n",
       "    </tr>\n",
       "    <tr>\n",
       "      <th>26</th>\n",
       "      <td>2</td>\n",
       "      <td>1</td>\n",
       "      <td>3</td>\n",
       "      <td>31</td>\n",
       "      <td>1</td>\n",
       "      <td>1</td>\n",
       "      <td>0</td>\n",
       "      <td>1</td>\n",
       "      <td>3</td>\n",
       "      <td>173</td>\n",
       "      <td>78</td>\n",
       "      <td>39</td>\n",
       "      <td>185</td>\n",
       "      <td>33.8</td>\n",
       "      <td>0.970</td>\n",
       "      <td>1</td>\n",
       "    </tr>\n",
       "    <tr>\n",
       "      <th>27</th>\n",
       "      <td>19</td>\n",
       "      <td>0</td>\n",
       "      <td>3</td>\n",
       "      <td>31</td>\n",
       "      <td>0</td>\n",
       "      <td>1</td>\n",
       "      <td>0</td>\n",
       "      <td>1</td>\n",
       "      <td>1</td>\n",
       "      <td>85</td>\n",
       "      <td>66</td>\n",
       "      <td>29</td>\n",
       "      <td>0</td>\n",
       "      <td>26.6</td>\n",
       "      <td>0.351</td>\n",
       "      <td>0</td>\n",
       "    </tr>\n",
       "    <tr>\n",
       "      <th>28</th>\n",
       "      <td>19</td>\n",
       "      <td>0</td>\n",
       "      <td>3</td>\n",
       "      <td>31</td>\n",
       "      <td>0</td>\n",
       "      <td>1</td>\n",
       "      <td>0</td>\n",
       "      <td>1</td>\n",
       "      <td>7</td>\n",
       "      <td>107</td>\n",
       "      <td>74</td>\n",
       "      <td>0</td>\n",
       "      <td>0</td>\n",
       "      <td>29.6</td>\n",
       "      <td>0.254</td>\n",
       "      <td>1</td>\n",
       "    </tr>\n",
       "    <tr>\n",
       "      <th>29</th>\n",
       "      <td>19</td>\n",
       "      <td>0</td>\n",
       "      <td>3</td>\n",
       "      <td>31</td>\n",
       "      <td>0</td>\n",
       "      <td>1</td>\n",
       "      <td>0</td>\n",
       "      <td>1</td>\n",
       "      <td>7</td>\n",
       "      <td>103</td>\n",
       "      <td>66</td>\n",
       "      <td>32</td>\n",
       "      <td>0</td>\n",
       "      <td>39.1</td>\n",
       "      <td>0.344</td>\n",
       "      <td>1</td>\n",
       "    </tr>\n",
       "  </tbody>\n",
       "</table>\n",
       "</div>"
      ],
      "text/plain": [
       "    Participant_ID  Gender  Nationality  Age  Food  Juice  Dessert  cluster  \\\n",
       "0                1       0            3   22     1      0        2        0   \n",
       "1               11       0            3   22     0      1        2        0   \n",
       "2               12       0            5   22     0      1        0        0   \n",
       "3               17       1           11   22     0      1        1        0   \n",
       "4               23       1           14   22     1      1        2        0   \n",
       "5               50       0            3   22     0      1        0        0   \n",
       "6               93       1            5   22     0      1        0        0   \n",
       "7              108       1            3   22     1      0        2        0   \n",
       "8              242       0            3   22     1      1        0        0   \n",
       "9              273       0            3   22     0      1        0        0   \n",
       "10               2       1            3   31     1      1        0        1   \n",
       "11               2       1            3   31     1      1        0        1   \n",
       "12               2       1            3   31     1      1        0        1   \n",
       "13               2       1            3   31     1      1        0        1   \n",
       "14               2       1            3   31     1      1        0        1   \n",
       "15               2       1            3   31     1      1        0        1   \n",
       "16               2       1            3   31     1      1        0        1   \n",
       "17               2       1            3   31     1      1        0        1   \n",
       "18               2       1            3   31     1      1        0        1   \n",
       "19               2       1            3   31     1      1        0        1   \n",
       "20               2       1            3   31     1      1        0        1   \n",
       "21               2       1            3   31     1      1        0        1   \n",
       "22               2       1            3   31     1      1        0        1   \n",
       "23               2       1            3   31     1      1        0        1   \n",
       "24               2       1            3   31     1      1        0        1   \n",
       "25               2       1            3   31     1      1        0        1   \n",
       "26               2       1            3   31     1      1        0        1   \n",
       "27              19       0            3   31     0      1        0        1   \n",
       "28              19       0            3   31     0      1        0        1   \n",
       "29              19       0            3   31     0      1        0        1   \n",
       "\n",
       "    Pregnancies  Glucose  BloodPressure  SkinThickness  Insulin   BMI  \\\n",
       "0             3      123            100             35      240  57.3   \n",
       "1             3      123            100             35      240  57.3   \n",
       "2             3      123            100             35      240  57.3   \n",
       "3             3      123            100             35      240  57.3   \n",
       "4             3      123            100             35      240  57.3   \n",
       "5             3      123            100             35      240  57.3   \n",
       "6             3      123            100             35      240  57.3   \n",
       "7             3      123            100             35      240  57.3   \n",
       "8             3      123            100             35      240  57.3   \n",
       "9             3      123            100             35      240  57.3   \n",
       "10            1       85             66             29        0  26.6   \n",
       "11            7      107             74              0        0  29.6   \n",
       "12            7      103             66             32        0  39.1   \n",
       "13            2      125             60             20      140  33.8   \n",
       "14            8      109             76             39      114  27.9   \n",
       "15            4      197             70             39      744  36.7   \n",
       "16            2      128             78             37      182  43.3   \n",
       "17            4      129             60             12      231  27.5   \n",
       "18            4      158             78              0        0  32.9   \n",
       "19            4       95             64              0        0  32.0   \n",
       "20            4      184             78             39      277  37.0   \n",
       "21            7      114             76             17      110  23.8   \n",
       "22            0      111             65              0        0  24.6   \n",
       "23           10       92             62              0        0  25.9   \n",
       "24            6      195             70              0        0  30.9   \n",
       "25            3      169             74             19      125  29.9   \n",
       "26            3      173             78             39      185  33.8   \n",
       "27            1       85             66             29        0  26.6   \n",
       "28            7      107             74              0        0  29.6   \n",
       "29            7      103             66             32        0  39.1   \n",
       "\n",
       "    DiabetesPedigreeFunction  Outcome  \n",
       "0                      0.880        0  \n",
       "1                      0.880        0  \n",
       "2                      0.880        0  \n",
       "3                      0.880        0  \n",
       "4                      0.880        0  \n",
       "5                      0.880        0  \n",
       "6                      0.880        0  \n",
       "7                      0.880        0  \n",
       "8                      0.880        0  \n",
       "9                      0.880        0  \n",
       "10                     0.351        0  \n",
       "11                     0.254        1  \n",
       "12                     0.344        1  \n",
       "13                     0.088        0  \n",
       "14                     0.640        1  \n",
       "15                     2.329        0  \n",
       "16                     1.224        1  \n",
       "17                     0.527        0  \n",
       "18                     0.803        1  \n",
       "19                     0.161        1  \n",
       "20                     0.264        1  \n",
       "21                     0.466        0  \n",
       "22                     0.660        0  \n",
       "23                     0.167        0  \n",
       "24                     0.328        1  \n",
       "25                     0.268        1  \n",
       "26                     0.970        1  \n",
       "27                     0.351        0  \n",
       "28                     0.254        1  \n",
       "29                     0.344        1  "
      ]
     },
     "execution_count": 192,
     "metadata": {},
     "output_type": "execute_result"
    }
   ],
   "source": [
    "merged2 = pd.merge(sampleNutrientsDf,diabetesdf)\n",
    "merged2.head(30)"
   ]
  },
  {
   "cell_type": "code",
   "execution_count": 163,
   "metadata": {},
   "outputs": [
    {
     "name": "stderr",
     "output_type": "stream",
     "text": [
      "c:\\Users\\Mizzia Pontino\\anaconda3\\lib\\site-packages\\sklearn\\cluster\\_kmeans.py:1334: UserWarning: KMeans is known to have a memory leak on Windows with MKL, when there are less chunks than available threads. You can avoid it by setting the environment variable OMP_NUM_THREADS=2.\n",
      "  warnings.warn(\n",
      "c:\\Users\\Mizzia Pontino\\anaconda3\\lib\\site-packages\\sklearn\\cluster\\_kmeans.py:1334: UserWarning: KMeans is known to have a memory leak on Windows with MKL, when there are less chunks than available threads. You can avoid it by setting the environment variable OMP_NUM_THREADS=2.\n",
      "  warnings.warn(\n"
     ]
    },
    {
     "name": "stdout",
     "output_type": "stream",
     "text": [
      "You belong to cluster ' 1 '\n"
     ]
    }
   ],
   "source": [
    "class example_class:\n",
    "    example_df = sampleDf[['Gender','Age','Food','Juice','Dessert']]\n",
    "\n",
    "    age = int(input(\"Age: \"))\n",
    "    gender = input(\"Gender: \")\n",
    "    food = input(\"Food Category (e.g. Western Food, Traditional Food) \")\n",
    "    juice = input(\"Juice (e.g. Carbonated drinks, Fresh Juice) \")\n",
    "    dessert = input(\"Do you want dessert? (y/n)\")\n",
    "\n",
    "    #users_inputdf1 = [foodId,food_name,data1,data2,data3,data4,data5,data6]\n",
    "    users_inputex = [gender,age,food,juice,dessert]\n",
    "\n",
    "    example_df = example_df.append(pd.Series(users_inputex, \n",
    "    index=example_df.columns[:len(users_inputex)]), ignore_index=True)\n",
    "    #example_df.concat((example_df,users_inputex), axis=0)\n",
    "    \n",
    "    le = LabelEncoder()\n",
    "    example_df['Gender'] = le.fit_transform(example_df['Gender'])\n",
    "    example_df['Food'] = le.fit_transform(example_df['Food'])\n",
    "    example_df['Juice'] = le.fit_transform(example_df['Juice'])\n",
    "    example_df['Dessert'] = le.fit_transform(example_df['Dessert'])\n",
    "    \n",
    "    example_df = example_df.fillna(0)\n",
    "\n",
    "    ex = example_df\n",
    "\n",
    "    kmeans = KMeans(n_clusters=3)\n",
    "    kmeans.fit(ex)\n",
    "\n",
    "    y_predict = kmeans.fit_predict(ex)\n",
    "    example_df['cluster'] = y_predict\n",
    "\n",
    "    #source = example_df[example_df['NDB_No'] == foodId]\n",
    "    final_food_name = example_df.iloc[-1]['Age']\n",
    "    cluster = example_df.iloc[-1]['cluster']\n",
    "\n",
    "    print(\"You belong to cluster '\",cluster,\"'\")"
   ]
  },
  {
   "cell_type": "code",
   "execution_count": 164,
   "metadata": {},
   "outputs": [
    {
     "data": {
      "text/html": [
       "<div>\n",
       "<style scoped>\n",
       "    .dataframe tbody tr th:only-of-type {\n",
       "        vertical-align: middle;\n",
       "    }\n",
       "\n",
       "    .dataframe tbody tr th {\n",
       "        vertical-align: top;\n",
       "    }\n",
       "\n",
       "    .dataframe thead th {\n",
       "        text-align: right;\n",
       "    }\n",
       "</style>\n",
       "<table border=\"1\" class=\"dataframe\">\n",
       "  <thead>\n",
       "    <tr style=\"text-align: right;\">\n",
       "      <th></th>\n",
       "      <th>Gender</th>\n",
       "      <th>Age</th>\n",
       "      <th>Food</th>\n",
       "      <th>Juice</th>\n",
       "      <th>Dessert</th>\n",
       "      <th>cluster</th>\n",
       "    </tr>\n",
       "  </thead>\n",
       "  <tbody>\n",
       "    <tr>\n",
       "      <th>284</th>\n",
       "      <td>1</td>\n",
       "      <td>24</td>\n",
       "      <td>0</td>\n",
       "      <td>1</td>\n",
       "      <td>2</td>\n",
       "      <td>0</td>\n",
       "    </tr>\n",
       "    <tr>\n",
       "      <th>285</th>\n",
       "      <td>1</td>\n",
       "      <td>25</td>\n",
       "      <td>0</td>\n",
       "      <td>1</td>\n",
       "      <td>2</td>\n",
       "      <td>0</td>\n",
       "    </tr>\n",
       "    <tr>\n",
       "      <th>286</th>\n",
       "      <td>1</td>\n",
       "      <td>27</td>\n",
       "      <td>0</td>\n",
       "      <td>1</td>\n",
       "      <td>2</td>\n",
       "      <td>0</td>\n",
       "    </tr>\n",
       "    <tr>\n",
       "      <th>287</th>\n",
       "      <td>1</td>\n",
       "      <td>27</td>\n",
       "      <td>0</td>\n",
       "      <td>1</td>\n",
       "      <td>1</td>\n",
       "      <td>0</td>\n",
       "    </tr>\n",
       "    <tr>\n",
       "      <th>288</th>\n",
       "      <td>2</td>\n",
       "      <td>40</td>\n",
       "      <td>2</td>\n",
       "      <td>2</td>\n",
       "      <td>3</td>\n",
       "      <td>1</td>\n",
       "    </tr>\n",
       "  </tbody>\n",
       "</table>\n",
       "</div>"
      ],
      "text/plain": [
       "     Gender  Age  Food  Juice  Dessert  cluster\n",
       "284       1   24     0      1        2        0\n",
       "285       1   25     0      1        2        0\n",
       "286       1   27     0      1        2        0\n",
       "287       1   27     0      1        1        0\n",
       "288       2   40     2      2        3        1"
      ]
     },
     "execution_count": 164,
     "metadata": {},
     "output_type": "execute_result"
    }
   ],
   "source": [
    "example_class.example_df.tail()"
   ]
  },
  {
   "cell_type": "markdown",
   "metadata": {},
   "source": [
    "# Euccc"
   ]
  },
  {
   "cell_type": "code",
   "execution_count": 132,
   "metadata": {},
   "outputs": [
    {
     "data": {
      "text/html": [
       "<style>#sk-container-id-6 {color: black;background-color: white;}#sk-container-id-6 pre{padding: 0;}#sk-container-id-6 div.sk-toggleable {background-color: white;}#sk-container-id-6 label.sk-toggleable__label {cursor: pointer;display: block;width: 100%;margin-bottom: 0;padding: 0.3em;box-sizing: border-box;text-align: center;}#sk-container-id-6 label.sk-toggleable__label-arrow:before {content: \"▸\";float: left;margin-right: 0.25em;color: #696969;}#sk-container-id-6 label.sk-toggleable__label-arrow:hover:before {color: black;}#sk-container-id-6 div.sk-estimator:hover label.sk-toggleable__label-arrow:before {color: black;}#sk-container-id-6 div.sk-toggleable__content {max-height: 0;max-width: 0;overflow: hidden;text-align: left;background-color: #f0f8ff;}#sk-container-id-6 div.sk-toggleable__content pre {margin: 0.2em;color: black;border-radius: 0.25em;background-color: #f0f8ff;}#sk-container-id-6 input.sk-toggleable__control:checked~div.sk-toggleable__content {max-height: 200px;max-width: 100%;overflow: auto;}#sk-container-id-6 input.sk-toggleable__control:checked~label.sk-toggleable__label-arrow:before {content: \"▾\";}#sk-container-id-6 div.sk-estimator input.sk-toggleable__control:checked~label.sk-toggleable__label {background-color: #d4ebff;}#sk-container-id-6 div.sk-label input.sk-toggleable__control:checked~label.sk-toggleable__label {background-color: #d4ebff;}#sk-container-id-6 input.sk-hidden--visually {border: 0;clip: rect(1px 1px 1px 1px);clip: rect(1px, 1px, 1px, 1px);height: 1px;margin: -1px;overflow: hidden;padding: 0;position: absolute;width: 1px;}#sk-container-id-6 div.sk-estimator {font-family: monospace;background-color: #f0f8ff;border: 1px dotted black;border-radius: 0.25em;box-sizing: border-box;margin-bottom: 0.5em;}#sk-container-id-6 div.sk-estimator:hover {background-color: #d4ebff;}#sk-container-id-6 div.sk-parallel-item::after {content: \"\";width: 100%;border-bottom: 1px solid gray;flex-grow: 1;}#sk-container-id-6 div.sk-label:hover label.sk-toggleable__label {background-color: #d4ebff;}#sk-container-id-6 div.sk-serial::before {content: \"\";position: absolute;border-left: 1px solid gray;box-sizing: border-box;top: 0;bottom: 0;left: 50%;z-index: 0;}#sk-container-id-6 div.sk-serial {display: flex;flex-direction: column;align-items: center;background-color: white;padding-right: 0.2em;padding-left: 0.2em;position: relative;}#sk-container-id-6 div.sk-item {position: relative;z-index: 1;}#sk-container-id-6 div.sk-parallel {display: flex;align-items: stretch;justify-content: center;background-color: white;position: relative;}#sk-container-id-6 div.sk-item::before, #sk-container-id-6 div.sk-parallel-item::before {content: \"\";position: absolute;border-left: 1px solid gray;box-sizing: border-box;top: 0;bottom: 0;left: 50%;z-index: -1;}#sk-container-id-6 div.sk-parallel-item {display: flex;flex-direction: column;z-index: 1;position: relative;background-color: white;}#sk-container-id-6 div.sk-parallel-item:first-child::after {align-self: flex-end;width: 50%;}#sk-container-id-6 div.sk-parallel-item:last-child::after {align-self: flex-start;width: 50%;}#sk-container-id-6 div.sk-parallel-item:only-child::after {width: 0;}#sk-container-id-6 div.sk-dashed-wrapped {border: 1px dashed gray;margin: 0 0.4em 0.5em 0.4em;box-sizing: border-box;padding-bottom: 0.4em;background-color: white;}#sk-container-id-6 div.sk-label label {font-family: monospace;font-weight: bold;display: inline-block;line-height: 1.2em;}#sk-container-id-6 div.sk-label-container {text-align: center;}#sk-container-id-6 div.sk-container {/* jupyter's `normalize.less` sets `[hidden] { display: none; }` but bootstrap.min.css set `[hidden] { display: none !important; }` so we also need the `!important` here to be able to override the default hidden behavior on the sphinx rendered scikit-learn.org. See: https://github.com/scikit-learn/scikit-learn/issues/21755 */display: inline-block !important;position: relative;}#sk-container-id-6 div.sk-text-repr-fallback {display: none;}</style><div id=\"sk-container-id-6\" class=\"sk-top-container\"><div class=\"sk-text-repr-fallback\"><pre>KMeans(n_clusters=3)</pre><b>In a Jupyter environment, please rerun this cell to show the HTML representation or trust the notebook. <br />On GitHub, the HTML representation is unable to render, please try loading this page with nbviewer.org.</b></div><div class=\"sk-container\" hidden><div class=\"sk-item\"><div class=\"sk-estimator sk-toggleable\"><input class=\"sk-toggleable__control sk-hidden--visually\" id=\"sk-estimator-id-6\" type=\"checkbox\" checked><label for=\"sk-estimator-id-6\" class=\"sk-toggleable__label sk-toggleable__label-arrow\">KMeans</label><div class=\"sk-toggleable__content\"><pre>KMeans(n_clusters=3)</pre></div></div></div></div></div>"
      ],
      "text/plain": [
       "KMeans(n_clusters=3)"
      ]
     },
     "execution_count": 132,
     "metadata": {},
     "output_type": "execute_result"
    }
   ],
   "source": [
    "km = KMeans(n_clusters=3)\n",
    "km"
   ]
  },
  {
   "cell_type": "code",
   "execution_count": 133,
   "metadata": {},
   "outputs": [
    {
     "name": "stderr",
     "output_type": "stream",
     "text": [
      "c:\\Users\\Mizzia Pontino\\anaconda3\\lib\\site-packages\\sklearn\\cluster\\_kmeans.py:1334: UserWarning: KMeans is known to have a memory leak on Windows with MKL, when there are less chunks than available threads. You can avoid it by setting the environment variable OMP_NUM_THREADS=2.\n",
      "  warnings.warn(\n"
     ]
    },
    {
     "data": {
      "text/plain": [
       "array([0, 0, 2, 0, 0, 0, 2, 0, 0, 0, 0, 0, 0, 0, 0, 0, 0, 0, 2, 2, 0, 0,\n",
       "       0, 0, 0, 0, 2, 0, 2, 0, 0, 2, 0, 0, 0, 0, 0, 0, 0, 2, 0, 0, 0, 1,\n",
       "       0, 0, 0, 0, 0, 0, 0, 0, 0, 0, 0, 0, 0, 0, 2, 0, 0, 0, 1, 0, 0, 1,\n",
       "       0, 0, 0, 1, 0, 2, 0, 1, 2, 2, 2, 0, 2, 0, 0, 0, 0, 2, 0, 2, 2, 2,\n",
       "       0, 0, 1, 0, 2, 0, 0, 2, 2, 0, 0, 2, 0, 2, 0, 0, 0, 0, 0, 1, 0, 0,\n",
       "       0, 2, 1, 1, 0, 0, 2, 0, 0, 0, 0, 0, 0, 0, 1, 1, 0, 0, 2, 0, 2, 0,\n",
       "       2, 2, 0, 0, 0, 0, 1, 1, 1, 0, 2, 2, 2, 0, 0, 2, 2, 0, 0, 0, 0, 0,\n",
       "       0, 2, 2, 0, 0, 0, 0, 1, 0, 2, 2, 0, 0, 0, 0, 0, 2, 0, 0, 0, 0, 0,\n",
       "       0, 0, 2, 2, 0, 2, 2, 0, 2, 2, 0, 2, 2, 2, 1, 0, 2, 1, 2, 2, 2, 2,\n",
       "       1, 2, 2, 2, 1, 2, 0, 0, 0, 2, 2, 0, 2, 2, 2, 0, 0, 0, 0, 2, 2, 0,\n",
       "       2, 2, 2, 2, 2, 0, 2, 2, 1, 2, 2, 2, 0, 0, 2, 0, 0, 2, 2, 0, 0, 1,\n",
       "       0, 2, 2, 2, 2, 2, 2, 0, 0, 0, 0, 2, 0, 2, 2, 2, 2, 2, 2, 2, 0, 0,\n",
       "       0, 0, 0, 0, 0, 0, 0, 0, 0, 0, 0, 0, 0, 0, 0, 0, 0, 0, 0, 0, 0, 0,\n",
       "       0, 0])"
      ]
     },
     "execution_count": 133,
     "metadata": {},
     "output_type": "execute_result"
    }
   ],
   "source": [
    "y_predict = km.fit_predict(sampleDf[['Gender', 'Age']])\n",
    "y_predict"
   ]
  },
  {
   "cell_type": "code",
   "execution_count": 134,
   "metadata": {},
   "outputs": [
    {
     "data": {
      "text/html": [
       "<div>\n",
       "<style scoped>\n",
       "    .dataframe tbody tr th:only-of-type {\n",
       "        vertical-align: middle;\n",
       "    }\n",
       "\n",
       "    .dataframe tbody tr th {\n",
       "        vertical-align: top;\n",
       "    }\n",
       "\n",
       "    .dataframe thead th {\n",
       "        text-align: right;\n",
       "    }\n",
       "</style>\n",
       "<table border=\"1\" class=\"dataframe\">\n",
       "  <thead>\n",
       "    <tr style=\"text-align: right;\">\n",
       "      <th></th>\n",
       "      <th>Timestamp</th>\n",
       "      <th>Participant_ID</th>\n",
       "      <th>Gender</th>\n",
       "      <th>Nationality</th>\n",
       "      <th>Age</th>\n",
       "      <th>Food</th>\n",
       "      <th>Juice</th>\n",
       "      <th>Dessert</th>\n",
       "      <th>cluster</th>\n",
       "    </tr>\n",
       "  </thead>\n",
       "  <tbody>\n",
       "    <tr>\n",
       "      <th>0</th>\n",
       "      <td>2019/05/07 2:59:13 PM GMT+8</td>\n",
       "      <td>0</td>\n",
       "      <td>1</td>\n",
       "      <td>3</td>\n",
       "      <td>24</td>\n",
       "      <td>0</td>\n",
       "      <td>1</td>\n",
       "      <td>0</td>\n",
       "      <td>0</td>\n",
       "    </tr>\n",
       "    <tr>\n",
       "      <th>1</th>\n",
       "      <td>2019/05/07 2:59:45 PM GMT+8</td>\n",
       "      <td>1</td>\n",
       "      <td>0</td>\n",
       "      <td>3</td>\n",
       "      <td>22</td>\n",
       "      <td>1</td>\n",
       "      <td>0</td>\n",
       "      <td>2</td>\n",
       "      <td>0</td>\n",
       "    </tr>\n",
       "    <tr>\n",
       "      <th>2</th>\n",
       "      <td>2019/05/07 3:00:05 PM GMT+8</td>\n",
       "      <td>2</td>\n",
       "      <td>1</td>\n",
       "      <td>3</td>\n",
       "      <td>31</td>\n",
       "      <td>1</td>\n",
       "      <td>1</td>\n",
       "      <td>0</td>\n",
       "      <td>2</td>\n",
       "    </tr>\n",
       "    <tr>\n",
       "      <th>3</th>\n",
       "      <td>2019/05/07 3:00:11 PM GMT+8</td>\n",
       "      <td>3</td>\n",
       "      <td>0</td>\n",
       "      <td>3</td>\n",
       "      <td>25</td>\n",
       "      <td>0</td>\n",
       "      <td>1</td>\n",
       "      <td>0</td>\n",
       "      <td>0</td>\n",
       "    </tr>\n",
       "    <tr>\n",
       "      <th>4</th>\n",
       "      <td>2019/05/07 3:02:50 PM GMT+8</td>\n",
       "      <td>4</td>\n",
       "      <td>1</td>\n",
       "      <td>3</td>\n",
       "      <td>27</td>\n",
       "      <td>0</td>\n",
       "      <td>1</td>\n",
       "      <td>0</td>\n",
       "      <td>0</td>\n",
       "    </tr>\n",
       "  </tbody>\n",
       "</table>\n",
       "</div>"
      ],
      "text/plain": [
       "                     Timestamp  Participant_ID  Gender  Nationality  Age  \\\n",
       "0  2019/05/07 2:59:13 PM GMT+8               0       1            3   24   \n",
       "1  2019/05/07 2:59:45 PM GMT+8               1       0            3   22   \n",
       "2  2019/05/07 3:00:05 PM GMT+8               2       1            3   31   \n",
       "3  2019/05/07 3:00:11 PM GMT+8               3       0            3   25   \n",
       "4  2019/05/07 3:02:50 PM GMT+8               4       1            3   27   \n",
       "\n",
       "   Food  Juice  Dessert  cluster  \n",
       "0     0      1        0        0  \n",
       "1     1      0        2        0  \n",
       "2     1      1        0        2  \n",
       "3     0      1        0        0  \n",
       "4     0      1        0        0  "
      ]
     },
     "execution_count": 134,
     "metadata": {},
     "output_type": "execute_result"
    }
   ],
   "source": [
    "sampleDf['cluster'] = y_predict\n",
    "sampleDf.head()"
   ]
  },
  {
   "cell_type": "code",
   "execution_count": 135,
   "metadata": {},
   "outputs": [
    {
     "data": {
      "text/plain": [
       "<matplotlib.legend.Legend at 0x24f72a07610>"
      ]
     },
     "execution_count": 135,
     "metadata": {},
     "output_type": "execute_result"
    },
    {
     "data": {
      "image/png": "[encoded data removed]",
      "text/plain": [
       "<Figure size 576x396 with 1 Axes>"
      ]
     },
     "metadata": {},
     "output_type": "display_data"
    }
   ],
   "source": [
    "df1 = sampleDf[sampleDf.cluster==0]\n",
    "df2 = sampleDf[sampleDf.cluster==1]\n",
    "df3 = sampleDf[sampleDf.cluster==2]\n",
    "\n",
    "plt.scatter(df1['Gender'], df1.Age, color='green')\n",
    "plt.scatter(df2['Gender'], df2.Age, color='red')\n",
    "plt.scatter(df3['Gender'], df3.Age, color='blue')\n",
    "\n",
    "plt.scatter(km.cluster_centers_[:,0],km.cluster_centers_[:,1],color='purple', marker='*', label='centroid', s=500)\n",
    "\n",
    "plt.xlabel('Gender')\n",
    "plt.ylabel('Age')\n",
    "plt.legend()"
   ]
  },
  {
   "cell_type": "code",
   "execution_count": 139,
   "metadata": {},
   "outputs": [
    {
     "data": {
      "text/plain": [
       "array([[4.03942215, 3.01617992, 2.15454157],\n",
       "       [2.64927409, 4.76012705, 4.68117008],\n",
       "       [4.1276476 , 3.7238032 , 2.95427467],\n",
       "       [4.10194238, 2.31392077, 2.80739455],\n",
       "       [4.00259165, 2.89191815, 2.1205159 ],\n",
       "       [3.90393063, 3.07085587, 2.07766739],\n",
       "       [4.01215127, 2.21392397, 2.90430711],\n",
       "       [4.32595861, 6.61458696, 5.61020339],\n",
       "       [4.0677486 , 2.69381905, 2.82956049],\n",
       "       [4.25182041, 3.76000537, 3.51154093]])"
      ]
     },
     "execution_count": 139,
     "metadata": {},
     "output_type": "execute_result"
    }
   ],
   "source": [
    "dist = np.linalg.norm(X - cluster_centres[0,:], axis=1).reshape(-1,1)\n",
    "dist = np.append(dist,np.linalg.norm(X-cluster_centres[1,:], axis=1).reshape(-1,1), axis=1)\n",
    "dist = np.append(dist,np.linalg.norm(X-cluster_centres[2,:], axis=1).reshape(-1,1), axis=1)\n",
    "dist[:10,:]"
   ]
  },
  {
   "cell_type": "code",
   "execution_count": 135,
   "metadata": {},
   "outputs": [
    {
     "data": {
      "text/plain": [
       "array([2, 0, 2, 1, 2, 2, 1, 0, 1, 2, 2, 1, 1, 0, 2, 2, 2, 2, 1, 1, 0, 2,\n",
       "       2, 2, 2, 1, 2, 2, 2, 2, 0, 1, 2, 2, 2, 2, 2, 2, 2, 1, 2, 2, 2, 0,\n",
       "       0, 2, 2, 2, 2, 1, 1, 2, 2, 1, 1, 0, 1, 2, 2, 0, 1, 1, 0, 0, 0, 1,\n",
       "       1, 2, 0, 1, 1, 2, 1, 1, 0, 2, 1, 2, 2, 1, 1, 2, 1, 1, 2, 1, 1, 1,\n",
       "       1, 2, 1, 2, 1, 2, 1, 0, 0, 2, 0, 1, 1, 2, 2, 1, 1, 1, 1, 1, 0, 2,\n",
       "       2, 1, 1, 1, 2, 2, 1, 1, 1, 1, 1, 2, 1, 2, 0, 0, 2, 2, 1, 2, 1, 2,\n",
       "       1, 1, 1, 1, 0, 1, 1, 1, 1, 0, 1, 1, 2, 2, 1, 1, 1, 2, 2, 2, 2, 2,\n",
       "       0, 1, 1, 2, 0, 2, 2, 1, 1, 1, 2, 1, 1, 2, 1, 0, 2, 1, 0, 1, 1, 0,\n",
       "       2, 2, 1, 1, 1, 1, 1, 1, 1, 1, 1, 1, 1, 1, 1, 2, 1, 1, 2, 1, 1, 1,\n",
       "       1, 1, 1, 2, 1, 1, 1, 1, 1, 1, 1, 1, 1, 1, 1, 0, 1, 1, 1, 1, 1, 2,\n",
       "       1, 2, 1, 1, 2, 2, 1, 1, 1, 2, 2, 0, 1, 1, 1, 2, 1, 1, 1, 1, 2, 1,\n",
       "       1, 1, 1, 1, 1, 1, 1, 1, 1, 1, 1, 1, 1, 1, 1, 1, 1, 1, 1, 1, 2, 2,\n",
       "       2, 2, 2, 2, 2, 2, 0, 2, 2, 1, 2, 2, 0, 2, 0, 2, 2, 2, 2, 2, 2, 2,\n",
       "       2, 2], dtype=int64)"
      ]
     },
     "execution_count": 135,
     "metadata": {},
     "output_type": "execute_result"
    }
   ],
   "source": [
    "classes = np.argmin(dist,axis=1)\n",
    "classes"
   ]
  },
  {
   "cell_type": "code",
   "execution_count": 136,
   "metadata": {},
   "outputs": [
    {
     "data": {
      "text/plain": [
       "<matplotlib.collections.PathCollection at 0x1fba18cb2e0>"
      ]
     },
     "execution_count": 136,
     "metadata": {},
     "output_type": "execute_result"
    },
    {
     "data": {
      "image/png": "[encoded data removed]",
      "text/plain": [
       "<Figure size 576x396 with 1 Axes>"
      ]
     },
     "metadata": {},
     "output_type": "display_data"
    }
   ],
   "source": [
    "plt.scatter(X[classes == 0,3], X[classes == 0,0], s = 20, c='b')\n",
    "plt.scatter(X[classes == 1,3], X[classes == 1,0], s = 20, c='r')\n",
    "plt.scatter(X[classes == 2,3], X[classes == 2,0], s = 20, c='g')"
   ]
  },
  {
   "cell_type": "code",
   "execution_count": 137,
   "metadata": {},
   "outputs": [
    {
     "data": {
      "text/plain": [
       "array([[-0.36460491,  0.29171075,  0.35593038, -0.21636277,  0.69669086,\n",
       "        -2.82842712,  0.23792715],\n",
       "       [ 0.17166425, -0.77791016, -0.29296967,  0.40056774, -0.24572442,\n",
       "         0.35355339, -0.09539751],\n",
       "       [-0.13000577,  0.99601748,  0.30152064, -0.49309332,  0.13382085,\n",
       "         0.35355339,  0.06168747]])"
      ]
     },
     "execution_count": 137,
     "metadata": {},
     "output_type": "execute_result"
    }
   ],
   "source": [
    "for class_ in set(classes):\n",
    "    cluster_centres[class_,:] = np.mean(X[classes == class_, :], axis=0)\n",
    "cluster_centres"
   ]
  },
  {
   "cell_type": "code",
   "execution_count": 138,
   "metadata": {},
   "outputs": [
    {
     "data": {
      "text/plain": [
       "<matplotlib.collections.PathCollection at 0x1fba2ffbc40>"
      ]
     },
     "execution_count": 138,
     "metadata": {},
     "output_type": "execute_result"
    },
    {
     "data": {
      "image/png": "[encoded data removed]",
      "text/plain": [
       "<Figure size 576x396 with 1 Axes>"
      ]
     },
     "metadata": {},
     "output_type": "display_data"
    }
   ],
   "source": [
    "plt.scatter(X[classes == 0,3], X[classes == 0,0], s = 20, c='b')\n",
    "plt.scatter(X[classes == 1,3], X[classes == 1,0], s = 20, c='r')\n",
    "plt.scatter(X[classes == 2,3], X[classes == 2,0], s = 20, c='g')\n",
    "plt.scatter(cluster_centres[:,0],cluster_centres[:,1], s=400, c='k', marker='*')"
   ]
  },
  {
   "cell_type": "code",
   "execution_count": 140,
   "metadata": {},
   "outputs": [
    {
     "data": {
      "text/plain": [
       "<matplotlib.collections.PathCollection at 0x1fba2e5a790>"
      ]
     },
     "execution_count": 140,
     "metadata": {},
     "output_type": "execute_result"
    },
    {
     "data": {
      "image/png": "[encoded data removed]",
      "text/plain": [
       "<Figure size 576x396 with 1 Axes>"
      ]
     },
     "metadata": {},
     "output_type": "display_data"
    }
   ],
   "source": [
    "dist = np.linalg.norm(X - cluster_centres[0,:], axis=1).reshape(-1,1)\n",
    "dist = np.append(dist,np.linalg.norm(X-cluster_centres[1,:], axis=1).reshape(-1,1), axis=1)\n",
    "dist = np.append(dist,np.linalg.norm(X-cluster_centres[2,:], axis=1).reshape(-1,1), axis=1)\n",
    "classes = np.argmin(dist,axis=1)\n",
    "for class_ in set(classes):\n",
    "    cluster_centres[class_,:] = np.mean(X[classes == class_, :], axis=0)\n",
    "\n",
    "plt.scatter(X[classes == 0,3], X[classes == 0,0], s = 20, c='b')\n",
    "plt.scatter(X[classes == 1,3], X[classes == 1,0], s = 20, c='r')\n",
    "plt.scatter(X[classes == 2,3], X[classes == 2,0], s = 20, c='g')\n",
    "plt.scatter(cluster_centres[:,0],cluster_centres[:,1], s=400, c='k', marker='*')"
   ]
  },
  {
   "cell_type": "code",
   "execution_count": 86,
   "metadata": {},
   "outputs": [],
   "source": [
    "class exampleK:\n",
    "    def __init__(self,k):\n",
    "        self.k = k\n",
    "\n",
    "    def train(self,X,MAXITER = 500, TOL=1e-3):\n",
    "        centroids = np.random.rand(self.k,X.shape[1])\n",
    "        centroidsold = centroids.copy()\n",
    "        for iter_ in range(MAXITER):\n",
    "            dist = np.linalg.norm(X - centroids[0,:],axis=1).reshape(-1,1)\n",
    "            for class_ in range(1,self.k):\n",
    "                dist = np.append(dist,np.linalg.norm(X - centroids[class_,:],axis=1).reshape(-1,1),axis=1)\n",
    "            classes = np.argmin(dist,axis=1)\n",
    "            # update position\n",
    "            for class_ in set(classes):\n",
    "                centroids[class_,:] = np.mean(X[classes == class_,:],axis=0)\n",
    "            if np.linalg.norm(centroids - centroidsold) < TOL:\n",
    "                print('Centroid converged')\n",
    "                break\n",
    "        self.centroids = centroids\n",
    "    \n",
    "    def predict(self,X):\n",
    "        dist = np.linalg.norm(X - self.centroids[0,:],axis=1).reshape(-1,1)\n",
    "        for class_ in range(1,self.k):\n",
    "            dist = np.append(dist,np.linalg.norm(X - self.centroids[class_,:],axis=1).reshape(-1,1),axis=1)\n",
    "        classes = np.argmin(dist,axis=1)\n",
    "        return classes"
   ]
  },
  {
   "cell_type": "code",
   "execution_count": 94,
   "metadata": {},
   "outputs": [],
   "source": [
    "kmeans = exampleK(2)\n",
    "kmeans.train(X)"
   ]
  },
  {
   "cell_type": "code",
   "execution_count": 95,
   "metadata": {},
   "outputs": [
    {
     "data": {
      "text/plain": [
       "array([0, 0, 0, 1, 0, 0, 0, 0, 0, 0, 0, 0, 0, 0, 0, 0, 0, 0, 1, 1, 0, 0,\n",
       "       0, 0, 0, 0, 1, 0, 0, 0, 0, 0, 0, 0, 0, 0, 0, 0, 0, 1, 0, 0, 0, 0,\n",
       "       0, 0, 0, 0, 0, 0, 1, 0, 0, 0, 1, 0, 0, 0, 1, 0, 1, 1, 0, 0, 0, 1,\n",
       "       0, 0, 0, 1, 1, 0, 0, 1, 0, 0, 1, 0, 0, 1, 1, 0, 0, 1, 0, 1, 1, 1,\n",
       "       0, 0, 1, 0, 1, 0, 1, 0, 0, 0, 0, 1, 1, 0, 0, 0, 0, 0, 0, 1, 0, 0,\n",
       "       0, 1, 1, 1, 0, 0, 1, 1, 0, 1, 1, 0, 1, 0, 0, 0, 0, 0, 1, 0, 1, 0,\n",
       "       1, 1, 1, 1, 0, 1, 1, 1, 1, 0, 1, 1, 0, 0, 1, 1, 1, 0, 0, 0, 0, 0,\n",
       "       0, 1, 1, 0, 0, 0, 0, 1, 1, 1, 1, 1, 1, 0, 1, 0, 1, 1, 0, 1, 1, 0,\n",
       "       1, 0, 1, 1, 1, 1, 1, 1, 1, 1, 1, 1, 1, 1, 1, 0, 1, 1, 1, 1, 1, 1,\n",
       "       1, 1, 1, 0, 1, 1, 1, 1, 1, 1, 1, 1, 1, 1, 1, 0, 1, 1, 1, 1, 1, 0,\n",
       "       1, 1, 1, 1, 1, 0, 1, 1, 1, 1, 1, 0, 1, 1, 1, 0, 1, 1, 1, 1, 0, 1,\n",
       "       1, 1, 1, 1, 1, 1, 1, 1, 1, 1, 1, 1, 1, 1, 1, 1, 1, 1, 1, 1, 0, 1,\n",
       "       0, 0, 0, 1, 0, 1, 0, 1, 1, 1, 1, 1, 0, 0, 0, 1, 1, 1, 1, 0, 0, 0,\n",
       "       1, 1], dtype=int64)"
      ]
     },
     "execution_count": 95,
     "metadata": {},
     "output_type": "execute_result"
    }
   ],
   "source": [
    "classes = kmeans.predict(X)\n",
    "classes"
   ]
  },
  {
   "cell_type": "code",
   "execution_count": 96,
   "metadata": {},
   "outputs": [
    {
     "data": {
      "text/plain": [
       "<matplotlib.collections.PathCollection at 0x1d6928876d0>"
      ]
     },
     "execution_count": 96,
     "metadata": {},
     "output_type": "execute_result"
    },
    {
     "data": {
      "image/png": "[encoded data removed]",
      "text/plain": [
       "<Figure size 576x396 with 1 Axes>"
      ]
     },
     "metadata": {},
     "output_type": "display_data"
    }
   ],
   "source": [
    "for i in range(2):\n",
    "    plt.scatter(X[classes == i, 3], X[classes == i, 0], s = 20, cmap = 'rainbow')\n",
    "plt.scatter(kmeans.centroids[:,0],kmeans.centroids[:,1],s = 500, c = 'k',marker = '+')"
   ]
  },
  {
   "cell_type": "markdown",
   "metadata": {},
   "source": []
  },
  {
   "cell_type": "markdown",
   "metadata": {},
   "source": [
    "# Filtered Dataframe"
   ]
  },
  {
   "cell_type": "code",
   "execution_count": null,
   "metadata": {},
   "outputs": [],
   "source": [
    "df1 = pd.read_excel(\"ABBREV.xlsx\")"
   ]
  },
  {
   "cell_type": "code",
   "execution_count": null,
   "metadata": {},
   "outputs": [
    {
     "data": {
      "text/plain": [
       "(7940, 53)"
      ]
     },
     "metadata": {},
     "output_type": "display_data"
    }
   ],
   "source": [
    "class filtered:\n",
    "    df1 = df1.fillna(0)\n",
    "    df_sugar_filtered = df1[df1['Sugar_Tot_(g)'] <= 25]\n",
    "    df_sorted = df_sugar_filtered.sort_values('NDB_No', ascending=True)\n",
    "filtered.df_sorted.shape "
   ]
  },
  {
   "cell_type": "code",
   "execution_count": null,
   "metadata": {},
   "outputs": [
    {
     "data": {
      "text/plain": [
       "(236, 53)"
      ]
     },
     "metadata": {},
     "output_type": "display_data"
    }
   ],
   "source": [
    "class dairy:\n",
    "    df_dairy = filtered.df_sorted[filtered.df_sorted['NDB_No'] >= 1001]\n",
    "    df_dairy = df_dairy[df_dairy['NDB_No'] < 1307]\n",
    "dairy.df_dairy.shape"
   ]
  },
  {
   "cell_type": "code",
   "execution_count": null,
   "metadata": {},
   "outputs": [
    {
     "data": {
      "text/plain": [
       "(64, 53)"
      ]
     },
     "metadata": {},
     "output_type": "display_data"
    }
   ],
   "source": [
    "class spices_n_herbs:\n",
    "    df_snh = filtered.df_sorted[filtered.df_sorted['NDB_No'] >= 2000]\n",
    "    df_snh = df_snh[df_snh['NDB_No'] < 2077]\n",
    "spices_n_herbs.df_snh.shape"
   ]
  },
  {
   "cell_type": "code",
   "execution_count": null,
   "metadata": {},
   "outputs": [
    {
     "data": {
      "text/plain": [
       "(198, 53)"
      ]
     },
     "metadata": {},
     "output_type": "display_data"
    }
   ],
   "source": [
    "class baby_foods:\n",
    "    df_babyf = filtered.df_sorted[filtered.df_sorted['NDB_No'] >= 3000]\n",
    "    df_babyf = df_babyf[df_babyf['NDB_No'] < 3713]\n",
    "baby_foods.df_babyf.shape"
   ]
  },
  {
   "cell_type": "code",
   "execution_count": null,
   "metadata": {},
   "outputs": [
    {
     "data": {
      "text/plain": [
       "(79, 53)"
      ]
     },
     "metadata": {},
     "output_type": "display_data"
    }
   ],
   "source": [
    "class inff_formula:#for baby foods\n",
    "    df_inff = filtered.df_sorted[filtered.df_sorted['NDB_No'] >= 3800]\n",
    "    df_inff = df_inff[df_inff['NDB_No'] < 4000]\n",
    "inff_formula.df_inff.shape"
   ]
  },
  {
   "cell_type": "code",
   "execution_count": null,
   "metadata": {},
   "outputs": [
    {
     "data": {
      "text/plain": [
       "(188, 53)"
      ]
     },
     "metadata": {},
     "output_type": "display_data"
    }
   ],
   "source": [
    "class fats_and_oils:\n",
    "    df_fats = filtered.df_sorted[filtered.df_sorted['NDB_No'] >= 4000]\n",
    "    df_fats = df_fats[df_fats['NDB_No'] < 4710]\n",
    "fats_and_oils.df_fats.shape"
   ]
  },
  {
   "cell_type": "code",
   "execution_count": null,
   "metadata": {},
   "outputs": [
    {
     "data": {
      "text/plain": [
       "(382, 53)"
      ]
     },
     "metadata": {},
     "output_type": "display_data"
    }
   ],
   "source": [
    "class poultry_products:\n",
    "    df_poultry = filtered.df_sorted[filtered.df_sorted['NDB_No'] >= 5000]\n",
    "    df_poultry = df_poultry[df_poultry['NDB_No'] < 5750]\n",
    "poultry_products.df_poultry.shape"
   ]
  },
  {
   "cell_type": "code",
   "execution_count": null,
   "metadata": {},
   "outputs": [
    {
     "data": {
      "text/plain": [
       "(412, 53)"
      ]
     },
     "metadata": {},
     "output_type": "display_data"
    }
   ],
   "source": [
    "class soups_sauces_gravies1:\n",
    "    df_ssg = filtered.df_sorted[filtered.df_sorted['NDB_No'] >= 6000]\n",
    "    df_ssg = df_ssg[df_ssg['NDB_No'] < 7000]\n",
    "soups_sauces_gravies1.df_ssg.shape"
   ]
  },
  {
   "cell_type": "code",
   "execution_count": null,
   "metadata": {},
   "outputs": [
    {
     "data": {
      "text/plain": [
       "(155, 53)"
      ]
     },
     "metadata": {},
     "output_type": "display_data"
    }
   ],
   "source": [
    "class processed_meats:\n",
    "    df_meats = filtered.df_sorted[filtered.df_sorted['NDB_No'] >= 7000]\n",
    "    df_meats = df_meats[df_meats['NDB_No'] < 7980]\n",
    "processed_meats.df_meats.shape"
   ]
  },
  {
   "cell_type": "code",
   "execution_count": null,
   "metadata": {},
   "outputs": [
    {
     "data": {
      "text/plain": [
       "(213, 53)"
      ]
     },
     "metadata": {},
     "output_type": "display_data"
    }
   ],
   "source": [
    "class grains:\n",
    "    df_grains = filtered.df_sorted[filtered.df_sorted['NDB_No'] >= 8000]\n",
    "    df_grains = df_grains[df_grains['NDB_No'] < 8713]\n",
    "grains.df_grains.shape"
   ]
  },
  {
   "cell_type": "code",
   "execution_count": null,
   "metadata": {},
   "outputs": [
    {
     "data": {
      "text/plain": [
       "(324, 53)"
      ]
     },
     "metadata": {},
     "output_type": "display_data"
    }
   ],
   "source": [
    "class fruits:\n",
    "    df_fruits = filtered.df_sorted[filtered.df_sorted['NDB_No'] >= 9000]\n",
    "    df_fruits = df_fruits[df_fruits['NDB_No'] < 9532]\n",
    "fruits.df_fruits.shape"
   ]
  },
  {
   "cell_type": "code",
   "execution_count": null,
   "metadata": {},
   "outputs": [
    {
     "data": {
      "text/plain": [
       "(336, 53)"
      ]
     },
     "metadata": {},
     "output_type": "display_data"
    }
   ],
   "source": [
    "class red_meats:\n",
    "    df_red_meats = filtered.df_sorted[filtered.df_sorted['NDB_No'] >= 10000]\n",
    "    df_red_meats = df_red_meats[df_red_meats['NDB_No'] < 10999]\n",
    "red_meats.df_red_meats.shape"
   ]
  },
  {
   "cell_type": "code",
   "execution_count": null,
   "metadata": {},
   "outputs": [
    {
     "data": {
      "text/plain": [
       "(779, 53)"
      ]
     },
     "metadata": {},
     "output_type": "display_data"
    }
   ],
   "source": [
    "class vegetables:\n",
    "    df_vegetables = filtered.df_sorted[filtered.df_sorted['NDB_No'] >= 11000]\n",
    "    df_vegetables = df_vegetables[df_vegetables['NDB_No'] < 11999]\n",
    "vegetables.df_vegetables.shape"
   ]
  },
  {
   "cell_type": "code",
   "execution_count": null,
   "metadata": {},
   "outputs": [
    {
     "data": {
      "text/plain": [
       "(132, 53)"
      ]
     },
     "metadata": {},
     "output_type": "display_data"
    }
   ],
   "source": [
    "class nuts_n_seeds:\n",
    "    df_nutsnseeds = filtered.df_sorted[filtered.df_sorted['NDB_No'] >= 12000]\n",
    "    df_nutsnseeds = df_nutsnseeds[df_nutsnseeds['NDB_No'] < 12739]\n",
    "nuts_n_seeds.df_nutsnseeds.shape"
   ]
  },
  {
   "cell_type": "code",
   "execution_count": null,
   "metadata": {},
   "outputs": [
    {
     "data": {
      "text/plain": [
       "(380, 53)"
      ]
     },
     "metadata": {},
     "output_type": "display_data"
    }
   ],
   "source": [
    "13-13986\n",
    "class beef_products:\n",
    "    df_beef_prod = filtered.df_sorted[filtered.df_sorted['NDB_No'] >= 13000]\n",
    "    df_beef_prod = df_beef_prod[df_beef_prod['NDB_No'] < 13986]\n",
    "beef_products.df_beef_prod.shape"
   ]
  },
  {
   "cell_type": "code",
   "execution_count": null,
   "metadata": {},
   "outputs": [
    {
     "data": {
      "text/plain": [
       "(323, 53)"
      ]
     },
     "metadata": {},
     "output_type": "display_data"
    }
   ],
   "source": [
    "class beverages:\n",
    "    df_beverages = filtered.df_sorted[filtered.df_sorted['NDB_No'] >= 14000]\n",
    "    df_beverages = df_beverages[df_beverages['NDB_No'] < 14655]\n",
    "beverages.df_beverages.shape"
   ]
  },
  {
   "cell_type": "code",
   "execution_count": null,
   "metadata": {},
   "outputs": [
    {
     "data": {
      "text/plain": [
       "(259, 53)"
      ]
     },
     "metadata": {},
     "output_type": "display_data"
    }
   ],
   "source": [
    "class fish:\n",
    "    df_fish = filtered.df_sorted[filtered.df_sorted['NDB_No'] >= 15000]\n",
    "    df_fish = df_fish[df_fish['NDB_No'] < 15275]\n",
    "fish.df_fish.shape"
   ]
  },
  {
   "cell_type": "code",
   "execution_count": null,
   "metadata": {},
   "outputs": [
    {
     "data": {
      "text/plain": [
       "(356, 53)"
      ]
     },
     "metadata": {},
     "output_type": "display_data"
    }
   ],
   "source": [
    "class legumes:#and legume products\n",
    "    df_legumes = filtered.df_sorted[filtered.df_sorted['NDB_No'] >= 16000]\n",
    "    df_legumes = df_legumes[df_legumes['NDB_No'] < 16620]\n",
    "legumes.df_legumes.shape"
   ]
  },
  {
   "cell_type": "code",
   "execution_count": null,
   "metadata": {},
   "outputs": [
    {
     "data": {
      "text/plain": [
       "(464, 53)"
      ]
     },
     "metadata": {},
     "output_type": "display_data"
    }
   ],
   "source": [
    "class lamb_veal_game:#products\n",
    "    df_lamb_veal_game = filtered.df_sorted[filtered.df_sorted['NDB_No'] >= 17000]\n",
    "    df_lamb_veal_game = df_lamb_veal_game[df_lamb_veal_game['NDB_No'] < 17465]\n",
    "lamb_veal_game.df_lamb_veal_game.shape"
   ]
  },
  {
   "cell_type": "code",
   "execution_count": null,
   "metadata": {},
   "outputs": [
    {
     "data": {
      "text/plain": [
       "(370, 53)"
      ]
     },
     "metadata": {},
     "output_type": "display_data"
    }
   ],
   "source": [
    "class baked:#products\n",
    "    df_baked = filtered.df_sorted[filtered.df_sorted['NDB_No'] >= 18000]\n",
    "    df_baked = df_baked[df_baked['NDB_No'] < 19000]\n",
    "baked.df_baked.shape"
   ]
  },
  {
   "cell_type": "code",
   "execution_count": null,
   "metadata": {},
   "outputs": [
    {
     "data": {
      "text/plain": [
       "(223, 53)"
      ]
     },
     "metadata": {},
     "output_type": "display_data"
    }
   ],
   "source": [
    "class sweets:#products\n",
    "    df_sweets = filtered.df_sorted[filtered.df_sorted['NDB_No'] >= 19000]\n",
    "    df_sweets = df_sweets[df_sweets['NDB_No'] < 19925]\n",
    "sweets.df_sweets.shape"
   ]
  },
  {
   "cell_type": "code",
   "execution_count": null,
   "metadata": {},
   "outputs": [
    {
     "data": {
      "text/plain": [
       "(180, 53)"
      ]
     },
     "metadata": {},
     "output_type": "display_data"
    }
   ],
   "source": [
    "class whole_grain:#products\n",
    "    df_whole_grain = filtered.df_sorted[filtered.df_sorted['NDB_No'] >= 20000]\n",
    "    df_whole_grain = df_whole_grain[df_whole_grain['NDB_No'] < 20658]\n",
    "whole_grain.df_whole_grain.shape"
   ]
  },
  {
   "cell_type": "code",
   "execution_count": null,
   "metadata": {},
   "outputs": [
    {
     "data": {
      "text/plain": [
       "(356, 53)"
      ]
     },
     "metadata": {},
     "output_type": "display_data"
    }
   ],
   "source": [
    "class fast_foods:#products\n",
    "    df_fast_food = filtered.df_sorted[filtered.df_sorted['NDB_No'] >= 21000]\n",
    "    df_fast_food = df_fast_food[df_fast_food['NDB_No'] < 21612]\n",
    "fast_foods.df_fast_food.shape"
   ]
  },
  {
   "cell_type": "code",
   "execution_count": null,
   "metadata": {},
   "outputs": [
    {
     "data": {
      "text/plain": [
       "(685, 53)"
      ]
     },
     "metadata": {},
     "output_type": "display_data"
    }
   ],
   "source": [
    "class processed_foods:#products\n",
    "    df_processed_foods = filtered.df_sorted[filtered.df_sorted['NDB_No'] >= 22110]\n",
    "    df_processed_foods = df_processed_foods[df_processed_foods['NDB_No'] < 23661]\n",
    "processed_foods.df_processed_foods.shape"
   ]
  },
  {
   "cell_type": "code",
   "execution_count": null,
   "metadata": {},
   "outputs": [
    {
     "data": {
      "text/plain": [
       "(32, 53)"
      ]
     },
     "metadata": {},
     "output_type": "display_data"
    }
   ],
   "source": [
    "class snacks:#products\n",
    "    df_snacks = filtered.df_sorted[filtered.df_sorted['NDB_No'] >= 25000]\n",
    "    df_snacks = df_snacks[df_snacks['NDB_No'] < 25072]\n",
    "snacks.df_snacks.shape"
   ]
  },
  {
   "cell_type": "code",
   "execution_count": null,
   "metadata": {},
   "outputs": [
    {
     "data": {
      "text/plain": [
       "(46, 53)"
      ]
     },
     "metadata": {},
     "output_type": "display_data"
    }
   ],
   "source": [
    "class soups_sauces_gravies:#products\n",
    "    df_soupsaucegravy = filtered.df_sorted[filtered.df_sorted['NDB_No'] >= 27000]\n",
    "    df_soupsaucegravy = df_soupsaucegravy[df_soupsaucegravy['NDB_No'] < 27069]\n",
    "soups_sauces_gravies.df_soupsaucegravy.shape"
   ]
  },
  {
   "cell_type": "code",
   "execution_count": null,
   "metadata": {},
   "outputs": [
    {
     "data": {
      "text/plain": [
       "(221, 53)"
      ]
     },
     "metadata": {},
     "output_type": "display_data"
    }
   ],
   "source": [
    "class cookies:#products\n",
    "    df_cookies = filtered.df_sorted[filtered.df_sorted['NDB_No'] >= 28000]\n",
    "    df_cookies = df_cookies[df_cookies['NDB_No'] < 28400]\n",
    "cookies.df_cookies.shape"
   ]
  },
  {
   "cell_type": "code",
   "execution_count": null,
   "metadata": {},
   "outputs": [
    {
     "data": {
      "text/plain": [
       "(33, 53)"
      ]
     },
     "metadata": {},
     "output_type": "display_data"
    }
   ],
   "source": [
    "class vegetable:#products\n",
    "    df_vegprod = filtered.df_sorted[filtered.df_sorted['NDB_No'] >= 31000]\n",
    "    df_vegprod = df_vegprod[df_vegprod['NDB_No'] < 31037]\n",
    "vegetable.df_vegprod.shape"
   ]
  },
  {
   "cell_type": "code",
   "execution_count": null,
   "metadata": {},
   "outputs": [
    {
     "data": {
      "text/plain": [
       "(36, 53)"
      ]
     },
     "metadata": {},
     "output_type": "display_data"
    }
   ],
   "source": [
    "class starchy_food:#products\n",
    "    df_starchy = filtered.df_sorted[filtered.df_sorted['NDB_No'] >= 32000]\n",
    "    df_starchy = df_starchy[df_starchy['NDB_No'] < 32037]\n",
    "starchy_food.df_starchy.shape"
   ]
  },
  {
   "cell_type": "code",
   "execution_count": null,
   "metadata": {},
   "outputs": [
    {
     "data": {
      "text/plain": [
       "(7, 53)"
      ]
     },
     "metadata": {},
     "output_type": "display_data"
    }
   ],
   "source": [
    "class inf_formula:#inf stands for formerly infection formula\n",
    "    df_inf = filtered.df_sorted[filtered.df_sorted['NDB_No'] >= 33862]\n",
    "    df_inf = df_inf[df_inf['NDB_No'] < 33880]\n",
    "inf_formula.df_inf.shape"
   ]
  },
  {
   "cell_type": "code",
   "execution_count": null,
   "metadata": {},
   "outputs": [
    {
     "data": {
      "text/plain": [
       "(164, 53)"
      ]
     },
     "metadata": {},
     "output_type": "display_data"
    }
   ],
   "source": [
    "class aioranf:#aioranf stands for American Indian/Alaska Native Foods\n",
    "    df_aioranf = filtered.df_sorted[filtered.df_sorted['NDB_No'] >= 35000]\n",
    "    df_aioranf = df_aioranf[df_aioranf['NDB_No'] < 35241]\n",
    "aioranf.df_aioranf.shape"
   ]
  },
  {
   "cell_type": "code",
   "execution_count": null,
   "metadata": {},
   "outputs": [
    {
     "data": {
      "text/plain": [
       "(109, 53)"
      ]
     },
     "metadata": {},
     "output_type": "display_data"
    }
   ],
   "source": [
    "class restaurant:#foods\n",
    "    df_res = filtered.df_sorted[filtered.df_sorted['NDB_No'] >= 36000]\n",
    "    df_res = df_res[df_res['NDB_No'] < 36634]\n",
    "restaurant.df_res.shape"
   ]
  },
  {
   "cell_type": "code",
   "execution_count": null,
   "metadata": {},
   "outputs": [
    {
     "data": {
      "text/plain": [
       "(63, 53)"
      ]
     },
     "metadata": {},
     "output_type": "display_data"
    }
   ],
   "source": [
    "class sweets2:#foods\n",
    "    df_sweets2 = filtered.df_sorted[filtered.df_sorted['NDB_No'] >= 42040]\n",
    "    df_sweets2 = df_sweets2[df_sweets2['NDB_No'] < 42317]\n",
    "sweets2.df_sweets2.shape"
   ]
  },
  {
   "cell_type": "code",
   "execution_count": null,
   "metadata": {},
   "outputs": [
    {
     "data": {
      "text/plain": [
       "(121, 53)"
      ]
     },
     "metadata": {},
     "output_type": "display_data"
    }
   ],
   "source": [
    "class desserts:#foods\n",
    "    df_dessert = filtered.df_sorted[filtered.df_sorted['NDB_No'] >= 43000]\n",
    "    df_dessert = df_dessert[df_dessert['NDB_No'] < 43599]\n",
    "desserts.df_dessert.shape"
   ]
  },
  {
   "cell_type": "code",
   "execution_count": null,
   "metadata": {},
   "outputs": [
    {
     "data": {
      "text/plain": [
       "(8, 53)"
      ]
     },
     "metadata": {},
     "output_type": "display_data"
    }
   ],
   "source": [
    "class dietary_lipids:#foods\n",
    "    df_dlipids = filtered.df_sorted[filtered.df_sorted['NDB_No'] >= 44000]\n",
    "    df_dlipids = df_dlipids[df_dlipids['NDB_No'] < 44261]\n",
    "dietary_lipids.df_dlipids.shape"
   ]
  },
  {
   "cell_type": "code",
   "execution_count": null,
   "metadata": {},
   "outputs": [
    {
     "data": {
      "text/plain": [
       "(1, 53)"
      ]
     },
     "metadata": {},
     "output_type": "display_data"
    }
   ],
   "source": [
    "class hppbma:#high protein plant-based meal alternative\n",
    "    df_hppbma = filtered.df_sorted[filtered.df_sorted['NDB_No'] == 48052]\n",
    "hppbma.df_hppbma.shape"
   ]
  },
  {
   "cell_type": "markdown",
   "metadata": {},
   "source": [
    "# Trial & Error 1"
   ]
  },
  {
   "cell_type": "code",
   "execution_count": null,
   "metadata": {},
   "outputs": [],
   "source": [
    "pickle.dump(df1, open('example.pkl','wb'))"
   ]
  },
  {
   "cell_type": "code",
   "execution_count": null,
   "metadata": {},
   "outputs": [],
   "source": [
    "unpickled = pickle.load(open('example.pkl', 'rb'))"
   ]
  },
  {
   "cell_type": "code",
   "execution_count": null,
   "metadata": {},
   "outputs": [
    {
     "data": {
      "text/html": [
       "<div>\n",
       "<style scoped>\n",
       "    .dataframe tbody tr th:only-of-type {\n",
       "        vertical-align: middle;\n",
       "    }\n",
       "\n",
       "    .dataframe tbody tr th {\n",
       "        vertical-align: top;\n",
       "    }\n",
       "\n",
       "    .dataframe thead th {\n",
       "        text-align: right;\n",
       "    }\n",
       "</style>\n",
       "<table border=\"1\" class=\"dataframe\">\n",
       "  <thead>\n",
       "    <tr style=\"text-align: right;\">\n",
       "      <th></th>\n",
       "      <th>NDB_No</th>\n",
       "      <th>Shrt_Desc</th>\n",
       "      <th>Water_(g)</th>\n",
       "      <th>Energ_Kcal</th>\n",
       "      <th>Protein_(g)</th>\n",
       "      <th>Lipid_Tot_(g)</th>\n",
       "      <th>Ash_(g)</th>\n",
       "      <th>Carbohydrt_(g)</th>\n",
       "      <th>Fiber_TD_(g)</th>\n",
       "      <th>Sugar_Tot_(g)</th>\n",
       "      <th>...</th>\n",
       "      <th>Vit_K_(µg)</th>\n",
       "      <th>FA_Sat_(g)</th>\n",
       "      <th>FA_Mono_(g)</th>\n",
       "      <th>FA_Poly_(g)</th>\n",
       "      <th>Cholestrl_(mg)</th>\n",
       "      <th>GmWt_1</th>\n",
       "      <th>GmWt_Desc1</th>\n",
       "      <th>GmWt_2</th>\n",
       "      <th>GmWt_Desc2</th>\n",
       "      <th>Refuse_Pct</th>\n",
       "    </tr>\n",
       "  </thead>\n",
       "  <tbody>\n",
       "    <tr>\n",
       "      <th>2099</th>\n",
       "      <td>8692</td>\n",
       "      <td>CEREALS,QUAKER,OATMEAL,REAL MEDLEYS,PEACH ALMO...</td>\n",
       "      <td>8.10</td>\n",
       "      <td>387</td>\n",
       "      <td>10.10</td>\n",
       "      <td>9.84</td>\n",
       "      <td>3.35</td>\n",
       "      <td>68.61</td>\n",
       "      <td>7.4</td>\n",
       "      <td>24.85</td>\n",
       "      <td>...</td>\n",
       "      <td>NaN</td>\n",
       "      <td>1.114</td>\n",
       "      <td>5.242</td>\n",
       "      <td>2.641</td>\n",
       "      <td>0.0</td>\n",
       "      <td>75.0</td>\n",
       "      <td>1 package,  (1 NLEA serving)</td>\n",
       "      <td>NaN</td>\n",
       "      <td>NaN</td>\n",
       "      <td>0.0</td>\n",
       "    </tr>\n",
       "    <tr>\n",
       "      <th>1886</th>\n",
       "      <td>8206</td>\n",
       "      <td>CEREALS RTE,MALT-O-MEAL,COCO-ROOS</td>\n",
       "      <td>2.50</td>\n",
       "      <td>389</td>\n",
       "      <td>3.41</td>\n",
       "      <td>4.61</td>\n",
       "      <td>2.73</td>\n",
       "      <td>86.75</td>\n",
       "      <td>3.3</td>\n",
       "      <td>48.11</td>\n",
       "      <td>...</td>\n",
       "      <td>0.0</td>\n",
       "      <td>2.570</td>\n",
       "      <td>0.887</td>\n",
       "      <td>0.555</td>\n",
       "      <td>0.0</td>\n",
       "      <td>30.0</td>\n",
       "      <td>.75 cup,  (1 NLEA serving)</td>\n",
       "      <td>NaN</td>\n",
       "      <td>NaN</td>\n",
       "      <td>0.0</td>\n",
       "    </tr>\n",
       "    <tr>\n",
       "      <th>1791</th>\n",
       "      <td>8029</td>\n",
       "      <td>CEREALS RTE,POST BRAN FLAKES</td>\n",
       "      <td>3.40</td>\n",
       "      <td>328</td>\n",
       "      <td>9.90</td>\n",
       "      <td>2.10</td>\n",
       "      <td>4.10</td>\n",
       "      <td>80.50</td>\n",
       "      <td>18.3</td>\n",
       "      <td>18.60</td>\n",
       "      <td>...</td>\n",
       "      <td>1.4</td>\n",
       "      <td>0.400</td>\n",
       "      <td>0.300</td>\n",
       "      <td>1.200</td>\n",
       "      <td>0.0</td>\n",
       "      <td>30.0</td>\n",
       "      <td>.75 cup,  (1 NLEA serving)</td>\n",
       "      <td>NaN</td>\n",
       "      <td>NaN</td>\n",
       "      <td>0.0</td>\n",
       "    </tr>\n",
       "    <tr>\n",
       "      <th>1851</th>\n",
       "      <td>8128</td>\n",
       "      <td>CEREALS,OATS,INST,FORT,W/ CINN &amp; SPICE,DRY</td>\n",
       "      <td>6.92</td>\n",
       "      <td>369</td>\n",
       "      <td>9.53</td>\n",
       "      <td>4.84</td>\n",
       "      <td>2.63</td>\n",
       "      <td>76.08</td>\n",
       "      <td>8.0</td>\n",
       "      <td>25.33</td>\n",
       "      <td>...</td>\n",
       "      <td>1.9</td>\n",
       "      <td>0.768</td>\n",
       "      <td>1.487</td>\n",
       "      <td>1.696</td>\n",
       "      <td>0.0</td>\n",
       "      <td>45.0</td>\n",
       "      <td>1 packet</td>\n",
       "      <td>NaN</td>\n",
       "      <td>NaN</td>\n",
       "      <td>0.0</td>\n",
       "    </tr>\n",
       "    <tr>\n",
       "      <th>8607</th>\n",
       "      <td>42236</td>\n",
       "      <td>CEREALS RTE,FRSTD OAT CRL W/MARSHMALLOWS</td>\n",
       "      <td>2.80</td>\n",
       "      <td>400</td>\n",
       "      <td>7.10</td>\n",
       "      <td>3.33</td>\n",
       "      <td>2.27</td>\n",
       "      <td>84.70</td>\n",
       "      <td>4.3</td>\n",
       "      <td>36.13</td>\n",
       "      <td>...</td>\n",
       "      <td>1.4</td>\n",
       "      <td>0.620</td>\n",
       "      <td>1.100</td>\n",
       "      <td>1.280</td>\n",
       "      <td>0.0</td>\n",
       "      <td>30.0</td>\n",
       "      <td>.75 cup,  (1 NLEA serving)</td>\n",
       "      <td>NaN</td>\n",
       "      <td>NaN</td>\n",
       "      <td>0.0</td>\n",
       "    </tr>\n",
       "    <tr>\n",
       "      <th>...</th>\n",
       "      <td>...</td>\n",
       "      <td>...</td>\n",
       "      <td>...</td>\n",
       "      <td>...</td>\n",
       "      <td>...</td>\n",
       "      <td>...</td>\n",
       "      <td>...</td>\n",
       "      <td>...</td>\n",
       "      <td>...</td>\n",
       "      <td>...</td>\n",
       "      <td>...</td>\n",
       "      <td>...</td>\n",
       "      <td>...</td>\n",
       "      <td>...</td>\n",
       "      <td>...</td>\n",
       "      <td>...</td>\n",
       "      <td>...</td>\n",
       "      <td>...</td>\n",
       "      <td>...</td>\n",
       "      <td>...</td>\n",
       "      <td>...</td>\n",
       "    </tr>\n",
       "    <tr>\n",
       "      <th>2071</th>\n",
       "      <td>8662</td>\n",
       "      <td>CEREALS RTE,POST,HONEY BUNCHES OF OATS,W/ REAL...</td>\n",
       "      <td>2.90</td>\n",
       "      <td>399</td>\n",
       "      <td>6.70</td>\n",
       "      <td>4.90</td>\n",
       "      <td>2.20</td>\n",
       "      <td>83.30</td>\n",
       "      <td>5.4</td>\n",
       "      <td>24.00</td>\n",
       "      <td>...</td>\n",
       "      <td>NaN</td>\n",
       "      <td>0.600</td>\n",
       "      <td>2.500</td>\n",
       "      <td>1.500</td>\n",
       "      <td>0.0</td>\n",
       "      <td>31.0</td>\n",
       "      <td>.75 cup,  (1 NLEA serving)</td>\n",
       "      <td>NaN</td>\n",
       "      <td>NaN</td>\n",
       "      <td>0.0</td>\n",
       "    </tr>\n",
       "    <tr>\n",
       "      <th>2013</th>\n",
       "      <td>8574</td>\n",
       "      <td>CEREALS,CRM OF WHT,2 1/2 MIN CK,CKD W/H2O,STOV...</td>\n",
       "      <td>86.20</td>\n",
       "      <td>56</td>\n",
       "      <td>1.44</td>\n",
       "      <td>0.20</td>\n",
       "      <td>0.42</td>\n",
       "      <td>11.74</td>\n",
       "      <td>0.7</td>\n",
       "      <td>0.07</td>\n",
       "      <td>...</td>\n",
       "      <td>0.0</td>\n",
       "      <td>0.051</td>\n",
       "      <td>0.030</td>\n",
       "      <td>0.102</td>\n",
       "      <td>NaN</td>\n",
       "      <td>244.0</td>\n",
       "      <td>1 cup</td>\n",
       "      <td>NaN</td>\n",
       "      <td>NaN</td>\n",
       "      <td>0.0</td>\n",
       "    </tr>\n",
       "    <tr>\n",
       "      <th>1789</th>\n",
       "      <td>8025</td>\n",
       "      <td>CEREALS RTE,RALSTON CRISP RICE</td>\n",
       "      <td>3.62</td>\n",
       "      <td>394</td>\n",
       "      <td>6.69</td>\n",
       "      <td>1.26</td>\n",
       "      <td>2.22</td>\n",
       "      <td>86.22</td>\n",
       "      <td>0.7</td>\n",
       "      <td>12.12</td>\n",
       "      <td>...</td>\n",
       "      <td>0.0</td>\n",
       "      <td>0.360</td>\n",
       "      <td>0.243</td>\n",
       "      <td>0.293</td>\n",
       "      <td>0.0</td>\n",
       "      <td>33.0</td>\n",
       "      <td>1.25 cup,  (1 NLEA serving)</td>\n",
       "      <td>28.0</td>\n",
       "      <td>1 cup</td>\n",
       "      <td>0.0</td>\n",
       "    </tr>\n",
       "    <tr>\n",
       "      <th>2101</th>\n",
       "      <td>8694</td>\n",
       "      <td>CEREALS,QUAKER,INST OATMEAL,WEIGHT CONTROL,CINN</td>\n",
       "      <td>9.09</td>\n",
       "      <td>361</td>\n",
       "      <td>16.50</td>\n",
       "      <td>6.28</td>\n",
       "      <td>3.93</td>\n",
       "      <td>64.21</td>\n",
       "      <td>13.0</td>\n",
       "      <td>1.27</td>\n",
       "      <td>...</td>\n",
       "      <td>NaN</td>\n",
       "      <td>1.207</td>\n",
       "      <td>2.224</td>\n",
       "      <td>1.839</td>\n",
       "      <td>1.0</td>\n",
       "      <td>45.0</td>\n",
       "      <td>1 packet,  (1 NLEA serving)</td>\n",
       "      <td>NaN</td>\n",
       "      <td>NaN</td>\n",
       "      <td>0.0</td>\n",
       "    </tr>\n",
       "    <tr>\n",
       "      <th>1910</th>\n",
       "      <td>8263</td>\n",
       "      <td>CEREALS RTE,GENERAL MILLS,APPL CINN CHEERIOS</td>\n",
       "      <td>2.29</td>\n",
       "      <td>386</td>\n",
       "      <td>8.30</td>\n",
       "      <td>6.09</td>\n",
       "      <td>3.40</td>\n",
       "      <td>79.90</td>\n",
       "      <td>7.3</td>\n",
       "      <td>34.20</td>\n",
       "      <td>...</td>\n",
       "      <td>3.1</td>\n",
       "      <td>1.100</td>\n",
       "      <td>2.790</td>\n",
       "      <td>1.890</td>\n",
       "      <td>0.0</td>\n",
       "      <td>30.0</td>\n",
       "      <td>.75 cup,  (1 NLEA serving)</td>\n",
       "      <td>NaN</td>\n",
       "      <td>NaN</td>\n",
       "      <td>0.0</td>\n",
       "    </tr>\n",
       "  </tbody>\n",
       "</table>\n",
       "<p>197 rows × 53 columns</p>\n",
       "</div>"
      ],
      "text/plain": [
       "      NDB_No                                          Shrt_Desc  Water_(g)  \\\n",
       "2099    8692  CEREALS,QUAKER,OATMEAL,REAL MEDLEYS,PEACH ALMO...       8.10   \n",
       "1886    8206                  CEREALS RTE,MALT-O-MEAL,COCO-ROOS       2.50   \n",
       "1791    8029                       CEREALS RTE,POST BRAN FLAKES       3.40   \n",
       "1851    8128         CEREALS,OATS,INST,FORT,W/ CINN & SPICE,DRY       6.92   \n",
       "8607   42236           CEREALS RTE,FRSTD OAT CRL W/MARSHMALLOWS       2.80   \n",
       "...      ...                                                ...        ...   \n",
       "2071    8662  CEREALS RTE,POST,HONEY BUNCHES OF OATS,W/ REAL...       2.90   \n",
       "2013    8574  CEREALS,CRM OF WHT,2 1/2 MIN CK,CKD W/H2O,STOV...      86.20   \n",
       "1789    8025                     CEREALS RTE,RALSTON CRISP RICE       3.62   \n",
       "2101    8694    CEREALS,QUAKER,INST OATMEAL,WEIGHT CONTROL,CINN       9.09   \n",
       "1910    8263       CEREALS RTE,GENERAL MILLS,APPL CINN CHEERIOS       2.29   \n",
       "\n",
       "      Energ_Kcal  Protein_(g)  Lipid_Tot_(g)  Ash_(g)  Carbohydrt_(g)  \\\n",
       "2099         387        10.10           9.84     3.35           68.61   \n",
       "1886         389         3.41           4.61     2.73           86.75   \n",
       "1791         328         9.90           2.10     4.10           80.50   \n",
       "1851         369         9.53           4.84     2.63           76.08   \n",
       "8607         400         7.10           3.33     2.27           84.70   \n",
       "...          ...          ...            ...      ...             ...   \n",
       "2071         399         6.70           4.90     2.20           83.30   \n",
       "2013          56         1.44           0.20     0.42           11.74   \n",
       "1789         394         6.69           1.26     2.22           86.22   \n",
       "2101         361        16.50           6.28     3.93           64.21   \n",
       "1910         386         8.30           6.09     3.40           79.90   \n",
       "\n",
       "      Fiber_TD_(g)  Sugar_Tot_(g)  ...  Vit_K_(µg)  FA_Sat_(g)  FA_Mono_(g)  \\\n",
       "2099           7.4          24.85  ...         NaN       1.114        5.242   \n",
       "1886           3.3          48.11  ...         0.0       2.570        0.887   \n",
       "1791          18.3          18.60  ...         1.4       0.400        0.300   \n",
       "1851           8.0          25.33  ...         1.9       0.768        1.487   \n",
       "8607           4.3          36.13  ...         1.4       0.620        1.100   \n",
       "...            ...            ...  ...         ...         ...          ...   \n",
       "2071           5.4          24.00  ...         NaN       0.600        2.500   \n",
       "2013           0.7           0.07  ...         0.0       0.051        0.030   \n",
       "1789           0.7          12.12  ...         0.0       0.360        0.243   \n",
       "2101          13.0           1.27  ...         NaN       1.207        2.224   \n",
       "1910           7.3          34.20  ...         3.1       1.100        2.790   \n",
       "\n",
       "      FA_Poly_(g)  Cholestrl_(mg)  GmWt_1                    GmWt_Desc1  \\\n",
       "2099        2.641             0.0    75.0  1 package,  (1 NLEA serving)   \n",
       "1886        0.555             0.0    30.0    .75 cup,  (1 NLEA serving)   \n",
       "1791        1.200             0.0    30.0    .75 cup,  (1 NLEA serving)   \n",
       "1851        1.696             0.0    45.0                      1 packet   \n",
       "8607        1.280             0.0    30.0    .75 cup,  (1 NLEA serving)   \n",
       "...           ...             ...     ...                           ...   \n",
       "2071        1.500             0.0    31.0    .75 cup,  (1 NLEA serving)   \n",
       "2013        0.102             NaN   244.0                         1 cup   \n",
       "1789        0.293             0.0    33.0   1.25 cup,  (1 NLEA serving)   \n",
       "2101        1.839             1.0    45.0   1 packet,  (1 NLEA serving)   \n",
       "1910        1.890             0.0    30.0    .75 cup,  (1 NLEA serving)   \n",
       "\n",
       "      GmWt_2  GmWt_Desc2  Refuse_Pct  \n",
       "2099     NaN         NaN         0.0  \n",
       "1886     NaN         NaN         0.0  \n",
       "1791     NaN         NaN         0.0  \n",
       "1851     NaN         NaN         0.0  \n",
       "8607     NaN         NaN         0.0  \n",
       "...      ...         ...         ...  \n",
       "2071     NaN         NaN         0.0  \n",
       "2013     NaN         NaN         0.0  \n",
       "1789    28.0       1 cup         0.0  \n",
       "2101     NaN         NaN         0.0  \n",
       "1910     NaN         NaN         0.0  \n",
       "\n",
       "[197 rows x 53 columns]"
      ]
     },
     "execution_count": 28,
     "metadata": {},
     "output_type": "execute_result"
    }
   ],
   "source": [
    "ex = unpickled[unpickled['Shrt_Desc'].str.contains('cereal', case=False)]\n",
    "ex"
   ]
  },
  {
   "cell_type": "markdown",
   "metadata": {},
   "source": [
    "# Trial & Error 2"
   ]
  },
  {
   "cell_type": "code",
   "execution_count": null,
   "metadata": {},
   "outputs": [],
   "source": [
    "#Let's say this is the user's input in our super-admin page\n",
    "x0 = 'Champorado'\n",
    "x01 = '8790'\n",
    "x1 = '4.56'\n",
    "x2 = '394'\n",
    "x3 = '10.99'\n",
    "x4 = '6.36'\n",
    "x5 = '4.60'\n",
    "x6 = '73.48'"
   ]
  },
  {
   "cell_type": "code",
   "execution_count": null,
   "metadata": {},
   "outputs": [],
   "source": [
    "#Let's limit only our columns first since our input conists of 6 only\n",
    "example_df = df1[['NDB_No','Water_(g)',\n",
    "'Energ_Kcal','Protein_(g)','Lipid_Tot_(g)',\n",
    "'Ash_(g)','Carbohydrt_(g)']]\n",
    "example_df.tail()\n",
    "#our input will be added in our dataframe inside of these \n",
    "# columns presented below"
   ]
  },
  {
   "cell_type": "code",
   "execution_count": null,
   "metadata": {},
   "outputs": [],
   "source": [
    "#we will now add our input to the dataframe\n",
    "new = ['0',x1,x2,x3,x4,x5,x6]\n",
    "new2 = ['0',x0,x1,x2,x3,x4,x5,x6]\n",
    "\n",
    "df1 = df1.append(pd.Series(new2, index=df1.columns[:len(new2)]), ignore_index=True)\n",
    "example_df = example_df.append(pd.Series(new, index=example_df.columns[:len(new)]), ignore_index=True)\n",
    "#our input is now added to our original dataframe and to what dataframe we are using\n",
    "#you might be wondering about 2 variables and 2 appends, \n",
    "# df1 is our original DF and example_df is what we are currently using\n",
    "#we added the input in our original DF because what we just want \n",
    "# to see here is what cluster will this food be included\n",
    "print(example_df.shape)\n",
    "print(df1.shape)"
   ]
  },
  {
   "cell_type": "code",
   "execution_count": null,
   "metadata": {},
   "outputs": [],
   "source": [
    "example_df = example_df.fillna(0) \n",
    "#we will all the NaN or null values inside our \n",
    "#dataframe if the input consists of null data it will now be 0\n",
    "example_df.isnull().sum() \n",
    "#check if there is still NaN in our DF"
   ]
  },
  {
   "cell_type": "code",
   "execution_count": null,
   "metadata": {},
   "outputs": [],
   "source": [
    "ex = StandardScaler().fit_transform(example_df)\n",
    "ex"
   ]
  },
  {
   "cell_type": "code",
   "execution_count": null,
   "metadata": {},
   "outputs": [],
   "source": [
    "kmeans = KMeans(n_clusters=4) \n",
    "\n",
    "# fit kmeans object to data\n",
    "kmeans.fit(ex)"
   ]
  },
  {
   "cell_type": "code",
   "execution_count": null,
   "metadata": {},
   "outputs": [],
   "source": [
    "y_predicted = kmeans.fit_predict(example_df)\n",
    "print(y_predicted)"
   ]
  },
  {
   "cell_type": "code",
   "execution_count": null,
   "metadata": {},
   "outputs": [],
   "source": [
    "example_df['cluster']=y_predicted\n",
    "example_df.head()"
   ]
  },
  {
   "cell_type": "code",
   "execution_count": null,
   "metadata": {},
   "outputs": [],
   "source": [
    "#merge here\n",
    "example_df = example_df[['NDB_No','cluster']]\n",
    "example_df = pd.merge(df1, example_df)\n",
    "example_df.tail()"
   ]
  },
  {
   "cell_type": "markdown",
   "metadata": {},
   "source": [
    "# Trial & Error 5"
   ]
  },
  {
   "cell_type": "code",
   "execution_count": 180,
   "metadata": {},
   "outputs": [],
   "source": [
    "pickle.dump(merged, open('clustered_food.pkl','wb'))"
   ]
  },
  {
   "cell_type": "code",
   "execution_count": 181,
   "metadata": {},
   "outputs": [
    {
     "data": {
      "text/html": [
       "<div>\n",
       "<style scoped>\n",
       "    .dataframe tbody tr th:only-of-type {\n",
       "        vertical-align: middle;\n",
       "    }\n",
       "\n",
       "    .dataframe tbody tr th {\n",
       "        vertical-align: top;\n",
       "    }\n",
       "\n",
       "    .dataframe thead th {\n",
       "        text-align: right;\n",
       "    }\n",
       "</style>\n",
       "<table border=\"1\" class=\"dataframe\">\n",
       "  <thead>\n",
       "    <tr style=\"text-align: right;\">\n",
       "      <th></th>\n",
       "      <th>NDB_No</th>\n",
       "      <th>Shrt_Desc</th>\n",
       "      <th>Water_(g)</th>\n",
       "      <th>Energ_Kcal</th>\n",
       "      <th>Protein_(g)</th>\n",
       "      <th>Lipid_Tot_(g)</th>\n",
       "      <th>Ash_(g)</th>\n",
       "      <th>Carbohydrt_(g)</th>\n",
       "      <th>Fiber_TD_(g)</th>\n",
       "      <th>Sugar_Tot_(g)</th>\n",
       "      <th>...</th>\n",
       "      <th>FA_Sat_(g)</th>\n",
       "      <th>FA_Mono_(g)</th>\n",
       "      <th>FA_Poly_(g)</th>\n",
       "      <th>Cholestrl_(mg)</th>\n",
       "      <th>GmWt_1</th>\n",
       "      <th>GmWt_Desc1</th>\n",
       "      <th>GmWt_2</th>\n",
       "      <th>GmWt_Desc2</th>\n",
       "      <th>Refuse_Pct</th>\n",
       "      <th>cluster</th>\n",
       "    </tr>\n",
       "  </thead>\n",
       "  <tbody>\n",
       "    <tr>\n",
       "      <th>0</th>\n",
       "      <td>1001</td>\n",
       "      <td>BUTTER,WITH SALT</td>\n",
       "      <td>15.87</td>\n",
       "      <td>717</td>\n",
       "      <td>0.85</td>\n",
       "      <td>81.11</td>\n",
       "      <td>2.11</td>\n",
       "      <td>0.06</td>\n",
       "      <td>0.0</td>\n",
       "      <td>0.06</td>\n",
       "      <td>...</td>\n",
       "      <td>51.368</td>\n",
       "      <td>21.021</td>\n",
       "      <td>3.043</td>\n",
       "      <td>215.0</td>\n",
       "      <td>5.00</td>\n",
       "      <td>1 pat,  (1\" sq, 1/3\" high)</td>\n",
       "      <td>14.2</td>\n",
       "      <td>1 tbsp</td>\n",
       "      <td>0.0</td>\n",
       "      <td>1</td>\n",
       "    </tr>\n",
       "    <tr>\n",
       "      <th>1</th>\n",
       "      <td>1002</td>\n",
       "      <td>BUTTER,WHIPPED,W/ SALT</td>\n",
       "      <td>16.72</td>\n",
       "      <td>718</td>\n",
       "      <td>0.49</td>\n",
       "      <td>78.30</td>\n",
       "      <td>1.62</td>\n",
       "      <td>2.87</td>\n",
       "      <td>0.0</td>\n",
       "      <td>0.06</td>\n",
       "      <td>...</td>\n",
       "      <td>45.390</td>\n",
       "      <td>19.874</td>\n",
       "      <td>3.331</td>\n",
       "      <td>225.0</td>\n",
       "      <td>3.80</td>\n",
       "      <td>1 pat,  (1\" sq, 1/3\" high)</td>\n",
       "      <td>9.4</td>\n",
       "      <td>1 tbsp</td>\n",
       "      <td>0.0</td>\n",
       "      <td>1</td>\n",
       "    </tr>\n",
       "    <tr>\n",
       "      <th>2</th>\n",
       "      <td>1003</td>\n",
       "      <td>BUTTER OIL,ANHYDROUS</td>\n",
       "      <td>0.24</td>\n",
       "      <td>876</td>\n",
       "      <td>0.28</td>\n",
       "      <td>99.48</td>\n",
       "      <td>0.00</td>\n",
       "      <td>0.00</td>\n",
       "      <td>0.0</td>\n",
       "      <td>0.00</td>\n",
       "      <td>...</td>\n",
       "      <td>61.924</td>\n",
       "      <td>28.732</td>\n",
       "      <td>3.694</td>\n",
       "      <td>256.0</td>\n",
       "      <td>12.80</td>\n",
       "      <td>1 tbsp</td>\n",
       "      <td>205.0</td>\n",
       "      <td>1 cup</td>\n",
       "      <td>0.0</td>\n",
       "      <td>1</td>\n",
       "    </tr>\n",
       "    <tr>\n",
       "      <th>3</th>\n",
       "      <td>1004</td>\n",
       "      <td>CHEESE,BLUE</td>\n",
       "      <td>42.41</td>\n",
       "      <td>353</td>\n",
       "      <td>21.40</td>\n",
       "      <td>28.74</td>\n",
       "      <td>5.11</td>\n",
       "      <td>2.34</td>\n",
       "      <td>0.0</td>\n",
       "      <td>0.50</td>\n",
       "      <td>...</td>\n",
       "      <td>18.669</td>\n",
       "      <td>7.778</td>\n",
       "      <td>0.800</td>\n",
       "      <td>75.0</td>\n",
       "      <td>28.35</td>\n",
       "      <td>1 oz</td>\n",
       "      <td>17.0</td>\n",
       "      <td>1 cubic inch</td>\n",
       "      <td>0.0</td>\n",
       "      <td>1</td>\n",
       "    </tr>\n",
       "    <tr>\n",
       "      <th>4</th>\n",
       "      <td>1005</td>\n",
       "      <td>CHEESE,BRICK</td>\n",
       "      <td>41.11</td>\n",
       "      <td>371</td>\n",
       "      <td>23.24</td>\n",
       "      <td>29.68</td>\n",
       "      <td>3.18</td>\n",
       "      <td>2.79</td>\n",
       "      <td>0.0</td>\n",
       "      <td>0.51</td>\n",
       "      <td>...</td>\n",
       "      <td>18.764</td>\n",
       "      <td>8.598</td>\n",
       "      <td>0.784</td>\n",
       "      <td>94.0</td>\n",
       "      <td>132.00</td>\n",
       "      <td>1 cup, diced</td>\n",
       "      <td>113.0</td>\n",
       "      <td>1 cup, shredded</td>\n",
       "      <td>0.0</td>\n",
       "      <td>1</td>\n",
       "    </tr>\n",
       "    <tr>\n",
       "      <th>...</th>\n",
       "      <td>...</td>\n",
       "      <td>...</td>\n",
       "      <td>...</td>\n",
       "      <td>...</td>\n",
       "      <td>...</td>\n",
       "      <td>...</td>\n",
       "      <td>...</td>\n",
       "      <td>...</td>\n",
       "      <td>...</td>\n",
       "      <td>...</td>\n",
       "      <td>...</td>\n",
       "      <td>...</td>\n",
       "      <td>...</td>\n",
       "      <td>...</td>\n",
       "      <td>...</td>\n",
       "      <td>...</td>\n",
       "      <td>...</td>\n",
       "      <td>...</td>\n",
       "      <td>...</td>\n",
       "      <td>...</td>\n",
       "      <td>...</td>\n",
       "    </tr>\n",
       "    <tr>\n",
       "      <th>8785</th>\n",
       "      <td>83110</td>\n",
       "      <td>MACKEREL,SALTED</td>\n",
       "      <td>43.00</td>\n",
       "      <td>305</td>\n",
       "      <td>18.50</td>\n",
       "      <td>25.10</td>\n",
       "      <td>13.40</td>\n",
       "      <td>0.00</td>\n",
       "      <td>0.0</td>\n",
       "      <td>0.00</td>\n",
       "      <td>...</td>\n",
       "      <td>7.148</td>\n",
       "      <td>8.320</td>\n",
       "      <td>6.210</td>\n",
       "      <td>95.0</td>\n",
       "      <td>80.00</td>\n",
       "      <td>1 piece,  (5-1/2\" x 1-1/2\" x 1/2\")</td>\n",
       "      <td>17.0</td>\n",
       "      <td>1 cubic inch, boneless</td>\n",
       "      <td>0.0</td>\n",
       "      <td>2</td>\n",
       "    </tr>\n",
       "    <tr>\n",
       "      <th>8786</th>\n",
       "      <td>90240</td>\n",
       "      <td>SCALLOP,(BAY&amp;SEA),CKD,STMD</td>\n",
       "      <td>70.25</td>\n",
       "      <td>111</td>\n",
       "      <td>20.54</td>\n",
       "      <td>0.84</td>\n",
       "      <td>2.97</td>\n",
       "      <td>5.41</td>\n",
       "      <td>0.0</td>\n",
       "      <td>0.00</td>\n",
       "      <td>...</td>\n",
       "      <td>0.218</td>\n",
       "      <td>0.082</td>\n",
       "      <td>0.222</td>\n",
       "      <td>41.0</td>\n",
       "      <td>85.00</td>\n",
       "      <td>3 oz</td>\n",
       "      <td>NaN</td>\n",
       "      <td>NaN</td>\n",
       "      <td>0.0</td>\n",
       "      <td>0</td>\n",
       "    </tr>\n",
       "    <tr>\n",
       "      <th>8787</th>\n",
       "      <td>90480</td>\n",
       "      <td>SYRUP,CANE</td>\n",
       "      <td>26.00</td>\n",
       "      <td>269</td>\n",
       "      <td>0.00</td>\n",
       "      <td>0.00</td>\n",
       "      <td>0.86</td>\n",
       "      <td>73.14</td>\n",
       "      <td>0.0</td>\n",
       "      <td>73.20</td>\n",
       "      <td>...</td>\n",
       "      <td>0.000</td>\n",
       "      <td>0.000</td>\n",
       "      <td>0.000</td>\n",
       "      <td>0.0</td>\n",
       "      <td>21.00</td>\n",
       "      <td>1 serving</td>\n",
       "      <td>NaN</td>\n",
       "      <td>NaN</td>\n",
       "      <td>0.0</td>\n",
       "      <td>0</td>\n",
       "    </tr>\n",
       "    <tr>\n",
       "      <th>8788</th>\n",
       "      <td>90560</td>\n",
       "      <td>SNAIL,RAW</td>\n",
       "      <td>79.20</td>\n",
       "      <td>90</td>\n",
       "      <td>16.10</td>\n",
       "      <td>1.40</td>\n",
       "      <td>1.30</td>\n",
       "      <td>2.00</td>\n",
       "      <td>0.0</td>\n",
       "      <td>0.00</td>\n",
       "      <td>...</td>\n",
       "      <td>0.361</td>\n",
       "      <td>0.259</td>\n",
       "      <td>0.252</td>\n",
       "      <td>50.0</td>\n",
       "      <td>85.00</td>\n",
       "      <td>3 oz</td>\n",
       "      <td>NaN</td>\n",
       "      <td>NaN</td>\n",
       "      <td>0.0</td>\n",
       "      <td>0</td>\n",
       "    </tr>\n",
       "    <tr>\n",
       "      <th>8789</th>\n",
       "      <td>93600</td>\n",
       "      <td>TURTLE,GREEN,RAW</td>\n",
       "      <td>78.50</td>\n",
       "      <td>89</td>\n",
       "      <td>19.80</td>\n",
       "      <td>0.50</td>\n",
       "      <td>1.20</td>\n",
       "      <td>0.00</td>\n",
       "      <td>0.0</td>\n",
       "      <td>0.00</td>\n",
       "      <td>...</td>\n",
       "      <td>0.127</td>\n",
       "      <td>0.088</td>\n",
       "      <td>0.170</td>\n",
       "      <td>50.0</td>\n",
       "      <td>85.00</td>\n",
       "      <td>3 oz</td>\n",
       "      <td>NaN</td>\n",
       "      <td>NaN</td>\n",
       "      <td>0.0</td>\n",
       "      <td>0</td>\n",
       "    </tr>\n",
       "  </tbody>\n",
       "</table>\n",
       "<p>8790 rows × 54 columns</p>\n",
       "</div>"
      ],
      "text/plain": [
       "      NDB_No                   Shrt_Desc  Water_(g)  Energ_Kcal  Protein_(g)  \\\n",
       "0       1001            BUTTER,WITH SALT      15.87         717         0.85   \n",
       "1       1002      BUTTER,WHIPPED,W/ SALT      16.72         718         0.49   \n",
       "2       1003        BUTTER OIL,ANHYDROUS       0.24         876         0.28   \n",
       "3       1004                 CHEESE,BLUE      42.41         353        21.40   \n",
       "4       1005                CHEESE,BRICK      41.11         371        23.24   \n",
       "...      ...                         ...        ...         ...          ...   \n",
       "8785   83110             MACKEREL,SALTED      43.00         305        18.50   \n",
       "8786   90240  SCALLOP,(BAY&SEA),CKD,STMD      70.25         111        20.54   \n",
       "8787   90480                  SYRUP,CANE      26.00         269         0.00   \n",
       "8788   90560                   SNAIL,RAW      79.20          90        16.10   \n",
       "8789   93600            TURTLE,GREEN,RAW      78.50          89        19.80   \n",
       "\n",
       "      Lipid_Tot_(g)  Ash_(g)  Carbohydrt_(g)  Fiber_TD_(g)  Sugar_Tot_(g)  \\\n",
       "0             81.11     2.11            0.06           0.0           0.06   \n",
       "1             78.30     1.62            2.87           0.0           0.06   \n",
       "2             99.48     0.00            0.00           0.0           0.00   \n",
       "3             28.74     5.11            2.34           0.0           0.50   \n",
       "4             29.68     3.18            2.79           0.0           0.51   \n",
       "...             ...      ...             ...           ...            ...   \n",
       "8785          25.10    13.40            0.00           0.0           0.00   \n",
       "8786           0.84     2.97            5.41           0.0           0.00   \n",
       "8787           0.00     0.86           73.14           0.0          73.20   \n",
       "8788           1.40     1.30            2.00           0.0           0.00   \n",
       "8789           0.50     1.20            0.00           0.0           0.00   \n",
       "\n",
       "      ...  FA_Sat_(g)  FA_Mono_(g)  FA_Poly_(g)  Cholestrl_(mg)  GmWt_1  \\\n",
       "0     ...      51.368       21.021        3.043           215.0    5.00   \n",
       "1     ...      45.390       19.874        3.331           225.0    3.80   \n",
       "2     ...      61.924       28.732        3.694           256.0   12.80   \n",
       "3     ...      18.669        7.778        0.800            75.0   28.35   \n",
       "4     ...      18.764        8.598        0.784            94.0  132.00   \n",
       "...   ...         ...          ...          ...             ...     ...   \n",
       "8785  ...       7.148        8.320        6.210            95.0   80.00   \n",
       "8786  ...       0.218        0.082        0.222            41.0   85.00   \n",
       "8787  ...       0.000        0.000        0.000             0.0   21.00   \n",
       "8788  ...       0.361        0.259        0.252            50.0   85.00   \n",
       "8789  ...       0.127        0.088        0.170            50.0   85.00   \n",
       "\n",
       "                              GmWt_Desc1  GmWt_2              GmWt_Desc2  \\\n",
       "0             1 pat,  (1\" sq, 1/3\" high)    14.2                  1 tbsp   \n",
       "1             1 pat,  (1\" sq, 1/3\" high)     9.4                  1 tbsp   \n",
       "2                                 1 tbsp   205.0                   1 cup   \n",
       "3                                   1 oz    17.0            1 cubic inch   \n",
       "4                           1 cup, diced   113.0         1 cup, shredded   \n",
       "...                                  ...     ...                     ...   \n",
       "8785  1 piece,  (5-1/2\" x 1-1/2\" x 1/2\")    17.0  1 cubic inch, boneless   \n",
       "8786                                3 oz     NaN                     NaN   \n",
       "8787                           1 serving     NaN                     NaN   \n",
       "8788                                3 oz     NaN                     NaN   \n",
       "8789                                3 oz     NaN                     NaN   \n",
       "\n",
       "      Refuse_Pct  cluster  \n",
       "0            0.0        1  \n",
       "1            0.0        1  \n",
       "2            0.0        1  \n",
       "3            0.0        1  \n",
       "4            0.0        1  \n",
       "...          ...      ...  \n",
       "8785         0.0        2  \n",
       "8786         0.0        0  \n",
       "8787         0.0        0  \n",
       "8788         0.0        0  \n",
       "8789         0.0        0  \n",
       "\n",
       "[8790 rows x 54 columns]"
      ]
     },
     "execution_count": 181,
     "metadata": {},
     "output_type": "execute_result"
    }
   ],
   "source": [
    "pickle.load(open('clustered_food.pkl', 'rb'))"
   ]
  },
  {
   "cell_type": "code",
   "execution_count": null,
   "metadata": {},
   "outputs": [],
   "source": [
    "#print(example_df.tail())\n",
    "#print(example_df.shape)\n",
    "print(df1.shape)\n",
    "df1.tail()"
   ]
  },
  {
   "cell_type": "code",
   "execution_count": null,
   "metadata": {},
   "outputs": [],
   "source": [
    "example = {'id':['10002','10003','10004'],\n",
    "'value':['23232323232323', 'ggg', 'asdasdas']}\n",
    "example = pd.DataFrame(example)\n",
    "\n",
    "#data1 = int(input(\"Nutrient 1: \"))\n",
    "#data2 = input(\"Nutrient 1: \")\n",
    "\n",
    "users_inputdf1 = [data1,data2]\n",
    "example = example.append(pd.Series(users_inputdf1, \n",
    "index=example.columns[:len(users_inputdf1)]), ignore_index=True)\n",
    "\n",
    "max = int(example.iloc[-1]['id'])\n",
    "max = max+1\n",
    "max\n",
    "\n",
    "#max_id = 10002\n",
    "##example['id'] = (max_id + 1, max_id + len(example)+1)\n",
    "\n",
    "#example = pd.DataFrame(df1)\n",
    "#x = (max_id + 1, max_id + len(example) + 1)\n"
   ]
  },
  {
   "cell_type": "markdown",
   "metadata": {},
   "source": [
    "# Trial & Error 4"
   ]
  },
  {
   "cell_type": "code",
   "execution_count": 52,
   "metadata": {},
   "outputs": [
    {
     "name": "stderr",
     "output_type": "stream",
     "text": [
      "C:\\Users\\MIZZIA~1\\AppData\\Local\\Temp/ipykernel_788/115955214.py:3: FutureWarning: Dropping of nuisance columns in DataFrame reductions (with 'numeric_only=None') is deprecated; in a future version this will raise TypeError.  Select only valid columns before calling the reduction.\n",
      "  df = df.fillna(df.median())\n"
     ]
    },
    {
     "data": {
      "image/png": "[encoded data removed]",
      "text/plain": [
       "<Figure size 576x396 with 1 Axes>"
      ]
     },
     "metadata": {},
     "output_type": "display_data"
    },
    {
     "name": "stdout",
     "output_type": "stream",
     "text": [
      "Cluster number 2 Score 0.5908631241162109\n",
      "Cluster number 3 Score 0.2453143379058356\n",
      "Cluster number 4 Score 0.15539975403312847\n",
      "Cluster number 5 Score 0.14953503517912164\n",
      "Cluster number 6 Score 0.17694082881758247\n"
     ]
    }
   ],
   "source": [
    "#overall code in preprocessing\n",
    "class preprocess:\n",
    "    df = df.fillna(df.median())\n",
    "    df = df.fillna('No Data')\n",
    "\n",
    "    le = LabelEncoder()\n",
    "    df['GmWt_Desc2'] = le.fit_transform(df['GmWt_Desc2'])\n",
    "    df['GmWt_Desc1'] = le.fit_transform(df['GmWt_Desc1'])\n",
    "\n",
    "    #in_max_scaler = MinMaxScaler()\n",
    "    in_standard_scaler = StandardScaler()\n",
    "    feature = ['Water_(g)', 'Energ_Kcal', 'Protein_(g)',\n",
    "       'Lipid_Tot_(g)', 'Ash_(g)', 'Carbohydrt_(g)', 'Fiber_TD_(g)',\n",
    "       'Sugar_Tot_(g)', 'Calcium_(mg)', 'Iron_(mg)', 'Magnesium_(mg)',\n",
    "       'Phosphorus_(mg)', 'Potassium_(mg)', 'Sodium_(mg)', 'Zinc_(mg)',\n",
    "       'Copper_mg)', 'Manganese_(mg)', 'Selenium_(µg)', 'Vit_C_(mg)',\n",
    "       'Thiamin_(mg)', 'Riboflavin_(mg)', 'Niacin_(mg)', 'Panto_Acid_mg)',\n",
    "       'Vit_B6_(mg)', 'Folate_Tot_(µg)', 'Folic_Acid_(µg)', 'Food_Folate_(µg)',\n",
    "       'Folate_DFE_(µg)', 'Choline_Tot_ (mg)', 'Vit_B12_(µg)', 'Vit_A_IU',\n",
    "       'Vit_A_RAE', 'Retinol_(µg)', 'Alpha_Carot_(µg)', 'Beta_Carot_(µg)',\n",
    "       'Beta_Crypt_(µg)', 'Lycopene_(µg)', 'Lut+Zea_ (µg)', 'Vit_E_(mg)',\n",
    "       'Vit_D_µg', 'Vit_D_IU', 'Vit_K_(µg)', 'FA_Sat_(g)', 'FA_Mono_(g)',\n",
    "       'FA_Poly_(g)', 'Cholestrl_(mg)', 'GmWt_1', 'GmWt_Desc1', 'GmWt_2',\n",
    "       'GmWt_Desc2', 'Refuse_Pct']\n",
    "    #msc = in_max_scaler.fit_transform(df[feature])\n",
    "    ssc = in_standard_scaler.fit_transform(df[feature])\n",
    "    \n",
    "    pca = PCA(n_components=0.95)\n",
    "    numpy_arr = pca.fit_transform(ssc)\n",
    "    sspca = pd.DataFrame(data=numpy_arr.flatten())\n",
    "    \n",
    "    kmeans = KMeans(n_clusters=4, random_state=2)\n",
    "    #dsd = df[feature]\n",
    "    kmeans.fit(numpy_arr)\n",
    "    #sss = pd.DataFrame(df[feature]).to_numpy()\n",
    "    #plt.scatter(sss[:,0], sss[:,1])\n",
    "    clusters = kmeans.cluster_centers_\n",
    "    y_km = kmeans.fit_predict(numpy_arr)\n",
    "        \n",
    "    plt.scatter(numpy_arr[y_km == 0,0], numpy_arr[y_km == 0,1], s=50, color='red')\n",
    "    plt.scatter(numpy_arr[y_km == 1,0], numpy_arr[y_km == 1,1], s=50, color='blue')\n",
    "    plt.scatter(numpy_arr[y_km == 2,0], numpy_arr[y_km == 2,1], s=50, color='yellow')\n",
    "    plt.scatter(numpy_arr[y_km == 3,0], numpy_arr[y_km == 3,1], s=50, color='green')\n",
    "\n",
    "    plt.scatter(clusters[0][0], clusters[0][1], marker='*', s=150, color='black')\n",
    "    plt.scatter(clusters[1][0], clusters[1][1], marker='*', s=150, color='black')\n",
    "    plt.scatter(clusters[2][0], clusters[2][1], marker='*', s=150, color='black')\n",
    "    plt.scatter(clusters[3][0], clusters[3][1], marker='*', s=150, color='black')\n",
    "    plt.title('dataset')\n",
    "    plt.show()\n",
    "    \n",
    "class silhouette:\n",
    "    no_of_clusters = [2,3,4,5,6]\n",
    "    for n_clusters in no_of_clusters:\n",
    "        cluster = KMeans(n_clusters = n_clusters)\n",
    "        cluster_labels = cluster.fit_predict(preprocess.numpy_arr)\n",
    "        silhouette_avg = silhouette_score(preprocess.numpy_arr, cluster_labels)\n",
    "\n",
    "        print(\"Cluster number\", n_clusters, \"Score\", silhouette_avg)"
   ]
  },
  {
   "cell_type": "markdown",
   "metadata": {},
   "source": [
    "*5/7 repeatition with 5000 samples, cluster 4 is consistent in rounded value of 0.11 - 0.24 which is close and near to 0. Therefore cluster number 4 is also a good choice in choosing for a value of K*"
   ]
  },
  {
   "cell_type": "code",
   "execution_count": 50,
   "metadata": {},
   "outputs": [
    {
     "name": "stdout",
     "output_type": "stream",
     "text": [
      "[2.09843286 1.99368197 2.12722532 1.40486549 2.51898504 1.82391033\n",
      " 1.74057087 1.82652899 1.86170743 1.28072062 1.05143586 0.93371633\n",
      " 1.09371272 1.24545273 1.39378977 1.19886049 1.26560186 1.22859346\n",
      " 0.85209127 0.98971993 0.99088023 1.09617669 1.22100201 0.94820264\n",
      " 1.05424415 1.11587736 0.80911887 0.86930268 0.91202469 0.83931611\n",
      " 0.8558393  0.87441942 0.79577522 0.84282748]\n",
      "[1.03235211 0.89746851 1.31700804 1.40115751 0.70504228 1.13406808\n",
      " 1.19248012 0.86750341 0.7032421  0.70001219 0.99797824 1.02477483\n",
      " 0.64182991 0.77711351 0.72887139 0.66997274 0.72263573 0.68933026\n",
      " 0.83055072 0.66610814 0.76827408 0.64130557 0.55385357 0.70137073\n",
      " 0.51997508 0.49013958 0.69294114 0.58042793 0.48862849 0.41772004\n",
      " 0.44061942 0.34668086 0.33807687 0.36478523]\n",
      "[4.64205636 6.51021201 7.59235    6.83995093 3.19893214 4.56830054\n",
      " 2.2812779  2.32477302 1.08919687 6.5799543  1.14791014 2.92988484\n",
      " 5.89020268 2.74832111 1.2323595  5.14680835 1.55692289 2.80609316\n",
      " 4.40131491 6.54112061 1.08555267 3.4508286  1.26951772 1.9335608\n",
      " 4.50202659 1.8432074  1.28747435 2.78007081 2.02843292 3.10437793\n",
      " 1.40465876 2.72682721 3.14290039 1.74784551]\n",
      "[5.74263105 1.53019247 2.27225942 3.32151137 4.26431096 2.25925965\n",
      " 2.56639447 2.32131365 2.33277383 4.55143051 2.8507169  2.58782441\n",
      " 4.15738309 2.50232715 1.56971592 2.63208343 2.0406423  2.06905698\n",
      " 2.21273972 2.5446294  1.93371316 2.14566447 1.64857889 1.56281838\n",
      " 1.79496227 1.54360777 1.26282722 1.39725811 1.81606354 1.95648099\n",
      " 1.60750214 1.820091   1.87231051 1.58812833]\n"
     ]
    }
   ],
   "source": [
    "#standard dev per cluster\n",
    "class standard_deviation:\n",
    "    for i in range(4):\n",
    "        print(np.std(preprocess.numpy_arr[preprocess.y_km==i], axis=0))"
   ]
  },
  {
   "cell_type": "code",
   "execution_count": 51,
   "metadata": {
    "scrolled": true
   },
   "outputs": [
    {
     "name": "stdout",
     "output_type": "stream",
     "text": [
      "(5000, 34)\n",
      "Index(['NDB',     1,     2,     3,     4,     5,     6,     7,     8,     9,\n",
      "          10,    11,    12,    13,    14,    15,    16,    17,    18,    19,\n",
      "          20,    21,    22,    23,    24,    25,    26,    27,    28,    29,\n",
      "          30,    31,    32,    33],\n",
      "      dtype='object')\n"
     ]
    }
   ],
   "source": [
    "#checking for pca's df\n",
    "class pca_df:\n",
    "    print(preprocess.numpy_arr.shape)\n",
    "    numpy_arr = pd.DataFrame(preprocess.numpy_arr)\n",
    "    #print(numpy_arr.head())\n",
    "    numpy_arr.rename(columns = {0:'NDB'}, inplace=True)\n",
    "    print(numpy_arr.columns)"
   ]
  },
  {
   "cell_type": "markdown",
   "metadata": {},
   "source": [
    "# Trial & Error 6"
   ]
  },
  {
   "cell_type": "code",
   "execution_count": null,
   "metadata": {},
   "outputs": [],
   "source": [
    "import matplotlib.pyplot as plt\n",
    "import numpy as np\n",
    "from sklearn.cluster import KMeans\n",
    "from sklearn.datasets import make_blobs"
   ]
  },
  {
   "cell_type": "code",
   "execution_count": null,
   "metadata": {},
   "outputs": [
    {
     "name": "stderr",
     "output_type": "stream",
     "text": [
      "c:\\Users\\Mizzia Pontino\\anaconda3\\lib\\site-packages\\sklearn\\cluster\\_kmeans.py:1334: UserWarning: KMeans is known to have a memory leak on Windows with MKL, when there are less chunks than available threads. You can avoid it by setting the environment variable OMP_NUM_THREADS=2.\n",
      "  warnings.warn(\n"
     ]
    },
    {
     "data": {
      "image/png": "[encoded data removed]",
      "text/plain": [
       "<Figure size 432x288 with 1 Axes>"
      ]
     },
     "metadata": {
      "needs_background": "light"
     },
     "output_type": "display_data"
    }
   ],
   "source": [
    "K = 4\n",
    "X, y_true = make_blobs(n_samples=300, centers=K, \n",
    "                       cluster_std=0.60, random_state=0)\n",
    "k_means = KMeans(K)\n",
    "k_means.fit(X)\n",
    "\n",
    "cluster_centres = k_means.cluster_centers_\n",
    "\n",
    "y_kmeans = k_means.predict(X)\n",
    "plt.scatter(X[:, 0], X[:, 1], c=y_kmeans, s=50, cmap='viridis')\n",
    "\n",
    "for centroid in cluster_centres:\n",
    "    plt.scatter(centroid[0],  centroid[1], s=300,  c='black', alpha=0.5)"
   ]
  },
  {
   "cell_type": "code",
   "execution_count": 52,
   "metadata": {},
   "outputs": [
    {
     "ename": "ValueError",
     "evalue": "Input X contains NaN.\nKMeans does not accept missing values encoded as NaN natively. For supervised learning, you might want to consider sklearn.ensemble.HistGradientBoostingClassifier and Regressor which accept missing values encoded as NaNs natively. Alternatively, it is possible to preprocess the data, for instance by using an imputer transformer in a pipeline or drop samples with missing values. See https://scikit-learn.org/stable/modules/impute.html You can find a list of all estimators that handle NaN values at the following page: https://scikit-learn.org/stable/modules/impute.html#estimators-that-handle-nan-values",
     "output_type": "error",
     "traceback": [
      "\u001b[1;31m---------------------------------------------------------------------------\u001b[0m",
      "\u001b[1;31mValueError\u001b[0m                                Traceback (most recent call last)",
      "\u001b[1;32mC:\\Users\\MIZZIA~1\\AppData\\Local\\Temp/ipykernel_6776/1599711910.py\u001b[0m in \u001b[0;36m<module>\u001b[1;34m\u001b[0m\n\u001b[0;32m      1\u001b[0m \u001b[0mkmeans\u001b[0m \u001b[1;33m=\u001b[0m \u001b[0mKMeans\u001b[0m\u001b[1;33m(\u001b[0m\u001b[0mn_clusters\u001b[0m\u001b[1;33m=\u001b[0m\u001b[1;36m3\u001b[0m\u001b[1;33m)\u001b[0m\u001b[1;33m\u001b[0m\u001b[1;33m\u001b[0m\u001b[0m\n\u001b[0;32m      2\u001b[0m \u001b[1;31m# Fitting the input data\u001b[0m\u001b[1;33m\u001b[0m\u001b[1;33m\u001b[0m\u001b[0m\n\u001b[1;32m----> 3\u001b[1;33m \u001b[0mkmeans\u001b[0m \u001b[1;33m=\u001b[0m \u001b[0mkmeans\u001b[0m\u001b[1;33m.\u001b[0m\u001b[0mfit\u001b[0m\u001b[1;33m(\u001b[0m\u001b[0mX\u001b[0m\u001b[1;33m)\u001b[0m\u001b[1;33m\u001b[0m\u001b[1;33m\u001b[0m\u001b[0m\n\u001b[0m\u001b[0;32m      4\u001b[0m \u001b[1;31m# Getting the cluster labels\u001b[0m\u001b[1;33m\u001b[0m\u001b[1;33m\u001b[0m\u001b[0m\n\u001b[0;32m      5\u001b[0m \u001b[0mlabels\u001b[0m \u001b[1;33m=\u001b[0m \u001b[0mkmeans\u001b[0m\u001b[1;33m.\u001b[0m\u001b[0mpredict\u001b[0m\u001b[1;33m(\u001b[0m\u001b[0mX\u001b[0m\u001b[1;33m)\u001b[0m\u001b[1;33m\u001b[0m\u001b[1;33m\u001b[0m\u001b[0m\n",
      "\u001b[1;32mc:\\Users\\Mizzia Pontino\\anaconda3\\lib\\site-packages\\sklearn\\cluster\\_kmeans.py\u001b[0m in \u001b[0;36mfit\u001b[1;34m(self, X, y, sample_weight)\u001b[0m\n\u001b[0;32m   1365\u001b[0m             \u001b[0mFitted\u001b[0m \u001b[0mestimator\u001b[0m\u001b[1;33m.\u001b[0m\u001b[1;33m\u001b[0m\u001b[1;33m\u001b[0m\u001b[0m\n\u001b[0;32m   1366\u001b[0m         \"\"\"\n\u001b[1;32m-> 1367\u001b[1;33m         X = self._validate_data(\n\u001b[0m\u001b[0;32m   1368\u001b[0m             \u001b[0mX\u001b[0m\u001b[1;33m,\u001b[0m\u001b[1;33m\u001b[0m\u001b[1;33m\u001b[0m\u001b[0m\n\u001b[0;32m   1369\u001b[0m             \u001b[0maccept_sparse\u001b[0m\u001b[1;33m=\u001b[0m\u001b[1;34m\"csr\"\u001b[0m\u001b[1;33m,\u001b[0m\u001b[1;33m\u001b[0m\u001b[1;33m\u001b[0m\u001b[0m\n",
      "\u001b[1;32mc:\\Users\\Mizzia Pontino\\anaconda3\\lib\\site-packages\\sklearn\\base.py\u001b[0m in \u001b[0;36m_validate_data\u001b[1;34m(self, X, y, reset, validate_separately, **check_params)\u001b[0m\n\u001b[0;32m    575\u001b[0m             \u001b[1;32mraise\u001b[0m \u001b[0mValueError\u001b[0m\u001b[1;33m(\u001b[0m\u001b[1;34m\"Validation should be done on X, y or both.\"\u001b[0m\u001b[1;33m)\u001b[0m\u001b[1;33m\u001b[0m\u001b[1;33m\u001b[0m\u001b[0m\n\u001b[0;32m    576\u001b[0m         \u001b[1;32melif\u001b[0m \u001b[1;32mnot\u001b[0m \u001b[0mno_val_X\u001b[0m \u001b[1;32mand\u001b[0m \u001b[0mno_val_y\u001b[0m\u001b[1;33m:\u001b[0m\u001b[1;33m\u001b[0m\u001b[1;33m\u001b[0m\u001b[0m\n\u001b[1;32m--> 577\u001b[1;33m             \u001b[0mX\u001b[0m \u001b[1;33m=\u001b[0m \u001b[0mcheck_array\u001b[0m\u001b[1;33m(\u001b[0m\u001b[0mX\u001b[0m\u001b[1;33m,\u001b[0m \u001b[0minput_name\u001b[0m\u001b[1;33m=\u001b[0m\u001b[1;34m\"X\"\u001b[0m\u001b[1;33m,\u001b[0m \u001b[1;33m**\u001b[0m\u001b[0mcheck_params\u001b[0m\u001b[1;33m)\u001b[0m\u001b[1;33m\u001b[0m\u001b[1;33m\u001b[0m\u001b[0m\n\u001b[0m\u001b[0;32m    578\u001b[0m             \u001b[0mout\u001b[0m \u001b[1;33m=\u001b[0m \u001b[0mX\u001b[0m\u001b[1;33m\u001b[0m\u001b[1;33m\u001b[0m\u001b[0m\n\u001b[0;32m    579\u001b[0m         \u001b[1;32melif\u001b[0m \u001b[0mno_val_X\u001b[0m \u001b[1;32mand\u001b[0m \u001b[1;32mnot\u001b[0m \u001b[0mno_val_y\u001b[0m\u001b[1;33m:\u001b[0m\u001b[1;33m\u001b[0m\u001b[1;33m\u001b[0m\u001b[0m\n",
      "\u001b[1;32mc:\\Users\\Mizzia Pontino\\anaconda3\\lib\\site-packages\\sklearn\\utils\\validation.py\u001b[0m in \u001b[0;36mcheck_array\u001b[1;34m(array, accept_sparse, accept_large_sparse, dtype, order, copy, force_all_finite, ensure_2d, allow_nd, ensure_min_samples, ensure_min_features, estimator, input_name)\u001b[0m\n\u001b[0;32m    897\u001b[0m \u001b[1;33m\u001b[0m\u001b[0m\n\u001b[0;32m    898\u001b[0m         \u001b[1;32mif\u001b[0m \u001b[0mforce_all_finite\u001b[0m\u001b[1;33m:\u001b[0m\u001b[1;33m\u001b[0m\u001b[1;33m\u001b[0m\u001b[0m\n\u001b[1;32m--> 899\u001b[1;33m             _assert_all_finite(\n\u001b[0m\u001b[0;32m    900\u001b[0m                 \u001b[0marray\u001b[0m\u001b[1;33m,\u001b[0m\u001b[1;33m\u001b[0m\u001b[1;33m\u001b[0m\u001b[0m\n\u001b[0;32m    901\u001b[0m                 \u001b[0minput_name\u001b[0m\u001b[1;33m=\u001b[0m\u001b[0minput_name\u001b[0m\u001b[1;33m,\u001b[0m\u001b[1;33m\u001b[0m\u001b[1;33m\u001b[0m\u001b[0m\n",
      "\u001b[1;32mc:\\Users\\Mizzia Pontino\\anaconda3\\lib\\site-packages\\sklearn\\utils\\validation.py\u001b[0m in \u001b[0;36m_assert_all_finite\u001b[1;34m(X, allow_nan, msg_dtype, estimator_name, input_name)\u001b[0m\n\u001b[0;32m    144\u001b[0m                     \u001b[1;34m\"#estimators-that-handle-nan-values\"\u001b[0m\u001b[1;33m\u001b[0m\u001b[1;33m\u001b[0m\u001b[0m\n\u001b[0;32m    145\u001b[0m                 )\n\u001b[1;32m--> 146\u001b[1;33m             \u001b[1;32mraise\u001b[0m \u001b[0mValueError\u001b[0m\u001b[1;33m(\u001b[0m\u001b[0mmsg_err\u001b[0m\u001b[1;33m)\u001b[0m\u001b[1;33m\u001b[0m\u001b[1;33m\u001b[0m\u001b[0m\n\u001b[0m\u001b[0;32m    147\u001b[0m \u001b[1;33m\u001b[0m\u001b[0m\n\u001b[0;32m    148\u001b[0m     \u001b[1;31m# for object dtype data, we only check for NaNs (GH-13254)\u001b[0m\u001b[1;33m\u001b[0m\u001b[1;33m\u001b[0m\u001b[0m\n",
      "\u001b[1;31mValueError\u001b[0m: Input X contains NaN.\nKMeans does not accept missing values encoded as NaN natively. For supervised learning, you might want to consider sklearn.ensemble.HistGradientBoostingClassifier and Regressor which accept missing values encoded as NaNs natively. Alternatively, it is possible to preprocess the data, for instance by using an imputer transformer in a pipeline or drop samples with missing values. See https://scikit-learn.org/stable/modules/impute.html You can find a list of all estimators that handle NaN values at the following page: https://scikit-learn.org/stable/modules/impute.html#estimators-that-handle-nan-values"
     ]
    }
   ],
   "source": [
    "kmeans = KMeans(n_clusters=3)\n",
    "# Fitting the input data\n",
    "kmeans = kmeans.fit(X)\n",
    "# Getting the cluster labels\n",
    "labels = kmeans.predict(X)\n",
    "# Centroid values\n",
    "centroids = kmeans.cluster_centers_"
   ]
  }
 ],
 "metadata": {
  "kernelspec": {
   "display_name": "Python 3 (ipykernel)",
   "language": "python",
   "name": "python3"
  },
  "language_info": {
   "codemirror_mode": {
    "name": "ipython",
    "version": 3
   },
   "file_extension": ".py",
   "mimetype": "text/x-python",
   "name": "python",
   "nbconvert_exporter": "python",
   "pygments_lexer": "ipython3",
   "version": "3.11.2"
  },
  "vscode": {
   "interpreter": {
    "hash": "00494cd225ab54c8998015331e1c979ba0044bca5c5249885b0d39fc35581a7e"
   }
  }
 },
 "nbformat": 4,
 "nbformat_minor": 2
}
