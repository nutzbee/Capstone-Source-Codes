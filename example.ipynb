{
 "cells": [
  {
   "cell_type": "code",
   "execution_count": 1,
   "metadata": {},
   "outputs": [],
   "source": [
    "import pandas as pd\n",
    "import matplotlib.pyplot as plt\n",
    "import matplotlib.cm as cm\n",
    "import numpy as np\n",
    "import seaborn as sns\n",
    "import pickle\n",
    "from sklearn import metrics, datasets, cluster\n",
    "from pandas import DataFrame\n",
    "from sklearn.model_selection import train_test_split\n",
    "from sklearn import model_selection\n",
    "from sklearn.neighbors import KNeighborsClassifier\n",
    "from sklearn.datasets import make_blobs\n",
    "from sklearn.cluster import KMeans\n",
    "from sklearn.metrics import silhouette_samples, silhouette_score\n",
    "from sklearn.preprocessing import MinMaxScaler\n",
    "from sklearn.preprocessing import StandardScaler\n",
    "from itertools import cycle, islice\n",
    "from pandas.plotting import parallel_coordinates\n",
    "from sklearn.preprocessing import LabelEncoder\n",
    "from yellowbrick.cluster import SilhouetteVisualizer\n",
    "from sklearn.decomposition import PCA\n",
    "from yellowbrick.cluster import KElbowVisualizer\n",
    "import inquirer\n",
    "from ipywidgets import interact"
   ]
  },
  {
   "cell_type": "code",
   "execution_count": 2,
   "metadata": {},
   "outputs": [],
   "source": [
    "df1=pd.read_excel('ABBREV.xlsx')"
   ]
  },
  {
   "cell_type": "code",
   "execution_count": 3,
   "metadata": {},
   "outputs": [
    {
     "data": {
      "text/plain": [
       "(5000, 53)"
      ]
     },
     "execution_count": 3,
     "metadata": {},
     "output_type": "execute_result"
    }
   ],
   "source": [
    "df = df1\n",
    "df = df.sample(n = 5000)\n",
    "df.shape"
   ]
  },
  {
   "cell_type": "markdown",
   "metadata": {},
   "source": [
    "# Filtered Dataframe"
   ]
  },
  {
   "cell_type": "code",
   "execution_count": 75,
   "metadata": {},
   "outputs": [
    {
     "data": {
      "text/plain": [
       "(7940, 53)"
      ]
     },
     "execution_count": 75,
     "metadata": {},
     "output_type": "execute_result"
    }
   ],
   "source": [
    "class filtered:\n",
    "    df1 = df1.fillna(0)\n",
    "    df_sugar_filtered = df1[df1['Sugar_Tot_(g)'] <= 25]\n",
    "    df_sorted = df_sugar_filtered.sort_values('NDB_No', ascending=True)\n",
    "filtered.df_sorted.shape"
   ]
  },
  {
   "cell_type": "code",
   "execution_count": 76,
   "metadata": {},
   "outputs": [
    {
     "data": {
      "text/plain": [
       "(236, 53)"
      ]
     },
     "execution_count": 76,
     "metadata": {},
     "output_type": "execute_result"
    }
   ],
   "source": [
    "class dairy:\n",
    "    df_dairy = filtered.df_sorted[filtered.df_sorted['NDB_No'] >= 1001]\n",
    "    df_dairy = df_dairy[df_dairy['NDB_No'] < 1307]\n",
    "dairy.df_dairy.shape"
   ]
  },
  {
   "cell_type": "code",
   "execution_count": 77,
   "metadata": {},
   "outputs": [
    {
     "data": {
      "text/plain": [
       "(64, 53)"
      ]
     },
     "execution_count": 77,
     "metadata": {},
     "output_type": "execute_result"
    }
   ],
   "source": [
    "class spices_n_herbs:\n",
    "    df_snh = filtered.df_sorted[filtered.df_sorted['NDB_No'] >= 2000]\n",
    "    df_snh = df_snh[df_snh['NDB_No'] < 2077]\n",
    "spices_n_herbs.df_snh.shape"
   ]
  },
  {
   "cell_type": "code",
   "execution_count": 78,
   "metadata": {},
   "outputs": [
    {
     "data": {
      "text/plain": [
       "(198, 53)"
      ]
     },
     "execution_count": 78,
     "metadata": {},
     "output_type": "execute_result"
    }
   ],
   "source": [
    "class baby_foods:\n",
    "    df_babyf = filtered.df_sorted[filtered.df_sorted['NDB_No'] >= 3000]\n",
    "    df_babyf = df_babyf[df_babyf['NDB_No'] < 3713]\n",
    "baby_foods.df_babyf.shape"
   ]
  },
  {
   "cell_type": "code",
   "execution_count": 79,
   "metadata": {},
   "outputs": [
    {
     "data": {
      "text/plain": [
       "(79, 53)"
      ]
     },
     "execution_count": 79,
     "metadata": {},
     "output_type": "execute_result"
    }
   ],
   "source": [
    "class inff_formula:#for baby foods\n",
    "    df_inff = filtered.df_sorted[filtered.df_sorted['NDB_No'] >= 3800]\n",
    "    df_inff = df_inff[df_inff['NDB_No'] < 4000]\n",
    "inff_formula.df_inff.shape"
   ]
  },
  {
   "cell_type": "code",
   "execution_count": 80,
   "metadata": {},
   "outputs": [
    {
     "data": {
      "text/plain": [
       "(188, 53)"
      ]
     },
     "execution_count": 80,
     "metadata": {},
     "output_type": "execute_result"
    }
   ],
   "source": [
    "class fats_and_oils:\n",
    "    df_fats = filtered.df_sorted[filtered.df_sorted['NDB_No'] >= 4000]\n",
    "    df_fats = df_fats[df_fats['NDB_No'] < 4710]\n",
    "fats_and_oils.df_fats.shape"
   ]
  },
  {
   "cell_type": "code",
   "execution_count": 81,
   "metadata": {},
   "outputs": [
    {
     "data": {
      "text/plain": [
       "(382, 53)"
      ]
     },
     "execution_count": 81,
     "metadata": {},
     "output_type": "execute_result"
    }
   ],
   "source": [
    "class poultry_products:\n",
    "    df_poultry = filtered.df_sorted[filtered.df_sorted['NDB_No'] >= 5000]\n",
    "    df_poultry = df_poultry[df_poultry['NDB_No'] < 5750]\n",
    "poultry_products.df_poultry.shape"
   ]
  },
  {
   "cell_type": "code",
   "execution_count": 82,
   "metadata": {},
   "outputs": [
    {
     "data": {
      "text/plain": [
       "(412, 53)"
      ]
     },
     "execution_count": 82,
     "metadata": {},
     "output_type": "execute_result"
    }
   ],
   "source": [
    "class soups_sauces_gravies1:\n",
    "    df_ssg = filtered.df_sorted[filtered.df_sorted['NDB_No'] >= 6000]\n",
    "    df_ssg = df_ssg[df_ssg['NDB_No'] < 7000]\n",
    "soups_sauces_gravies1.df_ssg.shape"
   ]
  },
  {
   "cell_type": "code",
   "execution_count": 83,
   "metadata": {},
   "outputs": [
    {
     "data": {
      "text/plain": [
       "(155, 53)"
      ]
     },
     "execution_count": 83,
     "metadata": {},
     "output_type": "execute_result"
    }
   ],
   "source": [
    "class processed_meats:\n",
    "    df_meats = filtered.df_sorted[filtered.df_sorted['NDB_No'] >= 7000]\n",
    "    df_meats = df_meats[df_meats['NDB_No'] < 7980]\n",
    "processed_meats.df_meats.shape"
   ]
  },
  {
   "cell_type": "code",
   "execution_count": 84,
   "metadata": {},
   "outputs": [
    {
     "data": {
      "text/plain": [
       "(213, 53)"
      ]
     },
     "execution_count": 84,
     "metadata": {},
     "output_type": "execute_result"
    }
   ],
   "source": [
    "class grains:\n",
    "    df_grains = filtered.df_sorted[filtered.df_sorted['NDB_No'] >= 8000]\n",
    "    df_grains = df_grains[df_grains['NDB_No'] < 8713]\n",
    "grains.df_grains.shape"
   ]
  },
  {
   "cell_type": "code",
   "execution_count": 85,
   "metadata": {},
   "outputs": [
    {
     "data": {
      "text/plain": [
       "(324, 53)"
      ]
     },
     "execution_count": 85,
     "metadata": {},
     "output_type": "execute_result"
    }
   ],
   "source": [
    "class fruits:\n",
    "    df_fruits = filtered.df_sorted[filtered.df_sorted['NDB_No'] >= 9000]\n",
    "    df_fruits = df_fruits[df_fruits['NDB_No'] < 9532]\n",
    "fruits.df_fruits.shape"
   ]
  },
  {
   "cell_type": "code",
   "execution_count": 86,
   "metadata": {},
   "outputs": [
    {
     "data": {
      "text/plain": [
       "(336, 53)"
      ]
     },
     "execution_count": 86,
     "metadata": {},
     "output_type": "execute_result"
    }
   ],
   "source": [
    "class red_meats:\n",
    "    df_red_meats = filtered.df_sorted[filtered.df_sorted['NDB_No'] >= 10000]\n",
    "    df_red_meats = df_red_meats[df_red_meats['NDB_No'] < 10999]\n",
    "red_meats.df_red_meats.shape"
   ]
  },
  {
   "cell_type": "code",
   "execution_count": 87,
   "metadata": {},
   "outputs": [
    {
     "data": {
      "text/plain": [
       "(779, 53)"
      ]
     },
     "execution_count": 87,
     "metadata": {},
     "output_type": "execute_result"
    }
   ],
   "source": [
    "class vegetables:\n",
    "    df_vegetables = filtered.df_sorted[filtered.df_sorted['NDB_No'] >= 11000]\n",
    "    df_vegetables = df_vegetables[df_vegetables['NDB_No'] < 11999]\n",
    "vegetables.df_vegetables.shape"
   ]
  },
  {
   "cell_type": "code",
   "execution_count": 88,
   "metadata": {},
   "outputs": [
    {
     "data": {
      "text/plain": [
       "(132, 53)"
      ]
     },
     "execution_count": 88,
     "metadata": {},
     "output_type": "execute_result"
    }
   ],
   "source": [
    "class nuts_n_seeds:\n",
    "    df_nutsnseeds = filtered.df_sorted[filtered.df_sorted['NDB_No'] >= 12000]\n",
    "    df_nutsnseeds = df_nutsnseeds[df_nutsnseeds['NDB_No'] < 12739]\n",
    "nuts_n_seeds.df_nutsnseeds.shape"
   ]
  },
  {
   "cell_type": "code",
   "execution_count": 89,
   "metadata": {},
   "outputs": [
    {
     "data": {
      "text/plain": [
       "(380, 53)"
      ]
     },
     "execution_count": 89,
     "metadata": {},
     "output_type": "execute_result"
    }
   ],
   "source": [
    "13-13986\n",
    "class beef_products:\n",
    "    df_beef_prod = filtered.df_sorted[filtered.df_sorted['NDB_No'] >= 13000]\n",
    "    df_beef_prod = df_beef_prod[df_beef_prod['NDB_No'] < 13986]\n",
    "beef_products.df_beef_prod.shape"
   ]
  },
  {
   "cell_type": "code",
   "execution_count": 90,
   "metadata": {},
   "outputs": [
    {
     "data": {
      "text/plain": [
       "(323, 53)"
      ]
     },
     "execution_count": 90,
     "metadata": {},
     "output_type": "execute_result"
    }
   ],
   "source": [
    "class beverages:\n",
    "    df_beverages = filtered.df_sorted[filtered.df_sorted['NDB_No'] >= 14000]\n",
    "    df_beverages = df_beverages[df_beverages['NDB_No'] < 14655]\n",
    "beverages.df_beverages.shape"
   ]
  },
  {
   "cell_type": "code",
   "execution_count": 91,
   "metadata": {},
   "outputs": [
    {
     "data": {
      "text/plain": [
       "(259, 53)"
      ]
     },
     "execution_count": 91,
     "metadata": {},
     "output_type": "execute_result"
    }
   ],
   "source": [
    "class fish:\n",
    "    df_fish = filtered.df_sorted[filtered.df_sorted['NDB_No'] >= 15000]\n",
    "    df_fish = df_fish[df_fish['NDB_No'] < 15275]\n",
    "fish.df_fish.shape"
   ]
  },
  {
   "cell_type": "code",
   "execution_count": 92,
   "metadata": {},
   "outputs": [
    {
     "data": {
      "text/plain": [
       "(356, 53)"
      ]
     },
     "execution_count": 92,
     "metadata": {},
     "output_type": "execute_result"
    }
   ],
   "source": [
    "class legumes:#and legume products\n",
    "    df_legumes = filtered.df_sorted[filtered.df_sorted['NDB_No'] >= 16000]\n",
    "    df_legumes = df_legumes[df_legumes['NDB_No'] < 16620]\n",
    "legumes.df_legumes.shape"
   ]
  },
  {
   "cell_type": "code",
   "execution_count": 93,
   "metadata": {},
   "outputs": [
    {
     "data": {
      "text/plain": [
       "(464, 53)"
      ]
     },
     "execution_count": 93,
     "metadata": {},
     "output_type": "execute_result"
    }
   ],
   "source": [
    "class lamb_veal_game:#products\n",
    "    df_lamb_veal_game = filtered.df_sorted[filtered.df_sorted['NDB_No'] >= 17000]\n",
    "    df_lamb_veal_game = df_lamb_veal_game[df_lamb_veal_game['NDB_No'] < 17465]\n",
    "lamb_veal_game.df_lamb_veal_game.shape"
   ]
  },
  {
   "cell_type": "code",
   "execution_count": 94,
   "metadata": {},
   "outputs": [
    {
     "data": {
      "text/plain": [
       "(370, 53)"
      ]
     },
     "execution_count": 94,
     "metadata": {},
     "output_type": "execute_result"
    }
   ],
   "source": [
    "class baked:#products\n",
    "    df_baked = filtered.df_sorted[filtered.df_sorted['NDB_No'] >= 18000]\n",
    "    df_baked = df_baked[df_baked['NDB_No'] < 19000]\n",
    "baked.df_baked.shape"
   ]
  },
  {
   "cell_type": "code",
   "execution_count": 95,
   "metadata": {},
   "outputs": [
    {
     "data": {
      "text/plain": [
       "(223, 53)"
      ]
     },
     "execution_count": 95,
     "metadata": {},
     "output_type": "execute_result"
    }
   ],
   "source": [
    "class sweets:#products\n",
    "    df_sweets = filtered.df_sorted[filtered.df_sorted['NDB_No'] >= 19000]\n",
    "    df_sweets = df_sweets[df_sweets['NDB_No'] < 19925]\n",
    "sweets.df_sweets.shape"
   ]
  },
  {
   "cell_type": "code",
   "execution_count": 96,
   "metadata": {},
   "outputs": [
    {
     "data": {
      "text/plain": [
       "(180, 53)"
      ]
     },
     "execution_count": 96,
     "metadata": {},
     "output_type": "execute_result"
    }
   ],
   "source": [
    "class whole_grain:#products\n",
    "    df_whole_grain = filtered.df_sorted[filtered.df_sorted['NDB_No'] >= 20000]\n",
    "    df_whole_grain = df_whole_grain[df_whole_grain['NDB_No'] < 20658]\n",
    "whole_grain.df_whole_grain.shape"
   ]
  },
  {
   "cell_type": "code",
   "execution_count": 97,
   "metadata": {},
   "outputs": [
    {
     "data": {
      "text/plain": [
       "(356, 53)"
      ]
     },
     "execution_count": 97,
     "metadata": {},
     "output_type": "execute_result"
    }
   ],
   "source": [
    "class fast_foods:#products\n",
    "    df_fast_food = filtered.df_sorted[filtered.df_sorted['NDB_No'] >= 21000]\n",
    "    df_fast_food = df_fast_food[df_fast_food['NDB_No'] < 21612]\n",
    "fast_foods.df_fast_food.shape"
   ]
  },
  {
   "cell_type": "code",
   "execution_count": 98,
   "metadata": {},
   "outputs": [
    {
     "data": {
      "text/plain": [
       "(685, 53)"
      ]
     },
     "execution_count": 98,
     "metadata": {},
     "output_type": "execute_result"
    }
   ],
   "source": [
    "class processed_foods:#products\n",
    "    df_processed_foods = filtered.df_sorted[filtered.df_sorted['NDB_No'] >= 22110]\n",
    "    df_processed_foods = df_processed_foods[df_processed_foods['NDB_No'] < 23661]\n",
    "processed_foods.df_processed_foods.shape"
   ]
  },
  {
   "cell_type": "code",
   "execution_count": 99,
   "metadata": {},
   "outputs": [
    {
     "data": {
      "text/plain": [
       "(32, 53)"
      ]
     },
     "execution_count": 99,
     "metadata": {},
     "output_type": "execute_result"
    }
   ],
   "source": [
    "class snacks:#products\n",
    "    df_snacks = filtered.df_sorted[filtered.df_sorted['NDB_No'] >= 25000]\n",
    "    df_snacks = df_snacks[df_snacks['NDB_No'] < 25072]\n",
    "snacks.df_snacks.shape"
   ]
  },
  {
   "cell_type": "code",
   "execution_count": 100,
   "metadata": {},
   "outputs": [
    {
     "data": {
      "text/plain": [
       "(46, 53)"
      ]
     },
     "execution_count": 100,
     "metadata": {},
     "output_type": "execute_result"
    }
   ],
   "source": [
    "class soups_sauces_gravies:#products\n",
    "    df_soupsaucegravy = filtered.df_sorted[filtered.df_sorted['NDB_No'] >= 27000]\n",
    "    df_soupsaucegravy = df_soupsaucegravy[df_soupsaucegravy['NDB_No'] < 27069]\n",
    "soups_sauces_gravies.df_soupsaucegravy.shape"
   ]
  },
  {
   "cell_type": "code",
   "execution_count": 101,
   "metadata": {},
   "outputs": [
    {
     "data": {
      "text/plain": [
       "(221, 53)"
      ]
     },
     "execution_count": 101,
     "metadata": {},
     "output_type": "execute_result"
    }
   ],
   "source": [
    "class cookies:#products\n",
    "    df_cookies = filtered.df_sorted[filtered.df_sorted['NDB_No'] >= 28000]\n",
    "    df_cookies = df_cookies[df_cookies['NDB_No'] < 28400]\n",
    "cookies.df_cookies.shape"
   ]
  },
  {
   "cell_type": "code",
   "execution_count": 102,
   "metadata": {},
   "outputs": [
    {
     "data": {
      "text/plain": [
       "(33, 53)"
      ]
     },
     "execution_count": 102,
     "metadata": {},
     "output_type": "execute_result"
    }
   ],
   "source": [
    "class vegetable:#products\n",
    "    df_vegprod = filtered.df_sorted[filtered.df_sorted['NDB_No'] >= 31000]\n",
    "    df_vegprod = df_vegprod[df_vegprod['NDB_No'] < 31037]\n",
    "vegetable.df_vegprod.shape"
   ]
  },
  {
   "cell_type": "code",
   "execution_count": 103,
   "metadata": {},
   "outputs": [
    {
     "data": {
      "text/plain": [
       "(36, 53)"
      ]
     },
     "execution_count": 103,
     "metadata": {},
     "output_type": "execute_result"
    }
   ],
   "source": [
    "class starchy_food:#products\n",
    "    df_starchy = filtered.df_sorted[filtered.df_sorted['NDB_No'] >= 32000]\n",
    "    df_starchy = df_starchy[df_starchy['NDB_No'] < 32037]\n",
    "starchy_food.df_starchy.shape"
   ]
  },
  {
   "cell_type": "code",
   "execution_count": 104,
   "metadata": {},
   "outputs": [
    {
     "data": {
      "text/plain": [
       "(7, 53)"
      ]
     },
     "execution_count": 104,
     "metadata": {},
     "output_type": "execute_result"
    }
   ],
   "source": [
    "class inf_formula:#inf stands for formerly infection formula\n",
    "    df_inf = filtered.df_sorted[filtered.df_sorted['NDB_No'] >= 33862]\n",
    "    df_inf = df_inf[df_inf['NDB_No'] < 33880]\n",
    "inf_formula.df_inf.shape"
   ]
  },
  {
   "cell_type": "code",
   "execution_count": 105,
   "metadata": {},
   "outputs": [
    {
     "data": {
      "text/plain": [
       "(164, 53)"
      ]
     },
     "execution_count": 105,
     "metadata": {},
     "output_type": "execute_result"
    }
   ],
   "source": [
    "class aioranf:#aioranf stands for American Indian/Alaska Native Foods\n",
    "    df_aioranf = filtered.df_sorted[filtered.df_sorted['NDB_No'] >= 35000]\n",
    "    df_aioranf = df_aioranf[df_aioranf['NDB_No'] < 35241]\n",
    "aioranf.df_aioranf.shape"
   ]
  },
  {
   "cell_type": "code",
   "execution_count": 106,
   "metadata": {},
   "outputs": [
    {
     "data": {
      "text/plain": [
       "(109, 53)"
      ]
     },
     "execution_count": 106,
     "metadata": {},
     "output_type": "execute_result"
    }
   ],
   "source": [
    "class restaurant:#foods\n",
    "    df_res = filtered.df_sorted[filtered.df_sorted['NDB_No'] >= 36000]\n",
    "    df_res = df_res[df_res['NDB_No'] < 36634]\n",
    "restaurant.df_res.shape"
   ]
  },
  {
   "cell_type": "code",
   "execution_count": 107,
   "metadata": {},
   "outputs": [
    {
     "data": {
      "text/plain": [
       "(63, 53)"
      ]
     },
     "execution_count": 107,
     "metadata": {},
     "output_type": "execute_result"
    }
   ],
   "source": [
    "class sweets2:#foods\n",
    "    df_sweets2 = filtered.df_sorted[filtered.df_sorted['NDB_No'] >= 42040]\n",
    "    df_sweets2 = df_sweets2[df_sweets2['NDB_No'] < 42317]\n",
    "sweets2.df_sweets2.shape"
   ]
  },
  {
   "cell_type": "code",
   "execution_count": 108,
   "metadata": {},
   "outputs": [
    {
     "data": {
      "text/plain": [
       "(121, 53)"
      ]
     },
     "execution_count": 108,
     "metadata": {},
     "output_type": "execute_result"
    }
   ],
   "source": [
    "class desserts:#foods\n",
    "    df_dessert = filtered.df_sorted[filtered.df_sorted['NDB_No'] >= 43000]\n",
    "    df_dessert = df_dessert[df_dessert['NDB_No'] < 43599]\n",
    "desserts.df_dessert.shape"
   ]
  },
  {
   "cell_type": "code",
   "execution_count": 109,
   "metadata": {},
   "outputs": [
    {
     "data": {
      "text/plain": [
       "(8, 53)"
      ]
     },
     "execution_count": 109,
     "metadata": {},
     "output_type": "execute_result"
    }
   ],
   "source": [
    "class dietary_lipids:#foods\n",
    "    df_dlipids = filtered.df_sorted[filtered.df_sorted['NDB_No'] >= 44000]\n",
    "    df_dlipids = df_dlipids[df_dlipids['NDB_No'] < 44261]\n",
    "dietary_lipids.df_dlipids.shape"
   ]
  },
  {
   "cell_type": "code",
   "execution_count": 110,
   "metadata": {},
   "outputs": [
    {
     "data": {
      "text/plain": [
       "(1, 53)"
      ]
     },
     "execution_count": 110,
     "metadata": {},
     "output_type": "execute_result"
    }
   ],
   "source": [
    "class hppbma:#high protein plant-based meal alternative\n",
    "    df_hppbma = filtered.df_sorted[filtered.df_sorted['NDB_No'] == 48052]\n",
    "hppbma.df_hppbma.shape"
   ]
  },
  {
   "cell_type": "markdown",
   "metadata": {},
   "source": [
    "# Trying pickle"
   ]
  },
  {
   "cell_type": "code",
   "execution_count": 15,
   "metadata": {},
   "outputs": [],
   "source": [
    "pickle.dump(df1, open('example.pkl','wb'))"
   ]
  },
  {
   "cell_type": "code",
   "execution_count": 5,
   "metadata": {},
   "outputs": [],
   "source": [
    "unpickled = pickle.load(open('example.pkl', 'rb'))"
   ]
  },
  {
   "cell_type": "code",
   "execution_count": 28,
   "metadata": {},
   "outputs": [
    {
     "data": {
      "text/html": [
       "<div>\n",
       "<style scoped>\n",
       "    .dataframe tbody tr th:only-of-type {\n",
       "        vertical-align: middle;\n",
       "    }\n",
       "\n",
       "    .dataframe tbody tr th {\n",
       "        vertical-align: top;\n",
       "    }\n",
       "\n",
       "    .dataframe thead th {\n",
       "        text-align: right;\n",
       "    }\n",
       "</style>\n",
       "<table border=\"1\" class=\"dataframe\">\n",
       "  <thead>\n",
       "    <tr style=\"text-align: right;\">\n",
       "      <th></th>\n",
       "      <th>NDB_No</th>\n",
       "      <th>Shrt_Desc</th>\n",
       "      <th>Water_(g)</th>\n",
       "      <th>Energ_Kcal</th>\n",
       "      <th>Protein_(g)</th>\n",
       "      <th>Lipid_Tot_(g)</th>\n",
       "      <th>Ash_(g)</th>\n",
       "      <th>Carbohydrt_(g)</th>\n",
       "      <th>Fiber_TD_(g)</th>\n",
       "      <th>Sugar_Tot_(g)</th>\n",
       "      <th>...</th>\n",
       "      <th>Vit_K_(µg)</th>\n",
       "      <th>FA_Sat_(g)</th>\n",
       "      <th>FA_Mono_(g)</th>\n",
       "      <th>FA_Poly_(g)</th>\n",
       "      <th>Cholestrl_(mg)</th>\n",
       "      <th>GmWt_1</th>\n",
       "      <th>GmWt_Desc1</th>\n",
       "      <th>GmWt_2</th>\n",
       "      <th>GmWt_Desc2</th>\n",
       "      <th>Refuse_Pct</th>\n",
       "    </tr>\n",
       "  </thead>\n",
       "  <tbody>\n",
       "    <tr>\n",
       "      <th>2099</th>\n",
       "      <td>8692</td>\n",
       "      <td>CEREALS,QUAKER,OATMEAL,REAL MEDLEYS,PEACH ALMO...</td>\n",
       "      <td>8.10</td>\n",
       "      <td>387</td>\n",
       "      <td>10.10</td>\n",
       "      <td>9.84</td>\n",
       "      <td>3.35</td>\n",
       "      <td>68.61</td>\n",
       "      <td>7.4</td>\n",
       "      <td>24.85</td>\n",
       "      <td>...</td>\n",
       "      <td>NaN</td>\n",
       "      <td>1.114</td>\n",
       "      <td>5.242</td>\n",
       "      <td>2.641</td>\n",
       "      <td>0.0</td>\n",
       "      <td>75.0</td>\n",
       "      <td>1 package,  (1 NLEA serving)</td>\n",
       "      <td>NaN</td>\n",
       "      <td>NaN</td>\n",
       "      <td>0.0</td>\n",
       "    </tr>\n",
       "    <tr>\n",
       "      <th>1886</th>\n",
       "      <td>8206</td>\n",
       "      <td>CEREALS RTE,MALT-O-MEAL,COCO-ROOS</td>\n",
       "      <td>2.50</td>\n",
       "      <td>389</td>\n",
       "      <td>3.41</td>\n",
       "      <td>4.61</td>\n",
       "      <td>2.73</td>\n",
       "      <td>86.75</td>\n",
       "      <td>3.3</td>\n",
       "      <td>48.11</td>\n",
       "      <td>...</td>\n",
       "      <td>0.0</td>\n",
       "      <td>2.570</td>\n",
       "      <td>0.887</td>\n",
       "      <td>0.555</td>\n",
       "      <td>0.0</td>\n",
       "      <td>30.0</td>\n",
       "      <td>.75 cup,  (1 NLEA serving)</td>\n",
       "      <td>NaN</td>\n",
       "      <td>NaN</td>\n",
       "      <td>0.0</td>\n",
       "    </tr>\n",
       "    <tr>\n",
       "      <th>1791</th>\n",
       "      <td>8029</td>\n",
       "      <td>CEREALS RTE,POST BRAN FLAKES</td>\n",
       "      <td>3.40</td>\n",
       "      <td>328</td>\n",
       "      <td>9.90</td>\n",
       "      <td>2.10</td>\n",
       "      <td>4.10</td>\n",
       "      <td>80.50</td>\n",
       "      <td>18.3</td>\n",
       "      <td>18.60</td>\n",
       "      <td>...</td>\n",
       "      <td>1.4</td>\n",
       "      <td>0.400</td>\n",
       "      <td>0.300</td>\n",
       "      <td>1.200</td>\n",
       "      <td>0.0</td>\n",
       "      <td>30.0</td>\n",
       "      <td>.75 cup,  (1 NLEA serving)</td>\n",
       "      <td>NaN</td>\n",
       "      <td>NaN</td>\n",
       "      <td>0.0</td>\n",
       "    </tr>\n",
       "    <tr>\n",
       "      <th>1851</th>\n",
       "      <td>8128</td>\n",
       "      <td>CEREALS,OATS,INST,FORT,W/ CINN &amp; SPICE,DRY</td>\n",
       "      <td>6.92</td>\n",
       "      <td>369</td>\n",
       "      <td>9.53</td>\n",
       "      <td>4.84</td>\n",
       "      <td>2.63</td>\n",
       "      <td>76.08</td>\n",
       "      <td>8.0</td>\n",
       "      <td>25.33</td>\n",
       "      <td>...</td>\n",
       "      <td>1.9</td>\n",
       "      <td>0.768</td>\n",
       "      <td>1.487</td>\n",
       "      <td>1.696</td>\n",
       "      <td>0.0</td>\n",
       "      <td>45.0</td>\n",
       "      <td>1 packet</td>\n",
       "      <td>NaN</td>\n",
       "      <td>NaN</td>\n",
       "      <td>0.0</td>\n",
       "    </tr>\n",
       "    <tr>\n",
       "      <th>8607</th>\n",
       "      <td>42236</td>\n",
       "      <td>CEREALS RTE,FRSTD OAT CRL W/MARSHMALLOWS</td>\n",
       "      <td>2.80</td>\n",
       "      <td>400</td>\n",
       "      <td>7.10</td>\n",
       "      <td>3.33</td>\n",
       "      <td>2.27</td>\n",
       "      <td>84.70</td>\n",
       "      <td>4.3</td>\n",
       "      <td>36.13</td>\n",
       "      <td>...</td>\n",
       "      <td>1.4</td>\n",
       "      <td>0.620</td>\n",
       "      <td>1.100</td>\n",
       "      <td>1.280</td>\n",
       "      <td>0.0</td>\n",
       "      <td>30.0</td>\n",
       "      <td>.75 cup,  (1 NLEA serving)</td>\n",
       "      <td>NaN</td>\n",
       "      <td>NaN</td>\n",
       "      <td>0.0</td>\n",
       "    </tr>\n",
       "    <tr>\n",
       "      <th>...</th>\n",
       "      <td>...</td>\n",
       "      <td>...</td>\n",
       "      <td>...</td>\n",
       "      <td>...</td>\n",
       "      <td>...</td>\n",
       "      <td>...</td>\n",
       "      <td>...</td>\n",
       "      <td>...</td>\n",
       "      <td>...</td>\n",
       "      <td>...</td>\n",
       "      <td>...</td>\n",
       "      <td>...</td>\n",
       "      <td>...</td>\n",
       "      <td>...</td>\n",
       "      <td>...</td>\n",
       "      <td>...</td>\n",
       "      <td>...</td>\n",
       "      <td>...</td>\n",
       "      <td>...</td>\n",
       "      <td>...</td>\n",
       "      <td>...</td>\n",
       "    </tr>\n",
       "    <tr>\n",
       "      <th>2071</th>\n",
       "      <td>8662</td>\n",
       "      <td>CEREALS RTE,POST,HONEY BUNCHES OF OATS,W/ REAL...</td>\n",
       "      <td>2.90</td>\n",
       "      <td>399</td>\n",
       "      <td>6.70</td>\n",
       "      <td>4.90</td>\n",
       "      <td>2.20</td>\n",
       "      <td>83.30</td>\n",
       "      <td>5.4</td>\n",
       "      <td>24.00</td>\n",
       "      <td>...</td>\n",
       "      <td>NaN</td>\n",
       "      <td>0.600</td>\n",
       "      <td>2.500</td>\n",
       "      <td>1.500</td>\n",
       "      <td>0.0</td>\n",
       "      <td>31.0</td>\n",
       "      <td>.75 cup,  (1 NLEA serving)</td>\n",
       "      <td>NaN</td>\n",
       "      <td>NaN</td>\n",
       "      <td>0.0</td>\n",
       "    </tr>\n",
       "    <tr>\n",
       "      <th>2013</th>\n",
       "      <td>8574</td>\n",
       "      <td>CEREALS,CRM OF WHT,2 1/2 MIN CK,CKD W/H2O,STOV...</td>\n",
       "      <td>86.20</td>\n",
       "      <td>56</td>\n",
       "      <td>1.44</td>\n",
       "      <td>0.20</td>\n",
       "      <td>0.42</td>\n",
       "      <td>11.74</td>\n",
       "      <td>0.7</td>\n",
       "      <td>0.07</td>\n",
       "      <td>...</td>\n",
       "      <td>0.0</td>\n",
       "      <td>0.051</td>\n",
       "      <td>0.030</td>\n",
       "      <td>0.102</td>\n",
       "      <td>NaN</td>\n",
       "      <td>244.0</td>\n",
       "      <td>1 cup</td>\n",
       "      <td>NaN</td>\n",
       "      <td>NaN</td>\n",
       "      <td>0.0</td>\n",
       "    </tr>\n",
       "    <tr>\n",
       "      <th>1789</th>\n",
       "      <td>8025</td>\n",
       "      <td>CEREALS RTE,RALSTON CRISP RICE</td>\n",
       "      <td>3.62</td>\n",
       "      <td>394</td>\n",
       "      <td>6.69</td>\n",
       "      <td>1.26</td>\n",
       "      <td>2.22</td>\n",
       "      <td>86.22</td>\n",
       "      <td>0.7</td>\n",
       "      <td>12.12</td>\n",
       "      <td>...</td>\n",
       "      <td>0.0</td>\n",
       "      <td>0.360</td>\n",
       "      <td>0.243</td>\n",
       "      <td>0.293</td>\n",
       "      <td>0.0</td>\n",
       "      <td>33.0</td>\n",
       "      <td>1.25 cup,  (1 NLEA serving)</td>\n",
       "      <td>28.0</td>\n",
       "      <td>1 cup</td>\n",
       "      <td>0.0</td>\n",
       "    </tr>\n",
       "    <tr>\n",
       "      <th>2101</th>\n",
       "      <td>8694</td>\n",
       "      <td>CEREALS,QUAKER,INST OATMEAL,WEIGHT CONTROL,CINN</td>\n",
       "      <td>9.09</td>\n",
       "      <td>361</td>\n",
       "      <td>16.50</td>\n",
       "      <td>6.28</td>\n",
       "      <td>3.93</td>\n",
       "      <td>64.21</td>\n",
       "      <td>13.0</td>\n",
       "      <td>1.27</td>\n",
       "      <td>...</td>\n",
       "      <td>NaN</td>\n",
       "      <td>1.207</td>\n",
       "      <td>2.224</td>\n",
       "      <td>1.839</td>\n",
       "      <td>1.0</td>\n",
       "      <td>45.0</td>\n",
       "      <td>1 packet,  (1 NLEA serving)</td>\n",
       "      <td>NaN</td>\n",
       "      <td>NaN</td>\n",
       "      <td>0.0</td>\n",
       "    </tr>\n",
       "    <tr>\n",
       "      <th>1910</th>\n",
       "      <td>8263</td>\n",
       "      <td>CEREALS RTE,GENERAL MILLS,APPL CINN CHEERIOS</td>\n",
       "      <td>2.29</td>\n",
       "      <td>386</td>\n",
       "      <td>8.30</td>\n",
       "      <td>6.09</td>\n",
       "      <td>3.40</td>\n",
       "      <td>79.90</td>\n",
       "      <td>7.3</td>\n",
       "      <td>34.20</td>\n",
       "      <td>...</td>\n",
       "      <td>3.1</td>\n",
       "      <td>1.100</td>\n",
       "      <td>2.790</td>\n",
       "      <td>1.890</td>\n",
       "      <td>0.0</td>\n",
       "      <td>30.0</td>\n",
       "      <td>.75 cup,  (1 NLEA serving)</td>\n",
       "      <td>NaN</td>\n",
       "      <td>NaN</td>\n",
       "      <td>0.0</td>\n",
       "    </tr>\n",
       "  </tbody>\n",
       "</table>\n",
       "<p>197 rows × 53 columns</p>\n",
       "</div>"
      ],
      "text/plain": [
       "      NDB_No                                          Shrt_Desc  Water_(g)  \\\n",
       "2099    8692  CEREALS,QUAKER,OATMEAL,REAL MEDLEYS,PEACH ALMO...       8.10   \n",
       "1886    8206                  CEREALS RTE,MALT-O-MEAL,COCO-ROOS       2.50   \n",
       "1791    8029                       CEREALS RTE,POST BRAN FLAKES       3.40   \n",
       "1851    8128         CEREALS,OATS,INST,FORT,W/ CINN & SPICE,DRY       6.92   \n",
       "8607   42236           CEREALS RTE,FRSTD OAT CRL W/MARSHMALLOWS       2.80   \n",
       "...      ...                                                ...        ...   \n",
       "2071    8662  CEREALS RTE,POST,HONEY BUNCHES OF OATS,W/ REAL...       2.90   \n",
       "2013    8574  CEREALS,CRM OF WHT,2 1/2 MIN CK,CKD W/H2O,STOV...      86.20   \n",
       "1789    8025                     CEREALS RTE,RALSTON CRISP RICE       3.62   \n",
       "2101    8694    CEREALS,QUAKER,INST OATMEAL,WEIGHT CONTROL,CINN       9.09   \n",
       "1910    8263       CEREALS RTE,GENERAL MILLS,APPL CINN CHEERIOS       2.29   \n",
       "\n",
       "      Energ_Kcal  Protein_(g)  Lipid_Tot_(g)  Ash_(g)  Carbohydrt_(g)  \\\n",
       "2099         387        10.10           9.84     3.35           68.61   \n",
       "1886         389         3.41           4.61     2.73           86.75   \n",
       "1791         328         9.90           2.10     4.10           80.50   \n",
       "1851         369         9.53           4.84     2.63           76.08   \n",
       "8607         400         7.10           3.33     2.27           84.70   \n",
       "...          ...          ...            ...      ...             ...   \n",
       "2071         399         6.70           4.90     2.20           83.30   \n",
       "2013          56         1.44           0.20     0.42           11.74   \n",
       "1789         394         6.69           1.26     2.22           86.22   \n",
       "2101         361        16.50           6.28     3.93           64.21   \n",
       "1910         386         8.30           6.09     3.40           79.90   \n",
       "\n",
       "      Fiber_TD_(g)  Sugar_Tot_(g)  ...  Vit_K_(µg)  FA_Sat_(g)  FA_Mono_(g)  \\\n",
       "2099           7.4          24.85  ...         NaN       1.114        5.242   \n",
       "1886           3.3          48.11  ...         0.0       2.570        0.887   \n",
       "1791          18.3          18.60  ...         1.4       0.400        0.300   \n",
       "1851           8.0          25.33  ...         1.9       0.768        1.487   \n",
       "8607           4.3          36.13  ...         1.4       0.620        1.100   \n",
       "...            ...            ...  ...         ...         ...          ...   \n",
       "2071           5.4          24.00  ...         NaN       0.600        2.500   \n",
       "2013           0.7           0.07  ...         0.0       0.051        0.030   \n",
       "1789           0.7          12.12  ...         0.0       0.360        0.243   \n",
       "2101          13.0           1.27  ...         NaN       1.207        2.224   \n",
       "1910           7.3          34.20  ...         3.1       1.100        2.790   \n",
       "\n",
       "      FA_Poly_(g)  Cholestrl_(mg)  GmWt_1                    GmWt_Desc1  \\\n",
       "2099        2.641             0.0    75.0  1 package,  (1 NLEA serving)   \n",
       "1886        0.555             0.0    30.0    .75 cup,  (1 NLEA serving)   \n",
       "1791        1.200             0.0    30.0    .75 cup,  (1 NLEA serving)   \n",
       "1851        1.696             0.0    45.0                      1 packet   \n",
       "8607        1.280             0.0    30.0    .75 cup,  (1 NLEA serving)   \n",
       "...           ...             ...     ...                           ...   \n",
       "2071        1.500             0.0    31.0    .75 cup,  (1 NLEA serving)   \n",
       "2013        0.102             NaN   244.0                         1 cup   \n",
       "1789        0.293             0.0    33.0   1.25 cup,  (1 NLEA serving)   \n",
       "2101        1.839             1.0    45.0   1 packet,  (1 NLEA serving)   \n",
       "1910        1.890             0.0    30.0    .75 cup,  (1 NLEA serving)   \n",
       "\n",
       "      GmWt_2  GmWt_Desc2  Refuse_Pct  \n",
       "2099     NaN         NaN         0.0  \n",
       "1886     NaN         NaN         0.0  \n",
       "1791     NaN         NaN         0.0  \n",
       "1851     NaN         NaN         0.0  \n",
       "8607     NaN         NaN         0.0  \n",
       "...      ...         ...         ...  \n",
       "2071     NaN         NaN         0.0  \n",
       "2013     NaN         NaN         0.0  \n",
       "1789    28.0       1 cup         0.0  \n",
       "2101     NaN         NaN         0.0  \n",
       "1910     NaN         NaN         0.0  \n",
       "\n",
       "[197 rows x 53 columns]"
      ]
     },
     "execution_count": 28,
     "metadata": {},
     "output_type": "execute_result"
    }
   ],
   "source": [
    "ex = unpickled[unpickled['Shrt_Desc'].str.contains('cereal', case=False)]\n",
    "ex"
   ]
  },
  {
   "cell_type": "markdown",
   "metadata": {},
   "source": [
    "# Example Flow & Explanation"
   ]
  },
  {
   "cell_type": "code",
   "execution_count": null,
   "metadata": {},
   "outputs": [],
   "source": [
    "#Let's say this is the user's input in our super-admin page\n",
    "x0 = 'Champorado'\n",
    "x01 = '8790'\n",
    "x1 = '4.56'\n",
    "x2 = '394'\n",
    "x3 = '10.99'\n",
    "x4 = '6.36'\n",
    "x5 = '4.60'\n",
    "x6 = '73.48'"
   ]
  },
  {
   "cell_type": "code",
   "execution_count": null,
   "metadata": {},
   "outputs": [],
   "source": [
    "#Let's limit only our columns first since our input conists of 6 only\n",
    "example_df = df1[['NDB_No','Water_(g)',\n",
    "'Energ_Kcal','Protein_(g)','Lipid_Tot_(g)',\n",
    "'Ash_(g)','Carbohydrt_(g)']]\n",
    "example_df.tail()\n",
    "#our input will be added in our dataframe inside of these \n",
    "# columns presented below"
   ]
  },
  {
   "cell_type": "code",
   "execution_count": null,
   "metadata": {},
   "outputs": [],
   "source": [
    "#we will now add our input to the dataframe\n",
    "new = ['0',x1,x2,x3,x4,x5,x6]\n",
    "new2 = ['0',x0,x1,x2,x3,x4,x5,x6]\n",
    "\n",
    "df1 = df1.append(pd.Series(new2, index=df1.columns[:len(new2)]), ignore_index=True)\n",
    "example_df = example_df.append(pd.Series(new, index=example_df.columns[:len(new)]), ignore_index=True)\n",
    "#our input is now added to our original dataframe and to what dataframe we are using\n",
    "#you might be wondering about 2 variables and 2 appends, \n",
    "# df1 is our original DF and example_df is what we are currently using\n",
    "#we added the input in our original DF because what we just want \n",
    "# to see here is what cluster will this food be included\n",
    "print(example_df.shape)\n",
    "print(df1.shape)"
   ]
  },
  {
   "cell_type": "code",
   "execution_count": null,
   "metadata": {},
   "outputs": [],
   "source": [
    "example_df = example_df.fillna(0) \n",
    "#we will all the NaN or null values inside our \n",
    "#dataframe if the input consists of null data it will now be 0\n",
    "example_df.isnull().sum() \n",
    "#check if there is still NaN in our DF"
   ]
  },
  {
   "cell_type": "code",
   "execution_count": null,
   "metadata": {},
   "outputs": [],
   "source": [
    "ex = StandardScaler().fit_transform(example_df)\n",
    "ex"
   ]
  },
  {
   "cell_type": "code",
   "execution_count": null,
   "metadata": {},
   "outputs": [],
   "source": [
    "kmeans = KMeans(n_clusters=4) \n",
    "\n",
    "# fit kmeans object to data\n",
    "kmeans.fit(ex)"
   ]
  },
  {
   "cell_type": "code",
   "execution_count": null,
   "metadata": {},
   "outputs": [],
   "source": [
    "y_predicted = kmeans.fit_predict(example_df)\n",
    "print(y_predicted)"
   ]
  },
  {
   "cell_type": "code",
   "execution_count": null,
   "metadata": {},
   "outputs": [],
   "source": [
    "example_df['cluster']=y_predicted\n",
    "example_df.head()"
   ]
  },
  {
   "cell_type": "code",
   "execution_count": null,
   "metadata": {},
   "outputs": [],
   "source": [
    "#merge here\n",
    "example_df = example_df[['NDB_No','cluster']]\n",
    "example_df = pd.merge(df1, example_df)\n",
    "example_df.tail()"
   ]
  },
  {
   "cell_type": "markdown",
   "metadata": {},
   "source": [
    "# Finalization"
   ]
  },
  {
   "cell_type": "code",
   "execution_count": 21,
   "metadata": {},
   "outputs": [
    {
     "name": "stdout",
     "output_type": "stream",
     "text": [
      "Food name is ' Sampaloc ' with food id of ' 14197 ' and your cluster is in cluster ' 1 '\n",
      "Your are looking for  yogurt  so here's the list for you\n",
      "      NDB_No                                      Shrt_Desc  Water_(g)  \\\n",
      "1715   16251  SILK VANILLA SOY YOGURT (SINGLE SERVING SIZE)      79.35   \n",
      "2578   16253                     SILK STRAWBERRY SOY YOGURT      77.00   \n",
      "2894   16252                            SILK PLN SOY YOGURT      84.67   \n",
      "3649   16256                   SILK BLACK CHERRY SOY YOGURT      78.18   \n",
      "3787   16254                      SILK RASPBERRY SOY YOGURT      77.59   \n",
      "\n",
      "      Energ_Kcal  Protein_(g)  Lipid_Tot_(g)  Ash_(g)  Carbohydrt_(g)  \\\n",
      "1715          88         2.94           1.76     1.24           14.71   \n",
      "2578          94         2.35           1.18     1.24           18.24   \n",
      "2894          66         2.64           1.76     1.24            9.69   \n",
      "3649          88         2.35           1.18     1.24           17.06   \n",
      "3787          88         2.35           1.18     1.24           17.65   \n",
      "\n",
      "      Fiber_TD_(g)  Sugar_Tot_(g)  ...  FA_Sat_(g)  FA_Mono_(g)  FA_Poly_(g)  \\\n",
      "1715           0.6          10.59  ...        0.00          NaN          NaN   \n",
      "2578           0.6          12.94  ...        0.00          NaN          NaN   \n",
      "2894           0.4           5.29  ...        0.22          NaN          NaN   \n",
      "3649           0.6          11.76  ...        0.00          NaN          NaN   \n",
      "3787           0.6          12.94  ...        0.00          NaN          NaN   \n",
      "\n",
      "      Cholestrl_(mg)  GmWt_1   GmWt_Desc1  GmWt_2  GmWt_Desc2  Refuse_Pct  \\\n",
      "1715             0.0   170.0  1 container     NaN         NaN         0.0   \n",
      "2578             0.0   170.0  1 container     NaN         NaN         0.0   \n",
      "2894             0.0   227.0  1 container     NaN         NaN         0.0   \n",
      "3649             0.0   170.0  1 container     NaN         NaN         0.0   \n",
      "3787             0.0   170.0  1 container     NaN         NaN         0.0   \n",
      "\n",
      "      cluster  \n",
      "1715        1  \n",
      "2578        1  \n",
      "2894        1  \n",
      "3649        1  \n",
      "3787        1  \n",
      "\n",
      "[5 rows x 54 columns]\n"
     ]
    },
    {
     "name": "stderr",
     "output_type": "stream",
     "text": [
      "C:\\Users\\User\\AppData\\Local\\Temp\\ipykernel_14792\\1967472145.py:20: FutureWarning: The frame.append method is deprecated and will be removed from pandas in a future version. Use pandas.concat instead.\n",
      "  example_df = example_df.append(pd.Series(users_inputex,\n",
      "C:\\Users\\User\\AppData\\Local\\Temp\\ipykernel_14792\\1967472145.py:22: FutureWarning: The frame.append method is deprecated and will be removed from pandas in a future version. Use pandas.concat instead.\n",
      "  df1 = df.append(pd.Series(users_inputdf1,\n"
     ]
    }
   ],
   "source": [
    "class example_class:\n",
    "    example_df = df[['NDB_No','Water_(g)','Energ_Kcal',\n",
    "    'Protein_(g)','Lipid_Tot_(g)','Ash_(g)','Carbohydrt_(g)']]\n",
    "\n",
    "    max = int(example_df.iloc[-1]['NDB_No'])\n",
    "\n",
    "    foodId = max+1\n",
    "    food_name = input(\"Food name: \")\n",
    "    data1 = int(input(\"Nutrient 1: \"))\n",
    "    data2 = int(input(\"Nutrient 2: \"))\n",
    "    data3 = int(input(\"Nutrient 3: \"))\n",
    "    data4 = int(input(\"Nutrient 4: \"))\n",
    "    data5 = int(input(\"Nutrient 5: \"))\n",
    "    data6 = int(input(\"Nutrient 6: \"))\n",
    "    answer = input(\"What food are you looking for?\")\n",
    "\n",
    "    users_inputdf1 = [foodId,food_name,data1,data2,data3,data4,data5,data6]\n",
    "    users_inputex = [foodId,data1,data2,data3,data4,data5,data6]\n",
    "\n",
    "    example_df = example_df.append(pd.Series(users_inputex, \n",
    "    index=example_df.columns[:len(users_inputex)]), ignore_index=True)\n",
    "    df1 = df.append(pd.Series(users_inputdf1, \n",
    "    index=df.columns[:len(users_inputdf1)]), ignore_index=True)\n",
    "    #example_df.concat((example_df,users_inputex), axis=0)\n",
    "    \n",
    "    example_df = example_df.fillna(0)\n",
    "\n",
    "    ex = StandardScaler().fit_transform(example_df)\n",
    "\n",
    "    kmeans = KMeans(n_clusters=4)\n",
    "    kmeans.fit(ex)\n",
    "    KMeans(n_clusters=4)\n",
    "\n",
    "    y_predict = kmeans.fit_predict(example_df)\n",
    "    example_df['cluster'] = y_predict\n",
    "    example_df = example_df[['NDB_No','cluster']]\n",
    "    example_df = pd.merge(df1, example_df)\n",
    "\n",
    "    source = example_df[example_df['NDB_No'] == foodId]\n",
    "    final_food_name = source.iloc[-1]['Shrt_Desc']\n",
    "    cluster = source.iloc[-1]['cluster']\n",
    "    final_foodId = source.iloc[-1]['NDB_No']\n",
    "    rer = example_df[example_df['cluster'] == cluster]\n",
    "    rer = rer[rer['Shrt_Desc'].str.contains(answer, case=False)]\n",
    "\n",
    "    print(\"Food name is '\",final_food_name,\"' with food id of '\",final_foodId,\n",
    "    \"' and your cluster is in cluster '\",cluster,\"'\")\n",
    "    print(\"Your are looking for \", answer, \" so here's the list for you\")\n",
    "    print(rer)"
   ]
  },
  {
   "cell_type": "code",
   "execution_count": 175,
   "metadata": {},
   "outputs": [
    {
     "data": {
      "text/html": [
       "<div>\n",
       "<style scoped>\n",
       "    .dataframe tbody tr th:only-of-type {\n",
       "        vertical-align: middle;\n",
       "    }\n",
       "\n",
       "    .dataframe tbody tr th {\n",
       "        vertical-align: top;\n",
       "    }\n",
       "\n",
       "    .dataframe thead th {\n",
       "        text-align: right;\n",
       "    }\n",
       "</style>\n",
       "<table border=\"1\" class=\"dataframe\">\n",
       "  <thead>\n",
       "    <tr style=\"text-align: right;\">\n",
       "      <th></th>\n",
       "      <th>NDB_No</th>\n",
       "      <th>Shrt_Desc</th>\n",
       "      <th>Water_(g)</th>\n",
       "      <th>Energ_Kcal</th>\n",
       "      <th>Protein_(g)</th>\n",
       "      <th>Lipid_Tot_(g)</th>\n",
       "      <th>Ash_(g)</th>\n",
       "      <th>Carbohydrt_(g)</th>\n",
       "      <th>Fiber_TD_(g)</th>\n",
       "      <th>Sugar_Tot_(g)</th>\n",
       "      <th>...</th>\n",
       "      <th>FA_Sat_(g)</th>\n",
       "      <th>FA_Mono_(g)</th>\n",
       "      <th>FA_Poly_(g)</th>\n",
       "      <th>Cholestrl_(mg)</th>\n",
       "      <th>GmWt_1</th>\n",
       "      <th>GmWt_Desc1</th>\n",
       "      <th>GmWt_2</th>\n",
       "      <th>GmWt_Desc2</th>\n",
       "      <th>Refuse_Pct</th>\n",
       "      <th>cluster</th>\n",
       "    </tr>\n",
       "  </thead>\n",
       "  <tbody>\n",
       "    <tr>\n",
       "      <th>4996</th>\n",
       "      <td>13384</td>\n",
       "      <td>BEEF,CHUCK,UNDER BLADE POT RST,BNLESS,LN,0\" FA...</td>\n",
       "      <td>58.79</td>\n",
       "      <td>216</td>\n",
       "      <td>30.68</td>\n",
       "      <td>9.44</td>\n",
       "      <td>1.58</td>\n",
       "      <td>0.0</td>\n",
       "      <td>0.0</td>\n",
       "      <td>0.00</td>\n",
       "      <td>...</td>\n",
       "      <td>3.487</td>\n",
       "      <td>4.164</td>\n",
       "      <td>0.520</td>\n",
       "      <td>102.0</td>\n",
       "      <td>85.0</td>\n",
       "      <td>3 oz</td>\n",
       "      <td>629.0</td>\n",
       "      <td>1 roast</td>\n",
       "      <td>23.0</td>\n",
       "      <td>2</td>\n",
       "    </tr>\n",
       "    <tr>\n",
       "      <th>4997</th>\n",
       "      <td>19328</td>\n",
       "      <td>CANDIES,MARS SNACKFOOD US,COCOAVIA CRISPY CHOC...</td>\n",
       "      <td>1.9</td>\n",
       "      <td>517</td>\n",
       "      <td>8.21</td>\n",
       "      <td>26.23</td>\n",
       "      <td>1.6</td>\n",
       "      <td>62.06</td>\n",
       "      <td>7.8</td>\n",
       "      <td>34.96</td>\n",
       "      <td>...</td>\n",
       "      <td>14.007</td>\n",
       "      <td>NaN</td>\n",
       "      <td>NaN</td>\n",
       "      <td>0.0</td>\n",
       "      <td>20.0</td>\n",
       "      <td>1 serving, 0.7 oz bar</td>\n",
       "      <td>NaN</td>\n",
       "      <td>NaN</td>\n",
       "      <td>0.0</td>\n",
       "      <td>0</td>\n",
       "    </tr>\n",
       "    <tr>\n",
       "      <th>4998</th>\n",
       "      <td>17075</td>\n",
       "      <td>LAMB,NZ,IMP,FRZ,LEG,WHL (SHK&amp;SIRL),LN,CKD,RSTD</td>\n",
       "      <td>63.92</td>\n",
       "      <td>181</td>\n",
       "      <td>27.68</td>\n",
       "      <td>7.01</td>\n",
       "      <td>1.52</td>\n",
       "      <td>0.0</td>\n",
       "      <td>0.0</td>\n",
       "      <td>NaN</td>\n",
       "      <td>...</td>\n",
       "      <td>3.050</td>\n",
       "      <td>2.750</td>\n",
       "      <td>0.410</td>\n",
       "      <td>100.0</td>\n",
       "      <td>85.0</td>\n",
       "      <td>3 oz</td>\n",
       "      <td>218.0</td>\n",
       "      <td>1 piece, cooked, excluding refuse (yield from ...</td>\n",
       "      <td>36.0</td>\n",
       "      <td>2</td>\n",
       "    </tr>\n",
       "    <tr>\n",
       "      <th>4999</th>\n",
       "      <td>22906</td>\n",
       "      <td>CHICKEN POT PIE,FRZ ENTREE,PREP</td>\n",
       "      <td>62.58</td>\n",
       "      <td>204</td>\n",
       "      <td>5.11</td>\n",
       "      <td>11.85</td>\n",
       "      <td>1.25</td>\n",
       "      <td>19.21</td>\n",
       "      <td>1.1</td>\n",
       "      <td>2.26</td>\n",
       "      <td>...</td>\n",
       "      <td>4.365</td>\n",
       "      <td>3.613</td>\n",
       "      <td>3.302</td>\n",
       "      <td>15.0</td>\n",
       "      <td>302.0</td>\n",
       "      <td>1 pie</td>\n",
       "      <td>NaN</td>\n",
       "      <td>NaN</td>\n",
       "      <td>0.0</td>\n",
       "      <td>0</td>\n",
       "    </tr>\n",
       "    <tr>\n",
       "      <th>5000</th>\n",
       "      <td>22907</td>\n",
       "      <td>ryko</td>\n",
       "      <td>2</td>\n",
       "      <td>3</td>\n",
       "      <td>2</td>\n",
       "      <td>4</td>\n",
       "      <td>5</td>\n",
       "      <td>2</td>\n",
       "      <td>NaN</td>\n",
       "      <td>NaN</td>\n",
       "      <td>...</td>\n",
       "      <td>NaN</td>\n",
       "      <td>NaN</td>\n",
       "      <td>NaN</td>\n",
       "      <td>NaN</td>\n",
       "      <td>NaN</td>\n",
       "      <td>NaN</td>\n",
       "      <td>NaN</td>\n",
       "      <td>NaN</td>\n",
       "      <td>NaN</td>\n",
       "      <td>0</td>\n",
       "    </tr>\n",
       "  </tbody>\n",
       "</table>\n",
       "<p>5 rows × 54 columns</p>\n",
       "</div>"
      ],
      "text/plain": [
       "      NDB_No                                          Shrt_Desc Water_(g)  \\\n",
       "4996   13384  BEEF,CHUCK,UNDER BLADE POT RST,BNLESS,LN,0\" FA...     58.79   \n",
       "4997   19328  CANDIES,MARS SNACKFOOD US,COCOAVIA CRISPY CHOC...       1.9   \n",
       "4998   17075     LAMB,NZ,IMP,FRZ,LEG,WHL (SHK&SIRL),LN,CKD,RSTD     63.92   \n",
       "4999   22906                    CHICKEN POT PIE,FRZ ENTREE,PREP     62.58   \n",
       "5000   22907                                               ryko         2   \n",
       "\n",
       "     Energ_Kcal Protein_(g) Lipid_Tot_(g) Ash_(g) Carbohydrt_(g)  \\\n",
       "4996        216       30.68          9.44    1.58            0.0   \n",
       "4997        517        8.21         26.23     1.6          62.06   \n",
       "4998        181       27.68          7.01    1.52            0.0   \n",
       "4999        204        5.11         11.85    1.25          19.21   \n",
       "5000          3           2             4       5              2   \n",
       "\n",
       "      Fiber_TD_(g)  Sugar_Tot_(g)  ...  FA_Sat_(g)  FA_Mono_(g)  FA_Poly_(g)  \\\n",
       "4996           0.0           0.00  ...       3.487        4.164        0.520   \n",
       "4997           7.8          34.96  ...      14.007          NaN          NaN   \n",
       "4998           0.0            NaN  ...       3.050        2.750        0.410   \n",
       "4999           1.1           2.26  ...       4.365        3.613        3.302   \n",
       "5000           NaN            NaN  ...         NaN          NaN          NaN   \n",
       "\n",
       "      Cholestrl_(mg)  GmWt_1             GmWt_Desc1  GmWt_2  \\\n",
       "4996           102.0    85.0                   3 oz   629.0   \n",
       "4997             0.0    20.0  1 serving, 0.7 oz bar     NaN   \n",
       "4998           100.0    85.0                   3 oz   218.0   \n",
       "4999            15.0   302.0                  1 pie     NaN   \n",
       "5000             NaN     NaN                    NaN     NaN   \n",
       "\n",
       "                                             GmWt_Desc2  Refuse_Pct  cluster  \n",
       "4996                                            1 roast        23.0        2  \n",
       "4997                                                NaN         0.0        0  \n",
       "4998  1 piece, cooked, excluding refuse (yield from ...        36.0        2  \n",
       "4999                                                NaN         0.0        0  \n",
       "5000                                                NaN         NaN        0  \n",
       "\n",
       "[5 rows x 54 columns]"
      ]
     },
     "execution_count": 175,
     "metadata": {},
     "output_type": "execute_result"
    }
   ],
   "source": [
    "example_class.example_df.tail()"
   ]
  },
  {
   "cell_type": "markdown",
   "metadata": {},
   "source": [
    "**Trial and error section**"
   ]
  },
  {
   "cell_type": "code",
   "execution_count": 184,
   "metadata": {},
   "outputs": [
    {
     "name": "stdout",
     "output_type": "stream",
     "text": [
      "1\n"
     ]
    },
    {
     "name": "stderr",
     "output_type": "stream",
     "text": [
      "c:\\Users\\User\\anaconda3\\lib\\site-packages\\sklearn\\base.py:450: UserWarning: X does not have valid feature names, but KMeans was fitted with feature names\n",
      "  warnings.warn(\n"
     ]
    }
   ],
   "source": [
    "class predict:\n",
    "    #data = [2,2,2,2,2,2,4]\n",
    "    data = example_class.kmeans.predict([[3,6,9,12,15,18,21]])\n",
    "    \n",
    "    print(int(data))"
   ]
  },
  {
   "cell_type": "code",
   "execution_count": 46,
   "metadata": {},
   "outputs": [
    {
     "data": {
      "text/html": [
       "<div>\n",
       "<style scoped>\n",
       "    .dataframe tbody tr th:only-of-type {\n",
       "        vertical-align: middle;\n",
       "    }\n",
       "\n",
       "    .dataframe tbody tr th {\n",
       "        vertical-align: top;\n",
       "    }\n",
       "\n",
       "    .dataframe thead th {\n",
       "        text-align: right;\n",
       "    }\n",
       "</style>\n",
       "<table border=\"1\" class=\"dataframe\">\n",
       "  <thead>\n",
       "    <tr style=\"text-align: right;\">\n",
       "      <th></th>\n",
       "      <th>NDB_No</th>\n",
       "      <th>Water_(g)</th>\n",
       "      <th>Energ_Kcal</th>\n",
       "      <th>Protein_(g)</th>\n",
       "      <th>Lipid_Tot_(g)</th>\n",
       "      <th>Ash_(g)</th>\n",
       "      <th>Carbohydrt_(g)</th>\n",
       "      <th>0</th>\n",
       "    </tr>\n",
       "  </thead>\n",
       "  <tbody>\n",
       "    <tr>\n",
       "      <th>8792</th>\n",
       "      <td>NaN</td>\n",
       "      <td>NaN</td>\n",
       "      <td>NaN</td>\n",
       "      <td>NaN</td>\n",
       "      <td>NaN</td>\n",
       "      <td>NaN</td>\n",
       "      <td>NaN</td>\n",
       "      <td>1.0</td>\n",
       "    </tr>\n",
       "    <tr>\n",
       "      <th>8793</th>\n",
       "      <td>NaN</td>\n",
       "      <td>NaN</td>\n",
       "      <td>NaN</td>\n",
       "      <td>NaN</td>\n",
       "      <td>NaN</td>\n",
       "      <td>NaN</td>\n",
       "      <td>NaN</td>\n",
       "      <td>1.0</td>\n",
       "    </tr>\n",
       "    <tr>\n",
       "      <th>8794</th>\n",
       "      <td>NaN</td>\n",
       "      <td>NaN</td>\n",
       "      <td>NaN</td>\n",
       "      <td>NaN</td>\n",
       "      <td>NaN</td>\n",
       "      <td>NaN</td>\n",
       "      <td>NaN</td>\n",
       "      <td>1.0</td>\n",
       "    </tr>\n",
       "    <tr>\n",
       "      <th>8795</th>\n",
       "      <td>NaN</td>\n",
       "      <td>NaN</td>\n",
       "      <td>NaN</td>\n",
       "      <td>NaN</td>\n",
       "      <td>NaN</td>\n",
       "      <td>NaN</td>\n",
       "      <td>NaN</td>\n",
       "      <td>2.0</td>\n",
       "    </tr>\n",
       "    <tr>\n",
       "      <th>8796</th>\n",
       "      <td>NaN</td>\n",
       "      <td>NaN</td>\n",
       "      <td>NaN</td>\n",
       "      <td>NaN</td>\n",
       "      <td>NaN</td>\n",
       "      <td>NaN</td>\n",
       "      <td>NaN</td>\n",
       "      <td>3.0</td>\n",
       "    </tr>\n",
       "  </tbody>\n",
       "</table>\n",
       "</div>"
      ],
      "text/plain": [
       "      NDB_No  Water_(g)  Energ_Kcal  Protein_(g)  Lipid_Tot_(g)  Ash_(g)  \\\n",
       "8792     NaN        NaN         NaN          NaN            NaN      NaN   \n",
       "8793     NaN        NaN         NaN          NaN            NaN      NaN   \n",
       "8794     NaN        NaN         NaN          NaN            NaN      NaN   \n",
       "8795     NaN        NaN         NaN          NaN            NaN      NaN   \n",
       "8796     NaN        NaN         NaN          NaN            NaN      NaN   \n",
       "\n",
       "      Carbohydrt_(g)    0  \n",
       "8792             NaN  1.0  \n",
       "8793             NaN  1.0  \n",
       "8794             NaN  1.0  \n",
       "8795             NaN  2.0  \n",
       "8796             NaN  3.0  "
      ]
     },
     "execution_count": 46,
     "metadata": {},
     "output_type": "execute_result"
    }
   ],
   "source": [
    "#trying concat with series\n",
    "class wiwiwi:\n",
    "    df = df1[['NDB_No','Water_(g)','Energ_Kcal',\n",
    "    'Protein_(g)','Lipid_Tot_(g)','Ash_(g)','Carbohydrt_(g)']]\n",
    "    dff = pd.DataFrame([1,1,1,1,1,2,3])\n",
    "    dd = pd.concat([df,dff], axis=0, ignore_index=True)\n",
    "#wiwiwi.dd.tail()\n",
    "wiwiwi.dd.tail()\n"
   ]
  },
  {
   "cell_type": "code",
   "execution_count": null,
   "metadata": {},
   "outputs": [],
   "source": [
    "#di nagamit\n",
    "pickle.dump(example_class, open('example.pkl','wb'))"
   ]
  },
  {
   "cell_type": "code",
   "execution_count": null,
   "metadata": {},
   "outputs": [],
   "source": [
    "#print(example_df.tail())\n",
    "#print(example_df.shape)\n",
    "print(df1.shape)\n",
    "df1.tail()"
   ]
  },
  {
   "cell_type": "code",
   "execution_count": null,
   "metadata": {},
   "outputs": [],
   "source": [
    "example = {'id':['10002','10003','10004'],\n",
    "'value':['23232323232323', 'ggg', 'asdasdas']}\n",
    "example = pd.DataFrame(example)\n",
    "\n",
    "#data1 = int(input(\"Nutrient 1: \"))\n",
    "#data2 = input(\"Nutrient 1: \")\n",
    "\n",
    "users_inputdf1 = [data1,data2]\n",
    "example = example.append(pd.Series(users_inputdf1, \n",
    "index=example.columns[:len(users_inputdf1)]), ignore_index=True)\n",
    "\n",
    "max = int(example.iloc[-1]['id'])\n",
    "max = max+1\n",
    "max\n",
    "\n",
    "#max_id = 10002\n",
    "##example['id'] = (max_id + 1, max_id + len(example)+1)\n",
    "\n",
    "#example = pd.DataFrame(df1)\n",
    "#x = (max_id + 1, max_id + len(example) + 1)\n"
   ]
  },
  {
   "cell_type": "markdown",
   "metadata": {},
   "source": [
    "# Pre-processing and Evaluation"
   ]
  },
  {
   "cell_type": "code",
   "execution_count": 133,
   "metadata": {},
   "outputs": [
    {
     "name": "stderr",
     "output_type": "stream",
     "text": [
      "C:\\Users\\User\\AppData\\Local\\Temp\\ipykernel_44160\\3742223225.py:2: FutureWarning: Dropping of nuisance columns in DataFrame reductions (with 'numeric_only=None') is deprecated; in a future version this will raise TypeError.  Select only valid columns before calling the reduction.\n",
      "  df = df.fillna(df.median())\n"
     ]
    },
    {
     "data": {
      "image/png": "[encoded data removed]",
      "text/plain": [
       "<Figure size 576x396 with 1 Axes>"
      ]
     },
     "metadata": {},
     "output_type": "display_data"
    },
    {
     "name": "stdout",
     "output_type": "stream",
     "text": [
      "Cluster number 2 Score 0.6215935271156097\n",
      "Cluster number 3 Score 0.24104484057272738\n",
      "Cluster number 4 Score 0.15539898538609975\n",
      "Cluster number 5 Score 0.1657497894377143\n",
      "Cluster number 6 Score 0.18541261483837193\n"
     ]
    }
   ],
   "source": [
    "#overall code in preprocessing\n",
    "class preprocess:\n",
    "    df = df.fillna(df.median())\n",
    "    df = df.fillna('No Data')\n",
    "\n",
    "    le = LabelEncoder()\n",
    "    df['GmWt_Desc2'] = le.fit_transform(df['GmWt_Desc2'])\n",
    "    df['GmWt_Desc1'] = le.fit_transform(df['GmWt_Desc1'])\n",
    "\n",
    "    #in_max_scaler = MinMaxScaler()\n",
    "    in_standard_scaler = StandardScaler()\n",
    "    feature = ['Water_(g)', 'Energ_Kcal', 'Protein_(g)',\n",
    "       'Lipid_Tot_(g)', 'Ash_(g)', 'Carbohydrt_(g)', 'Fiber_TD_(g)',\n",
    "       'Sugar_Tot_(g)', 'Calcium_(mg)', 'Iron_(mg)', 'Magnesium_(mg)',\n",
    "       'Phosphorus_(mg)', 'Potassium_(mg)', 'Sodium_(mg)', 'Zinc_(mg)',\n",
    "       'Copper_mg)', 'Manganese_(mg)', 'Selenium_(µg)', 'Vit_C_(mg)',\n",
    "       'Thiamin_(mg)', 'Riboflavin_(mg)', 'Niacin_(mg)', 'Panto_Acid_mg)',\n",
    "       'Vit_B6_(mg)', 'Folate_Tot_(µg)', 'Folic_Acid_(µg)', 'Food_Folate_(µg)',\n",
    "       'Folate_DFE_(µg)', 'Choline_Tot_ (mg)', 'Vit_B12_(µg)', 'Vit_A_IU',\n",
    "       'Vit_A_RAE', 'Retinol_(µg)', 'Alpha_Carot_(µg)', 'Beta_Carot_(µg)',\n",
    "       'Beta_Crypt_(µg)', 'Lycopene_(µg)', 'Lut+Zea_ (µg)', 'Vit_E_(mg)',\n",
    "       'Vit_D_µg', 'Vit_D_IU', 'Vit_K_(µg)', 'FA_Sat_(g)', 'FA_Mono_(g)',\n",
    "       'FA_Poly_(g)', 'Cholestrl_(mg)', 'GmWt_1', 'GmWt_Desc1', 'GmWt_2',\n",
    "       'GmWt_Desc2', 'Refuse_Pct']\n",
    "    #msc = in_max_scaler.fit_transform(df[feature])\n",
    "    ssc = in_standard_scaler.fit_transform(df[feature])\n",
    "    \n",
    "    pca = PCA(n_components=0.95)\n",
    "    numpy_arr = pca.fit_transform(ssc)\n",
    "    sspca = pd.DataFrame(data=numpy_arr.flatten())\n",
    "    \n",
    "    kmeans = KMeans(n_clusters=4, random_state=2)\n",
    "    #dsd = df[feature]\n",
    "    kmeans.fit(numpy_arr)\n",
    "    #sss = pd.DataFrame(df[feature]).to_numpy()\n",
    "    #plt.scatter(sss[:,0], sss[:,1])\n",
    "    clusters = kmeans.cluster_centers_\n",
    "    y_km = kmeans.fit_predict(numpy_arr)\n",
    "        \n",
    "    plt.scatter(numpy_arr[y_km == 0,0], numpy_arr[y_km == 0,1], s=50, color='red')\n",
    "    plt.scatter(numpy_arr[y_km == 1,0], numpy_arr[y_km == 1,1], s=50, color='blue')\n",
    "    plt.scatter(numpy_arr[y_km == 2,0], numpy_arr[y_km == 2,1], s=50, color='yellow')\n",
    "    plt.scatter(numpy_arr[y_km == 3,0], numpy_arr[y_km == 3,1], s=50, color='green')\n",
    "\n",
    "    plt.scatter(clusters[0][0], clusters[0][1], marker='*', s=150, color='black')\n",
    "    plt.scatter(clusters[1][0], clusters[1][1], marker='*', s=150, color='black')\n",
    "    plt.scatter(clusters[2][0], clusters[2][1], marker='*', s=150, color='black')\n",
    "    plt.scatter(clusters[3][0], clusters[3][1], marker='*', s=150, color='black')\n",
    "    plt.title('My dataset')\n",
    "    plt.show()\n",
    "    \n",
    "class silhouette:\n",
    "    no_of_clusters = [2,3,4,5,6]\n",
    "    for n_clusters in no_of_clusters:\n",
    "        cluster = KMeans(n_clusters = n_clusters)\n",
    "        cluster_labels = cluster.fit_predict(preprocess.numpy_arr)\n",
    "        silhouette_avg = silhouette_score(preprocess.numpy_arr, cluster_labels)\n",
    "\n",
    "        print(\"Cluster number\", n_clusters, \"Score\", silhouette_avg)"
   ]
  },
  {
   "cell_type": "markdown",
   "metadata": {},
   "source": [
    "*5/7 repeatition with 5000 samples, cluster 4 is consistent in rounded value of 0.11 - 0.24 which is close and near to 0. Therefore cluster number 4 is also a good choice in choosing for a value of K*"
   ]
  },
  {
   "cell_type": "code",
   "execution_count": 148,
   "metadata": {},
   "outputs": [
    {
     "name": "stdout",
     "output_type": "stream",
     "text": [
      "[0.9057703  0.96495689 0.92966044 0.93362136 0.59887011 0.55381853\n",
      " 0.76143424 0.65931489 0.50962674 0.83601025 0.41774002 1.31095721\n",
      " 1.04625919 0.51317188 0.52466394 0.79716244 0.76945591 0.8873252\n",
      " 1.19392574 0.94981655 1.04288226 0.76085424 0.98242607 0.66392539\n",
      " 0.55543225 0.73077648 0.52776016 0.93094473 0.76048415 0.4936707\n",
      " 0.417377   0.54671456 0.31174951]\n",
      "[0.72422175 0.7797817  0.43153962 1.03152807 0.8697507  1.20499611\n",
      " 0.51181568 0.491972   0.79896528 0.68301109 1.19409686 0.76379589\n",
      " 0.89243477 0.59977552 1.09264979 0.88323297 0.64186125 0.68923064\n",
      " 0.47605667 0.89663766 0.54028854 0.46963399 0.48901545 0.50474738\n",
      " 0.43256786 0.48438405 0.78797761 0.29471323 0.53629747 0.3736841\n",
      " 0.29824978 0.25173209 0.30127848]\n",
      "[ 6.63635949  3.24810937 10.50214813  6.64726378  6.61902861  5.20188108\n",
      "  6.69889182  4.67471777  3.97015293  5.14094249  4.21117722  3.22718875\n",
      "  2.55787313  2.96656637  1.81495976  3.49928669  4.16913546  3.93107479\n",
      "  2.7664256   1.47989236  1.76743163  3.26191823  1.42266022  2.54059951\n",
      "  3.04539968  2.36827555  2.06239757  2.05605276  1.93762976  2.3104266\n",
      "  2.45480065  2.26946597  1.82469586]\n",
      "[1.84094112 2.46598762 1.20370508 0.86839227 2.13005798 1.84840847\n",
      " 1.26350931 1.72454093 1.55656407 1.00046458 0.88936371 0.67617648\n",
      " 0.99670442 1.49714891 1.13479751 0.78039086 0.78893145 0.61607675\n",
      " 0.77408954 0.79293615 0.9724896  0.92462445 0.99398514 1.0279934\n",
      " 0.99548349 0.8382493  0.69278694 0.61882897 0.61328002 0.83691506\n",
      " 0.85681884 0.77034533 0.92672634]\n"
     ]
    }
   ],
   "source": [
    "#standard dev per cluster\n",
    "class standard_deviation:\n",
    "    for i in range(4):\n",
    "        print(np.std(preprocess.numpy_arr[preprocess.y_km==i], axis=0))"
   ]
  },
  {
   "cell_type": "code",
   "execution_count": 171,
   "metadata": {},
   "outputs": [
    {
     "name": "stdout",
     "output_type": "stream",
     "text": [
      "(5000, 33)\n",
      "Index(['NDB',     1,     2,     3,     4,     5,     6,     7,     8,     9,\n",
      "          10,    11,    12,    13,    14,    15,    16,    17,    18,    19,\n",
      "          20,    21,    22,    23,    24,    25,    26,    27,    28,    29,\n",
      "          30,    31,    32],\n",
      "      dtype='object')\n"
     ]
    }
   ],
   "source": [
    "#checking for pca's df\n",
    "class pca_df:\n",
    "    print(preprocess.numpy_arr.shape)\n",
    "    numpy_arr = pd.DataFrame(preprocess.numpy_arr)\n",
    "    #print(numpy_arr.head())\n",
    "    numpy_arr.rename(columns = {0:'NDB'}, inplace=True)\n",
    "    print(numpy_arr.columns)"
   ]
  },
  {
   "cell_type": "code",
   "execution_count": 185,
   "metadata": {},
   "outputs": [],
   "source": [
    "original = pd.read_excel('ABBREV.xlsx')"
   ]
  },
  {
   "cell_type": "code",
   "execution_count": 186,
   "metadata": {},
   "outputs": [
    {
     "name": "stdout",
     "output_type": "stream",
     "text": [
      "(8790, 53)\n",
      "(1000, 53)\n"
     ]
    }
   ],
   "source": [
    "print(original.shape)\n",
    "#get only 1000 samples for this trial\n",
    "original = original.sample(n = 1000)\n",
    "print(original.shape)"
   ]
  },
  {
   "cell_type": "code",
   "execution_count": 187,
   "metadata": {},
   "outputs": [],
   "source": [
    "#from string to integer\n",
    "le = LabelEncoder()\n",
    "original['GmWt_Desc2'] = le.fit_transform(original['GmWt_Desc2'])\n",
    "original['GmWt_Desc1'] = le.fit_transform(original['GmWt_Desc1'])"
   ]
  },
  {
   "cell_type": "code",
   "execution_count": 188,
   "metadata": {},
   "outputs": [
    {
     "data": {
      "text/plain": [
       "Index(['NDB_No', 'Shrt_Desc', 'Water_(g)', 'Energ_Kcal', 'Protein_(g)',\n",
       "       'Lipid_Tot_(g)', 'Ash_(g)', 'Carbohydrt_(g)', 'Fiber_TD_(g)',\n",
       "       'Sugar_Tot_(g)', 'Calcium_(mg)', 'Iron_(mg)', 'Magnesium_(mg)',\n",
       "       'Phosphorus_(mg)', 'Potassium_(mg)', 'Sodium_(mg)', 'Zinc_(mg)',\n",
       "       'Copper_mg)', 'Manganese_(mg)', 'Selenium_(µg)', 'Vit_C_(mg)',\n",
       "       'Thiamin_(mg)', 'Riboflavin_(mg)', 'Niacin_(mg)', 'Panto_Acid_mg)',\n",
       "       'Vit_B6_(mg)', 'Folate_Tot_(µg)', 'Folic_Acid_(µg)', 'Food_Folate_(µg)',\n",
       "       'Folate_DFE_(µg)', 'Choline_Tot_ (mg)', 'Vit_B12_(µg)', 'Vit_A_IU',\n",
       "       'Vit_A_RAE', 'Retinol_(µg)', 'Alpha_Carot_(µg)', 'Beta_Carot_(µg)',\n",
       "       'Beta_Crypt_(µg)', 'Lycopene_(µg)', 'Lut+Zea_ (µg)', 'Vit_E_(mg)',\n",
       "       'Vit_D_µg', 'Vit_D_IU', 'Vit_K_(µg)', 'FA_Sat_(g)', 'FA_Mono_(g)',\n",
       "       'FA_Poly_(g)', 'Cholestrl_(mg)', 'GmWt_1', 'GmWt_Desc1', 'GmWt_2',\n",
       "       'GmWt_Desc2', 'Refuse_Pct'],\n",
       "      dtype='object')"
      ]
     },
     "execution_count": 188,
     "metadata": {},
     "output_type": "execute_result"
    }
   ],
   "source": [
    "original.columns"
   ]
  },
  {
   "cell_type": "code",
   "execution_count": 200,
   "metadata": {},
   "outputs": [],
   "source": [
    "feature = ['Water_(g)', 'Energ_Kcal', 'Protein_(g)',\n",
    "       'Lipid_Tot_(g)', 'Ash_(g)', 'Carbohydrt_(g)', 'Fiber_TD_(g)',\n",
    "       'Sugar_Tot_(g)', 'Calcium_(mg)', 'Iron_(mg)', 'Magnesium_(mg)',\n",
    "       'Phosphorus_(mg)', 'Potassium_(mg)', 'Sodium_(mg)', 'Zinc_(mg)',\n",
    "       'Copper_mg)', 'Manganese_(mg)', 'Selenium_(µg)', 'Vit_C_(mg)',\n",
    "       'Thiamin_(mg)', 'Riboflavin_(mg)', 'Niacin_(mg)', 'Panto_Acid_mg)',\n",
    "       'Vit_B6_(mg)', 'Folate_Tot_(µg)', 'Folic_Acid_(µg)', 'Food_Folate_(µg)',\n",
    "       'Folate_DFE_(µg)', 'Choline_Tot_ (mg)', 'Vit_B12_(µg)', 'Vit_A_IU',\n",
    "       'Vit_A_RAE', 'Retinol_(µg)', 'Alpha_Carot_(µg)', 'Beta_Carot_(µg)',\n",
    "       'Beta_Crypt_(µg)', 'Lycopene_(µg)', 'Lut+Zea_ (µg)', 'Vit_E_(mg)',\n",
    "       'Vit_D_µg', 'Vit_D_IU', 'Vit_K_(µg)', 'FA_Sat_(g)', 'FA_Mono_(g)',\n",
    "       'FA_Poly_(g)', 'Cholestrl_(mg)', 'GmWt_1', 'GmWt_Desc1', 'GmWt_2',\n",
    "       'GmWt_Desc2', 'Refuse_Pct']\n",
    "\n",
    "nutrientsDf = original[feature]"
   ]
  },
  {
   "cell_type": "code",
   "execution_count": 201,
   "metadata": {},
   "outputs": [
    {
     "data": {
      "text/plain": [
       "Water_(g)              0\n",
       "Energ_Kcal             0\n",
       "Protein_(g)            0\n",
       "Lipid_Tot_(g)          0\n",
       "Ash_(g)               40\n",
       "Carbohydrt_(g)         0\n",
       "Fiber_TD_(g)          57\n",
       "Sugar_Tot_(g)        204\n",
       "Calcium_(mg)          37\n",
       "Iron_(mg)             15\n",
       "Magnesium_(mg)        81\n",
       "Phosphorus_(mg)       64\n",
       "Potassium_(mg)        43\n",
       "Sodium_(mg)            8\n",
       "Zinc_(mg)             77\n",
       "Copper_mg)           143\n",
       "Manganese_(mg)       245\n",
       "Selenium_(µg)        186\n",
       "Vit_C_(mg)            88\n",
       "Thiamin_(mg)          71\n",
       "Riboflavin_(mg)       69\n",
       "Niacin_(mg)           73\n",
       "Panto_Acid_mg)       253\n",
       "Vit_B6_(mg)           96\n",
       "Folate_Tot_(µg)      137\n",
       "Folic_Acid_(µg)      220\n",
       "Food_Folate_(µg)     193\n",
       "Folate_DFE_(µg)      221\n",
       "Choline_Tot_ (mg)    453\n",
       "Vit_B12_(µg)         131\n",
       "Vit_A_IU              81\n",
       "Vit_A_RAE            168\n",
       "Retinol_(µg)         202\n",
       "Alpha_Carot_(µg)     364\n",
       "Beta_Carot_(µg)      345\n",
       "Beta_Crypt_(µg)      364\n",
       "Lycopene_(µg)        365\n",
       "Lut+Zea_ (µg)        368\n",
       "Vit_E_(mg)           333\n",
       "Vit_D_µg             357\n",
       "Vit_D_IU             351\n",
       "Vit_K_(µg)           397\n",
       "FA_Sat_(g)            35\n",
       "FA_Mono_(g)           70\n",
       "FA_Poly_(g)           70\n",
       "Cholestrl_(mg)        38\n",
       "GmWt_1                24\n",
       "GmWt_Desc1             0\n",
       "GmWt_2               460\n",
       "GmWt_Desc2             0\n",
       "Refuse_Pct             5\n",
       "dtype: int64"
      ]
     },
     "execution_count": 201,
     "metadata": {},
     "output_type": "execute_result"
    }
   ],
   "source": [
    "nutrientsDf.isnull().sum()"
   ]
  },
  {
   "cell_type": "code",
   "execution_count": 202,
   "metadata": {},
   "outputs": [
    {
     "data": {
      "text/plain": [
       "Water_(g)            0\n",
       "Energ_Kcal           0\n",
       "Protein_(g)          0\n",
       "Lipid_Tot_(g)        0\n",
       "Ash_(g)              0\n",
       "Carbohydrt_(g)       0\n",
       "Fiber_TD_(g)         0\n",
       "Sugar_Tot_(g)        0\n",
       "Calcium_(mg)         0\n",
       "Iron_(mg)            0\n",
       "Magnesium_(mg)       0\n",
       "Phosphorus_(mg)      0\n",
       "Potassium_(mg)       0\n",
       "Sodium_(mg)          0\n",
       "Zinc_(mg)            0\n",
       "Copper_mg)           0\n",
       "Manganese_(mg)       0\n",
       "Selenium_(µg)        0\n",
       "Vit_C_(mg)           0\n",
       "Thiamin_(mg)         0\n",
       "Riboflavin_(mg)      0\n",
       "Niacin_(mg)          0\n",
       "Panto_Acid_mg)       0\n",
       "Vit_B6_(mg)          0\n",
       "Folate_Tot_(µg)      0\n",
       "Folic_Acid_(µg)      0\n",
       "Food_Folate_(µg)     0\n",
       "Folate_DFE_(µg)      0\n",
       "Choline_Tot_ (mg)    0\n",
       "Vit_B12_(µg)         0\n",
       "Vit_A_IU             0\n",
       "Vit_A_RAE            0\n",
       "Retinol_(µg)         0\n",
       "Alpha_Carot_(µg)     0\n",
       "Beta_Carot_(µg)      0\n",
       "Beta_Crypt_(µg)      0\n",
       "Lycopene_(µg)        0\n",
       "Lut+Zea_ (µg)        0\n",
       "Vit_E_(mg)           0\n",
       "Vit_D_µg             0\n",
       "Vit_D_IU             0\n",
       "Vit_K_(µg)           0\n",
       "FA_Sat_(g)           0\n",
       "FA_Mono_(g)          0\n",
       "FA_Poly_(g)          0\n",
       "Cholestrl_(mg)       0\n",
       "GmWt_1               0\n",
       "GmWt_Desc1           0\n",
       "GmWt_2               0\n",
       "GmWt_Desc2           0\n",
       "Refuse_Pct           0\n",
       "dtype: int64"
      ]
     },
     "execution_count": 202,
     "metadata": {},
     "output_type": "execute_result"
    }
   ],
   "source": [
    "nutrientsDF = nutrientsDf.fillna(nutrientsDf.median())\n",
    "nutrientsDF.isnull().sum()"
   ]
  },
  {
   "cell_type": "code",
   "execution_count": 203,
   "metadata": {},
   "outputs": [
    {
     "data": {
      "text/plain": [
       "array([[ 0.73409781, -0.76254513,  0.42738716, ..., -0.15858002,\n",
       "         0.8322779 ,  1.93570409],\n",
       "       [ 0.8548713 , -0.7508823 ,  0.06564094, ..., -0.15858002,\n",
       "         0.8322779 , -0.39867934],\n",
       "       [-0.90066912,  0.25212128, -1.069059  , ..., -0.15858002,\n",
       "         0.8322779 , -0.39867934],\n",
       "       ...,\n",
       "       [ 0.04757899, -0.07443803,  1.24883232, ..., -0.15858002,\n",
       "         0.8322779 , -0.39867934],\n",
       "       [-0.32819636,  0.08301021, -0.69955415, ..., -0.15858002,\n",
       "         0.8322779 , -0.39867934],\n",
       "       [ 0.09595246,  0.17631287,  1.53105256, ..., -0.12049576,\n",
       "        -1.68782656,  1.5188499 ]])"
      ]
     },
     "execution_count": 203,
     "metadata": {},
     "output_type": "execute_result"
    }
   ],
   "source": [
    "standardScaledX = StandardScaler().fit_transform(nutrientsDF)\n",
    "standardScaledX"
   ]
  },
  {
   "cell_type": "code",
   "execution_count": 204,
   "metadata": {},
   "outputs": [],
   "source": [
    "pca = PCA(n_components=0.95)\n",
    "standardScaledX = pca.fit_transform(standardScaledX)\n",
    "sspca = pd.DataFrame(data=standardScaledX.flatten())"
   ]
  },
  {
   "cell_type": "markdown",
   "metadata": {},
   "source": [
    "**Algorithm**"
   ]
  },
  {
   "cell_type": "code",
   "execution_count": 205,
   "metadata": {},
   "outputs": [],
   "source": [
    "#from kmodes.kmodes import KModes\n",
    "kmeans = KMeans(n_clusters=4, random_state=0).fit(standardScaledX)"
   ]
  },
  {
   "cell_type": "code",
   "execution_count": 206,
   "metadata": {},
   "outputs": [
    {
     "data": {
      "text/plain": [
       "array([[-1.08863598e+00,  6.84140341e-01,  3.94133627e-01,\n",
       "        -2.89298596e-01, -2.07277437e-01,  2.37740887e-01,\n",
       "         6.83260192e-04, -1.48245650e-01, -5.44958711e-02,\n",
       "         7.08178852e-02, -1.10531482e-02, -5.44188853e-02,\n",
       "         3.01420903e-02, -4.56941948e-02, -1.32459533e-02,\n",
       "         1.23734865e-03,  1.98388502e-02, -1.00779682e-02,\n",
       "        -3.66037680e-02,  1.44814776e-03,  1.45923181e-02,\n",
       "         9.50237710e-03, -6.30058534e-03, -2.91961237e-02,\n",
       "        -9.73462468e-03, -3.37597614e-02, -1.32173344e-02,\n",
       "         1.19668072e-02, -4.28350343e-03,  1.74182073e-02,\n",
       "         1.34392266e-02, -1.46272620e-02],\n",
       "       [ 1.41658105e+00, -2.01220726e+00, -8.41263861e-01,\n",
       "         8.73919922e-01,  2.54404614e-01, -6.93458888e-01,\n",
       "         4.16705931e-03,  3.61398564e-01,  1.43438965e-01,\n",
       "        -2.19719475e-01, -1.67941490e-02,  1.96454184e-01,\n",
       "        -1.33962396e-01,  1.63240121e-01,  5.73500102e-02,\n",
       "         5.08030106e-02, -2.02322744e-02,  3.33223826e-02,\n",
       "         8.70378414e-02, -2.03148513e-02, -4.78158103e-02,\n",
       "        -1.85975945e-02, -3.08514590e-02,  1.04569645e-01,\n",
       "         3.71498514e-02,  9.10544519e-02,  3.76415249e-02,\n",
       "        -6.37303983e-02,  1.58865240e-02, -3.48624076e-02,\n",
       "        -3.80272441e-02,  5.05585187e-02],\n",
       "       [ 1.65889223e+01,  1.86687200e+01,  2.07630689e+01,\n",
       "         1.37647750e+01,  1.47143553e+01, -1.53238812e+01,\n",
       "        -7.98110425e-01, -1.47324265e+00,  7.25013937e-01,\n",
       "         3.01772260e-01,  1.40931737e+00,  1.01361022e-01,\n",
       "        -7.08573765e-01, -1.51017558e+00,  1.70275315e-01,\n",
       "         6.34751974e-01, -1.07640850e+00, -1.12916928e+00,\n",
       "         2.86336287e-01, -1.74906493e-01, -5.41730598e-01,\n",
       "         2.15529678e-01, -5.90804263e-02,  4.53529726e-01,\n",
       "        -5.23607092e-01,  1.06911953e-01,  3.43416458e-01,\n",
       "         1.05880919e+00,  4.92951893e-01, -1.08641763e+00,\n",
       "        -4.87010525e-01, -3.26762164e-01],\n",
       "       [ 1.17561663e+01,  2.17527082e+00, -2.80917770e+00,\n",
       "        -2.76474945e+00,  1.54234601e+00,  2.31109992e+00,\n",
       "        -1.83911656e-03,  1.17531232e-01, -1.61191138e-01,\n",
       "         4.65326837e-01,  3.53071645e-01, -6.70673700e-01,\n",
       "         6.82468257e-01, -4.27039365e-01, -2.73584878e-01,\n",
       "        -6.09203191e-01, -2.15209237e-01, -7.21678632e-03,\n",
       "         3.80193687e-03,  1.88178787e-01,  1.67163428e-01,\n",
       "        -6.42102050e-02,  4.87384281e-01, -3.80724820e-01,\n",
       "        -1.00810648e-01, -9.74334721e-02, -8.12962802e-02,\n",
       "         2.81823104e-01, -9.31322106e-02,  1.07015189e-04,\n",
       "         9.02991403e-02, -1.30584979e-01]])"
      ]
     },
     "execution_count": 206,
     "metadata": {},
     "output_type": "execute_result"
    }
   ],
   "source": [
    "centers = kmeans.cluster_centers_\n",
    "centers"
   ]
  },
  {
   "cell_type": "code",
   "execution_count": 207,
   "metadata": {},
   "outputs": [
    {
     "data": {
      "text/plain": [
       "array([0, 0, 1, 0, 1, 1, 0, 0, 0, 0, 1, 1, 0, 0, 1, 0, 1, 0, 0, 0, 0, 0,\n",
       "       1, 0, 0, 0, 0, 0, 1, 3, 0, 0, 0, 0, 0, 0, 0, 1, 0, 0, 0, 0, 1, 0,\n",
       "       0, 1, 0, 2, 1, 0, 0, 0, 3, 0, 0, 0, 0, 1, 0, 0, 0, 0, 3, 0, 0, 0,\n",
       "       3, 0, 0, 1, 0, 0, 0, 0, 3, 1, 0, 0, 0, 0, 1, 1, 1, 0, 0, 0, 0, 0,\n",
       "       0, 0, 3, 1, 1, 1, 0, 0, 0, 0, 0, 1, 0, 0, 0, 0, 0, 1, 0, 0, 0, 0,\n",
       "       0, 0, 0, 0, 1, 0, 0, 0, 0, 0, 0, 1, 0, 0, 0, 1, 0, 3, 0, 0, 0, 1,\n",
       "       3, 0, 0, 0, 1, 1, 0, 0, 1, 0, 0, 0, 0, 1, 0, 1, 1, 0, 1, 1, 0, 0,\n",
       "       0, 0, 1, 1, 0, 0, 0, 0, 0, 0, 0, 0, 0, 1, 1, 0, 0, 0, 0, 1, 0, 1,\n",
       "       1, 1, 0, 0, 1, 1, 1, 0, 0, 0, 0, 1, 0, 0, 0, 0, 0, 1, 0, 0, 0, 1,\n",
       "       0, 0, 0, 1, 0, 0, 0, 0, 0, 0, 0, 0, 1, 0, 1, 0, 1, 0, 0, 0, 0, 0,\n",
       "       0, 1, 1, 1, 1, 0, 0, 0, 0, 1, 0, 1, 0, 0, 0, 0, 0, 0, 0, 0, 0, 0,\n",
       "       1, 1, 1, 0, 0, 0, 0, 0, 1, 0, 0, 0, 1, 1, 0, 0, 0, 1, 0, 0, 1, 0,\n",
       "       1, 0, 0, 0, 1, 0, 1, 0, 1, 0, 1, 0, 0, 0, 1, 0, 0, 0, 0, 1, 0, 1,\n",
       "       0, 0, 0, 1, 1, 0, 0, 0, 0, 1, 0, 0, 1, 0, 1, 0, 1, 0, 1, 1, 0, 0,\n",
       "       0, 0, 1, 1, 0, 3, 1, 1, 0, 0, 0, 0, 1, 1, 1, 0, 0, 0, 0, 0, 1, 0,\n",
       "       0, 0, 1, 3, 0, 0, 0, 0, 1, 0, 0, 0, 1, 1, 0, 0, 0, 1, 0, 1, 1, 1,\n",
       "       0, 1, 0, 0, 1, 0, 0, 0, 0, 0, 0, 0, 0, 0, 0, 0, 1, 0, 0, 0, 0, 3,\n",
       "       0, 1, 0, 0, 1, 0, 0, 0, 0, 0, 0, 0, 0, 0, 0, 0, 0, 0, 0, 0, 0, 0,\n",
       "       0, 0, 0, 0, 0, 1, 0, 0, 0, 1, 0, 0, 1, 0, 0, 0, 0, 0, 0, 0, 0, 1,\n",
       "       0, 0, 0, 1, 0, 0, 1, 0, 0, 0, 0, 1, 0, 0, 0, 1, 1, 0, 1, 0, 0, 0,\n",
       "       0, 0, 0, 0, 0, 1, 0, 0, 0, 1, 0, 0, 0, 1, 0, 0, 0, 0, 1, 1, 1, 0,\n",
       "       0, 0, 0, 0, 1, 1, 0, 0, 0, 0, 0, 0, 0, 1, 3, 1, 1, 0, 0, 0, 1, 3,\n",
       "       0, 0, 0, 0, 3, 0, 0, 0, 1, 1, 0, 0, 0, 0, 1, 0, 0, 0, 0, 1, 3, 1,\n",
       "       0, 1, 0, 0, 0, 0, 0, 0, 1, 1, 1, 1, 1, 0, 0, 0, 1, 1, 3, 0, 0, 1,\n",
       "       0, 1, 1, 1, 0, 0, 0, 0, 1, 0, 1, 0, 0, 0, 1, 0, 0, 0, 0, 0, 0, 0,\n",
       "       0, 1, 0, 0, 1, 0, 0, 1, 1, 1, 1, 0, 1, 0, 1, 0, 0, 0, 1, 0, 0, 0,\n",
       "       0, 1, 0, 1, 0, 0, 1, 1, 1, 1, 1, 1, 0, 0, 1, 0, 0, 0, 0, 1, 0, 0,\n",
       "       0, 0, 0, 0, 0, 0, 1, 1, 0, 0, 0, 0, 0, 0, 0, 0, 0, 1, 0, 0, 0, 0,\n",
       "       1, 0, 0, 0, 0, 0, 1, 1, 0, 0, 1, 0, 1, 1, 0, 0, 1, 0, 0, 1, 0, 0,\n",
       "       1, 1, 0, 1, 0, 0, 1, 1, 1, 1, 0, 0, 1, 0, 1, 0, 0, 0, 0, 1, 0, 1,\n",
       "       0, 0, 0, 0, 0, 0, 3, 0, 0, 0, 1, 0, 1, 1, 0, 0, 0, 0, 0, 1, 1, 3,\n",
       "       1, 1, 0, 0, 0, 0, 0, 0, 1, 0, 0, 0, 0, 0, 0, 0, 1, 0, 1, 0, 1, 1,\n",
       "       0, 0, 1, 0, 1, 0, 0, 0, 0, 0, 0, 0, 1, 0, 1, 0, 0, 0, 0, 0, 0, 0,\n",
       "       1, 1, 0, 0, 1, 0, 0, 0, 1, 0, 0, 0, 0, 1, 0, 0, 0, 0, 0, 0, 1, 1,\n",
       "       0, 1, 1, 0, 0, 0, 3, 1, 1, 0, 3, 1, 1, 0, 1, 0, 1, 0, 1, 0, 0, 0,\n",
       "       0, 0, 0, 0, 1, 0, 1, 1, 0, 1, 1, 3, 1, 0, 1, 1, 0, 0, 0, 1, 1, 0,\n",
       "       0, 1, 0, 0, 3, 1, 0, 3, 0, 1, 0, 1, 0, 1, 0, 0, 1, 0, 1, 1, 0, 1,\n",
       "       0, 0, 0, 1, 0, 0, 0, 0, 0, 1, 0, 0, 0, 0, 0, 1, 0, 1, 0, 0, 0, 0,\n",
       "       0, 0, 0, 1, 0, 0, 0, 1, 0, 0, 0, 0, 0, 1, 0, 0, 0, 1, 0, 0, 0, 0,\n",
       "       0, 1, 0, 0, 3, 0, 0, 0, 0, 0, 1, 0, 0, 2, 1, 1, 0, 0, 1, 0, 0, 0,\n",
       "       1, 0, 1, 0, 1, 0, 0, 0, 0, 0, 0, 0, 0, 0, 1, 0, 0, 1, 0, 0, 1, 0,\n",
       "       0, 1, 0, 0, 3, 3, 0, 1, 0, 0, 0, 0, 0, 0, 0, 0, 0, 0, 1, 1, 0, 0,\n",
       "       0, 0, 0, 1, 0, 0, 0, 0, 1, 0, 1, 0, 0, 1, 1, 0, 1, 0, 0, 0, 0, 1,\n",
       "       0, 1, 0, 0, 0, 1, 1, 0, 1, 1, 0, 0, 0, 0, 1, 0, 1, 0, 1, 3, 0, 0,\n",
       "       0, 0, 0, 0, 0, 0, 0, 1, 0, 0, 1, 0, 0, 0, 0, 0, 1, 0, 0, 1, 0, 0,\n",
       "       0, 0, 0, 1, 0, 0, 0, 0, 0, 0])"
      ]
     },
     "execution_count": 207,
     "metadata": {},
     "output_type": "execute_result"
    }
   ],
   "source": [
    "y_predict = kmeans.fit_predict(standardScaledX)\n",
    "y_predict"
   ]
  },
  {
   "cell_type": "code",
   "execution_count": 208,
   "metadata": {},
   "outputs": [
    {
     "data": {
      "text/html": [
       "<div>\n",
       "<style scoped>\n",
       "    .dataframe tbody tr th:only-of-type {\n",
       "        vertical-align: middle;\n",
       "    }\n",
       "\n",
       "    .dataframe tbody tr th {\n",
       "        vertical-align: top;\n",
       "    }\n",
       "\n",
       "    .dataframe thead th {\n",
       "        text-align: right;\n",
       "    }\n",
       "</style>\n",
       "<table border=\"1\" class=\"dataframe\">\n",
       "  <thead>\n",
       "    <tr style=\"text-align: right;\">\n",
       "      <th></th>\n",
       "      <th>Water_(g)</th>\n",
       "      <th>Energ_Kcal</th>\n",
       "      <th>Protein_(g)</th>\n",
       "      <th>Lipid_Tot_(g)</th>\n",
       "      <th>Ash_(g)</th>\n",
       "      <th>Carbohydrt_(g)</th>\n",
       "      <th>Fiber_TD_(g)</th>\n",
       "      <th>Sugar_Tot_(g)</th>\n",
       "      <th>Calcium_(mg)</th>\n",
       "      <th>Iron_(mg)</th>\n",
       "      <th>...</th>\n",
       "      <th>FA_Sat_(g)</th>\n",
       "      <th>FA_Mono_(g)</th>\n",
       "      <th>FA_Poly_(g)</th>\n",
       "      <th>Cholestrl_(mg)</th>\n",
       "      <th>GmWt_1</th>\n",
       "      <th>GmWt_Desc1</th>\n",
       "      <th>GmWt_2</th>\n",
       "      <th>GmWt_Desc2</th>\n",
       "      <th>Refuse_Pct</th>\n",
       "      <th>cluster</th>\n",
       "    </tr>\n",
       "  </thead>\n",
       "  <tbody>\n",
       "    <tr>\n",
       "      <th>2696</th>\n",
       "      <td>77.03</td>\n",
       "      <td>95</td>\n",
       "      <td>15.43</td>\n",
       "      <td>3.48</td>\n",
       "      <td>3.49</td>\n",
       "      <td>0.67</td>\n",
       "      <td>0.0</td>\n",
       "      <td>0.670</td>\n",
       "      <td>7.0</td>\n",
       "      <td>1.13</td>\n",
       "      <td>...</td>\n",
       "      <td>1.227</td>\n",
       "      <td>1.5750</td>\n",
       "      <td>0.379</td>\n",
       "      <td>53.0</td>\n",
       "      <td>85.00</td>\n",
       "      <td>209</td>\n",
       "      <td>157.5</td>\n",
       "      <td>233</td>\n",
       "      <td>28.0</td>\n",
       "      <td>0</td>\n",
       "    </tr>\n",
       "    <tr>\n",
       "      <th>8311</th>\n",
       "      <td>80.80</td>\n",
       "      <td>97</td>\n",
       "      <td>11.70</td>\n",
       "      <td>5.30</td>\n",
       "      <td>1.50</td>\n",
       "      <td>0.00</td>\n",
       "      <td>0.8</td>\n",
       "      <td>1.675</td>\n",
       "      <td>12.0</td>\n",
       "      <td>0.40</td>\n",
       "      <td>...</td>\n",
       "      <td>1.471</td>\n",
       "      <td>1.9735</td>\n",
       "      <td>0.700</td>\n",
       "      <td>2.0</td>\n",
       "      <td>85.00</td>\n",
       "      <td>224</td>\n",
       "      <td>157.5</td>\n",
       "      <td>233</td>\n",
       "      <td>0.0</td>\n",
       "      <td>0</td>\n",
       "    </tr>\n",
       "    <tr>\n",
       "      <th>8787</th>\n",
       "      <td>26.00</td>\n",
       "      <td>269</td>\n",
       "      <td>0.00</td>\n",
       "      <td>0.00</td>\n",
       "      <td>0.86</td>\n",
       "      <td>73.14</td>\n",
       "      <td>0.0</td>\n",
       "      <td>73.200</td>\n",
       "      <td>13.0</td>\n",
       "      <td>3.60</td>\n",
       "      <td>...</td>\n",
       "      <td>0.000</td>\n",
       "      <td>0.0000</td>\n",
       "      <td>0.000</td>\n",
       "      <td>0.0</td>\n",
       "      <td>21.00</td>\n",
       "      <td>140</td>\n",
       "      <td>157.5</td>\n",
       "      <td>233</td>\n",
       "      <td>0.0</td>\n",
       "      <td>1</td>\n",
       "    </tr>\n",
       "    <tr>\n",
       "      <th>5375</th>\n",
       "      <td>77.45</td>\n",
       "      <td>108</td>\n",
       "      <td>19.28</td>\n",
       "      <td>2.83</td>\n",
       "      <td>1.05</td>\n",
       "      <td>0.00</td>\n",
       "      <td>0.8</td>\n",
       "      <td>1.675</td>\n",
       "      <td>20.0</td>\n",
       "      <td>0.76</td>\n",
       "      <td>...</td>\n",
       "      <td>0.738</td>\n",
       "      <td>0.9820</td>\n",
       "      <td>0.334</td>\n",
       "      <td>75.0</td>\n",
       "      <td>28.35</td>\n",
       "      <td>104</td>\n",
       "      <td>453.6</td>\n",
       "      <td>101</td>\n",
       "      <td>30.0</td>\n",
       "      <td>0</td>\n",
       "    </tr>\n",
       "    <tr>\n",
       "      <th>1068</th>\n",
       "      <td>43.76</td>\n",
       "      <td>406</td>\n",
       "      <td>17.66</td>\n",
       "      <td>37.24</td>\n",
       "      <td>1.70</td>\n",
       "      <td>0.11</td>\n",
       "      <td>0.0</td>\n",
       "      <td>0.110</td>\n",
       "      <td>25.0</td>\n",
       "      <td>0.98</td>\n",
       "      <td>...</td>\n",
       "      <td>9.994</td>\n",
       "      <td>16.7930</td>\n",
       "      <td>5.423</td>\n",
       "      <td>141.0</td>\n",
       "      <td>28.35</td>\n",
       "      <td>104</td>\n",
       "      <td>157.5</td>\n",
       "      <td>233</td>\n",
       "      <td>0.0</td>\n",
       "      <td>1</td>\n",
       "    </tr>\n",
       "  </tbody>\n",
       "</table>\n",
       "<p>5 rows × 52 columns</p>\n",
       "</div>"
      ],
      "text/plain": [
       "      Water_(g)  Energ_Kcal  Protein_(g)  Lipid_Tot_(g)  Ash_(g)  \\\n",
       "2696      77.03          95        15.43           3.48     3.49   \n",
       "8311      80.80          97        11.70           5.30     1.50   \n",
       "8787      26.00         269         0.00           0.00     0.86   \n",
       "5375      77.45         108        19.28           2.83     1.05   \n",
       "1068      43.76         406        17.66          37.24     1.70   \n",
       "\n",
       "      Carbohydrt_(g)  Fiber_TD_(g)  Sugar_Tot_(g)  Calcium_(mg)  Iron_(mg)  \\\n",
       "2696            0.67           0.0          0.670           7.0       1.13   \n",
       "8311            0.00           0.8          1.675          12.0       0.40   \n",
       "8787           73.14           0.0         73.200          13.0       3.60   \n",
       "5375            0.00           0.8          1.675          20.0       0.76   \n",
       "1068            0.11           0.0          0.110          25.0       0.98   \n",
       "\n",
       "      ...  FA_Sat_(g)  FA_Mono_(g)  FA_Poly_(g)  Cholestrl_(mg)  GmWt_1  \\\n",
       "2696  ...       1.227       1.5750        0.379            53.0   85.00   \n",
       "8311  ...       1.471       1.9735        0.700             2.0   85.00   \n",
       "8787  ...       0.000       0.0000        0.000             0.0   21.00   \n",
       "5375  ...       0.738       0.9820        0.334            75.0   28.35   \n",
       "1068  ...       9.994      16.7930        5.423           141.0   28.35   \n",
       "\n",
       "      GmWt_Desc1  GmWt_2  GmWt_Desc2  Refuse_Pct  cluster  \n",
       "2696         209   157.5         233        28.0        0  \n",
       "8311         224   157.5         233         0.0        0  \n",
       "8787         140   157.5         233         0.0        1  \n",
       "5375         104   453.6         101        30.0        0  \n",
       "1068         104   157.5         233         0.0        1  \n",
       "\n",
       "[5 rows x 52 columns]"
      ]
     },
     "execution_count": 208,
     "metadata": {},
     "output_type": "execute_result"
    }
   ],
   "source": [
    "nutrientsDF['cluster'] = y_predict\n",
    "nutrientsDF.head()"
   ]
  },
  {
   "cell_type": "code",
   "execution_count": 210,
   "metadata": {},
   "outputs": [
    {
     "data": {
      "text/plain": [
       "Text(0.5, 1.0, 'Standard Scaled X')"
      ]
     },
     "execution_count": 210,
     "metadata": {},
     "output_type": "execute_result"
    },
    {
     "data": {
      "image/png": "[encoded data removed]",
      "text/plain": [
       "<Figure size 576x396 with 1 Axes>"
      ]
     },
     "metadata": {},
     "output_type": "display_data"
    }
   ],
   "source": [
    "plt.scatter(standardScaledX[:,0], standardScaledX[:,1])\n",
    "plt.scatter(centers[:,0], centers[:,1], s=200, color=\"red\", marker=\"*\")\n",
    "plt.title(\"Standard Scaled X\")"
   ]
  },
  {
   "cell_type": "code",
   "execution_count": 211,
   "metadata": {},
   "outputs": [
    {
     "data": {
      "text/plain": [
       "Text(0.5, 1.0, 'Colored Clusters')"
      ]
     },
     "execution_count": 211,
     "metadata": {},
     "output_type": "execute_result"
    },
    {
     "data": {
      "image/png": "[encoded data removed]",
      "text/plain": [
       "<Figure size 720x360 with 1 Axes>"
      ]
     },
     "metadata": {},
     "output_type": "display_data"
    }
   ],
   "source": [
    "from sklearn import cluster\n",
    "cl = cluster.KMeans(n_clusters=4)\n",
    "cl.fit(standardScaledX)\n",
    "plt.figure(figsize=(10,5))\n",
    "plt.scatter(standardScaledX[:,0], standardScaledX[:,1], \n",
    "            c=cl.predict(standardScaledX))\n",
    "plt.scatter(cl.cluster_centers_[:,0],\n",
    "            cl.cluster_centers_[:,1], s=500, color=\"red\", marker=\"*\")\n",
    "plt.title(\"Colored Clusters\")"
   ]
  },
  {
   "cell_type": "code",
   "execution_count": 221,
   "metadata": {},
   "outputs": [
    {
     "name": "stdout",
     "output_type": "stream",
     "text": [
      "Cluster number 2 Score 0.6053522845305674\n",
      "Cluster number 3 Score 0.12341908469119622\n",
      "Cluster number 4 Score 0.12375902277253334\n",
      "Cluster number 5 Score 0.15853785675826776\n",
      "Cluster number 6 Score 0.15593220212357345\n"
     ]
    }
   ],
   "source": [
    "no_of_clusters = [2,3,4,5,6]\n",
    "for n_clusters in no_of_clusters:\n",
    "   cluster = KMeans(n_clusters = n_clusters)\n",
    "   cluster_labels = cluster.fit_predict(standardScaledX)\n",
    "   silhouette_avg = silhouette_score(standardScaledX, cluster_labels)\n",
    "\n",
    "   #print process\n",
    "   print(\"Cluster number\", n_clusters, \n",
    "          \"Score\", silhouette_avg)"
   ]
  },
  {
   "cell_type": "markdown",
   "metadata": {},
   "source": [
    "*5/8 repeatitions with 1000 samples, cluster 4 is consistent in rounded value of 0.11 - 0.18 which is close and near to 0. Therefore cluster number 4 is also a good choice in choosing for a value of K*"
   ]
  },
  {
   "cell_type": "markdown",
   "metadata": {},
   "source": [
    "# Sample"
   ]
  },
  {
   "cell_type": "code",
   "execution_count": 193,
   "metadata": {},
   "outputs": [
    {
     "data": {
      "image/png": "[encoded data removed]",
      "text/plain": [
       "<Figure size 576x396 with 1 Axes>"
      ]
     },
     "metadata": {},
     "output_type": "display_data"
    }
   ],
   "source": [
    "K = 3\n",
    "X, y_true = make_blobs(n_samples=8790, random_state=32, n_features=53)\n",
    "k_means = KMeans(K)\n",
    "k_means.fit(X)\n",
    "\n",
    "cluster_centres = k_means.cluster_centers_\n",
    "\n",
    "y_kmeans = k_means.predict(X)\n",
    "plt.scatter(X[:, 0], X[:, 1], c=y_kmeans, s=50, cmap='viridis')\n",
    "\n",
    "for centroid in cluster_centres:\n",
    "    plt.scatter(centroid[0],  centroid[1], s=300,  c='black', alpha=0.5)"
   ]
  }
 ],
 "metadata": {
  "kernelspec": {
   "display_name": "Python 3.9.12 ('base')",
   "language": "python",
   "name": "python3"
  },
  "language_info": {
   "codemirror_mode": {
    "name": "ipython",
    "version": 3
   },
   "file_extension": ".py",
   "mimetype": "text/x-python",
   "name": "python",
   "nbconvert_exporter": "python",
   "pygments_lexer": "ipython3",
   "version": "3.9.12"
  },
  "orig_nbformat": 4,
  "vscode": {
   "interpreter": {
    "hash": "f08154012ddadd8e950e6e9e035c7a7b32c136e7647e9b7c77e02eb723a8bedb"
   }
  }
 },
 "nbformat": 4,
 "nbformat_minor": 2
}
