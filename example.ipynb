{
 "cells": [
  {
   "cell_type": "code",
   "execution_count": 1,
   "metadata": {},
   "outputs": [],
   "source": [
    "import pandas as pd\n",
    "import matplotlib.pyplot as plt\n",
    "import matplotlib.cm as cm\n",
    "import numpy as np\n",
    "import seaborn as sns\n",
    "from sklearn import metrics, datasets, cluster\n",
    "from pandas import DataFrame\n",
    "from sklearn.model_selection import train_test_split\n",
    "from sklearn import model_selection\n",
    "from sklearn.neighbors import KNeighborsClassifier\n",
    "from sklearn.datasets import make_blobs\n",
    "from sklearn.cluster import KMeans\n",
    "from sklearn.metrics import silhouette_samples, silhouette_score\n",
    "from sklearn.preprocessing import MinMaxScaler\n",
    "from sklearn.preprocessing import StandardScaler\n",
    "from itertools import cycle, islice\n",
    "from pandas.plotting import parallel_coordinates\n",
    "from sklearn.preprocessing import LabelEncoder"
   ]
  },
  {
   "cell_type": "code",
   "execution_count": 2,
   "metadata": {},
   "outputs": [],
   "source": [
    "df1=pd.read_excel('ABBREV.xlsx')"
   ]
  },
  {
   "cell_type": "code",
   "execution_count": null,
   "metadata": {},
   "outputs": [],
   "source": [
    "print(df1.shape)"
   ]
  },
  {
   "cell_type": "markdown",
   "metadata": {},
   "source": [
    "# Example Flow & Explanation"
   ]
  },
  {
   "cell_type": "code",
   "execution_count": null,
   "metadata": {},
   "outputs": [],
   "source": [
    "#Let's say this is the user's input in our super-admin page\n",
    "x0 = 'Champorado'\n",
    "x01 = '8790'\n",
    "x1 = '4.56'\n",
    "x2 = '394'\n",
    "x3 = '10.99'\n",
    "x4 = '6.36'\n",
    "x5 = '4.60'\n",
    "x6 = '73.48'"
   ]
  },
  {
   "cell_type": "code",
   "execution_count": null,
   "metadata": {},
   "outputs": [],
   "source": [
    "#Let's limit only our columns first since our input conists of 6 only\n",
    "example_df = df1[['NDB_No','Water_(g)',\n",
    "'Energ_Kcal','Protein_(g)','Lipid_Tot_(g)',\n",
    "'Ash_(g)','Carbohydrt_(g)']]\n",
    "example_df.tail()\n",
    "#our input will be added in our dataframe inside of these \n",
    "# columns presented below"
   ]
  },
  {
   "cell_type": "code",
   "execution_count": null,
   "metadata": {},
   "outputs": [],
   "source": [
    "#we will now add our input to the dataframe\n",
    "new = ['0',x1,x2,x3,x4,x5,x6]\n",
    "new2 = ['0',x0,x1,x2,x3,x4,x5,x6]\n",
    "\n",
    "df1 = df1.append(pd.Series(new2, index=df1.columns[:len(new2)]), ignore_index=True)\n",
    "example_df = example_df.append(pd.Series(new, index=example_df.columns[:len(new)]), ignore_index=True)\n",
    "#our input is now added to our original dataframe and to what dataframe we are using\n",
    "#you might be wondering about 2 variables and 2 appends, \n",
    "# df1 is our original DF and example_df is what we are currently using\n",
    "#we added the input in our original DF because what we just want \n",
    "# to see here is what cluster will this food be included\n",
    "print(example_df.shape)\n",
    "print(df1.shape)"
   ]
  },
  {
   "cell_type": "code",
   "execution_count": null,
   "metadata": {},
   "outputs": [],
   "source": [
    "example_df = example_df.fillna(0) \n",
    "#we will all the NaN or null values inside our \n",
    "#dataframe if the input consists of null data it will now be 0\n",
    "example_df.isnull().sum() \n",
    "#check if there is still NaN in our DF"
   ]
  },
  {
   "cell_type": "code",
   "execution_count": null,
   "metadata": {},
   "outputs": [],
   "source": [
    "ex = StandardScaler().fit_transform(example_df)\n",
    "ex"
   ]
  },
  {
   "cell_type": "code",
   "execution_count": null,
   "metadata": {},
   "outputs": [],
   "source": [
    "kmeans = KMeans(n_clusters=4) \n",
    "\n",
    "# fit kmeans object to data\n",
    "kmeans.fit(ex)"
   ]
  },
  {
   "cell_type": "code",
   "execution_count": null,
   "metadata": {},
   "outputs": [],
   "source": [
    "y_predicted = kmeans.fit_predict(example_df)\n",
    "print(y_predicted)"
   ]
  },
  {
   "cell_type": "code",
   "execution_count": null,
   "metadata": {},
   "outputs": [],
   "source": [
    "example_df['cluster']=y_predicted\n",
    "example_df.head()"
   ]
  },
  {
   "cell_type": "code",
   "execution_count": null,
   "metadata": {},
   "outputs": [],
   "source": [
    "#merge here\n",
    "example_df = example_df[['NDB_No','cluster']]\n",
    "example_df = pd.merge(df1, example_df)\n",
    "example_df.tail()"
   ]
  },
  {
   "cell_type": "markdown",
   "metadata": {},
   "source": [
    "# Finalization"
   ]
  },
  {
   "cell_type": "code",
   "execution_count": 18,
   "metadata": {},
   "outputs": [
    {
     "name": "stdout",
     "output_type": "stream",
     "text": [
      "Food name is ' sure na ba ' with food id of ' 93604 ' and your cluster is in cluster ' 2 '\n"
     ]
    }
   ],
   "source": [
    "class example_class:\n",
    "    example_df = df1[['NDB_No','Water_(g)','Energ_Kcal',\n",
    "    'Protein_(g)','Lipid_Tot_(g)','Ash_(g)','Carbohydrt_(g)']]\n",
    "\n",
    "    max = int(example_df.iloc[-1]['NDB_No'])\n",
    "\n",
    "    foodId = max+1\n",
    "    food_name = input(\"Food name: \")\n",
    "    data1 = input(\"Nutrient 1: \")\n",
    "    data2 = input(\"Nutrient 2: \")\n",
    "    data3 = input(\"Nutrient 3: \")\n",
    "    data4 = input(\"Nutrient 4: \")\n",
    "    data5 = input(\"Nutrient 5: \")\n",
    "    data6 = input(\"Nutrient 6: \")\n",
    "\n",
    "    users_inputdf1 = [foodId,food_name,data1,data2,data3,data4,data5,data6]\n",
    "    users_inputex = [foodId,data1,data2,data3,data4,data5,data6]\n",
    "\n",
    "    example_df = example_df.append(pd.Series(users_inputex, \n",
    "    index=example_df.columns[:len(users_inputex)]), ignore_index=True)\n",
    "    df1 = df1.append(pd.Series(users_inputdf1, \n",
    "    index=df1.columns[:len(users_inputdf1)]), ignore_index=True)\n",
    "\n",
    "    example_df = example_df.fillna(0)\n",
    "\n",
    "    ex = StandardScaler().fit_transform(example_df)\n",
    "\n",
    "    kmeans = KMeans(n_clusters=4)\n",
    "    kmeans.fit(ex)\n",
    "    KMeans(n_clusters=4)\n",
    "\n",
    "    y_predict = kmeans.fit_predict(example_df)\n",
    "    example_df['cluster'] = y_predict\n",
    "    example_df = example_df[['NDB_No','cluster']]\n",
    "    example_df = pd.merge(df1, example_df)\n",
    "\n",
    "    source = example_df[example_df['NDB_No'] == foodId]\n",
    "    final_food_name = source.iloc[-1]['Shrt_Desc']\n",
    "    cluster = source.iloc[-1]['cluster']\n",
    "    final_foodId = source.iloc[-1]['NDB_No']\n",
    "\n",
    "    print(\"Food name is '\",final_food_name,\"' with food id of '\",final_foodId,\n",
    "    \"' and your cluster is in cluster '\",cluster,\"'\")"
   ]
  },
  {
   "cell_type": "code",
   "execution_count": 19,
   "metadata": {},
   "outputs": [
    {
     "data": {
      "text/html": [
       "<div>\n",
       "<style scoped>\n",
       "    .dataframe tbody tr th:only-of-type {\n",
       "        vertical-align: middle;\n",
       "    }\n",
       "\n",
       "    .dataframe tbody tr th {\n",
       "        vertical-align: top;\n",
       "    }\n",
       "\n",
       "    .dataframe thead th {\n",
       "        text-align: right;\n",
       "    }\n",
       "</style>\n",
       "<table border=\"1\" class=\"dataframe\">\n",
       "  <thead>\n",
       "    <tr style=\"text-align: right;\">\n",
       "      <th></th>\n",
       "      <th>NDB_No</th>\n",
       "      <th>Shrt_Desc</th>\n",
       "      <th>Water_(g)</th>\n",
       "      <th>Energ_Kcal</th>\n",
       "      <th>Protein_(g)</th>\n",
       "      <th>Lipid_Tot_(g)</th>\n",
       "      <th>Ash_(g)</th>\n",
       "      <th>Carbohydrt_(g)</th>\n",
       "      <th>Fiber_TD_(g)</th>\n",
       "      <th>Sugar_Tot_(g)</th>\n",
       "      <th>...</th>\n",
       "      <th>FA_Sat_(g)</th>\n",
       "      <th>FA_Mono_(g)</th>\n",
       "      <th>FA_Poly_(g)</th>\n",
       "      <th>Cholestrl_(mg)</th>\n",
       "      <th>GmWt_1</th>\n",
       "      <th>GmWt_Desc1</th>\n",
       "      <th>GmWt_2</th>\n",
       "      <th>GmWt_Desc2</th>\n",
       "      <th>Refuse_Pct</th>\n",
       "      <th>cluster</th>\n",
       "    </tr>\n",
       "  </thead>\n",
       "  <tbody>\n",
       "    <tr>\n",
       "      <th>8789</th>\n",
       "      <td>93600</td>\n",
       "      <td>TURTLE,GREEN,RAW</td>\n",
       "      <td>78.5</td>\n",
       "      <td>89</td>\n",
       "      <td>19.8</td>\n",
       "      <td>0.5</td>\n",
       "      <td>1.2</td>\n",
       "      <td>0.0</td>\n",
       "      <td>0.0</td>\n",
       "      <td>0.0</td>\n",
       "      <td>...</td>\n",
       "      <td>0.127</td>\n",
       "      <td>0.088</td>\n",
       "      <td>0.17</td>\n",
       "      <td>50.0</td>\n",
       "      <td>85.0</td>\n",
       "      <td>3 oz</td>\n",
       "      <td>NaN</td>\n",
       "      <td>NaN</td>\n",
       "      <td>0.0</td>\n",
       "      <td>2</td>\n",
       "    </tr>\n",
       "    <tr>\n",
       "      <th>8790</th>\n",
       "      <td>93601</td>\n",
       "      <td>lason</td>\n",
       "      <td>2</td>\n",
       "      <td>3</td>\n",
       "      <td>2</td>\n",
       "      <td>3</td>\n",
       "      <td>2</td>\n",
       "      <td>3</td>\n",
       "      <td>NaN</td>\n",
       "      <td>NaN</td>\n",
       "      <td>...</td>\n",
       "      <td>NaN</td>\n",
       "      <td>NaN</td>\n",
       "      <td>NaN</td>\n",
       "      <td>NaN</td>\n",
       "      <td>NaN</td>\n",
       "      <td>NaN</td>\n",
       "      <td>NaN</td>\n",
       "      <td>NaN</td>\n",
       "      <td>NaN</td>\n",
       "      <td>2</td>\n",
       "    </tr>\n",
       "    <tr>\n",
       "      <th>8791</th>\n",
       "      <td>93602</td>\n",
       "      <td>lason ulit</td>\n",
       "      <td>2</td>\n",
       "      <td>3</td>\n",
       "      <td>2</td>\n",
       "      <td>3</td>\n",
       "      <td>2</td>\n",
       "      <td>3</td>\n",
       "      <td>NaN</td>\n",
       "      <td>NaN</td>\n",
       "      <td>...</td>\n",
       "      <td>NaN</td>\n",
       "      <td>NaN</td>\n",
       "      <td>NaN</td>\n",
       "      <td>NaN</td>\n",
       "      <td>NaN</td>\n",
       "      <td>NaN</td>\n",
       "      <td>NaN</td>\n",
       "      <td>NaN</td>\n",
       "      <td>NaN</td>\n",
       "      <td>2</td>\n",
       "    </tr>\n",
       "    <tr>\n",
       "      <th>8792</th>\n",
       "      <td>93603</td>\n",
       "      <td>siguro</td>\n",
       "      <td>2</td>\n",
       "      <td>3</td>\n",
       "      <td>2</td>\n",
       "      <td>3</td>\n",
       "      <td>2</td>\n",
       "      <td>3</td>\n",
       "      <td>NaN</td>\n",
       "      <td>NaN</td>\n",
       "      <td>...</td>\n",
       "      <td>NaN</td>\n",
       "      <td>NaN</td>\n",
       "      <td>NaN</td>\n",
       "      <td>NaN</td>\n",
       "      <td>NaN</td>\n",
       "      <td>NaN</td>\n",
       "      <td>NaN</td>\n",
       "      <td>NaN</td>\n",
       "      <td>NaN</td>\n",
       "      <td>2</td>\n",
       "    </tr>\n",
       "    <tr>\n",
       "      <th>8793</th>\n",
       "      <td>93604</td>\n",
       "      <td>sure na ba</td>\n",
       "      <td>10</td>\n",
       "      <td>20</td>\n",
       "      <td>0</td>\n",
       "      <td>0</td>\n",
       "      <td>0</td>\n",
       "      <td>0</td>\n",
       "      <td>NaN</td>\n",
       "      <td>NaN</td>\n",
       "      <td>...</td>\n",
       "      <td>NaN</td>\n",
       "      <td>NaN</td>\n",
       "      <td>NaN</td>\n",
       "      <td>NaN</td>\n",
       "      <td>NaN</td>\n",
       "      <td>NaN</td>\n",
       "      <td>NaN</td>\n",
       "      <td>NaN</td>\n",
       "      <td>NaN</td>\n",
       "      <td>2</td>\n",
       "    </tr>\n",
       "  </tbody>\n",
       "</table>\n",
       "<p>5 rows × 54 columns</p>\n",
       "</div>"
      ],
      "text/plain": [
       "      NDB_No         Shrt_Desc Water_(g) Energ_Kcal Protein_(g) Lipid_Tot_(g)  \\\n",
       "8789   93600  TURTLE,GREEN,RAW      78.5         89        19.8           0.5   \n",
       "8790   93601             lason         2          3           2             3   \n",
       "8791   93602        lason ulit         2          3           2             3   \n",
       "8792   93603            siguro         2          3           2             3   \n",
       "8793   93604        sure na ba        10         20           0             0   \n",
       "\n",
       "     Ash_(g) Carbohydrt_(g)  Fiber_TD_(g)  Sugar_Tot_(g)  ...  FA_Sat_(g)  \\\n",
       "8789     1.2            0.0           0.0            0.0  ...       0.127   \n",
       "8790       2              3           NaN            NaN  ...         NaN   \n",
       "8791       2              3           NaN            NaN  ...         NaN   \n",
       "8792       2              3           NaN            NaN  ...         NaN   \n",
       "8793       0              0           NaN            NaN  ...         NaN   \n",
       "\n",
       "      FA_Mono_(g)  FA_Poly_(g)  Cholestrl_(mg)  GmWt_1  GmWt_Desc1  GmWt_2  \\\n",
       "8789        0.088         0.17            50.0    85.0        3 oz     NaN   \n",
       "8790          NaN          NaN             NaN     NaN         NaN     NaN   \n",
       "8791          NaN          NaN             NaN     NaN         NaN     NaN   \n",
       "8792          NaN          NaN             NaN     NaN         NaN     NaN   \n",
       "8793          NaN          NaN             NaN     NaN         NaN     NaN   \n",
       "\n",
       "      GmWt_Desc2  Refuse_Pct  cluster  \n",
       "8789         NaN         0.0        2  \n",
       "8790         NaN         NaN        2  \n",
       "8791         NaN         NaN        2  \n",
       "8792         NaN         NaN        2  \n",
       "8793         NaN         NaN        2  \n",
       "\n",
       "[5 rows x 54 columns]"
      ]
     },
     "execution_count": 19,
     "metadata": {},
     "output_type": "execute_result"
    }
   ],
   "source": [
    "example_class.example_df.tail()"
   ]
  },
  {
   "cell_type": "markdown",
   "metadata": {},
   "source": [
    "**Trial and error section**"
   ]
  },
  {
   "cell_type": "code",
   "execution_count": null,
   "metadata": {},
   "outputs": [],
   "source": [
    "import pickle\n",
    "#di nagamit\n",
    "pickle.dump(example_class, open('example.pkl','wb'))"
   ]
  },
  {
   "cell_type": "code",
   "execution_count": null,
   "metadata": {},
   "outputs": [],
   "source": [
    "#print(example_df.tail())\n",
    "#print(example_df.shape)\n",
    "print(df1.shape)\n",
    "df1.tail()"
   ]
  },
  {
   "cell_type": "code",
   "execution_count": null,
   "metadata": {},
   "outputs": [],
   "source": [
    "example = {'id':['10002','10003','10004'],\n",
    "'value':['23232323232323', 'ggg', 'asdasdas']}\n",
    "example = pd.DataFrame(example)\n",
    "\n",
    "#data1 = int(input(\"Nutrient 1: \"))\n",
    "#data2 = input(\"Nutrient 1: \")\n",
    "\n",
    "users_inputdf1 = [data1,data2]\n",
    "example = example.append(pd.Series(users_inputdf1, \n",
    "index=example.columns[:len(users_inputdf1)]), ignore_index=True)\n",
    "\n",
    "max = int(example.iloc[-1]['id'])\n",
    "max = max+1\n",
    "max\n",
    "\n",
    "#max_id = 10002\n",
    "##example['id'] = (max_id + 1, max_id + len(example)+1)\n",
    "\n",
    "#example = pd.DataFrame(df1)\n",
    "#x = (max_id + 1, max_id + len(example) + 1)\n"
   ]
  },
  {
   "cell_type": "markdown",
   "metadata": {},
   "source": [
    "# Pre-processing and Evaluation"
   ]
  },
  {
   "cell_type": "code",
   "execution_count": 2,
   "metadata": {},
   "outputs": [],
   "source": [
    "original = pd.read_excel('ABBREV.xlsx')"
   ]
  },
  {
   "cell_type": "code",
   "execution_count": 3,
   "metadata": {},
   "outputs": [
    {
     "data": {
      "text/plain": [
       "(8790, 53)"
      ]
     },
     "execution_count": 3,
     "metadata": {},
     "output_type": "execute_result"
    }
   ],
   "source": [
    "original.shape"
   ]
  },
  {
   "cell_type": "code",
   "execution_count": 4,
   "metadata": {},
   "outputs": [],
   "source": [
    "le = LabelEncoder()\n",
    "original['GmWt_Desc2'] = le.fit_transform(original['GmWt_Desc2'])\n",
    "original['GmWt_Desc1'] = le.fit_transform(original['GmWt_Desc1'])\n",
    "#from string to integer"
   ]
  },
  {
   "cell_type": "code",
   "execution_count": 5,
   "metadata": {},
   "outputs": [
    {
     "data": {
      "text/plain": [
       "Index(['NDB_No', 'Shrt_Desc', 'Water_(g)', 'Energ_Kcal', 'Protein_(g)',\n",
       "       'Lipid_Tot_(g)', 'Ash_(g)', 'Carbohydrt_(g)', 'Fiber_TD_(g)',\n",
       "       'Sugar_Tot_(g)', 'Calcium_(mg)', 'Iron_(mg)', 'Magnesium_(mg)',\n",
       "       'Phosphorus_(mg)', 'Potassium_(mg)', 'Sodium_(mg)', 'Zinc_(mg)',\n",
       "       'Copper_mg)', 'Manganese_(mg)', 'Selenium_(µg)', 'Vit_C_(mg)',\n",
       "       'Thiamin_(mg)', 'Riboflavin_(mg)', 'Niacin_(mg)', 'Panto_Acid_mg)',\n",
       "       'Vit_B6_(mg)', 'Folate_Tot_(µg)', 'Folic_Acid_(µg)', 'Food_Folate_(µg)',\n",
       "       'Folate_DFE_(µg)', 'Choline_Tot_ (mg)', 'Vit_B12_(µg)', 'Vit_A_IU',\n",
       "       'Vit_A_RAE', 'Retinol_(µg)', 'Alpha_Carot_(µg)', 'Beta_Carot_(µg)',\n",
       "       'Beta_Crypt_(µg)', 'Lycopene_(µg)', 'Lut+Zea_ (µg)', 'Vit_E_(mg)',\n",
       "       'Vit_D_µg', 'Vit_D_IU', 'Vit_K_(µg)', 'FA_Sat_(g)', 'FA_Mono_(g)',\n",
       "       'FA_Poly_(g)', 'Cholestrl_(mg)', 'GmWt_1', 'GmWt_Desc1', 'GmWt_2',\n",
       "       'GmWt_Desc2', 'Refuse_Pct'],\n",
       "      dtype='object')"
      ]
     },
     "execution_count": 5,
     "metadata": {},
     "output_type": "execute_result"
    }
   ],
   "source": [
    "original.columns"
   ]
  },
  {
   "cell_type": "code",
   "execution_count": 6,
   "metadata": {},
   "outputs": [],
   "source": [
    "feature = ['Water_(g)', 'Energ_Kcal', 'Protein_(g)',\n",
    "       'Lipid_Tot_(g)', 'Ash_(g)', 'Carbohydrt_(g)', 'Fiber_TD_(g)',\n",
    "       'Sugar_Tot_(g)', 'Calcium_(mg)', 'Iron_(mg)', 'Magnesium_(mg)',\n",
    "       'Phosphorus_(mg)', 'Potassium_(mg)', 'Sodium_(mg)', 'Zinc_(mg)',\n",
    "       'Copper_mg)', 'Manganese_(mg)', 'Selenium_(µg)', 'Vit_C_(mg)',\n",
    "       'Thiamin_(mg)', 'Riboflavin_(mg)', 'Niacin_(mg)', 'Panto_Acid_mg)',\n",
    "       'Vit_B6_(mg)', 'Folate_Tot_(µg)', 'Folic_Acid_(µg)', 'Food_Folate_(µg)',\n",
    "       'Folate_DFE_(µg)', 'Choline_Tot_ (mg)', 'Vit_B12_(µg)', 'Vit_A_IU',\n",
    "       'Vit_A_RAE', 'Retinol_(µg)', 'Alpha_Carot_(µg)', 'Beta_Carot_(µg)',\n",
    "       'Beta_Crypt_(µg)', 'Lycopene_(µg)', 'Lut+Zea_ (µg)', 'Vit_E_(mg)',\n",
    "       'Vit_D_µg', 'Vit_D_IU', 'Vit_K_(µg)', 'FA_Sat_(g)', 'FA_Mono_(g)',\n",
    "       'FA_Poly_(g)', 'Cholestrl_(mg)', 'GmWt_1', 'GmWt_Desc1', 'GmWt_2',\n",
    "       'GmWt_Desc2', 'Refuse_Pct']\n",
    "\n",
    "nutrientsDf = original[feature]"
   ]
  },
  {
   "cell_type": "code",
   "execution_count": 7,
   "metadata": {},
   "outputs": [
    {
     "data": {
      "text/plain": [
       "Water_(g)               1\n",
       "Energ_Kcal              0\n",
       "Protein_(g)             0\n",
       "Lipid_Tot_(g)           0\n",
       "Ash_(g)               325\n",
       "Carbohydrt_(g)          0\n",
       "Fiber_TD_(g)          594\n",
       "Sugar_Tot_(g)        1832\n",
       "Calcium_(mg)          348\n",
       "Iron_(mg)             144\n",
       "Magnesium_(mg)        739\n",
       "Phosphorus_(mg)       579\n",
       "Potassium_(mg)        426\n",
       "Sodium_(mg)            83\n",
       "Zinc_(mg)             706\n",
       "Copper_mg)           1257\n",
       "Manganese_(mg)       2160\n",
       "Selenium_(µg)        1700\n",
       "Vit_C_(mg)            818\n",
       "Thiamin_(mg)          634\n",
       "Riboflavin_(mg)       616\n",
       "Niacin_(mg)           637\n",
       "Panto_Acid_mg)       2242\n",
       "Vit_B6_(mg)           905\n",
       "Folate_Tot_(µg)      1261\n",
       "Folic_Acid_(µg)      2039\n",
       "Food_Folate_(µg)     1768\n",
       "Folate_DFE_(µg)      2057\n",
       "Choline_Tot_ (mg)    4016\n",
       "Vit_B12_(µg)         1193\n",
       "Vit_A_IU              711\n",
       "Vit_A_RAE            1535\n",
       "Retinol_(µg)         1806\n",
       "Alpha_Carot_(µg)     3258\n",
       "Beta_Carot_(µg)      3162\n",
       "Beta_Crypt_(µg)      3270\n",
       "Lycopene_(µg)        3292\n",
       "Lut+Zea_ (µg)        3315\n",
       "Vit_E_(mg)           2889\n",
       "Vit_D_µg             3262\n",
       "Vit_D_IU             3211\n",
       "Vit_K_(µg)           3563\n",
       "FA_Sat_(g)            349\n",
       "FA_Mono_(g)           666\n",
       "FA_Poly_(g)           665\n",
       "Cholestrl_(mg)        410\n",
       "GmWt_1                300\n",
       "GmWt_Desc1              0\n",
       "GmWt_2               3965\n",
       "GmWt_Desc2              0\n",
       "Refuse_Pct             50\n",
       "dtype: int64"
      ]
     },
     "execution_count": 7,
     "metadata": {},
     "output_type": "execute_result"
    }
   ],
   "source": [
    "nutrientsDf.isnull().sum()"
   ]
  },
  {
   "cell_type": "code",
   "execution_count": 8,
   "metadata": {},
   "outputs": [
    {
     "data": {
      "text/plain": [
       "Water_(g)            0\n",
       "Energ_Kcal           0\n",
       "Protein_(g)          0\n",
       "Lipid_Tot_(g)        0\n",
       "Ash_(g)              0\n",
       "Carbohydrt_(g)       0\n",
       "Fiber_TD_(g)         0\n",
       "Sugar_Tot_(g)        0\n",
       "Calcium_(mg)         0\n",
       "Iron_(mg)            0\n",
       "Magnesium_(mg)       0\n",
       "Phosphorus_(mg)      0\n",
       "Potassium_(mg)       0\n",
       "Sodium_(mg)          0\n",
       "Zinc_(mg)            0\n",
       "Copper_mg)           0\n",
       "Manganese_(mg)       0\n",
       "Selenium_(µg)        0\n",
       "Vit_C_(mg)           0\n",
       "Thiamin_(mg)         0\n",
       "Riboflavin_(mg)      0\n",
       "Niacin_(mg)          0\n",
       "Panto_Acid_mg)       0\n",
       "Vit_B6_(mg)          0\n",
       "Folate_Tot_(µg)      0\n",
       "Folic_Acid_(µg)      0\n",
       "Food_Folate_(µg)     0\n",
       "Folate_DFE_(µg)      0\n",
       "Choline_Tot_ (mg)    0\n",
       "Vit_B12_(µg)         0\n",
       "Vit_A_IU             0\n",
       "Vit_A_RAE            0\n",
       "Retinol_(µg)         0\n",
       "Alpha_Carot_(µg)     0\n",
       "Beta_Carot_(µg)      0\n",
       "Beta_Crypt_(µg)      0\n",
       "Lycopene_(µg)        0\n",
       "Lut+Zea_ (µg)        0\n",
       "Vit_E_(mg)           0\n",
       "Vit_D_µg             0\n",
       "Vit_D_IU             0\n",
       "Vit_K_(µg)           0\n",
       "FA_Sat_(g)           0\n",
       "FA_Mono_(g)          0\n",
       "FA_Poly_(g)          0\n",
       "Cholestrl_(mg)       0\n",
       "GmWt_1               0\n",
       "GmWt_Desc1           0\n",
       "GmWt_2               0\n",
       "GmWt_Desc2           0\n",
       "Refuse_Pct           0\n",
       "dtype: int64"
      ]
     },
     "execution_count": 8,
     "metadata": {},
     "output_type": "execute_result"
    }
   ],
   "source": [
    "nutrientsDF = nutrientsDf.fillna(0)\n",
    "nutrientsDF.isnull().sum()"
   ]
  },
  {
   "cell_type": "code",
   "execution_count": 9,
   "metadata": {},
   "outputs": [
    {
     "data": {
      "text/plain": [
       "array([[-1.24244853,  2.88861189, -0.99648372, ..., -0.39892732,\n",
       "         0.37492552, -0.40933108],\n",
       "       [-1.2148285 ,  2.89449882, -1.03067216, ..., -0.4144397 ,\n",
       "         0.37492552, -0.40933108],\n",
       "       [-1.75033218,  3.82463349, -1.05061542, ...,  0.21768966,\n",
       "        -1.54824934, -0.40933108],\n",
       "       ...,\n",
       "       [-0.91328273,  0.25126803, -1.07720643, ..., -0.4448181 ,\n",
       "         0.85226029, -0.40933108],\n",
       "       [ 0.81540634, -0.80249213,  0.45177663, ..., -0.4448181 ,\n",
       "         0.85226029, -0.40933108],\n",
       "       [ 0.79266044, -0.80837906,  0.80315783, ..., -0.4448181 ,\n",
       "         0.85226029, -0.40933108]])"
      ]
     },
     "execution_count": 9,
     "metadata": {},
     "output_type": "execute_result"
    }
   ],
   "source": [
    "standardScaledX = StandardScaler().fit_transform(nutrientsDF)\n",
    "standardScaledX"
   ]
  },
  {
   "cell_type": "markdown",
   "metadata": {},
   "source": [
    "**Algorithm**"
   ]
  },
  {
   "cell_type": "code",
   "execution_count": 69,
   "metadata": {},
   "outputs": [
    {
     "name": "stdout",
     "output_type": "stream",
     "text": [
      "Initialization complete\n",
      "Iteration 0, inertia 458846.726930842\n",
      "Iteration 1, inertia 384304.91713719955\n",
      "Iteration 2, inertia 380657.47378250293\n",
      "Iteration 3, inertia 379950.7428800918\n",
      "Iteration 4, inertia 379639.9664495318\n",
      "Iteration 5, inertia 379462.2899275963\n",
      "Iteration 6, inertia 379364.0436351576\n",
      "Iteration 7, inertia 379322.99513467244\n",
      "Iteration 8, inertia 379284.06077994965\n",
      "Iteration 9, inertia 379263.9052858755\n",
      "Iteration 10, inertia 379236.24898513674\n",
      "Iteration 11, inertia 379201.49790198705\n",
      "Iteration 12, inertia 379150.5291462581\n",
      "Iteration 13, inertia 379143.2889314243\n",
      "Iteration 14, inertia 379142.22345065646\n",
      "Converged at iteration 14: center shift 1.8972723054871092e-06 within tolerance 9.999999999999849e-05.\n",
      "Initialization complete\n",
      "Iteration 0, inertia 471077.28259386594\n",
      "Iteration 1, inertia 393290.5654583965\n",
      "Iteration 2, inertia 392684.12556943356\n",
      "Iteration 3, inertia 392595.2367827823\n",
      "Iteration 4, inertia 392560.53363595036\n",
      "Iteration 5, inertia 392514.4158473942\n",
      "Iteration 6, inertia 392488.00363936316\n",
      "Iteration 7, inertia 392475.20728897344\n",
      "Iteration 8, inertia 392465.1515647892\n",
      "Iteration 9, inertia 392459.5338002575\n",
      "Iteration 10, inertia 392453.60958267964\n",
      "Iteration 11, inertia 392447.48192473804\n",
      "Iteration 12, inertia 392445.43766180304\n",
      "Converged at iteration 12: strict convergence.\n",
      "Initialization complete\n",
      "Iteration 0, inertia 479912.04644280183\n",
      "Iteration 1, inertia 394681.36010348325\n",
      "Iteration 2, inertia 393080.64405348594\n",
      "Iteration 3, inertia 393007.8149954652\n",
      "Iteration 4, inertia 392994.5448556654\n",
      "Iteration 5, inertia 392992.8771228608\n",
      "Iteration 6, inertia 392992.31625471235\n",
      "Iteration 7, inertia 392992.2016671359\n",
      "Iteration 8, inertia 392991.2632437994\n",
      "Iteration 9, inertia 392990.83646939934\n",
      "Iteration 10, inertia 392990.67546436156\n",
      "Converged at iteration 10: strict convergence.\n",
      "Initialization complete\n",
      "Iteration 0, inertia 466886.8396026223\n",
      "Iteration 1, inertia 404919.04552628763\n",
      "Iteration 2, inertia 402638.4501825446\n",
      "Iteration 3, inertia 398301.32236927334\n",
      "Iteration 4, inertia 396500.03461590165\n",
      "Iteration 5, inertia 392627.26253246533\n",
      "Iteration 6, inertia 388896.40185830806\n",
      "Iteration 7, inertia 384827.3376948875\n",
      "Iteration 8, inertia 383067.1231116374\n",
      "Iteration 9, inertia 382541.75696209434\n",
      "Iteration 10, inertia 382281.8415965003\n",
      "Iteration 11, inertia 382192.86602514226\n",
      "Iteration 12, inertia 382150.9915510437\n",
      "Iteration 13, inertia 382091.44865211076\n",
      "Iteration 14, inertia 382010.64133687806\n",
      "Iteration 15, inertia 381921.704757297\n",
      "Iteration 16, inertia 381907.4049084637\n",
      "Iteration 17, inertia 381903.4698831932\n",
      "Iteration 18, inertia 381902.74385739927\n",
      "Iteration 19, inertia 381902.2663673974\n",
      "Converged at iteration 19: center shift 8.567090559179546e-06 within tolerance 9.999999999999849e-05.\n"
     ]
    }
   ],
   "source": [
    "#from kmodes.kmodes import KModes\n",
    "kmeans = KMeans(n_clusters=3, init='k-means++', n_init=4, verbose=1).fit(standardScaledX)"
   ]
  },
  {
   "cell_type": "code",
   "execution_count": 70,
   "metadata": {},
   "outputs": [
    {
     "data": {
      "text/plain": [
       "array([[-1.38896318,  0.68916492,  0.19522306, -0.28857506,  0.87885517,\n",
       "         1.56942666,  1.51509524,  0.92254088,  1.36893104,  3.28415339,\n",
       "         1.74777364,  1.042107  ,  1.12263029,  0.09842569,  2.04513577,\n",
       "         1.49918165,  0.79653061,  0.20453432,  0.75853723,  2.17375594,\n",
       "         3.06582174,  2.82141234,  1.55893374,  3.18412937,  3.49209233,\n",
       "         3.04243698,  1.45647205,  3.30195122,  0.37594547,  1.59539103,\n",
       "         1.63343207,  1.65128453,  1.58688471,  0.24989446,  0.4610252 ,\n",
       "         0.40539545,  0.04124615,  0.25255158,  1.01831708,  0.79951147,\n",
       "         0.8009981 ,  0.43653266, -0.30417491, -0.27389749, -0.08916339,\n",
       "         0.07822634, -0.63953776, -0.544702  , -0.40732887,  0.45919613,\n",
       "        -0.40295226],\n",
       "       [ 0.57421223, -0.514493  ,  0.07114853, -0.28419438, -0.13887883,\n",
       "        -0.49216197, -0.25630216, -0.30633971, -0.16468679, -0.20722423,\n",
       "        -0.23762504, -0.14136805, -0.09927161, -0.09542664, -0.0427204 ,\n",
       "        -0.12525167, -0.05922309,  0.01301206, -0.02059653, -0.18291556,\n",
       "        -0.16514916, -0.11923676, -0.05459582, -0.1143716 , -0.22040364,\n",
       "        -0.15652107, -0.11252203, -0.17966474,  0.0350105 , -0.0092608 ,\n",
       "        -0.05223949, -0.07342331, -0.07196473,  0.01130284,  0.01482757,\n",
       "        -0.00597171,  0.01874091,  0.01646399, -0.15307725, -0.03685398,\n",
       "        -0.03681855, -0.01588262, -0.20929294, -0.22173497, -0.25279601,\n",
       "         0.06371474,  0.23642363,  0.0452356 ,  0.12955808, -0.05313035,\n",
       "         0.15430349],\n",
       "       [-1.33127328,  1.27081582, -0.2165437 ,  0.79596653,  0.24572851,\n",
       "         1.08782393,  0.46849983,  0.68473196,  0.24549952,  0.08957925,\n",
       "         0.38617337,  0.22941664,  0.10620778,  0.23983618, -0.17368017,\n",
       "         0.12238072,  0.04555262, -0.06331497, -0.05178709,  0.18091743,\n",
       "         0.00840122, -0.07931446, -0.07382653, -0.1431903 ,  0.09540744,\n",
       "        -0.01124932,  0.09454175,  0.0138218 , -0.14586511, -0.199455  ,\n",
       "        -0.0905533 , -0.03675051, -0.03158275, -0.06514238, -0.1041649 ,\n",
       "        -0.04106375, -0.05560948, -0.07923477,  0.26388294, -0.01432687,\n",
       "        -0.01462986, -0.01909211,  0.59905692,  0.62787748,  0.68449713,\n",
       "        -0.18035131, -0.53863093, -0.04374071, -0.287178  ,  0.07673554,\n",
       "        -0.35357013]])"
      ]
     },
     "execution_count": 70,
     "metadata": {},
     "output_type": "execute_result"
    }
   ],
   "source": [
    "centers = kmeans.cluster_centers_\n",
    "centers"
   ]
  },
  {
   "cell_type": "code",
   "execution_count": 71,
   "metadata": {},
   "outputs": [
    {
     "name": "stdout",
     "output_type": "stream",
     "text": [
      "Initialization complete\n",
      "Iteration 0, inertia 96006750148.02356\n",
      "Iteration 1, inertia 84378237051.19177\n",
      "Iteration 2, inertia 82287537079.56836\n",
      "Iteration 3, inertia 74493504710.97263\n",
      "Iteration 4, inertia 67437141013.37892\n",
      "Iteration 5, inertia 63361545978.13612\n",
      "Iteration 6, inertia 61299976755.40479\n",
      "Iteration 7, inertia 60444208930.96811\n",
      "Iteration 8, inertia 60013403889.74567\n",
      "Iteration 9, inertia 59847945108.88346\n",
      "Iteration 10, inertia 59830358056.97978\n",
      "Iteration 11, inertia 59829818202.221664\n",
      "Converged at iteration 11: strict convergence.\n",
      "Initialization complete\n",
      "Iteration 0, inertia 85512745617.79419\n",
      "Iteration 1, inertia 63893697633.339455\n",
      "Iteration 2, inertia 61574003957.58823\n",
      "Iteration 3, inertia 60822581950.086815\n",
      "Iteration 4, inertia 60142822647.26973\n",
      "Iteration 5, inertia 59864319657.718254\n",
      "Iteration 6, inertia 59830358056.97978\n",
      "Iteration 7, inertia 59829818202.221664\n",
      "Converged at iteration 7: strict convergence.\n",
      "Initialization complete\n",
      "Iteration 0, inertia 71986689267.40417\n",
      "Iteration 1, inertia 60208809594.36382\n",
      "Iteration 2, inertia 59852539354.37575\n",
      "Iteration 3, inertia 59830358056.97978\n",
      "Iteration 4, inertia 59829818202.221664\n",
      "Converged at iteration 4: strict convergence.\n",
      "Initialization complete\n",
      "Iteration 0, inertia 100058255360.55731\n",
      "Iteration 1, inertia 60996075470.23703\n",
      "Iteration 2, inertia 60261945499.21018\n",
      "Iteration 3, inertia 59878994931.058586\n",
      "Iteration 4, inertia 59831309174.29852\n",
      "Iteration 5, inertia 59829818202.221664\n",
      "Converged at iteration 5: strict convergence.\n"
     ]
    },
    {
     "data": {
      "text/plain": [
       "array([0, 0, 0, ..., 0, 0, 0])"
      ]
     },
     "execution_count": 71,
     "metadata": {},
     "output_type": "execute_result"
    }
   ],
   "source": [
    "y_predict = kmeans.fit_predict(nutrientsDF)\n",
    "y_predict"
   ]
  },
  {
   "cell_type": "code",
   "execution_count": 72,
   "metadata": {},
   "outputs": [
    {
     "data": {
      "text/html": [
       "<div>\n",
       "<style scoped>\n",
       "    .dataframe tbody tr th:only-of-type {\n",
       "        vertical-align: middle;\n",
       "    }\n",
       "\n",
       "    .dataframe tbody tr th {\n",
       "        vertical-align: top;\n",
       "    }\n",
       "\n",
       "    .dataframe thead th {\n",
       "        text-align: right;\n",
       "    }\n",
       "</style>\n",
       "<table border=\"1\" class=\"dataframe\">\n",
       "  <thead>\n",
       "    <tr style=\"text-align: right;\">\n",
       "      <th></th>\n",
       "      <th>Water_(g)</th>\n",
       "      <th>Energ_Kcal</th>\n",
       "      <th>Protein_(g)</th>\n",
       "      <th>Lipid_Tot_(g)</th>\n",
       "      <th>Ash_(g)</th>\n",
       "      <th>Carbohydrt_(g)</th>\n",
       "      <th>Fiber_TD_(g)</th>\n",
       "      <th>Sugar_Tot_(g)</th>\n",
       "      <th>Calcium_(mg)</th>\n",
       "      <th>Iron_(mg)</th>\n",
       "      <th>...</th>\n",
       "      <th>FA_Sat_(g)</th>\n",
       "      <th>FA_Mono_(g)</th>\n",
       "      <th>FA_Poly_(g)</th>\n",
       "      <th>Cholestrl_(mg)</th>\n",
       "      <th>GmWt_1</th>\n",
       "      <th>GmWt_Desc1</th>\n",
       "      <th>GmWt_2</th>\n",
       "      <th>GmWt_Desc2</th>\n",
       "      <th>Refuse_Pct</th>\n",
       "      <th>cluster</th>\n",
       "    </tr>\n",
       "  </thead>\n",
       "  <tbody>\n",
       "    <tr>\n",
       "      <th>0</th>\n",
       "      <td>15.87</td>\n",
       "      <td>717</td>\n",
       "      <td>0.85</td>\n",
       "      <td>81.11</td>\n",
       "      <td>2.11</td>\n",
       "      <td>0.06</td>\n",
       "      <td>0.0</td>\n",
       "      <td>0.06</td>\n",
       "      <td>24.0</td>\n",
       "      <td>0.02</td>\n",
       "      <td>...</td>\n",
       "      <td>51.368</td>\n",
       "      <td>21.021</td>\n",
       "      <td>3.043</td>\n",
       "      <td>215.0</td>\n",
       "      <td>5.00</td>\n",
       "      <td>411</td>\n",
       "      <td>14.2</td>\n",
       "      <td>783</td>\n",
       "      <td>0.0</td>\n",
       "      <td>0</td>\n",
       "    </tr>\n",
       "    <tr>\n",
       "      <th>1</th>\n",
       "      <td>16.72</td>\n",
       "      <td>718</td>\n",
       "      <td>0.49</td>\n",
       "      <td>78.30</td>\n",
       "      <td>1.62</td>\n",
       "      <td>2.87</td>\n",
       "      <td>0.0</td>\n",
       "      <td>0.06</td>\n",
       "      <td>23.0</td>\n",
       "      <td>0.05</td>\n",
       "      <td>...</td>\n",
       "      <td>45.390</td>\n",
       "      <td>19.874</td>\n",
       "      <td>3.331</td>\n",
       "      <td>225.0</td>\n",
       "      <td>3.80</td>\n",
       "      <td>411</td>\n",
       "      <td>9.4</td>\n",
       "      <td>783</td>\n",
       "      <td>0.0</td>\n",
       "      <td>0</td>\n",
       "    </tr>\n",
       "    <tr>\n",
       "      <th>2</th>\n",
       "      <td>0.24</td>\n",
       "      <td>876</td>\n",
       "      <td>0.28</td>\n",
       "      <td>99.48</td>\n",
       "      <td>0.00</td>\n",
       "      <td>0.00</td>\n",
       "      <td>0.0</td>\n",
       "      <td>0.00</td>\n",
       "      <td>4.0</td>\n",
       "      <td>0.00</td>\n",
       "      <td>...</td>\n",
       "      <td>61.924</td>\n",
       "      <td>28.732</td>\n",
       "      <td>3.694</td>\n",
       "      <td>256.0</td>\n",
       "      <td>12.80</td>\n",
       "      <td>670</td>\n",
       "      <td>205.0</td>\n",
       "      <td>227</td>\n",
       "      <td>0.0</td>\n",
       "      <td>0</td>\n",
       "    </tr>\n",
       "    <tr>\n",
       "      <th>3</th>\n",
       "      <td>42.41</td>\n",
       "      <td>353</td>\n",
       "      <td>21.40</td>\n",
       "      <td>28.74</td>\n",
       "      <td>5.11</td>\n",
       "      <td>2.34</td>\n",
       "      <td>0.0</td>\n",
       "      <td>0.50</td>\n",
       "      <td>528.0</td>\n",
       "      <td>0.31</td>\n",
       "      <td>...</td>\n",
       "      <td>18.669</td>\n",
       "      <td>7.778</td>\n",
       "      <td>0.800</td>\n",
       "      <td>75.0</td>\n",
       "      <td>28.35</td>\n",
       "      <td>368</td>\n",
       "      <td>17.0</td>\n",
       "      <td>224</td>\n",
       "      <td>0.0</td>\n",
       "      <td>0</td>\n",
       "    </tr>\n",
       "    <tr>\n",
       "      <th>4</th>\n",
       "      <td>41.11</td>\n",
       "      <td>371</td>\n",
       "      <td>23.24</td>\n",
       "      <td>29.68</td>\n",
       "      <td>3.18</td>\n",
       "      <td>2.79</td>\n",
       "      <td>0.0</td>\n",
       "      <td>0.51</td>\n",
       "      <td>674.0</td>\n",
       "      <td>0.43</td>\n",
       "      <td>...</td>\n",
       "      <td>18.764</td>\n",
       "      <td>8.598</td>\n",
       "      <td>0.784</td>\n",
       "      <td>94.0</td>\n",
       "      <td>132.00</td>\n",
       "      <td>219</td>\n",
       "      <td>113.0</td>\n",
       "      <td>273</td>\n",
       "      <td>0.0</td>\n",
       "      <td>0</td>\n",
       "    </tr>\n",
       "  </tbody>\n",
       "</table>\n",
       "<p>5 rows × 52 columns</p>\n",
       "</div>"
      ],
      "text/plain": [
       "   Water_(g)  Energ_Kcal  Protein_(g)  Lipid_Tot_(g)  Ash_(g)  Carbohydrt_(g)  \\\n",
       "0      15.87         717         0.85          81.11     2.11            0.06   \n",
       "1      16.72         718         0.49          78.30     1.62            2.87   \n",
       "2       0.24         876         0.28          99.48     0.00            0.00   \n",
       "3      42.41         353        21.40          28.74     5.11            2.34   \n",
       "4      41.11         371        23.24          29.68     3.18            2.79   \n",
       "\n",
       "   Fiber_TD_(g)  Sugar_Tot_(g)  Calcium_(mg)  Iron_(mg)  ...  FA_Sat_(g)  \\\n",
       "0           0.0           0.06          24.0       0.02  ...      51.368   \n",
       "1           0.0           0.06          23.0       0.05  ...      45.390   \n",
       "2           0.0           0.00           4.0       0.00  ...      61.924   \n",
       "3           0.0           0.50         528.0       0.31  ...      18.669   \n",
       "4           0.0           0.51         674.0       0.43  ...      18.764   \n",
       "\n",
       "   FA_Mono_(g)  FA_Poly_(g)  Cholestrl_(mg)  GmWt_1  GmWt_Desc1  GmWt_2  \\\n",
       "0       21.021        3.043           215.0    5.00         411    14.2   \n",
       "1       19.874        3.331           225.0    3.80         411     9.4   \n",
       "2       28.732        3.694           256.0   12.80         670   205.0   \n",
       "3        7.778        0.800            75.0   28.35         368    17.0   \n",
       "4        8.598        0.784            94.0  132.00         219   113.0   \n",
       "\n",
       "   GmWt_Desc2  Refuse_Pct  cluster  \n",
       "0         783         0.0        0  \n",
       "1         783         0.0        0  \n",
       "2         227         0.0        0  \n",
       "3         224         0.0        0  \n",
       "4         273         0.0        0  \n",
       "\n",
       "[5 rows x 52 columns]"
      ]
     },
     "execution_count": 72,
     "metadata": {},
     "output_type": "execute_result"
    }
   ],
   "source": [
    "nutrientsDF['cluster'] = y_predict\n",
    "nutrientsDF.head()"
   ]
  },
  {
   "cell_type": "code",
   "execution_count": 88,
   "metadata": {},
   "outputs": [
    {
     "data": {
      "text/plain": [
       "Text(0.5, 1.0, 'Centers: {} {} {}')"
      ]
     },
     "execution_count": 88,
     "metadata": {},
     "output_type": "execute_result"
    },
    {
     "data": {
      "image/png": "[encoded data removed]",
      "text/plain": [
       "<Figure size 432x288 with 1 Axes>"
      ]
     },
     "metadata": {
      "needs_background": "light"
     },
     "output_type": "display_data"
    }
   ],
   "source": [
    "plt.scatter(standardScaledX[:,0], standardScaledX[:,1])\n",
    "plt.scatter(centers[:,0], centers[:,1], s=500, color=\"red\", marker=\"*\")\n",
    "plt.title(\"Centers: {} {} {}\")"
   ]
  },
  {
   "cell_type": "code",
   "execution_count": 89,
   "metadata": {},
   "outputs": [
    {
     "data": {
      "text/plain": [
       "Text(0.5, 1.0, 'Centers: {} {} {}')"
      ]
     },
     "execution_count": 89,
     "metadata": {},
     "output_type": "execute_result"
    },
    {
     "data": {
      "image/png": "[encoded data removed]",
      "text/plain": [
       "<Figure size 720x360 with 1 Axes>"
      ]
     },
     "metadata": {
      "needs_background": "light"
     },
     "output_type": "display_data"
    }
   ],
   "source": [
    "from sklearn import cluster\n",
    "from kmodes.kmodes import KModes\n",
    "cl = cluster.KMeans(n_clusters=3)\n",
    "cl.fit(standardScaledX)\n",
    "plt.figure(figsize=(10,5))\n",
    "plt.scatter(standardScaledX[:,0], standardScaledX[:,1], \n",
    "            c=cl.predict(standardScaledX))\n",
    "plt.scatter(cl.cluster_centers_[:,0],\n",
    "            cl.cluster_centers_[:,1], s=500, color=\"red\", marker=\"*\")\n",
    "plt.title(\"Centers: {} {} {}\")"
   ]
  },
  {
   "cell_type": "code",
   "execution_count": 91,
   "metadata": {},
   "outputs": [
    {
     "name": "stdout",
     "output_type": "stream",
     "text": [
      "Cluster number 2 Score 0.5910665730687997\n",
      "Cluster number 3 Score 0.23040493478239032\n",
      "Cluster number 4 Score 0.2284435877233865\n",
      "Cluster number 5 Score 0.15174115421358125\n",
      "Cluster number 6 Score 0.15513684144277914\n"
     ]
    }
   ],
   "source": [
    "no_of_clusters = [2,3,4,5,6]\n",
    "for n_clusters in no_of_clusters:\n",
    "   cluster = KMeans(n_clusters = n_clusters)\n",
    "   cluster_labels = cluster.fit_predict(standardScaledX)\n",
    "   silhouette_avg = silhouette_score(standardScaledX, cluster_labels)\n",
    "\n",
    "   #print process\n",
    "   print(\"Cluster number\", n_clusters, \n",
    "          \"Score\", silhouette_avg)"
   ]
  },
  {
   "cell_type": "code",
   "execution_count": 92,
   "metadata": {},
   "outputs": [],
   "source": [
    "distortions = []\n",
    "K = range(1,6)\n",
    "for k in K:\n",
    "    kmeanModel = KMeans(n_clusters=k)\n",
    "    kmeanModel.fit(standardScaledX)\n",
    "    distortions.append(kmeanModel.inertia_)"
   ]
  },
  {
   "cell_type": "code",
   "execution_count": 93,
   "metadata": {},
   "outputs": [
    {
     "data": {
      "text/plain": [
       "Text(0.5, 1.0, 'Elbow Method')"
      ]
     },
     "execution_count": 93,
     "metadata": {},
     "output_type": "execute_result"
    },
    {
     "data": {
      "image/png": "[encoded data removed]",
      "text/plain": [
       "<Figure size 1080x504 with 1 Axes>"
      ]
     },
     "metadata": {
      "needs_background": "light"
     },
     "output_type": "display_data"
    }
   ],
   "source": [
    "plt.figure(figsize=(15,7))\n",
    "plt.plot(K, distortions, 'bx-')\n",
    "plt.xlabel('Cluster')\n",
    "plt.ylabel('Inertia')\n",
    "plt.title('Elbow Method')"
   ]
  },
  {
   "cell_type": "code",
   "execution_count": null,
   "metadata": {},
   "outputs": [],
   "source": []
  }
 ],
 "metadata": {
  "kernelspec": {
   "display_name": "Python 3.9.7 ('base')",
   "language": "python",
   "name": "python3"
  },
  "language_info": {
   "codemirror_mode": {
    "name": "ipython",
    "version": 3
   },
   "file_extension": ".py",
   "mimetype": "text/x-python",
   "name": "python",
   "nbconvert_exporter": "python",
   "pygments_lexer": "ipython3",
   "version": "3.9.7"
  },
  "orig_nbformat": 4,
  "vscode": {
   "interpreter": {
    "hash": "00494cd225ab54c8998015331e1c979ba0044bca5c5249885b0d39fc35581a7e"
   }
  }
 },
 "nbformat": 4,
 "nbformat_minor": 2
}
