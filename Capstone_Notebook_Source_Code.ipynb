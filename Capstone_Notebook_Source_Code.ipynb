{
  "nbformat": 4,
  "nbformat_minor": 0,
  "metadata": {
    "colab": {
      "provenance": [],
      "collapsed_sections": [
        "A7P_oro2Om3h",
        "rUOs98-M1mbO",
        "yE-n7eEo4vCG",
        "p7Mfa32Bpizn",
        "W-faBF0OUYkd",
        "bcDvXyWkQ_L4",
        "u3ImjhaoOEag",
        "sxiqQiB0ZhfD"
      ],
      "authorship_tag": "ABX9TyPGH9XGUxWR/mr/ylFrtFYo",
      "include_colab_link": true
    },
    "kernelspec": {
      "name": "python3",
      "display_name": "Python 3"
    },
    "language_info": {
      "name": "python"
    }
  },
  "cells": [
    {
      "cell_type": "markdown",
      "metadata": {
        "id": "view-in-github",
        "colab_type": "text"
      },
      "source": [
        "<a href=\"https://colab.research.google.com/github/nutzbee/Capstone-Source-Codes/blob/Notebook-using-Google-Colab-Branch/Capstone_Notebook_Source_Code.ipynb\" target=\"_parent\"><img src=\"https://colab.research.google.com/assets/colab-badge.svg\" alt=\"Open In Colab\"/></a>"
      ]
    },
    {
      "cell_type": "code",
      "execution_count": 1,
      "metadata": {
        "id": "8F8AvTb-oFvU"
      },
      "outputs": [],
      "source": [
        "import pandas as pd"
      ]
    },
    {
      "cell_type": "code",
      "source": [
        "df_abbrev = pd.read_excel('https://query.data.world/s/mhptnofytyrvspv3o5d6rpysng5wlx?dws=00000')"
      ],
      "metadata": {
        "id": "c43isbi6qb2i"
      },
      "execution_count": null,
      "outputs": []
    },
    {
      "cell_type": "code",
      "source": [
        "df_abbrev_csv = pd.read_csv('https://query.data.world/s/mtssxlosbayq43a7er4puibse6kpxt?dws=00000')"
      ],
      "metadata": {
        "id": "V3dVtYD6wX1O"
      },
      "execution_count": null,
      "outputs": []
    },
    {
      "cell_type": "code",
      "source": [
        "df_abbrev_csv = df_abbrev_csv.rename(columns={'ID': 'NDB_No'})"
      ],
      "metadata": {
        "id": "JD8O8qQ0yDFm"
      },
      "execution_count": null,
      "outputs": []
    },
    {
      "cell_type": "code",
      "source": [
        "merged_df = pd.merge(df_abbrev, df_abbrev_csv[['NDB_No', 'Descrip', 'FoodGroup']], on='NDB_No', how='left')"
      ],
      "metadata": {
        "id": "ckRyn_JQxDj0"
      },
      "execution_count": null,
      "outputs": []
    },
    {
      "cell_type": "code",
      "source": [
        "merged_df2 = pd.read_csv('https://raw.githubusercontent.com/nutzbee/Capstone-Source-Codes/Notebook-using-Google-Colab-Branch/Food%20Dataset%20of%20the%20Philippines%20-%20Combined.csv')"
      ],
      "metadata": {
        "id": "llmiqxIxIPIX"
      },
      "execution_count": null,
      "outputs": []
    },
    {
      "cell_type": "code",
      "source": [
        "local_df = pd.read_csv('https://raw.githubusercontent.com/nutzbee/Capstone-Source-Codes/Notebook-using-Google-Colab-Branch/Food%20Dataset%20of%20the%20Philippines%20-%20Combined.csv')"
      ],
      "metadata": {
        "id": "CyGB6XunZbZs"
      },
      "execution_count": 2,
      "outputs": []
    },
    {
      "cell_type": "code",
      "source": [
        "!pip install googlesearch-python"
      ],
      "metadata": {
        "colab": {
          "base_uri": "https://localhost:8080/"
        },
        "id": "WBCoiIgmzIj_",
        "outputId": "4d5686a8-2fb1-4ec1-8d72-93530c86185e"
      },
      "execution_count": null,
      "outputs": [
        {
          "output_type": "stream",
          "name": "stdout",
          "text": [
            "Looking in indexes: https://pypi.org/simple, https://us-python.pkg.dev/colab-wheels/public/simple/\n",
            "Collecting googlesearch-python\n",
            "  Downloading googlesearch-python-1.2.3.tar.gz (3.9 kB)\n",
            "  Preparing metadata (setup.py) ... \u001b[?25l\u001b[?25hdone\n",
            "Requirement already satisfied: beautifulsoup4>=4.9 in /usr/local/lib/python3.10/dist-packages (from googlesearch-python) (4.11.2)\n",
            "Requirement already satisfied: requests>=2.20 in /usr/local/lib/python3.10/dist-packages (from googlesearch-python) (2.27.1)\n",
            "Requirement already satisfied: soupsieve>1.2 in /usr/local/lib/python3.10/dist-packages (from beautifulsoup4>=4.9->googlesearch-python) (2.4.1)\n",
            "Requirement already satisfied: urllib3<1.27,>=1.21.1 in /usr/local/lib/python3.10/dist-packages (from requests>=2.20->googlesearch-python) (1.26.15)\n",
            "Requirement already satisfied: certifi>=2017.4.17 in /usr/local/lib/python3.10/dist-packages (from requests>=2.20->googlesearch-python) (2022.12.7)\n",
            "Requirement already satisfied: charset-normalizer~=2.0.0 in /usr/local/lib/python3.10/dist-packages (from requests>=2.20->googlesearch-python) (2.0.12)\n",
            "Requirement already satisfied: idna<4,>=2.5 in /usr/local/lib/python3.10/dist-packages (from requests>=2.20->googlesearch-python) (3.4)\n",
            "Building wheels for collected packages: googlesearch-python\n",
            "  Building wheel for googlesearch-python (setup.py) ... \u001b[?25l\u001b[?25hdone\n",
            "  Created wheel for googlesearch-python: filename=googlesearch_python-1.2.3-py3-none-any.whl size=4212 sha256=68f526866720f9b4670e9c8519ef2da3aebee672c2fa250a215c1eaa550ee292\n",
            "  Stored in directory: /root/.cache/pip/wheels/98/24/e9/6c225502948c629b01cc895f86406819281ef0da385f3eb669\n",
            "Successfully built googlesearch-python\n",
            "Installing collected packages: googlesearch-python\n",
            "Successfully installed googlesearch-python-1.2.3\n"
          ]
        }
      ]
    },
    {
      "cell_type": "code",
      "source": [
        "df = local_df\n",
        "\n",
        "# Define a function to categorize the foods based on their Food_ID\n",
        "def categorize_food(food_id):\n",
        "    category = ''\n",
        "    if food_id.startswith('A'):\n",
        "        category = 'GRAINS, STARCHES, OR FLOURS'\n",
        "    elif food_id.startswith('B'):\n",
        "        category = 'ROOT VEGETABLES'\n",
        "    elif food_id.startswith('C'):\n",
        "        category = 'LEGUMES'\n",
        "    elif food_id.startswith('D'):\n",
        "        category = 'VEGETABLES'\n",
        "    elif food_id.startswith('E'):\n",
        "        category = 'FRUITS'\n",
        "    elif food_id.startswith('F'):\n",
        "        category = 'MEATS'\n",
        "    elif food_id.startswith('G'):\n",
        "        category = 'SEAFOODS'\n",
        "    elif food_id.startswith('H'):\n",
        "        category = 'PROTEIN FOODS'\n",
        "    elif food_id.startswith('J'):\n",
        "        category = 'DAIRY PRODUCTS'\n",
        "    elif food_id.startswith('K'):\n",
        "        category = 'FATS AND OILS'\n",
        "    elif food_id.startswith('M'):\n",
        "        category = 'DESSERTS'\n",
        "    elif food_id.startswith('N'):\n",
        "        category = 'CONDIMENTS'\n",
        "    elif food_id.startswith('P'):\n",
        "        category = 'ALCOHOLIC BEVERAGES'\n",
        "    elif food_id.startswith('Q'):\n",
        "        category = 'BEVERAGES'\n",
        "    elif food_id.startswith('R'):\n",
        "        category = 'MAIN DISHES'\n",
        "    elif food_id.startswith('S'):\n",
        "        category = 'MAIN COURSE'\n",
        "    elif food_id.startswith('T'):\n",
        "        category = 'PLANT-BASED FOODS'\n",
        "    return category\n",
        "\n",
        "# Add a new column 'Category' based on the Food_ID category\n",
        "df['Category'] = df['Food_ID'].apply(categorize_food)\n",
        "\n",
        "# Save the transformed dataset as a new CSV file\n",
        "df.to_csv('transformed_local_foods.csv', index=False)"
      ],
      "metadata": {
        "id": "H_Qcru3gZvH6"
      },
      "execution_count": 4,
      "outputs": []
    },
    {
      "cell_type": "markdown",
      "source": [
        "# Fuzzy test for searching"
      ],
      "metadata": {
        "id": "A7P_oro2Om3h"
      }
    },
    {
      "cell_type": "code",
      "source": [
        "!pip install fuzzywuzzy"
      ],
      "metadata": {
        "colab": {
          "base_uri": "https://localhost:8080/"
        },
        "id": "0x6r_4p-RZxH",
        "outputId": "4201b292-b0f2-49e1-ddb8-1f9006511512"
      },
      "execution_count": null,
      "outputs": [
        {
          "output_type": "stream",
          "name": "stdout",
          "text": [
            "Looking in indexes: https://pypi.org/simple, https://us-python.pkg.dev/colab-wheels/public/simple/\n",
            "Collecting fuzzywuzzy\n",
            "  Downloading fuzzywuzzy-0.18.0-py2.py3-none-any.whl (18 kB)\n",
            "Installing collected packages: fuzzywuzzy\n",
            "Successfully installed fuzzywuzzy-0.18.0\n"
          ]
        }
      ]
    },
    {
      "cell_type": "code",
      "source": [
        "import pandas as pd\n",
        "import difflib"
      ],
      "metadata": {
        "id": "rvQTv83cwamu"
      },
      "execution_count": null,
      "outputs": []
    },
    {
      "cell_type": "code",
      "source": [
        "df = merged_df"
      ],
      "metadata": {
        "id": "_fftsJrUXJSK"
      },
      "execution_count": null,
      "outputs": []
    },
    {
      "cell_type": "code",
      "source": [
        "# Access the column from the dataframe\n",
        "column_name = 'FoodGroup' \n",
        "column_values = df[column_name]"
      ],
      "metadata": {
        "id": "EGBUmwc4Xlf-"
      },
      "execution_count": null,
      "outputs": []
    },
    {
      "cell_type": "code",
      "source": [
        "# Get unique values from the column\n",
        "unique_values = column_values.unique()\n",
        "\n",
        "# Print the unique values\n",
        "for value in unique_values:\n",
        "    print(value)"
      ],
      "metadata": {
        "colab": {
          "base_uri": "https://localhost:8080/"
        },
        "id": "SUY-e2EsYGxQ",
        "outputId": "0f24f8e8-e873-469e-e201-95752664ea18"
      },
      "execution_count": null,
      "outputs": [
        {
          "output_type": "stream",
          "name": "stdout",
          "text": [
            "Dairy and Egg Products\n",
            "\n",
            "Spices and Herbs\n",
            "Baby Foods\n",
            "Fats and Oils\n",
            "Poultry Products\n",
            "Soups, Sauces, and Gravies\n",
            "Sausages and Luncheon Meats\n",
            "Breakfast Cereals\n",
            "Snacks\n",
            "Fruits and Fruit Juices\n",
            "Pork Products\n",
            "Vegetables and Vegetable Products\n",
            "Nut and Seed Products\n",
            "Beef Products\n",
            "Beverages\n",
            "Finfish and Shellfish Products\n",
            "Legumes and Legume Products\n",
            "Lamb, Veal, and Game Products\n",
            "Baked Products\n",
            "Sweets\n",
            "Cereal Grains and Pasta\n",
            "Fast Foods\n",
            "Meals, Entrees, and Side Dishes\n",
            "American Indian/Alaska Native Foods\n",
            "Restaurant Foods\n"
          ]
        }
      ]
    },
    {
      "cell_type": "code",
      "source": [
        "# Function to search for words in the food group column and merge the matches\n",
        "def search_and_merge(words):\n",
        "    matches = pd.DataFrame()\n",
        "    for word in words:\n",
        "        matches = pd.concat([matches, df[df['FoodGroup'].str.contains(word, case=False)]])\n",
        "    return matches\n",
        "\n",
        "# Function to provide suggestions for incomplete or misspelled words\n",
        "def suggest_words(word):\n",
        "    suggestions = difflib.get_close_matches(word, df['FoodGroup'], n=5, cutoff=0.6)\n",
        "    return suggestions\n",
        "\n",
        "# Input word to search\n",
        "input_words = ['dair','past','snack','baby food', 'nut']  # Example input word\n",
        "\n",
        "# Search for exact match\n",
        "exact_matches = search_and_merge(input_words)\n",
        "\n",
        "# If no exact matches found, provide suggestions\n",
        "if exact_matches.empty:\n",
        "    print(\"No exact matches found. Here are some suggestions:\")\n",
        "    for word in input_words:\n",
        "        suggestions = suggest_words(word)\n",
        "        print(f\"Suggestions for '{word}': {suggestions}\")\n",
        "else:\n",
        "    print(\"Exact matches found:\")\n",
        "    print(exact_matches)"
      ],
      "metadata": {
        "colab": {
          "base_uri": "https://localhost:8080/"
        },
        "id": "pgQtd3RMW18p",
        "outputId": "693a84d2-4bd9-41be-91ee-0e23bfeee585"
      },
      "execution_count": null,
      "outputs": [
        {
          "output_type": "stream",
          "name": "stdout",
          "text": [
            "Exact matches found:\n",
            "      NDB_No                                        Shrt_Desc  Water_(g)  \\\n",
            "0       1001                                 BUTTER,WITH SALT      15.87   \n",
            "1       1002                           BUTTER,WHIPPED,W/ SALT      16.72   \n",
            "2       1003                             BUTTER OIL,ANHYDROUS       0.24   \n",
            "3       1004                                      CHEESE,BLUE      42.41   \n",
            "4       1005                                     CHEESE,BRICK      41.11   \n",
            "...      ...                                              ...        ...   \n",
            "3737   12665             NUTS,ALMONDS,OIL RSTD,LIGHTLY SALTED       2.80   \n",
            "3738   12695                         ALMOND BUTTER,PLN,W/SALT       1.64   \n",
            "3739   12698                SESAME BUTTER,TAHINI,KRNLS UNSPEC       3.00   \n",
            "3740   12737   NUTS,MXD NUTS,OIL RSTD,W/ PNUTS,LIGHTLY SALTED       2.08   \n",
            "3741   12738  NUTS,MXD NUTS,OIL RSTD,WO/ PNUTS,LIGHTLY SALTED       3.15   \n",
            "\n",
            "      Energ_Kcal  Protein_(g)  Lipid_Tot_(g)  Ash_(g)  Carbohydrt_(g)  \\\n",
            "0            717         0.85          81.11     2.11            0.06   \n",
            "1            718         0.49          78.30     1.62            2.87   \n",
            "2            876         0.28          99.48     0.00            0.00   \n",
            "3            353        21.40          28.74     5.11            2.34   \n",
            "4            371        23.24          29.68     3.18            2.79   \n",
            "...          ...          ...            ...      ...             ...   \n",
            "3737         607        21.23          55.17     3.13           17.68   \n",
            "3738         614        20.96          55.50     3.09           18.82   \n",
            "3739         592        17.40          53.01     5.09           21.50   \n",
            "3740         607        20.04          53.95     2.88           21.05   \n",
            "3741         607        17.86          50.00     3.18           25.00   \n",
            "\n",
            "      Fiber_TD_(g)  Sugar_Tot_(g)  ...  FA_Poly_(g)  Cholestrl_(mg)  GmWt_1  \\\n",
            "0              0.0           0.06  ...        3.043           215.0    5.00   \n",
            "1              0.0           0.06  ...        3.331           225.0    3.80   \n",
            "2              0.0           0.00  ...        3.694           256.0   12.80   \n",
            "3              0.0           0.50  ...        0.800            75.0   28.35   \n",
            "4              0.0           0.51  ...        0.784            94.0  132.00   \n",
            "...            ...            ...  ...          ...             ...     ...   \n",
            "3737          10.5           4.55  ...       13.520             0.0  157.00   \n",
            "3738          10.3           6.27  ...       13.613             0.0   16.00   \n",
            "3739           4.7            NaN  ...       23.232             0.0   15.00   \n",
            "3740           7.0           4.15  ...       14.612             0.0   28.35   \n",
            "3741           7.1           5.21  ...       12.500             0.0   28.35   \n",
            "\n",
            "                      GmWt_Desc1  GmWt_2                 GmWt_Desc2  \\\n",
            "0     1 pat,  (1\" sq, 1/3\" high)   14.20                     1 tbsp   \n",
            "1     1 pat,  (1\" sq, 1/3\" high)    9.40                     1 tbsp   \n",
            "2                         1 tbsp  205.00                      1 cup   \n",
            "3                           1 oz   17.00               1 cubic inch   \n",
            "4                   1 cup, diced  113.00            1 cup, shredded   \n",
            "...                          ...     ...                        ...   \n",
            "3737        1 cup, whole kernels   28.35  1 oz,  (22 whole kernels)   \n",
            "3738                      1 tbsp  250.00                      1 cup   \n",
            "3739                      1 tbsp     NaN                        NaN   \n",
            "3740                        1 oz     NaN                        NaN   \n",
            "3741                        1 oz     NaN                        NaN   \n",
            "\n",
            "      Refuse_Pct                                            Descrip  \\\n",
            "0            0.0                                     Butter, salted   \n",
            "1            0.0                         Butter, whipped, with salt   \n",
            "2            0.0                              Butter oil, anhydrous   \n",
            "3            0.0                                       Cheese, blue   \n",
            "4            0.0                                      Cheese, brick   \n",
            "...          ...                                                ...   \n",
            "3737         0.0         Nuts, almonds, oil roasted, lightly salted   \n",
            "3738         0.0        Nuts, almond butter, plain, with salt added   \n",
            "3739         0.0  Seeds, sesame butter, tahini, type of kernels ...   \n",
            "3740         0.0  Nuts, mixed nuts, oil roasted, with peanuts, l...   \n",
            "3741         0.0  Nuts, mixed nuts, oil roasted, without peanuts...   \n",
            "\n",
            "                   FoodGroup  ClosestMatch  \n",
            "0     Dairy and Egg Products         Dairy  \n",
            "1     Dairy and Egg Products         Dairy  \n",
            "2     Dairy and Egg Products         Dairy  \n",
            "3     Dairy and Egg Products         Dairy  \n",
            "4     Dairy and Egg Products         Dairy  \n",
            "...                      ...           ...  \n",
            "3737   Nut and Seed Products         Dairy  \n",
            "3738   Nut and Seed Products         Dairy  \n",
            "3739   Nut and Seed Products         Dairy  \n",
            "3740   Nut and Seed Products         Dairy  \n",
            "3741   Nut and Seed Products         Dairy  \n",
            "\n",
            "[1099 rows x 56 columns]\n"
          ]
        }
      ]
    },
    {
      "cell_type": "markdown",
      "source": [
        "# Merging"
      ],
      "metadata": {
        "id": "rUOs98-M1mbO"
      }
    },
    {
      "cell_type": "code",
      "source": [
        "df_abbrev.shape"
      ],
      "metadata": {
        "colab": {
          "base_uri": "https://localhost:8080/"
        },
        "id": "JVZoj-Phw8ES",
        "outputId": "74c40dcd-5fe6-486f-97a4-d339bce55759"
      },
      "execution_count": null,
      "outputs": [
        {
          "output_type": "execute_result",
          "data": {
            "text/plain": [
              "(8790, 53)"
            ]
          },
          "metadata": {},
          "execution_count": 3
        }
      ]
    },
    {
      "cell_type": "code",
      "source": [
        "df_abbrev.columns"
      ],
      "metadata": {
        "colab": {
          "base_uri": "https://localhost:8080/"
        },
        "id": "pH593Cewqh4A",
        "outputId": "9c8b777f-7fa0-48ca-e054-c70886bef23c"
      },
      "execution_count": null,
      "outputs": [
        {
          "output_type": "execute_result",
          "data": {
            "text/plain": [
              "Index(['NDB_No', 'Shrt_Desc', 'Water_(g)', 'Energ_Kcal', 'Protein_(g)',\n",
              "       'Lipid_Tot_(g)', 'Ash_(g)', 'Carbohydrt_(g)', 'Fiber_TD_(g)',\n",
              "       'Sugar_Tot_(g)', 'Calcium_(mg)', 'Iron_(mg)', 'Magnesium_(mg)',\n",
              "       'Phosphorus_(mg)', 'Potassium_(mg)', 'Sodium_(mg)', 'Zinc_(mg)',\n",
              "       'Copper_mg)', 'Manganese_(mg)', 'Selenium_(µg)', 'Vit_C_(mg)',\n",
              "       'Thiamin_(mg)', 'Riboflavin_(mg)', 'Niacin_(mg)', 'Panto_Acid_mg)',\n",
              "       'Vit_B6_(mg)', 'Folate_Tot_(µg)', 'Folic_Acid_(µg)', 'Food_Folate_(µg)',\n",
              "       'Folate_DFE_(µg)', 'Choline_Tot_ (mg)', 'Vit_B12_(µg)', 'Vit_A_IU',\n",
              "       'Vit_A_RAE', 'Retinol_(µg)', 'Alpha_Carot_(µg)', 'Beta_Carot_(µg)',\n",
              "       'Beta_Crypt_(µg)', 'Lycopene_(µg)', 'Lut+Zea_ (µg)', 'Vit_E_(mg)',\n",
              "       'Vit_D_µg', 'Vit_D_IU', 'Vit_K_(µg)', 'FA_Sat_(g)', 'FA_Mono_(g)',\n",
              "       'FA_Poly_(g)', 'Cholestrl_(mg)', 'GmWt_1', 'GmWt_Desc1', 'GmWt_2',\n",
              "       'GmWt_Desc2', 'Refuse_Pct'],\n",
              "      dtype='object')"
            ]
          },
          "metadata": {},
          "execution_count": 4
        }
      ]
    },
    {
      "cell_type": "code",
      "source": [
        "df_abbrev_csv.shape"
      ],
      "metadata": {
        "colab": {
          "base_uri": "https://localhost:8080/"
        },
        "id": "RkFl-8IfweWF",
        "outputId": "61b61a07-37dc-4523-b792-e266b025dfad"
      },
      "execution_count": null,
      "outputs": [
        {
          "output_type": "execute_result",
          "data": {
            "text/plain": [
              "(8618, 45)"
            ]
          },
          "metadata": {},
          "execution_count": 6
        }
      ]
    },
    {
      "cell_type": "code",
      "source": [
        "df_abbrev_csv.columns"
      ],
      "metadata": {
        "colab": {
          "base_uri": "https://localhost:8080/"
        },
        "id": "Fff9KriuxXK4",
        "outputId": "0f1d7dec-3d0b-4a77-e117-8cc34757cde9"
      },
      "execution_count": null,
      "outputs": [
        {
          "output_type": "execute_result",
          "data": {
            "text/plain": [
              "Index(['ID', 'FoodGroup', 'ShortDescrip', 'Descrip', 'CommonName', 'MfgName',\n",
              "       'ScientificName', 'Energy_kcal', 'Protein_g', 'Fat_g', 'Carb_g',\n",
              "       'Sugar_g', 'Fiber_g', 'VitA_mcg', 'VitB6_mg', 'VitB12_mcg', 'VitC_mg',\n",
              "       'VitE_mg', 'Folate_mcg', 'Niacin_mg', 'Riboflavin_mg', 'Thiamin_mg',\n",
              "       'Calcium_mg', 'Copper_mcg', 'Iron_mg', 'Magnesium_mg', 'Manganese_mg',\n",
              "       'Phosphorus_mg', 'Selenium_mcg', 'Zinc_mg', 'VitA_USRDA', 'VitB6_USRDA',\n",
              "       'VitB12_USRDA', 'VitC_USRDA', 'VitE_USRDA', 'Folate_USRDA',\n",
              "       'Niacin_USRDA', 'Riboflavin_USRDA', 'Thiamin_USRDA', 'Calcium_USRDA',\n",
              "       'Copper_USRDA', 'Magnesium_USRDA', 'Phosphorus_USRDA', 'Selenium_USRDA',\n",
              "       'Zinc_USRDA'],\n",
              "      dtype='object')"
            ]
          },
          "metadata": {},
          "execution_count": 7
        }
      ]
    },
    {
      "cell_type": "code",
      "source": [
        "merged_df.to_csv('merged.csv', index=False)"
      ],
      "metadata": {
        "id": "mwhgHvO6zlEE"
      },
      "execution_count": null,
      "outputs": []
    },
    {
      "cell_type": "markdown",
      "source": [
        "# ERROR USING FLASK"
      ],
      "metadata": {
        "id": "yE-n7eEo4vCG"
      }
    },
    {
      "cell_type": "code",
      "source": [
        "!pip install flask-ngrok"
      ],
      "metadata": {
        "colab": {
          "base_uri": "https://localhost:8080/"
        },
        "id": "QiY2CFsf346d",
        "outputId": "5d678a27-1965-4e0b-a8f2-728914525ced"
      },
      "execution_count": null,
      "outputs": [
        {
          "output_type": "stream",
          "name": "stdout",
          "text": [
            "Looking in indexes: https://pypi.org/simple, https://us-python.pkg.dev/colab-wheels/public/simple/\n",
            "Collecting flask-ngrok\n",
            "  Downloading flask_ngrok-0.0.25-py3-none-any.whl (3.1 kB)\n",
            "Requirement already satisfied: Flask>=0.8 in /usr/local/lib/python3.9/dist-packages (from flask-ngrok) (2.2.3)\n",
            "Requirement already satisfied: requests in /usr/local/lib/python3.9/dist-packages (from flask-ngrok) (2.27.1)\n",
            "Requirement already satisfied: Werkzeug>=2.2.2 in /usr/local/lib/python3.9/dist-packages (from Flask>=0.8->flask-ngrok) (2.2.3)\n",
            "Requirement already satisfied: Jinja2>=3.0 in /usr/local/lib/python3.9/dist-packages (from Flask>=0.8->flask-ngrok) (3.1.2)\n",
            "Requirement already satisfied: importlib-metadata>=3.6.0 in /usr/local/lib/python3.9/dist-packages (from Flask>=0.8->flask-ngrok) (6.1.0)\n",
            "Requirement already satisfied: click>=8.0 in /usr/local/lib/python3.9/dist-packages (from Flask>=0.8->flask-ngrok) (8.1.3)\n",
            "Requirement already satisfied: itsdangerous>=2.0 in /usr/local/lib/python3.9/dist-packages (from Flask>=0.8->flask-ngrok) (2.1.2)\n",
            "Requirement already satisfied: certifi>=2017.4.17 in /usr/local/lib/python3.9/dist-packages (from requests->flask-ngrok) (2022.12.7)\n",
            "Requirement already satisfied: charset-normalizer~=2.0.0 in /usr/local/lib/python3.9/dist-packages (from requests->flask-ngrok) (2.0.12)\n",
            "Requirement already satisfied: urllib3<1.27,>=1.21.1 in /usr/local/lib/python3.9/dist-packages (from requests->flask-ngrok) (1.26.15)\n",
            "Requirement already satisfied: idna<4,>=2.5 in /usr/local/lib/python3.9/dist-packages (from requests->flask-ngrok) (3.4)\n",
            "Requirement already satisfied: zipp>=0.5 in /usr/local/lib/python3.9/dist-packages (from importlib-metadata>=3.6.0->Flask>=0.8->flask-ngrok) (3.15.0)\n",
            "Requirement already satisfied: MarkupSafe>=2.0 in /usr/local/lib/python3.9/dist-packages (from Jinja2>=3.0->Flask>=0.8->flask-ngrok) (2.1.2)\n",
            "Installing collected packages: flask-ngrok\n",
            "Successfully installed flask-ngrok-0.0.25\n"
          ]
        }
      ]
    },
    {
      "cell_type": "code",
      "source": [
        "from flask import Flask, jsonify, request\n",
        "import pandas as pd\n",
        "from sklearn.preprocessing import StandardScaler\n",
        "from sklearn.decomposition import PCA\n",
        "from sklearn.cluster import KMeans"
      ],
      "metadata": {
        "id": "801Y9-Km2Y1u"
      },
      "execution_count": null,
      "outputs": []
    },
    {
      "cell_type": "code",
      "source": [
        "app = Flask(__name__)\n",
        "\n",
        "# Load the dataset\n",
        "df = pd.read_excel(\"ABBREV.xlsx\")\n",
        "\n",
        "# Preprocess the dataset\n",
        "# Code for preprocessing goes here\n",
        "df['GmWt_Desc1'] = pd.to_numeric(df['GmWt_Desc1'], errors='coerce')\n",
        "df['GmWt_Desc2'] = pd.to_numeric(df['GmWt_Desc2'], errors='coerce')\n",
        "df['Refuse_Pct'] = pd.to_numeric(df['Refuse_Pct'], errors='coerce')\n",
        "df['Phosphorus_(mg)'] = pd.to_numeric(df['Phosphorus_(mg)'], errors='coerce')\n",
        "\n",
        "df['Fiber_TD_(g)'] = pd.to_numeric(df['Fiber_TD_(g)'], errors='coerce')\n",
        "df['FA_Sat_(g)'] = pd.to_numeric(df['FA_Sat_(g)'], errors='coerce')\n",
        "df['Cholestrl_(mg)'] = pd.to_numeric(df['Cholestrl_(mg)'], errors='coerce')\n",
        "df['Sodium_(mg)'] = pd.to_numeric(df['Sodium_(mg)'], errors='coerce')\n",
        "df['Carbohydrt_(g)'] = pd.to_numeric(df['Carbohydrt_(g)'], errors='coerce')\n",
        "df['Sugar_Tot_(g)'] = pd.to_numeric(df['Sugar_Tot_(g)'], errors='coerce')\n",
        "df['Calcium_(mg)'] = pd.to_numeric(df['Calcium_(mg)'], errors='coerce')\n",
        "df['Iron_(mg)'] = pd.to_numeric(df['Iron_(mg)'], errors='coerce')\n",
        "df['Potassium_(mg)'] = pd.to_numeric(df['Potassium_(mg)'], errors='coerce')\n",
        "df['Vit_A_IU'] = pd.to_numeric(df['Vit_A_IU'], errors='coerce')\n",
        "df['Vit_C_(mg)'] = pd.to_numeric(df['Vit_C_(mg)'], errors='coerce')\n",
        "df['Vit_E_(mg)'] = pd.to_numeric(df['Vit_E_(mg)'], errors='coerce')\n",
        "df['Vit_D_IU'] = pd.to_numeric(df['Vit_D_IU'], errors='coerce')\n",
        "\n",
        "df.fillna(0, inplace=True)\n",
        "\n",
        "# Apply Standardization\n",
        "scaler = StandardScaler()\n",
        "df_std = scaler.fit_transform(df.drop('Shrt_Desc', axis=1))\n",
        "\n",
        "# Apply PCA for feature extraction\n",
        "pca = PCA(n_components=2)\n",
        "principal_components = pca.fit_transform(df_std)\n",
        "\n",
        "# Convert principal components to a dataframe\n",
        "principal_df = pd.DataFrame(data=principal_components, columns=['PC1', 'PC2'])\n",
        "\n",
        "# Apply K-Means clustering algorithm\n",
        "kmeans = KMeans(n_clusters=3, init='k-means++', random_state=42)\n",
        "kmeans.fit(principal_df)\n",
        "\n",
        "@app.route('/')\n",
        "def index():\n",
        "  return 'Hello world'\n",
        "\n",
        "@app.route('/recommend', methods=['POST'])\n",
        "def recommend():\n",
        "    data = request.json\n",
        "    calorie_req = data['calorie_req']\n",
        "    food_allergy = data['food_allergy']\n",
        "    nutrient_req = data['nutrient_req']\n",
        "    \n",
        "    # Filter the dataset based on user input\n",
        "    filtered_df = df[(df['Energ_Kcal'] <= float(calorie_req)) & (~df['Shrt_Desc'].str.contains(food_allergy, na=False))]\n",
        "    filtered_df = filtered_df.sort_values(by=[nutrient_req], ascending=False)\n",
        "    \n",
        "    # Apply K-Means clustering algorithm to the filtered data\n",
        "    principal_components = pca.transform(filtered_df.drop('Shrt_Desc', axis=1))\n",
        "    principal_df_filtered = pd.DataFrame(data=principal_components, columns=['PC1', 'PC2'])\n",
        "    y_kmeans = kmeans.predict(principal_df_filtered)\n",
        "    principal_df_filtered['cluster'] = y_kmeans\n",
        "    \n",
        "    # Get recommendations for the user\n",
        "    recommended_foods = []\n",
        "    for i in range(3):\n",
        "        cluster_df = principal_df_filtered[principal_df_filtered['cluster'] == i]\n",
        "        cluster_foods = filtered_df[filtered_df.index.isin(cluster_df.index)]\n",
        "        if len(cluster_foods) > 0:\n",
        "            recommended_foods.append(cluster_foods.iloc[0]['Shrt_Desc'])\n",
        "    \n",
        "    return jsonify({'recommended_foods': recommended_foods})\n",
        "\n",
        "if __name__ == '__main__':\n",
        "    app.run(debug=True, port=5000)"
      ],
      "metadata": {
        "colab": {
          "base_uri": "https://localhost:8080/"
        },
        "id": "VPJrVzq72NSX",
        "outputId": "eddbc8ca-c473-4b6c-97f3-f832a029b301"
      },
      "execution_count": null,
      "outputs": [
        {
          "output_type": "stream",
          "name": "stderr",
          "text": [
            "/usr/local/lib/python3.9/dist-packages/sklearn/cluster/_kmeans.py:870: FutureWarning: The default value of `n_init` will change from 10 to 'auto' in 1.4. Set the value of `n_init` explicitly to suppress the warning\n",
            "  warnings.warn(\n"
          ]
        },
        {
          "output_type": "stream",
          "name": "stdout",
          "text": [
            " * Serving Flask app '__main__'\n",
            " * Debug mode: on\n"
          ]
        },
        {
          "output_type": "stream",
          "name": "stderr",
          "text": [
            "INFO:werkzeug:\u001b[31m\u001b[1mWARNING: This is a development server. Do not use it in a production deployment. Use a production WSGI server instead.\u001b[0m\n",
            " * Running on http://127.0.0.1:5000\n",
            "INFO:werkzeug:\u001b[33mPress CTRL+C to quit\u001b[0m\n",
            "INFO:werkzeug: * Restarting with stat\n"
          ]
        }
      ]
    },
    {
      "cell_type": "markdown",
      "source": [
        "# Type-2 Diabetes Prediction Test"
      ],
      "metadata": {
        "id": "p7Mfa32Bpizn"
      }
    },
    {
      "cell_type": "code",
      "source": [
        "import numpy as np\n",
        "from sklearn.preprocessing import StandardScaler\n",
        "from sklearn.decomposition import PCA\n",
        "from sklearn.cluster import KMeans\n",
        "from sklearn.metrics import accuracy_score\n",
        "import matplotlib.pyplot as plt"
      ],
      "metadata": {
        "id": "Iy5btE6CSmJX"
      },
      "execution_count": null,
      "outputs": []
    },
    {
      "cell_type": "code",
      "source": [
        "# Load the dataset\n",
        "df = pd.read_csv(\"diabetes.csv\")"
      ],
      "metadata": {
        "id": "NZL9jiJoSt8R"
      },
      "execution_count": null,
      "outputs": []
    },
    {
      "cell_type": "code",
      "source": [
        "# Apply Standardization\n",
        "scaler = StandardScaler()\n",
        "df_std = scaler.fit_transform(df.drop('Outcome', axis=1))\n",
        "\n",
        "# Apply PCA for feature extraction\n",
        "pca = PCA(n_components=2)\n",
        "principal_components = pca.fit_transform(df_std)\n",
        "\n",
        "# Convert principal components to a dataframe\n",
        "principal_df = pd.DataFrame(data=principal_components, columns=['PC1', 'PC2'])\n"
      ],
      "metadata": {
        "id": "w45K_okwS1FV"
      },
      "execution_count": null,
      "outputs": []
    },
    {
      "cell_type": "code",
      "source": [
        "# Apply K-Means clustering algorithm and elbow method to identify diabetic and non-diabetic patients\n",
        "wcss = []\n",
        "for i in range(1, 11):\n",
        "    kmeans = KMeans(n_clusters=i, init='k-means++', random_state=42)\n",
        "    kmeans.fit(principal_df)\n",
        "    wcss.append(kmeans.inertia_)\n",
        "\n",
        "plt.plot(range(1, 11), wcss)\n",
        "plt.title('Elbow Method')\n",
        "plt.xlabel('Number of clusters')\n",
        "plt.ylabel('WCSS')\n",
        "plt.show()\n",
        "\n",
        "# Based on the elbow plot, select the number of clusters (e.g. 2)\n",
        "n_clusters = 2\n",
        "\n",
        "# Apply K-Means clustering algorithm\n",
        "kmeans = KMeans(n_clusters=n_clusters, init='k-means++', random_state=42)\n",
        "kmeans.fit(principal_df)\n",
        "y_kmeans = kmeans.predict(principal_df)\n",
        "\n",
        "# Evaluate the accuracy of the clustering\n",
        "labels_true = df['Outcome']\n",
        "accuracy = accuracy_score(labels_true, y_kmeans)\n",
        "print(\"Accuracy of K-Means clustering algorithm: {:.2f}%\".format(accuracy * 100))\n"
      ],
      "metadata": {
        "colab": {
          "base_uri": "https://localhost:8080/",
          "height": 891
        },
        "id": "5-yONzPfS5On",
        "outputId": "c6b82b42-c54a-4b70-b3b4-ce01022afdca"
      },
      "execution_count": null,
      "outputs": [
        {
          "output_type": "stream",
          "name": "stderr",
          "text": [
            "/usr/local/lib/python3.9/dist-packages/sklearn/cluster/_kmeans.py:870: FutureWarning: The default value of `n_init` will change from 10 to 'auto' in 1.4. Set the value of `n_init` explicitly to suppress the warning\n",
            "  warnings.warn(\n",
            "/usr/local/lib/python3.9/dist-packages/sklearn/cluster/_kmeans.py:870: FutureWarning: The default value of `n_init` will change from 10 to 'auto' in 1.4. Set the value of `n_init` explicitly to suppress the warning\n",
            "  warnings.warn(\n",
            "/usr/local/lib/python3.9/dist-packages/sklearn/cluster/_kmeans.py:870: FutureWarning: The default value of `n_init` will change from 10 to 'auto' in 1.4. Set the value of `n_init` explicitly to suppress the warning\n",
            "  warnings.warn(\n",
            "/usr/local/lib/python3.9/dist-packages/sklearn/cluster/_kmeans.py:870: FutureWarning: The default value of `n_init` will change from 10 to 'auto' in 1.4. Set the value of `n_init` explicitly to suppress the warning\n",
            "  warnings.warn(\n",
            "/usr/local/lib/python3.9/dist-packages/sklearn/cluster/_kmeans.py:870: FutureWarning: The default value of `n_init` will change from 10 to 'auto' in 1.4. Set the value of `n_init` explicitly to suppress the warning\n",
            "  warnings.warn(\n",
            "/usr/local/lib/python3.9/dist-packages/sklearn/cluster/_kmeans.py:870: FutureWarning: The default value of `n_init` will change from 10 to 'auto' in 1.4. Set the value of `n_init` explicitly to suppress the warning\n",
            "  warnings.warn(\n",
            "/usr/local/lib/python3.9/dist-packages/sklearn/cluster/_kmeans.py:870: FutureWarning: The default value of `n_init` will change from 10 to 'auto' in 1.4. Set the value of `n_init` explicitly to suppress the warning\n",
            "  warnings.warn(\n",
            "/usr/local/lib/python3.9/dist-packages/sklearn/cluster/_kmeans.py:870: FutureWarning: The default value of `n_init` will change from 10 to 'auto' in 1.4. Set the value of `n_init` explicitly to suppress the warning\n",
            "  warnings.warn(\n",
            "/usr/local/lib/python3.9/dist-packages/sklearn/cluster/_kmeans.py:870: FutureWarning: The default value of `n_init` will change from 10 to 'auto' in 1.4. Set the value of `n_init` explicitly to suppress the warning\n",
            "  warnings.warn(\n",
            "/usr/local/lib/python3.9/dist-packages/sklearn/cluster/_kmeans.py:870: FutureWarning: The default value of `n_init` will change from 10 to 'auto' in 1.4. Set the value of `n_init` explicitly to suppress the warning\n",
            "  warnings.warn(\n"
          ]
        },
        {
          "output_type": "display_data",
          "data": {
            "text/plain": [
              "<Figure size 640x480 with 1 Axes>"
            ],
            "image/png": "[encoded data removed]"
          },
          "metadata": {}
        },
        {
          "output_type": "stream",
          "name": "stdout",
          "text": [
            "Accuracy of K-Means clustering algorithm: 67.45%\n"
          ]
        },
        {
          "output_type": "stream",
          "name": "stderr",
          "text": [
            "/usr/local/lib/python3.9/dist-packages/sklearn/cluster/_kmeans.py:870: FutureWarning: The default value of `n_init` will change from 10 to 'auto' in 1.4. Set the value of `n_init` explicitly to suppress the warning\n",
            "  warnings.warn(\n"
          ]
        }
      ]
    },
    {
      "cell_type": "code",
      "source": [
        "# Get user input\n",
        "input_features = []\n",
        "for feature in df.columns[:-1]:\n",
        "    value = input(\"Enter {} value: \".format(feature))\n",
        "    input_features.append(float(value))\n",
        "\n",
        "# Identify the user as diabetic or non-diabetic\n",
        "user_df = pd.DataFrame([input_features], columns=df.columns[:-1])\n",
        "user_std = scaler.transform(user_df)\n",
        "user_pc = pca.transform(user_std)\n",
        "user_label = kmeans.predict(user_pc)[0]\n",
        "\n",
        "if user_label == 0:\n",
        "    print(\"You are diagnosed as a non-diabetic patient.\")\n",
        "else:\n",
        "    print(\"You are diagnosed as a type-2 diabetic patient.\")\n"
      ],
      "metadata": {
        "colab": {
          "base_uri": "https://localhost:8080/"
        },
        "id": "G9j2i6CITJ2I",
        "outputId": "108d006e-26f1-4768-c643-06ebcd4177a3"
      },
      "execution_count": null,
      "outputs": [
        {
          "output_type": "stream",
          "name": "stdout",
          "text": [
            "Enter Pregnancies value: 0\n",
            "Enter Glucose value: 0\n",
            "Enter BloodPressure value: 0\n",
            "Enter SkinThickness value: 0\n",
            "Enter Insulin value: 0\n",
            "Enter BMI value: 0\n",
            "Enter DiabetesPedigreeFunction value: 0\n",
            "Enter Age value: 22\n",
            "You are diagnosed as a non-diabetic patient.\n"
          ]
        },
        {
          "output_type": "stream",
          "name": "stderr",
          "text": [
            "/usr/local/lib/python3.9/dist-packages/sklearn/base.py:439: UserWarning: X does not have valid feature names, but KMeans was fitted with feature names\n",
            "  warnings.warn(\n"
          ]
        }
      ]
    },
    {
      "cell_type": "code",
      "source": [
        "if user_label == 0:\n",
        "    # User is non-diabetic, recommend any food\n",
        "    # Code for recommending any food goes here\n",
        "    print(\"Wala kang diabetes\")\n",
        "else:\n",
        "    # User is type-2 diabetic, recommend suitable foods\n",
        "    # Code for recommending suitable foods goes here\n",
        "    print(\"May diabetes ka\")"
      ],
      "metadata": {
        "colab": {
          "base_uri": "https://localhost:8080/"
        },
        "id": "EhpXq_XIToc6",
        "outputId": "6be6acfa-2234-4b8f-f0ab-b8557cb46c8c"
      },
      "execution_count": null,
      "outputs": [
        {
          "output_type": "stream",
          "name": "stdout",
          "text": [
            "Wala kang diabetes\n"
          ]
        }
      ]
    },
    {
      "cell_type": "markdown",
      "source": [
        "# EDA Test using CountVectorizer & TFIDvectorizer. We disregard because using feature extraction provides highes silhouette score than these two based on our implementations. Disregard this cells."
      ],
      "metadata": {
        "id": "W-faBF0OUYkd"
      }
    },
    {
      "cell_type": "code",
      "source": [
        "data = pd.read_csv('https://query.data.world/s/bn4zzv3dzqdf6nwlbvbpryimitkdey?dws=00000')"
      ],
      "metadata": {
        "id": "WpemrERroWmI"
      },
      "execution_count": null,
      "outputs": []
    },
    {
      "cell_type": "code",
      "source": [
        "data.columns"
      ],
      "metadata": {
        "colab": {
          "base_uri": "https://localhost:8080/"
        },
        "id": "4Z3Z-8bRtIjq",
        "outputId": "fadeb60f-2f7c-4aa8-bbfa-0942332b33f1"
      },
      "execution_count": null,
      "outputs": [
        {
          "output_type": "execute_result",
          "data": {
            "text/plain": [
              "Index(['ID', 'FoodGroup', 'ShortDescrip', 'Descrip', 'CommonName', 'MfgName',\n",
              "       'ScientificName', 'Energy_kcal', 'Protein_g', 'Fat_g', 'Carb_g',\n",
              "       'Sugar_g', 'Fiber_g', 'VitA_mcg', 'VitB6_mg', 'VitB12_mcg', 'VitC_mg',\n",
              "       'VitE_mg', 'Folate_mcg', 'Niacin_mg', 'Riboflavin_mg', 'Thiamin_mg',\n",
              "       'Calcium_mg', 'Copper_mcg', 'Iron_mg', 'Magnesium_mg', 'Manganese_mg',\n",
              "       'Phosphorus_mg', 'Selenium_mcg', 'Zinc_mg', 'VitA_USRDA', 'VitB6_USRDA',\n",
              "       'VitB12_USRDA', 'VitC_USRDA', 'VitE_USRDA', 'Folate_USRDA',\n",
              "       'Niacin_USRDA', 'Riboflavin_USRDA', 'Thiamin_USRDA', 'Calcium_USRDA',\n",
              "       'Copper_USRDA', 'Magnesium_USRDA', 'Phosphorus_USRDA', 'Selenium_USRDA',\n",
              "       'Zinc_USRDA'],\n",
              "      dtype='object')"
            ]
          },
          "metadata": {},
          "execution_count": 3
        }
      ]
    },
    {
      "cell_type": "code",
      "source": [
        "from sklearn.feature_extraction.text import CountVectorizer\n",
        "\n",
        "# Create a CountVectorizer object to extract features from the 'long_desc' column\n",
        "vectorizer = CountVectorizer(stop_words='english', max_features=1000)\n",
        "\n",
        "# Fit the vectorizer to the 'long_desc' column\n",
        "features = vectorizer.fit_transform(data['Descrip'])\n",
        "\n",
        "# Convert the features to a DataFrame\n",
        "features_df = pd.DataFrame(features.toarray(), columns=vectorizer.vocabulary_)\n",
        "\n",
        "# Concatenate the features DataFrame with the original data\n",
        "data_with_features = pd.concat([data, features_df], axis=1)\n",
        "\n",
        "# Print the first five rows of the data with features\n",
        "print(data_with_features.head())"
      ],
      "metadata": {
        "colab": {
          "base_uri": "https://localhost:8080/"
        },
        "id": "91cEnHrmqGCd",
        "outputId": "c75eb234-301f-4341-8296-55f6668ead2f"
      },
      "execution_count": null,
      "outputs": [
        {
          "output_type": "stream",
          "name": "stdout",
          "text": [
            "     ID               FoodGroup              ShortDescrip  \\\n",
            "0  1001  Dairy and Egg Products          BUTTER,WITH SALT   \n",
            "1  1002  Dairy and Egg Products  BUTTER,WHIPPED,WITH SALT   \n",
            "2  1003  Dairy and Egg Products      BUTTER OIL,ANHYDROUS   \n",
            "3  1004  Dairy and Egg Products               CHEESE,BLUE   \n",
            "4  1005  Dairy and Egg Products              CHEESE,BRICK   \n",
            "\n",
            "                      Descrip CommonName MfgName ScientificName  Energy_kcal  \\\n",
            "0              Butter, salted        NaN     NaN            NaN        717.0   \n",
            "1  Butter, whipped, with salt        NaN     NaN            NaN        717.0   \n",
            "2       Butter oil, anhydrous        NaN     NaN            NaN        876.0   \n",
            "3                Cheese, blue        NaN     NaN            NaN        353.0   \n",
            "4               Cheese, brick        NaN     NaN            NaN        371.0   \n",
            "\n",
            "   Protein_g  Fat_g  ...  bannock  plains  indians  steller  applebee  kid  \\\n",
            "0       0.85  81.11  ...        0       0        0        0         0    0   \n",
            "1       0.85  81.11  ...        0       0        0        0         0    0   \n",
            "2       0.28  99.48  ...        0       0        0        0         0    0   \n",
            "3      21.40  28.74  ...        0       0        0        0         0    0   \n",
            "4      23.24  29.68  ...        0       0        0        0         0    0   \n",
            "\n",
            "   menu  friday  barrel  denny  \n",
            "0     0       0       0      0  \n",
            "1     0       0       0      0  \n",
            "2     0       0       0      0  \n",
            "3     0       0       0      0  \n",
            "4     0       0       0      0  \n",
            "\n",
            "[5 rows x 1045 columns]\n"
          ]
        }
      ]
    },
    {
      "cell_type": "code",
      "source": [
        "from sklearn.cluster import KMeans\n",
        "\n",
        "# Fit a KMeans clustering model to the features\n",
        "kmeans = KMeans(n_clusters=10, random_state=0)\n",
        "kmeans.fit(features_df)\n",
        "\n",
        "# Assign each food to a cluster based on its features\n",
        "data['cluster'] = kmeans.predict(features_df)\n",
        "\n",
        "# Define a function to recommend foods based on the clusters\n",
        "def recommend_foods(food_id, num_recommendations):\n",
        "    cluster = data.loc[data['ID'] == food_id, 'cluster'].iloc[0]\n",
        "    cluster_foods = data.loc[data['cluster'] == cluster]\n",
        "    recommendations = cluster_foods.sort_values('cluster', ascending=False).head(num_recommendations)\n",
        "    return recommendations\n",
        "\n",
        "# Test the recommender system by recommending 5 foods similar to food ID 1102\n",
        "recommendations = recommend_foods(90240, 5)\n",
        "print(recommendations)"
      ],
      "metadata": {
        "id": "9vc41OMbugpq",
        "colab": {
          "base_uri": "https://localhost:8080/"
        },
        "outputId": "2fc97d18-3501-4a27-c99f-63a477dc94dd"
      },
      "execution_count": null,
      "outputs": [
        {
          "output_type": "stream",
          "name": "stderr",
          "text": [
            "/usr/local/lib/python3.9/dist-packages/sklearn/cluster/_kmeans.py:870: FutureWarning: The default value of `n_init` will change from 10 to 'auto' in 1.4. Set the value of `n_init` explicitly to suppress the warning\n",
            "  warnings.warn(\n"
          ]
        },
        {
          "output_type": "stream",
          "name": "stdout",
          "text": [
            "         ID                       FoodGroup                    ShortDescrip  \\\n",
            "116    1128          Dairy and Egg Products               EGG,WHL,CKD,FRIED   \n",
            "4675  15225  Finfish and Shellfish Products  YELLOWTAIL,MXD SP,CKD,DRY HEAT   \n",
            "4664  15214  Finfish and Shellfish Products    SEATROUT,MXD SP,CKD,DRY HEAT   \n",
            "4665  15215  Finfish and Shellfish Products      SHAD,AMERICAN,CKD,DRY HEAT   \n",
            "4666  15216  Finfish and Shellfish Products            SPOT,COOKED,DRY HEAT   \n",
            "\n",
            "                                                Descrip CommonName MfgName  \\\n",
            "116                           Egg, whole, cooked, fried        NaN     NaN   \n",
            "4675  Fish, yellowtail, mixed species, cooked, dry heat        NaN     NaN   \n",
            "4664    Fish, seatrout, mixed species, cooked, dry heat        NaN     NaN   \n",
            "4665             Fish, shad, american, cooked, dry heat        NaN     NaN   \n",
            "4666                       Fish, spot, cooked, dry heat        NaN     NaN   \n",
            "\n",
            "     ScientificName  Energy_kcal  Protein_g  Fat_g  ...  Niacin_USRDA  \\\n",
            "116             NaN        196.0      13.61  14.84  ...      0.005125   \n",
            "4675            NaN        187.0      29.67   6.72  ...      0.544875   \n",
            "4664            NaN        133.0      21.46   4.63  ...      0.182688   \n",
            "4665            NaN        252.0      21.71  17.65  ...      0.673063   \n",
            "4666            NaN        158.0      23.73   6.28  ...      0.532875   \n",
            "\n",
            "      Riboflavin_USRDA  Thiamin_USRDA  Calcium_USRDA  Copper_USRDA  \\\n",
            "116           0.380769       0.036667       0.051667      0.000087   \n",
            "4675          0.039231       0.145833       0.024167      0.000064   \n",
            "4664          0.159231       0.057500       0.018333      0.000042   \n",
            "4665          0.236923       0.152500       0.050000      0.000091   \n",
            "4666          0.206154       0.154167       0.015000      0.000066   \n",
            "\n",
            "      Magnesium_USRDA  Phosphorus_USRDA  Selenium_USRDA  Zinc_USRDA  cluster  \n",
            "116          0.030952          0.307143        0.601818    0.126364        5  \n",
            "4675         0.090476          0.287143        0.850909    0.060909        5  \n",
            "4664         0.095238          0.458571        0.850909    0.052727        5  \n",
            "4665         0.090476          0.498571        0.850909    0.042727        5  \n",
            "4666         0.128571          0.340000        0.850909    0.059091        5  \n",
            "\n",
            "[5 rows x 46 columns]\n"
          ]
        }
      ]
    },
    {
      "cell_type": "code",
      "source": [
        "from sklearn.metrics import silhouette_score\n",
        "\n",
        "# Evaluate the model using silhouette score\n",
        "silhouette_avg = silhouette_score(features_df, kmeans.labels_)\n",
        "print(f\"Silhouette Score: {silhouette_avg:.2f}\")"
      ],
      "metadata": {
        "colab": {
          "base_uri": "https://localhost:8080/"
        },
        "id": "LIngNYRzdo3j",
        "outputId": "67cab5f2-d552-46cb-fde2-577a7f3e4898"
      },
      "execution_count": null,
      "outputs": [
        {
          "output_type": "stream",
          "name": "stdout",
          "text": [
            "Silhouette Score: 0.08\n"
          ]
        }
      ]
    },
    {
      "cell_type": "code",
      "source": [
        "from sklearn.feature_extraction.text import TfidfVectorizer"
      ],
      "metadata": {
        "id": "eogJju6f8JbM"
      },
      "execution_count": null,
      "outputs": []
    },
    {
      "cell_type": "code",
      "source": [
        "# Create a CountVectorizer object to extract features from the 'Descrip' column\n",
        "vectorizer = TfidfVectorizer(stop_words='english', max_features=1250)\n",
        "\n",
        "# Fit the vectorizer to the 'Descrip' column\n",
        "features = vectorizer.fit_transform(data['Descrip'])\n",
        "\n",
        "# Convert the features to a DataFrame\n",
        "features_df = pd.DataFrame(features.toarray(), columns=vectorizer.vocabulary_)\n",
        "\n",
        "# Concatenate the features DataFrame with the original data\n",
        "data_with_features = pd.concat([data, features_df], axis=1)\n",
        "\n",
        "# Print the first five rows of the data with features\n",
        "print(data_with_features.head())"
      ],
      "metadata": {
        "colab": {
          "base_uri": "https://localhost:8080/"
        },
        "id": "y2_q1RKCfClc",
        "outputId": "56183b87-6a3c-4a75-f74b-b1aeb2ac7740"
      },
      "execution_count": null,
      "outputs": [
        {
          "output_type": "stream",
          "name": "stdout",
          "text": [
            "     ID               FoodGroup              ShortDescrip  \\\n",
            "0  1001  Dairy and Egg Products          BUTTER,WITH SALT   \n",
            "1  1002  Dairy and Egg Products  BUTTER,WHIPPED,WITH SALT   \n",
            "2  1003  Dairy and Egg Products      BUTTER OIL,ANHYDROUS   \n",
            "3  1004  Dairy and Egg Products               CHEESE,BLUE   \n",
            "4  1005  Dairy and Egg Products              CHEESE,BRICK   \n",
            "\n",
            "                      Descrip CommonName MfgName ScientificName  Energy_kcal  \\\n",
            "0              Butter, salted        NaN     NaN            NaN        717.0   \n",
            "1  Butter, whipped, with salt        NaN     NaN            NaN        717.0   \n",
            "2       Butter oil, anhydrous        NaN     NaN            NaN        876.0   \n",
            "3                Cheese, blue        NaN     NaN            NaN        353.0   \n",
            "4               Cheese, brick        NaN     NaN            NaN        371.0   \n",
            "\n",
            "   Protein_g  Fat_g  ...  kid  menu  friday  platter  barrel  denny  carrabba  \\\n",
            "0       0.85  81.11  ...  0.0   0.0     0.0      0.0     0.0    0.0       0.0   \n",
            "1       0.85  81.11  ...  0.0   0.0     0.0      0.0     0.0    0.0       0.0   \n",
            "2       0.28  99.48  ...  0.0   0.0     0.0      0.0     0.0    0.0       0.0   \n",
            "3      21.40  28.74  ...  0.0   0.0     0.0      0.0     0.0    0.0       0.0   \n",
            "4      23.24  29.68  ...  0.0   0.0     0.0      0.0     0.0    0.0       0.0   \n",
            "\n",
            "   border  pupusas  dietetic  \n",
            "0     0.0      0.0       0.0  \n",
            "1     0.0      0.0       0.0  \n",
            "2     0.0      0.0       0.0  \n",
            "3     0.0      0.0       0.0  \n",
            "4     0.0      0.0       0.0  \n",
            "\n",
            "[5 rows x 1296 columns]\n"
          ]
        }
      ]
    },
    {
      "cell_type": "code",
      "source": [
        "# Fit a KMeans clustering model to the features\n",
        "kmeans = KMeans(n_clusters=3, random_state=0)\n",
        "kmeans.fit(features_df)\n",
        "\n",
        "# Assign each food to a cluster based on its features\n",
        "data['cluster'] = kmeans.predict(features_df)\n",
        "\n",
        "# Define a function to recommend foods based on the clusters\n",
        "def recommend_foods(food_id, num_recommendations):\n",
        "    cluster = data.loc[data['ID'] == food_id, 'cluster'].iloc[0]\n",
        "    cluster_foods = data.loc[data['cluster'] == cluster]\n",
        "    recommendations = cluster_foods.sort_values('cluster', ascending=False).head(num_recommendations)\n",
        "    return recommendations\n",
        "\n",
        "# Test the recommender system by recommending 5 foods similar to food ID 90240\n",
        "recommendations = recommend_foods(90240, 5)\n",
        "print(recommendations)"
      ],
      "metadata": {
        "colab": {
          "base_uri": "https://localhost:8080/"
        },
        "id": "UnmPZZ87gU_m",
        "outputId": "7ac0d48a-bad0-4152-a3da-03721a7406cc"
      },
      "execution_count": null,
      "outputs": [
        {
          "output_type": "stream",
          "name": "stderr",
          "text": [
            "/usr/local/lib/python3.9/dist-packages/sklearn/cluster/_kmeans.py:870: FutureWarning: The default value of `n_init` will change from 10 to 'auto' in 1.4. Set the value of `n_init` explicitly to suppress the warning\n",
            "  warnings.warn(\n"
          ]
        },
        {
          "output_type": "stream",
          "name": "stdout",
          "text": [
            "         ID               FoodGroup  \\\n",
            "0      1001  Dairy and Egg Products   \n",
            "5817  18375          Baked Products   \n",
            "5815  18373          Baked Products   \n",
            "5814  18372          Baked Products   \n",
            "5813  18371          Baked Products   \n",
            "\n",
            "                                   ShortDescrip  \\\n",
            "0                              BUTTER,WITH SALT   \n",
            "5817  LEAVENING AGENTS,YEAST,BAKER'S,ACTIVE DRY   \n",
            "5815             LEAVENING AGENTS,CRM OF TARTAR   \n",
            "5814               LEAVENING AGENTS,BAKING SODA   \n",
            "5813     LEAVENING AGENTS,BAKING PDR,LOW-SODIUM   \n",
            "\n",
            "                                           Descrip CommonName MfgName  \\\n",
            "0                                   Butter, salted        NaN     NaN   \n",
            "5817  Leavening agents, yeast, baker's, active dry        NaN     NaN   \n",
            "5815             Leavening agents, cream of tartar        NaN     NaN   \n",
            "5814                 Leavening agents, baking soda        NaN     NaN   \n",
            "5813   Leavening agents, baking powder, low-sodium        NaN     NaN   \n",
            "\n",
            "     ScientificName  Energy_kcal  Protein_g  Fat_g  ...  Niacin_USRDA  \\\n",
            "0               NaN        717.0       0.85  81.11  ...      0.002625   \n",
            "5817            NaN        325.0      40.44   7.61  ...      2.512500   \n",
            "5815            NaN        258.0       0.00   0.00  ...      0.000000   \n",
            "5814            NaN          0.0       0.00   0.00  ...      0.000000   \n",
            "5813            NaN         97.0       0.10   0.40  ...      0.000000   \n",
            "\n",
            "      Riboflavin_USRDA  Thiamin_USRDA  Calcium_USRDA  Copper_USRDA  \\\n",
            "0             0.026154       0.004167       0.020000      0.000000   \n",
            "5817          3.076923       9.158333       0.025000      0.000484   \n",
            "5815          0.000000       0.000000       0.006667      0.000217   \n",
            "5814          0.000000       0.000000       0.000000      0.000000   \n",
            "5813          0.000000       0.000000       3.610000      0.000021   \n",
            "\n",
            "      Magnesium_USRDA  Phosphorus_USRDA  Selenium_USRDA  Zinc_USRDA  cluster  \n",
            "0            0.004762          0.034286        0.018182    0.008182        1  \n",
            "5817         0.128571          0.910000        0.143636    0.721818        1  \n",
            "5815         0.004762          0.007143        0.003636    0.038182        1  \n",
            "5814         0.000000          0.000000        0.003636    0.000000        1  \n",
            "5813         0.069048          9.812857        0.003636    0.065455        1  \n",
            "\n",
            "[5 rows x 46 columns]\n"
          ]
        }
      ]
    },
    {
      "cell_type": "code",
      "source": [
        "# Evaluate the model using silhouette score\n",
        "silhouette_avg = silhouette_score(features_df, kmeans.labels_)\n",
        "print(f\"Silhouette Score: {silhouette_avg:.2f}\")"
      ],
      "metadata": {
        "colab": {
          "base_uri": "https://localhost:8080/"
        },
        "id": "GF6y7iVFgiIo",
        "outputId": "8d83c47b-2691-40a3-c2e0-af872e9ad386"
      },
      "execution_count": null,
      "outputs": [
        {
          "output_type": "stream",
          "name": "stdout",
          "text": [
            "Silhouette Score: 0.03\n"
          ]
        }
      ]
    },
    {
      "cell_type": "markdown",
      "source": [
        "# This part is for personal use. Trial and error. Disregard."
      ],
      "metadata": {
        "id": "bcDvXyWkQ_L4"
      }
    },
    {
      "cell_type": "code",
      "source": [
        "import pandas as pd\n",
        "from sklearn.preprocessing import StandardScaler\n",
        "from sklearn.decomposition import PCA\n",
        "from sklearn.cluster import KMeans\n",
        "import matplotlib.pyplot as plt\n"
      ],
      "metadata": {
        "id": "IC9bwKSeFOKS"
      },
      "execution_count": null,
      "outputs": []
    },
    {
      "cell_type": "code",
      "source": [
        "# Load the dataset\n",
        "df = pd.read_excel(\"ABBREV.xlsx\")\n",
        "\n",
        "# Remove columns that are not required\n",
        "columns_to_drop = ['Shrt_Desc', 'GmWt_Desc1', 'GmWt_Desc2', 'Refuse_Pct', 'Phosphorus_(mg)']\n",
        "df.drop(columns_to_drop, axis=1, inplace=True)\n",
        "\n",
        "# Drop rows with missing values\n",
        "df.fillna(0, inplace=True)\n",
        "\n",
        "# Convert categorical variables to numerical variables\n",
        "df['Shrt_Desc'] = pd.to_numeric(df['Shrt_Desc'], errors='coerce')\n",
        "df['GmWt_Desc1'] = pd.to_numeric(df['GmWt_Desc1'], errors='coerce')\n",
        "df['GmWt_Desc2'] = pd.to_numeric(df['GmWt_Desc2'], errors='coerce')\n",
        "df['Refuse_Pct'] = pd.to_numeric(df['Refuse_Pct'], errors='coerce')\n",
        "df['Phosphorus_(mg)'] = pd.to_numeric(df['Phosphorus_(mg)'], errors='coerce')\n",
        "\n",
        "df['Fiber_TD_(g)'] = pd.to_numeric(df['Fiber_TD_(g)'], errors='coerce')\n",
        "df['FA_Sat_(g)'] = pd.to_numeric(df['FA_Sat_(g)'], errors='coerce')\n",
        "df['Cholestrl_(mg)'] = pd.to_numeric(df['Cholestrl_(mg)'], errors='coerce')\n",
        "df['Sodium_(mg)'] = pd.to_numeric(df['Sodium_(mg)'], errors='coerce')\n",
        "df['Carbohydrt_(g)'] = pd.to_numeric(df['Carbohydrt_(g)'], errors='coerce')\n",
        "df['Sugar_Tot_(g)'] = pd.to_numeric(df['Sugar_Tot_(g)'], errors='coerce')\n",
        "df['Calcium_(mg)'] = pd.to_numeric(df['Calcium_(mg)'], errors='coerce')\n",
        "df['Iron_(mg)'] = pd.to_numeric(df['Iron_(mg)'], errors='coerce')\n",
        "df['Potassium_(mg)'] = pd.to_numeric(df['Potassium_(mg)'], errors='coerce')\n",
        "df['Vit_A_IU'] = pd.to_numeric(df['Vit_A_IU'], errors='coerce')\n",
        "df['Vit_C_(mg)'] = pd.to_numeric(df['Vit_C_(mg)'], errors='coerce')\n",
        "df['Vit_E_(mg)'] = pd.to_numeric(df['Vit_E_(mg)'], errors='coerce')\n",
        "df['Vit_D_IU'] = pd.to_numeric(df['Vit_D_IU'], errors='coerce')\n",
        "\n",
        "# Standardize the data\n",
        "scaler = StandardScaler()\n",
        "scaled_data = scaler.fit_transform(df)\n",
        "df_normalized = pd.DataFrame(scaled_data, columns=df.columns)\n",
        "\n",
        "# Apply feature extraction\n",
        "from sklearn.decomposition import PCA\n",
        "\n",
        "pca = PCA(n_components=2)\n",
        "principal_components = pca.fit_transform(df_normalized)\n",
        "\n",
        "principal_df = pd.DataFrame(data=principal_components, columns=['pc1', 'pc2'])\n",
        "\n",
        "# Apply elbow method\n",
        "wcss = []\n",
        "\n",
        "for i in range(1, 11):\n",
        "    kmeans = KMeans(n_clusters=i, init='k-means++', random_state=42)\n",
        "    kmeans.fit(principal_df)\n",
        "    wcss.append(kmeans.inertia_)\n",
        "\n",
        "# Plot the results of the Elbow Method\n",
        "plt.plot(range(1, 11), wcss)\n",
        "plt.title('Elbow Method')\n",
        "plt.xlabel('Number of Clusters')\n",
        "plt.ylabel('WCSS')\n",
        "plt.show()\n",
        "\n",
        "# Apply K-Means clustering algorithm\n",
        "kmeans = KMeans(n_clusters=3, init='k-means++', random_state=42)\n",
        "kmeans.fit(principal_df)\n",
        "y_kmeans = kmeans.predict(principal_df)\n",
        "\n",
        "# Combine Feature Extraction and K-Means Clustering\n",
        "principal_df['cluster'] = y_kmeans\n",
        "\n",
        "# Calculate the Silhouette Coefficient\n",
        "from sklearn.metrics import silhouette_score\n",
        "\n",
        "score = silhouette_score(principal_df.drop('cluster', axis=1), y_kmeans)\n",
        "print(\"Silhouette Coefficient:\", score)"
      ],
      "metadata": {
        "id": "QJdvyBEqFPEH"
      },
      "execution_count": null,
      "outputs": []
    },
    {
      "cell_type": "markdown",
      "source": [
        "# Feature Extraction and K-means clustering for food recommendations for type-2 diabetic patients"
      ],
      "metadata": {
        "id": "u3ImjhaoOEag"
      }
    },
    {
      "cell_type": "code",
      "source": [
        "import numpy as np\n",
        "from sklearn.preprocessing import StandardScaler\n",
        "from sklearn.decomposition import PCA\n",
        "from sklearn.cluster import KMeans\n",
        "import matplotlib.pyplot as plt"
      ],
      "metadata": {
        "id": "kLpeCBFjKN0E"
      },
      "execution_count": null,
      "outputs": []
    },
    {
      "cell_type": "code",
      "source": [
        "# Load the dataset\n",
        "df = merged_df2"
      ],
      "metadata": {
        "id": "7yDdgSKcKZx-"
      },
      "execution_count": null,
      "outputs": []
    },
    {
      "cell_type": "code",
      "source": [
        "from googlesearch import search\n",
        "\n",
        "def categorize_food(food_name):\n",
        "    query = f\"{food_name} category\"\n",
        "    try:\n",
        "        for result in search(query, num_results=1):\n",
        "            return result.split(\" - \")[0]\n",
        "    except:\n",
        "        return \"Category not found\"\n",
        "\n",
        "# Apply the categorize_food function to each food item in the DataFrame\n",
        "df[\"Category\"] = df[\"Food name and Description\"].apply(categorize_food)"
      ],
      "metadata": {
        "colab": {
          "base_uri": "https://localhost:8080/"
        },
        "id": "mPD_CmZbzSrW",
        "outputId": "dc61719f-0dad-4dcd-d742-786d8e54a551"
      },
      "execution_count": null,
      "outputs": [
        {
          "output_type": "stream",
          "name": "stderr",
          "text": [
            "<ipython-input-19-afc3794c5c54>:12: SettingWithCopyWarning: \n",
            "A value is trying to be set on a copy of a slice from a DataFrame.\n",
            "Try using .loc[row_indexer,col_indexer] = value instead\n",
            "\n",
            "See the caveats in the documentation: https://pandas.pydata.org/pandas-docs/stable/user_guide/indexing.html#returning-a-view-versus-a-copy\n",
            "  df[\"Category\"] = df[\"Food name and Description\"].apply(categorize_food)\n"
          ]
        }
      ]
    },
    {
      "cell_type": "code",
      "source": [
        "df['Category'].sample(10)"
      ],
      "metadata": {
        "colab": {
          "base_uri": "https://localhost:8080/"
        },
        "id": "gMbboP6vzeID",
        "outputId": "0b0f7b26-b9af-46dc-9593-20368d39bc74"
      },
      "execution_count": null,
      "outputs": [
        {
          "output_type": "execute_result",
          "data": {
            "text/plain": [
              "955                                    Category not found\n",
              "944                                    Category not found\n",
              "1009                                   Category not found\n",
              "499                                    Category not found\n",
              "1539                                   Category not found\n",
              "352                                    Category not found\n",
              "1114                                   Category not found\n",
              "47      https://www.masterclass.com/articles/how-to-ma...\n",
              "1471                                   Category not found\n",
              "1404                                   Category not found\n",
              "Name: Category, dtype: object"
            ]
          },
          "metadata": {},
          "execution_count": 27
        }
      ]
    },
    {
      "cell_type": "code",
      "source": [
        "df = df[(df['Sugar_Tot_(g)'] <= 10) & (df['Fiber_TD_(g)'] >= 5) & (df['Carbohydrt_(g)'] < 55)]\n",
        "df = df.sort_values(by=['Protein_(g)'], ascending=False)"
      ],
      "metadata": {
        "id": "op5VuxYW_dld",
        "colab": {
          "base_uri": "https://localhost:8080/",
          "height": 502
        },
        "outputId": "f636658a-1b53-4b62-cbba-ec0989e95dbd"
      },
      "execution_count": null,
      "outputs": [
        {
          "output_type": "error",
          "ename": "KeyError",
          "evalue": "ignored",
          "traceback": [
            "\u001b[0;31m---------------------------------------------------------------------------\u001b[0m",
            "\u001b[0;31mKeyError\u001b[0m                                  Traceback (most recent call last)",
            "\u001b[0;32m/usr/local/lib/python3.10/dist-packages/pandas/core/indexes/base.py\u001b[0m in \u001b[0;36mget_loc\u001b[0;34m(self, key, method, tolerance)\u001b[0m\n\u001b[1;32m   3801\u001b[0m             \u001b[0;32mtry\u001b[0m\u001b[0;34m:\u001b[0m\u001b[0;34m\u001b[0m\u001b[0;34m\u001b[0m\u001b[0m\n\u001b[0;32m-> 3802\u001b[0;31m                 \u001b[0;32mreturn\u001b[0m \u001b[0mself\u001b[0m\u001b[0;34m.\u001b[0m\u001b[0m_engine\u001b[0m\u001b[0;34m.\u001b[0m\u001b[0mget_loc\u001b[0m\u001b[0;34m(\u001b[0m\u001b[0mcasted_key\u001b[0m\u001b[0;34m)\u001b[0m\u001b[0;34m\u001b[0m\u001b[0;34m\u001b[0m\u001b[0m\n\u001b[0m\u001b[1;32m   3803\u001b[0m             \u001b[0;32mexcept\u001b[0m \u001b[0mKeyError\u001b[0m \u001b[0;32mas\u001b[0m \u001b[0merr\u001b[0m\u001b[0;34m:\u001b[0m\u001b[0;34m\u001b[0m\u001b[0;34m\u001b[0m\u001b[0m\n",
            "\u001b[0;32m/usr/local/lib/python3.10/dist-packages/pandas/_libs/index.pyx\u001b[0m in \u001b[0;36mpandas._libs.index.IndexEngine.get_loc\u001b[0;34m()\u001b[0m\n",
            "\u001b[0;32m/usr/local/lib/python3.10/dist-packages/pandas/_libs/index.pyx\u001b[0m in \u001b[0;36mpandas._libs.index.IndexEngine.get_loc\u001b[0;34m()\u001b[0m\n",
            "\u001b[0;32mpandas/_libs/hashtable_class_helper.pxi\u001b[0m in \u001b[0;36mpandas._libs.hashtable.PyObjectHashTable.get_item\u001b[0;34m()\u001b[0m\n",
            "\u001b[0;32mpandas/_libs/hashtable_class_helper.pxi\u001b[0m in \u001b[0;36mpandas._libs.hashtable.PyObjectHashTable.get_item\u001b[0;34m()\u001b[0m\n",
            "\u001b[0;31mKeyError\u001b[0m: 'Sugar_Tot_(g)'",
            "\nThe above exception was the direct cause of the following exception:\n",
            "\u001b[0;31mKeyError\u001b[0m                                  Traceback (most recent call last)",
            "\u001b[0;32m<ipython-input-123-6da40e5720a4>\u001b[0m in \u001b[0;36m<cell line: 1>\u001b[0;34m()\u001b[0m\n\u001b[0;32m----> 1\u001b[0;31m \u001b[0mdf\u001b[0m \u001b[0;34m=\u001b[0m \u001b[0mdf\u001b[0m\u001b[0;34m[\u001b[0m\u001b[0;34m(\u001b[0m\u001b[0mdf\u001b[0m\u001b[0;34m[\u001b[0m\u001b[0;34m'Sugar_Tot_(g)'\u001b[0m\u001b[0;34m]\u001b[0m \u001b[0;34m<=\u001b[0m \u001b[0;36m10\u001b[0m\u001b[0;34m)\u001b[0m \u001b[0;34m&\u001b[0m \u001b[0;34m(\u001b[0m\u001b[0mdf\u001b[0m\u001b[0;34m[\u001b[0m\u001b[0;34m'Fiber_TD_(g)'\u001b[0m\u001b[0;34m]\u001b[0m \u001b[0;34m>=\u001b[0m \u001b[0;36m5\u001b[0m\u001b[0;34m)\u001b[0m \u001b[0;34m&\u001b[0m \u001b[0;34m(\u001b[0m\u001b[0mdf\u001b[0m\u001b[0;34m[\u001b[0m\u001b[0;34m'Carbohydrt_(g)'\u001b[0m\u001b[0;34m]\u001b[0m \u001b[0;34m<\u001b[0m \u001b[0;36m55\u001b[0m\u001b[0;34m)\u001b[0m\u001b[0;34m]\u001b[0m\u001b[0;34m\u001b[0m\u001b[0;34m\u001b[0m\u001b[0m\n\u001b[0m\u001b[1;32m      2\u001b[0m \u001b[0mdf\u001b[0m \u001b[0;34m=\u001b[0m \u001b[0mdf\u001b[0m\u001b[0;34m.\u001b[0m\u001b[0msort_values\u001b[0m\u001b[0;34m(\u001b[0m\u001b[0mby\u001b[0m\u001b[0;34m=\u001b[0m\u001b[0;34m[\u001b[0m\u001b[0;34m'Protein_(g)'\u001b[0m\u001b[0;34m]\u001b[0m\u001b[0;34m,\u001b[0m \u001b[0mascending\u001b[0m\u001b[0;34m=\u001b[0m\u001b[0;32mFalse\u001b[0m\u001b[0;34m)\u001b[0m\u001b[0;34m\u001b[0m\u001b[0;34m\u001b[0m\u001b[0m\n",
            "\u001b[0;32m/usr/local/lib/python3.10/dist-packages/pandas/core/frame.py\u001b[0m in \u001b[0;36m__getitem__\u001b[0;34m(self, key)\u001b[0m\n\u001b[1;32m   3805\u001b[0m             \u001b[0;32mif\u001b[0m \u001b[0mself\u001b[0m\u001b[0;34m.\u001b[0m\u001b[0mcolumns\u001b[0m\u001b[0;34m.\u001b[0m\u001b[0mnlevels\u001b[0m \u001b[0;34m>\u001b[0m \u001b[0;36m1\u001b[0m\u001b[0;34m:\u001b[0m\u001b[0;34m\u001b[0m\u001b[0;34m\u001b[0m\u001b[0m\n\u001b[1;32m   3806\u001b[0m                 \u001b[0;32mreturn\u001b[0m \u001b[0mself\u001b[0m\u001b[0;34m.\u001b[0m\u001b[0m_getitem_multilevel\u001b[0m\u001b[0;34m(\u001b[0m\u001b[0mkey\u001b[0m\u001b[0;34m)\u001b[0m\u001b[0;34m\u001b[0m\u001b[0;34m\u001b[0m\u001b[0m\n\u001b[0;32m-> 3807\u001b[0;31m             \u001b[0mindexer\u001b[0m \u001b[0;34m=\u001b[0m \u001b[0mself\u001b[0m\u001b[0;34m.\u001b[0m\u001b[0mcolumns\u001b[0m\u001b[0;34m.\u001b[0m\u001b[0mget_loc\u001b[0m\u001b[0;34m(\u001b[0m\u001b[0mkey\u001b[0m\u001b[0;34m)\u001b[0m\u001b[0;34m\u001b[0m\u001b[0;34m\u001b[0m\u001b[0m\n\u001b[0m\u001b[1;32m   3808\u001b[0m             \u001b[0;32mif\u001b[0m \u001b[0mis_integer\u001b[0m\u001b[0;34m(\u001b[0m\u001b[0mindexer\u001b[0m\u001b[0;34m)\u001b[0m\u001b[0;34m:\u001b[0m\u001b[0;34m\u001b[0m\u001b[0;34m\u001b[0m\u001b[0m\n\u001b[1;32m   3809\u001b[0m                 \u001b[0mindexer\u001b[0m \u001b[0;34m=\u001b[0m \u001b[0;34m[\u001b[0m\u001b[0mindexer\u001b[0m\u001b[0;34m]\u001b[0m\u001b[0;34m\u001b[0m\u001b[0;34m\u001b[0m\u001b[0m\n",
            "\u001b[0;32m/usr/local/lib/python3.10/dist-packages/pandas/core/indexes/base.py\u001b[0m in \u001b[0;36mget_loc\u001b[0;34m(self, key, method, tolerance)\u001b[0m\n\u001b[1;32m   3802\u001b[0m                 \u001b[0;32mreturn\u001b[0m \u001b[0mself\u001b[0m\u001b[0;34m.\u001b[0m\u001b[0m_engine\u001b[0m\u001b[0;34m.\u001b[0m\u001b[0mget_loc\u001b[0m\u001b[0;34m(\u001b[0m\u001b[0mcasted_key\u001b[0m\u001b[0;34m)\u001b[0m\u001b[0;34m\u001b[0m\u001b[0;34m\u001b[0m\u001b[0m\n\u001b[1;32m   3803\u001b[0m             \u001b[0;32mexcept\u001b[0m \u001b[0mKeyError\u001b[0m \u001b[0;32mas\u001b[0m \u001b[0merr\u001b[0m\u001b[0;34m:\u001b[0m\u001b[0;34m\u001b[0m\u001b[0;34m\u001b[0m\u001b[0m\n\u001b[0;32m-> 3804\u001b[0;31m                 \u001b[0;32mraise\u001b[0m \u001b[0mKeyError\u001b[0m\u001b[0;34m(\u001b[0m\u001b[0mkey\u001b[0m\u001b[0;34m)\u001b[0m \u001b[0;32mfrom\u001b[0m \u001b[0merr\u001b[0m\u001b[0;34m\u001b[0m\u001b[0;34m\u001b[0m\u001b[0m\n\u001b[0m\u001b[1;32m   3805\u001b[0m             \u001b[0;32mexcept\u001b[0m \u001b[0mTypeError\u001b[0m\u001b[0;34m:\u001b[0m\u001b[0;34m\u001b[0m\u001b[0;34m\u001b[0m\u001b[0m\n\u001b[1;32m   3806\u001b[0m                 \u001b[0;31m# If we have a listlike key, _check_indexing_error will raise\u001b[0m\u001b[0;34m\u001b[0m\u001b[0;34m\u001b[0m\u001b[0m\n",
            "\u001b[0;31mKeyError\u001b[0m: 'Sugar_Tot_(g)'"
          ]
        }
      ]
    },
    {
      "cell_type": "code",
      "source": [
        "#New dataset\n",
        "df = df[(df['Carbohydrate, total (g)'] < 55)]"
      ],
      "metadata": {
        "id": "fKpikjuEI2Un"
      },
      "execution_count": null,
      "outputs": []
    },
    {
      "cell_type": "code",
      "source": [
        "# Preprocess the dataset\n",
        "# Code for preprocessing goes here\n",
        "numeric_cols = ['GmWt_Desc1', 'GmWt_Desc2', 'Refuse_Pct', 'Phosphorus_(mg)', 'Fiber_TD_(g)',\n",
        "                'FA_Sat_(g)', 'Cholestrl_(mg)', 'Sodium_(mg)', 'Carbohydrt_(g)', 'Sugar_Tot_(g)',\n",
        "                'Calcium_(mg)', 'Iron_(mg)', 'Potassium_(mg)', 'Vit_A_IU', 'Vit_C_(mg)', 'Vit_E_(mg)',\n",
        "                'Vit_D_IU']\n",
        "df[numeric_cols] = df[numeric_cols].apply(pd.to_numeric, errors='coerce')\n",
        "\n",
        "df['Descrip'] = df['Descrip'].fillna('No name')\n",
        "df['FoodGroup'] = df['FoodGroup'].fillna('Hnknown Food group')\n",
        "df.fillna(0, inplace=True)"
      ],
      "metadata": {
        "id": "EkhHN8H8LVy1",
        "colab": {
          "base_uri": "https://localhost:8080/",
          "height": 415
        },
        "outputId": "0b7c207a-d5f0-4c89-a7c3-776a873d1259"
      },
      "execution_count": null,
      "outputs": [
        {
          "output_type": "error",
          "ename": "KeyError",
          "evalue": "ignored",
          "traceback": [
            "\u001b[0;31m---------------------------------------------------------------------------\u001b[0m",
            "\u001b[0;31mKeyError\u001b[0m                                  Traceback (most recent call last)",
            "\u001b[0;32m<ipython-input-126-adf072dcc5a1>\u001b[0m in \u001b[0;36m<cell line: 7>\u001b[0;34m()\u001b[0m\n\u001b[1;32m      5\u001b[0m                 \u001b[0;34m'Calcium_(mg)'\u001b[0m\u001b[0;34m,\u001b[0m \u001b[0;34m'Iron_(mg)'\u001b[0m\u001b[0;34m,\u001b[0m \u001b[0;34m'Potassium_(mg)'\u001b[0m\u001b[0;34m,\u001b[0m \u001b[0;34m'Vit_A_IU'\u001b[0m\u001b[0;34m,\u001b[0m \u001b[0;34m'Vit_C_(mg)'\u001b[0m\u001b[0;34m,\u001b[0m \u001b[0;34m'Vit_E_(mg)'\u001b[0m\u001b[0;34m,\u001b[0m\u001b[0;34m\u001b[0m\u001b[0;34m\u001b[0m\u001b[0m\n\u001b[1;32m      6\u001b[0m                 'Vit_D_IU']\n\u001b[0;32m----> 7\u001b[0;31m \u001b[0mdf\u001b[0m\u001b[0;34m[\u001b[0m\u001b[0mnumeric_cols\u001b[0m\u001b[0;34m]\u001b[0m \u001b[0;34m=\u001b[0m \u001b[0mdf\u001b[0m\u001b[0;34m[\u001b[0m\u001b[0mnumeric_cols\u001b[0m\u001b[0;34m]\u001b[0m\u001b[0;34m.\u001b[0m\u001b[0mapply\u001b[0m\u001b[0;34m(\u001b[0m\u001b[0mpd\u001b[0m\u001b[0;34m.\u001b[0m\u001b[0mto_numeric\u001b[0m\u001b[0;34m,\u001b[0m \u001b[0merrors\u001b[0m\u001b[0;34m=\u001b[0m\u001b[0;34m'coerce'\u001b[0m\u001b[0;34m)\u001b[0m\u001b[0;34m\u001b[0m\u001b[0;34m\u001b[0m\u001b[0m\n\u001b[0m\u001b[1;32m      8\u001b[0m \u001b[0;34m\u001b[0m\u001b[0m\n\u001b[1;32m      9\u001b[0m \u001b[0mdf\u001b[0m\u001b[0;34m[\u001b[0m\u001b[0;34m'Descrip'\u001b[0m\u001b[0;34m]\u001b[0m \u001b[0;34m=\u001b[0m \u001b[0mdf\u001b[0m\u001b[0;34m[\u001b[0m\u001b[0;34m'Descrip'\u001b[0m\u001b[0;34m]\u001b[0m\u001b[0;34m.\u001b[0m\u001b[0mfillna\u001b[0m\u001b[0;34m(\u001b[0m\u001b[0;34m'No name'\u001b[0m\u001b[0;34m)\u001b[0m\u001b[0;34m\u001b[0m\u001b[0;34m\u001b[0m\u001b[0m\n",
            "\u001b[0;32m/usr/local/lib/python3.10/dist-packages/pandas/core/frame.py\u001b[0m in \u001b[0;36m__getitem__\u001b[0;34m(self, key)\u001b[0m\n\u001b[1;32m   3811\u001b[0m             \u001b[0;32mif\u001b[0m \u001b[0mis_iterator\u001b[0m\u001b[0;34m(\u001b[0m\u001b[0mkey\u001b[0m\u001b[0;34m)\u001b[0m\u001b[0;34m:\u001b[0m\u001b[0;34m\u001b[0m\u001b[0;34m\u001b[0m\u001b[0m\n\u001b[1;32m   3812\u001b[0m                 \u001b[0mkey\u001b[0m \u001b[0;34m=\u001b[0m \u001b[0mlist\u001b[0m\u001b[0;34m(\u001b[0m\u001b[0mkey\u001b[0m\u001b[0;34m)\u001b[0m\u001b[0;34m\u001b[0m\u001b[0;34m\u001b[0m\u001b[0m\n\u001b[0;32m-> 3813\u001b[0;31m             \u001b[0mindexer\u001b[0m \u001b[0;34m=\u001b[0m \u001b[0mself\u001b[0m\u001b[0;34m.\u001b[0m\u001b[0mcolumns\u001b[0m\u001b[0;34m.\u001b[0m\u001b[0m_get_indexer_strict\u001b[0m\u001b[0;34m(\u001b[0m\u001b[0mkey\u001b[0m\u001b[0;34m,\u001b[0m \u001b[0;34m\"columns\"\u001b[0m\u001b[0;34m)\u001b[0m\u001b[0;34m[\u001b[0m\u001b[0;36m1\u001b[0m\u001b[0;34m]\u001b[0m\u001b[0;34m\u001b[0m\u001b[0;34m\u001b[0m\u001b[0m\n\u001b[0m\u001b[1;32m   3814\u001b[0m \u001b[0;34m\u001b[0m\u001b[0m\n\u001b[1;32m   3815\u001b[0m         \u001b[0;31m# take() does not accept boolean indexers\u001b[0m\u001b[0;34m\u001b[0m\u001b[0;34m\u001b[0m\u001b[0m\n",
            "\u001b[0;32m/usr/local/lib/python3.10/dist-packages/pandas/core/indexes/base.py\u001b[0m in \u001b[0;36m_get_indexer_strict\u001b[0;34m(self, key, axis_name)\u001b[0m\n\u001b[1;32m   6068\u001b[0m             \u001b[0mkeyarr\u001b[0m\u001b[0;34m,\u001b[0m \u001b[0mindexer\u001b[0m\u001b[0;34m,\u001b[0m \u001b[0mnew_indexer\u001b[0m \u001b[0;34m=\u001b[0m \u001b[0mself\u001b[0m\u001b[0;34m.\u001b[0m\u001b[0m_reindex_non_unique\u001b[0m\u001b[0;34m(\u001b[0m\u001b[0mkeyarr\u001b[0m\u001b[0;34m)\u001b[0m\u001b[0;34m\u001b[0m\u001b[0;34m\u001b[0m\u001b[0m\n\u001b[1;32m   6069\u001b[0m \u001b[0;34m\u001b[0m\u001b[0m\n\u001b[0;32m-> 6070\u001b[0;31m         \u001b[0mself\u001b[0m\u001b[0;34m.\u001b[0m\u001b[0m_raise_if_missing\u001b[0m\u001b[0;34m(\u001b[0m\u001b[0mkeyarr\u001b[0m\u001b[0;34m,\u001b[0m \u001b[0mindexer\u001b[0m\u001b[0;34m,\u001b[0m \u001b[0maxis_name\u001b[0m\u001b[0;34m)\u001b[0m\u001b[0;34m\u001b[0m\u001b[0;34m\u001b[0m\u001b[0m\n\u001b[0m\u001b[1;32m   6071\u001b[0m \u001b[0;34m\u001b[0m\u001b[0m\n\u001b[1;32m   6072\u001b[0m         \u001b[0mkeyarr\u001b[0m \u001b[0;34m=\u001b[0m \u001b[0mself\u001b[0m\u001b[0;34m.\u001b[0m\u001b[0mtake\u001b[0m\u001b[0;34m(\u001b[0m\u001b[0mindexer\u001b[0m\u001b[0;34m)\u001b[0m\u001b[0;34m\u001b[0m\u001b[0;34m\u001b[0m\u001b[0m\n",
            "\u001b[0;32m/usr/local/lib/python3.10/dist-packages/pandas/core/indexes/base.py\u001b[0m in \u001b[0;36m_raise_if_missing\u001b[0;34m(self, key, indexer, axis_name)\u001b[0m\n\u001b[1;32m   6128\u001b[0m                 \u001b[0;32mif\u001b[0m \u001b[0muse_interval_msg\u001b[0m\u001b[0;34m:\u001b[0m\u001b[0;34m\u001b[0m\u001b[0;34m\u001b[0m\u001b[0m\n\u001b[1;32m   6129\u001b[0m                     \u001b[0mkey\u001b[0m \u001b[0;34m=\u001b[0m \u001b[0mlist\u001b[0m\u001b[0;34m(\u001b[0m\u001b[0mkey\u001b[0m\u001b[0;34m)\u001b[0m\u001b[0;34m\u001b[0m\u001b[0;34m\u001b[0m\u001b[0m\n\u001b[0;32m-> 6130\u001b[0;31m                 \u001b[0;32mraise\u001b[0m \u001b[0mKeyError\u001b[0m\u001b[0;34m(\u001b[0m\u001b[0;34mf\"None of [{key}] are in the [{axis_name}]\"\u001b[0m\u001b[0;34m)\u001b[0m\u001b[0;34m\u001b[0m\u001b[0;34m\u001b[0m\u001b[0m\n\u001b[0m\u001b[1;32m   6131\u001b[0m \u001b[0;34m\u001b[0m\u001b[0m\n\u001b[1;32m   6132\u001b[0m             \u001b[0mnot_found\u001b[0m \u001b[0;34m=\u001b[0m \u001b[0mlist\u001b[0m\u001b[0;34m(\u001b[0m\u001b[0mensure_index\u001b[0m\u001b[0;34m(\u001b[0m\u001b[0mkey\u001b[0m\u001b[0;34m)\u001b[0m\u001b[0;34m[\u001b[0m\u001b[0mmissing_mask\u001b[0m\u001b[0;34m.\u001b[0m\u001b[0mnonzero\u001b[0m\u001b[0;34m(\u001b[0m\u001b[0;34m)\u001b[0m\u001b[0;34m[\u001b[0m\u001b[0;36m0\u001b[0m\u001b[0;34m]\u001b[0m\u001b[0;34m]\u001b[0m\u001b[0;34m.\u001b[0m\u001b[0munique\u001b[0m\u001b[0;34m(\u001b[0m\u001b[0;34m)\u001b[0m\u001b[0;34m)\u001b[0m\u001b[0;34m\u001b[0m\u001b[0;34m\u001b[0m\u001b[0m\n",
            "\u001b[0;31mKeyError\u001b[0m: \"None of [Index(['GmWt_Desc1', 'GmWt_Desc2', 'Refuse_Pct', 'Phosphorus_(mg)',\\n       'Fiber_TD_(g)', 'FA_Sat_(g)', 'Cholestrl_(mg)', 'Sodium_(mg)',\\n       'Carbohydrt_(g)', 'Sugar_Tot_(g)', 'Calcium_(mg)', 'Iron_(mg)',\\n       'Potassium_(mg)', 'Vit_A_IU', 'Vit_C_(mg)', 'Vit_E_(mg)', 'Vit_D_IU'],\\n      dtype='object')] are in the [columns]\""
          ]
        }
      ]
    },
    {
      "cell_type": "code",
      "source": [
        "#new Dataset\n",
        "# Preprocess the dataset\n",
        "# Code for preprocessing goes here\n",
        "df.fillna(0, inplace=True)"
      ],
      "metadata": {
        "colab": {
          "base_uri": "https://localhost:8080/"
        },
        "id": "91yUPljhJT2q",
        "outputId": "77be3ceb-7fbc-4e52-fcbb-fe9738a002be"
      },
      "execution_count": null,
      "outputs": [
        {
          "output_type": "stream",
          "name": "stderr",
          "text": [
            "<ipython-input-7-65dbf66f35d3>:4: SettingWithCopyWarning: \n",
            "A value is trying to be set on a copy of a slice from a DataFrame\n",
            "\n",
            "See the caveats in the documentation: https://pandas.pydata.org/pandas-docs/stable/user_guide/indexing.html#returning-a-view-versus-a-copy\n",
            "  df.fillna(0, inplace=True)\n"
          ]
        }
      ]
    },
    {
      "cell_type": "code",
      "source": [
        "# Remove Outliers\n",
        "# In these method of removing outliers we are just testing if the accuracy would increase\n",
        "# It increases but since we have food dataset we do not want to remove any rows so this method is not used in the actual coding of flask\n",
        "# this is part of EDA\n",
        "Q1 = df.quantile(0.25)\n",
        "Q3 = df.quantile(0.75)\n",
        "IQR = Q3 - Q1\n",
        "df = df[~((df < (Q1 - 1.5 * IQR)) | (df > (Q3 + 1.5 * IQR))).any(axis=1)]"
      ],
      "metadata": {
        "colab": {
          "base_uri": "https://localhost:8080/"
        },
        "id": "fCKvMD7oXKJO",
        "outputId": "e96351b0-63bf-40d6-d3a2-6269adae5503"
      },
      "execution_count": null,
      "outputs": [
        {
          "output_type": "stream",
          "name": "stderr",
          "text": [
            "<ipython-input-69-873c5d26d932>:5: FutureWarning: The default value of numeric_only in DataFrame.quantile is deprecated. In a future version, it will default to False. Select only valid columns or specify the value of numeric_only to silence this warning.\n",
            "  Q1 = df.quantile(0.25)\n",
            "<ipython-input-69-873c5d26d932>:6: FutureWarning: The default value of numeric_only in DataFrame.quantile is deprecated. In a future version, it will default to False. Select only valid columns or specify the value of numeric_only to silence this warning.\n",
            "  Q3 = df.quantile(0.75)\n",
            "<ipython-input-69-873c5d26d932>:8: FutureWarning: Automatic reindexing on DataFrame vs Series comparisons is deprecated and will raise ValueError in a future version. Do `left, right = left.align(right, axis=1, copy=False)` before e.g. `left == right`\n",
            "  df = df[~((df < (Q1 - 1.5 * IQR)) | (df > (Q3 + 1.5 * IQR))).any(axis=1)]\n"
          ]
        }
      ]
    },
    {
      "cell_type": "code",
      "source": [
        "df.isnull().sum()"
      ],
      "metadata": {
        "colab": {
          "base_uri": "https://localhost:8080/"
        },
        "id": "oRTdsxtWLau8",
        "outputId": "7cc03588-7146-4ea4-d333-b31b8344b530"
      },
      "execution_count": null,
      "outputs": [
        {
          "output_type": "execute_result",
          "data": {
            "text/plain": [
              "Food_ID                      0\n",
              "Food name and Description    0\n",
              "Alternate/Common name(s)     0\n",
              "Water (g)                    0\n",
              "Energy, calculated (kcal)    0\n",
              "Protein (g)                  0\n",
              "Total Fat (g)                0\n",
              "Carbohydrate, total (g)      0\n",
              "Ash, total (g)               0\n",
              "Image Link                   0\n",
              "dtype: int64"
            ]
          },
          "metadata": {},
          "execution_count": 8
        }
      ]
    },
    {
      "cell_type": "code",
      "source": [
        "# Apply Standardization\n",
        "scaler = StandardScaler()\n",
        "df_std = scaler.fit_transform(df.drop(['Food_ID', 'Food name and Description', 'Alternate/Common name(s)', 'Image Link'], axis=1))\n",
        "\n",
        "# Apply PCA for feature extraction\n",
        "pca = PCA(n_components=2)\n",
        "principal_components = pca.fit_transform(df_std)\n",
        "\n",
        "# Convert principal components to a dataframe\n",
        "principal_df = pd.DataFrame(data=principal_components, columns=['PC1', 'PC2'])\n"
      ],
      "metadata": {
        "id": "qw3eFcjhKhOz"
      },
      "execution_count": null,
      "outputs": []
    },
    {
      "cell_type": "code",
      "source": [
        "# Get user input\n",
        "calorie_req = input(\"Enter your calorie requirement: \")\n",
        "food_allergy = input(\"Enter any food allergies: \")\n",
        "#nutrient_req = input(\"Enter your preferred nutrient values (e.g. protein, fiber): \")\n",
        "# I commented out this input here and make it static but in the actual flask code this input is needed from the user"
      ],
      "metadata": {
        "colab": {
          "base_uri": "https://localhost:8080/"
        },
        "id": "Po8OP7jYLq3r",
        "outputId": "fbe7dd32-9ee3-4e9a-df86-bb464fb78c6a"
      },
      "execution_count": null,
      "outputs": [
        {
          "name": "stdout",
          "output_type": "stream",
          "text": [
            "Enter your calorie requirement: 200\n",
            "Enter any food allergies: ube\n"
          ]
        }
      ]
    },
    {
      "cell_type": "code",
      "source": [
        "# Filter the dataset based on user input\n",
        "filtered_df = df[(df['Energy, calculated (kcal)'] <= float(calorie_req)) & (~df['Food name and Description'].str.contains(food_allergy, na=False))]"
      ],
      "metadata": {
        "id": "oUolwa_pL9Th"
      },
      "execution_count": null,
      "outputs": []
    },
    {
      "cell_type": "code",
      "source": [
        "# Apply K-Means clustering algorithm and elbow method\n",
        "wcss = []\n",
        "for i in range(1, 11):\n",
        "    kmeans = KMeans(n_clusters=i, init='k-means++', random_state=42)\n",
        "    kmeans.fit(principal_df)\n",
        "    wcss.append(kmeans.inertia_)\n",
        "\n",
        "plt.plot(range(1, 11), wcss)\n",
        "plt.title('Elbow Method')\n",
        "plt.xlabel('Number of clusters')\n",
        "plt.ylabel('WCSS')\n",
        "plt.show()\n",
        "\n",
        "# Based on the elbow plot, select the number of clusters\n",
        "n_clusters = 3\n",
        "\n",
        "# Apply K-Means clustering algorithm\n",
        "kmeans = KMeans(n_clusters=n_clusters, init='k-means++', random_state=42)\n",
        "kmeans.fit(principal_df)\n",
        "y_kmeans = kmeans.predict(principal_df)\n"
      ],
      "metadata": {
        "colab": {
          "base_uri": "https://localhost:8080/",
          "height": 874
        },
        "id": "NNiBH9Z-NNDt",
        "outputId": "410d9914-2f72-40b2-c2b9-0913d9469711"
      },
      "execution_count": null,
      "outputs": [
        {
          "output_type": "stream",
          "name": "stderr",
          "text": [
            "/usr/local/lib/python3.10/dist-packages/sklearn/cluster/_kmeans.py:870: FutureWarning: The default value of `n_init` will change from 10 to 'auto' in 1.4. Set the value of `n_init` explicitly to suppress the warning\n",
            "  warnings.warn(\n",
            "/usr/local/lib/python3.10/dist-packages/sklearn/cluster/_kmeans.py:870: FutureWarning: The default value of `n_init` will change from 10 to 'auto' in 1.4. Set the value of `n_init` explicitly to suppress the warning\n",
            "  warnings.warn(\n",
            "/usr/local/lib/python3.10/dist-packages/sklearn/cluster/_kmeans.py:870: FutureWarning: The default value of `n_init` will change from 10 to 'auto' in 1.4. Set the value of `n_init` explicitly to suppress the warning\n",
            "  warnings.warn(\n",
            "/usr/local/lib/python3.10/dist-packages/sklearn/cluster/_kmeans.py:870: FutureWarning: The default value of `n_init` will change from 10 to 'auto' in 1.4. Set the value of `n_init` explicitly to suppress the warning\n",
            "  warnings.warn(\n",
            "/usr/local/lib/python3.10/dist-packages/sklearn/cluster/_kmeans.py:870: FutureWarning: The default value of `n_init` will change from 10 to 'auto' in 1.4. Set the value of `n_init` explicitly to suppress the warning\n",
            "  warnings.warn(\n",
            "/usr/local/lib/python3.10/dist-packages/sklearn/cluster/_kmeans.py:870: FutureWarning: The default value of `n_init` will change from 10 to 'auto' in 1.4. Set the value of `n_init` explicitly to suppress the warning\n",
            "  warnings.warn(\n",
            "/usr/local/lib/python3.10/dist-packages/sklearn/cluster/_kmeans.py:870: FutureWarning: The default value of `n_init` will change from 10 to 'auto' in 1.4. Set the value of `n_init` explicitly to suppress the warning\n",
            "  warnings.warn(\n",
            "/usr/local/lib/python3.10/dist-packages/sklearn/cluster/_kmeans.py:870: FutureWarning: The default value of `n_init` will change from 10 to 'auto' in 1.4. Set the value of `n_init` explicitly to suppress the warning\n",
            "  warnings.warn(\n",
            "/usr/local/lib/python3.10/dist-packages/sklearn/cluster/_kmeans.py:870: FutureWarning: The default value of `n_init` will change from 10 to 'auto' in 1.4. Set the value of `n_init` explicitly to suppress the warning\n",
            "  warnings.warn(\n",
            "/usr/local/lib/python3.10/dist-packages/sklearn/cluster/_kmeans.py:870: FutureWarning: The default value of `n_init` will change from 10 to 'auto' in 1.4. Set the value of `n_init` explicitly to suppress the warning\n",
            "  warnings.warn(\n"
          ]
        },
        {
          "output_type": "display_data",
          "data": {
            "text/plain": [
              "<Figure size 640x480 with 1 Axes>"
            ],
            "image/png": "[encoded data removed]"
          },
          "metadata": {}
        },
        {
          "output_type": "stream",
          "name": "stderr",
          "text": [
            "/usr/local/lib/python3.10/dist-packages/sklearn/cluster/_kmeans.py:870: FutureWarning: The default value of `n_init` will change from 10 to 'auto' in 1.4. Set the value of `n_init` explicitly to suppress the warning\n",
            "  warnings.warn(\n"
          ]
        }
      ]
    },
    {
      "cell_type": "code",
      "source": [
        "# Initialize centroids and colors\n",
        "centroids = kmeans.cluster_centers_\n",
        "colors = ['r', 'g', 'b', 'cyan']\n",
        "\n",
        "# Plot initial centroids and data points\n",
        "fig, ax = plt.subplots()\n",
        "for i in range(n_clusters):\n",
        "    ax.scatter(principal_df[y_kmeans == i]['PC1'], principal_df[y_kmeans == i]['PC2'], c=colors[i])\n",
        "ax.scatter(centroids[:, 0], centroids[:, 1], marker='*', s=200, c='#050505')\n",
        "\n",
        "# Update centroids until convergence\n",
        "while True:\n",
        "    # Assign each data point to the nearest centroid\n",
        "    old_centroids = centroids\n",
        "    y_kmeans = kmeans.predict(principal_df)\n",
        "    centroids = kmeans.cluster_centers_\n",
        "    \n",
        "    # Plot updated centroids and data points\n",
        "    fig, ax = plt.subplots()\n",
        "    for i in range(n_clusters):\n",
        "        ax.scatter(principal_df[y_kmeans == i]['PC1'], principal_df[y_kmeans == i]['PC2'], c=colors[i])\n",
        "    ax.scatter(centroids[:, 0], centroids[:, 1], marker='*', s=200, c='#050505')\n",
        "    \n",
        "    # Check for convergence\n",
        "    if (old_centroids == centroids).all():\n",
        "        break"
      ],
      "metadata": {
        "colab": {
          "base_uri": "https://localhost:8080/",
          "height": 843
        },
        "id": "08hV44DMTpLy",
        "outputId": "cf3cfba0-2464-4b6f-eb70-f0b80e355526"
      },
      "execution_count": null,
      "outputs": [
        {
          "output_type": "display_data",
          "data": {
            "text/plain": [
              "<Figure size 640x480 with 1 Axes>"
            ],
            "image/png": "[encoded data removed]"
          },
          "metadata": {}
        },
        {
          "output_type": "display_data",
          "data": {
            "text/plain": [
              "<Figure size 640x480 with 1 Axes>"
            ],
            "image/png": "[encoded data removed]"
          },
          "metadata": {}
        }
      ]
    },
    {
      "cell_type": "code",
      "source": [
        "# Combine Feature Extraction and K-Means Clustering\n",
        "principal_df['cluster'] = y_kmeans\n"
      ],
      "metadata": {
        "id": "Hi_ObAMQNUcU"
      },
      "execution_count": null,
      "outputs": []
    },
    {
      "cell_type": "code",
      "source": [
        "# Get recommendations for the user\n",
        "# This method is used in actual flask code I just used different approach here to experiment\n",
        "recommended_foods = []\n",
        "for i in range(n_clusters):\n",
        "    cluster_df = principal_df[principal_df['cluster'] == i]#.drop('cluster', axis=1)\n",
        "    #cluster_df = pd.merge(cluster_df, df, left_index=True, right_index=True)\n",
        "    #cluster_df = cluster_df.sort_values(by=['Protein_(g)'], ascending=False)\n",
        "    index_list = cluster_df.index.tolist()\n",
        "    cluster_food_df = df.iloc[index_list,:]\n",
        "    #cluster_foods = filtered_df[filtered_df.index.isin(cluster_df.index)] \n",
        "    if not cluster_food_df.empty:  # add check for empty DataFrame\n",
        "      recommended_foods.append(cluster_food_df.iloc[0]['Food name and Description'])\n",
        "    \n",
        "print(\"Recommended foods for you:\")\n",
        "for food in recommended_foods:\n",
        "    print(\"- \" + food)"
      ],
      "metadata": {
        "colab": {
          "base_uri": "https://localhost:8080/"
        },
        "id": "Kse8ofgsNWxE",
        "outputId": "4a04b919-c5af-4ba2-f926-c7f212983884"
      },
      "execution_count": null,
      "outputs": [
        {
          "output_type": "stream",
          "name": "stdout",
          "text": [
            "Recommended foods for you:\n",
            "- Corn on cob, white\n",
            "- Rice, milled, glutinous, milled w/ water\n",
            "- Soybean cheese, salted\n"
          ]
        }
      ]
    },
    {
      "cell_type": "code",
      "source": [
        "# Evaluate the system\n",
        "from sklearn.metrics import silhouette_score\n",
        "\n",
        "silhouette_scores = []\n",
        "inertia_scores = []\n",
        "for n_clusters in range(2, 11):\n",
        "    kmeans = KMeans(n_clusters=n_clusters, init='k-means++', random_state=42)\n",
        "    kmeans.fit(principal_df)\n",
        "    labels = kmeans.predict(principal_df)\n",
        "    silhouette_avg = silhouette_score(principal_df, labels)\n",
        "    inertia = kmeans.inertia_\n",
        "    silhouette_scores.append(silhouette_avg)\n",
        "    inertia_scores.append(inertia)\n",
        "\n",
        "# Plot evaluation metrics\n",
        "fig, ax1 = plt.subplots()\n",
        "\n",
        "ax2 = ax1.twinx()\n",
        "ax1.plot(range(2, 11), silhouette_scores, 'g-', label='Silhouette Score')\n",
        "ax2.plot(range(2, 11), inertia_scores, 'b-', label='Inertia')\n",
        "ax1.set_xlabel('Number of clusters')\n",
        "ax1.set_ylabel('Silhouette Score', color='g')\n",
        "ax2.set_ylabel('Inertia', color='b')\n",
        "plt.show()\n"
      ],
      "metadata": {
        "colab": {
          "base_uri": "https://localhost:8080/",
          "height": 781
        },
        "id": "6qda80alNqGm",
        "outputId": "67051eb2-f21a-4241-8a35-443b52917bab"
      },
      "execution_count": null,
      "outputs": [
        {
          "output_type": "stream",
          "name": "stderr",
          "text": [
            "/usr/local/lib/python3.10/dist-packages/sklearn/cluster/_kmeans.py:870: FutureWarning: The default value of `n_init` will change from 10 to 'auto' in 1.4. Set the value of `n_init` explicitly to suppress the warning\n",
            "  warnings.warn(\n",
            "/usr/local/lib/python3.10/dist-packages/sklearn/cluster/_kmeans.py:870: FutureWarning: The default value of `n_init` will change from 10 to 'auto' in 1.4. Set the value of `n_init` explicitly to suppress the warning\n",
            "  warnings.warn(\n",
            "/usr/local/lib/python3.10/dist-packages/sklearn/cluster/_kmeans.py:870: FutureWarning: The default value of `n_init` will change from 10 to 'auto' in 1.4. Set the value of `n_init` explicitly to suppress the warning\n",
            "  warnings.warn(\n",
            "/usr/local/lib/python3.10/dist-packages/sklearn/cluster/_kmeans.py:870: FutureWarning: The default value of `n_init` will change from 10 to 'auto' in 1.4. Set the value of `n_init` explicitly to suppress the warning\n",
            "  warnings.warn(\n",
            "/usr/local/lib/python3.10/dist-packages/sklearn/cluster/_kmeans.py:870: FutureWarning: The default value of `n_init` will change from 10 to 'auto' in 1.4. Set the value of `n_init` explicitly to suppress the warning\n",
            "  warnings.warn(\n",
            "/usr/local/lib/python3.10/dist-packages/sklearn/cluster/_kmeans.py:870: FutureWarning: The default value of `n_init` will change from 10 to 'auto' in 1.4. Set the value of `n_init` explicitly to suppress the warning\n",
            "  warnings.warn(\n",
            "/usr/local/lib/python3.10/dist-packages/sklearn/cluster/_kmeans.py:870: FutureWarning: The default value of `n_init` will change from 10 to 'auto' in 1.4. Set the value of `n_init` explicitly to suppress the warning\n",
            "  warnings.warn(\n",
            "/usr/local/lib/python3.10/dist-packages/sklearn/cluster/_kmeans.py:870: FutureWarning: The default value of `n_init` will change from 10 to 'auto' in 1.4. Set the value of `n_init` explicitly to suppress the warning\n",
            "  warnings.warn(\n",
            "/usr/local/lib/python3.10/dist-packages/sklearn/cluster/_kmeans.py:870: FutureWarning: The default value of `n_init` will change from 10 to 'auto' in 1.4. Set the value of `n_init` explicitly to suppress the warning\n",
            "  warnings.warn(\n"
          ]
        },
        {
          "output_type": "display_data",
          "data": {
            "text/plain": [
              "<Figure size 640x480 with 2 Axes>"
            ],
            "image/png": "[encoded data removed]"
          },
          "metadata": {}
        }
      ]
    },
    {
      "cell_type": "code",
      "source": [
        "#The feature extraction method that we used is the Principal Component Analysis\n",
        "#The MATRIX that we used is called Principal Components Matrix\n",
        "print(principal_df)"
      ],
      "metadata": {
        "colab": {
          "base_uri": "https://localhost:8080/"
        },
        "id": "1fCWbaVYQV6T",
        "outputId": "1640f3e4-b937-4e76-a502-84e2b647bac9"
      },
      "execution_count": null,
      "outputs": [
        {
          "output_type": "stream",
          "name": "stdout",
          "text": [
            "           PC1       PC2  cluster\n",
            "0     0.209384 -1.214331        0\n",
            "1     0.565820 -1.426070        0\n",
            "2     0.482655 -1.478497        0\n",
            "3     1.122476 -2.067658        1\n",
            "4    -0.126860 -1.111023        0\n",
            "...        ...       ...      ...\n",
            "1290  3.346086  1.116189        1\n",
            "1291  2.464817  1.872937        2\n",
            "1292 -1.904259  0.072681        0\n",
            "1293  3.349055 -1.112777        1\n",
            "1294  0.111046 -0.076827        0\n",
            "\n",
            "[1295 rows x 3 columns]\n"
          ]
        }
      ]
    },
    {
      "cell_type": "code",
      "source": [
        "df['Food_ID'].sample(20) #disregard this, just for checking"
      ],
      "metadata": {
        "colab": {
          "base_uri": "https://localhost:8080/"
        },
        "id": "ieB1Ack4c7fA",
        "outputId": "9b371997-64fb-493d-e2a9-9eff6dba95cf"
      },
      "execution_count": null,
      "outputs": [
        {
          "output_type": "execute_result",
          "data": {
            "text/plain": [
              "797     F080\n",
              "167     A173\n",
              "287     C048\n",
              "752     F033\n",
              "845     F130\n",
              "1180    G200\n",
              "644     E046\n",
              "831     F116\n",
              "778     F059\n",
              "385     D082\n",
              "1077    G094\n",
              "1398    Q048\n",
              "185     A191\n",
              "1455    R045\n",
              "1206    G227\n",
              "992     G009\n",
              "1339    N023\n",
              "1140    G163\n",
              "1244    J014\n",
              "691     E095\n",
              "Name: Food_ID, dtype: object"
            ]
          },
          "metadata": {},
          "execution_count": 99
        }
      ]
    },
    {
      "cell_type": "markdown",
      "source": [
        "# Burned Calories Prediction based on the dataset provided"
      ],
      "metadata": {
        "id": "sxiqQiB0ZhfD"
      }
    },
    {
      "cell_type": "code",
      "source": [
        "import pandas as pd\n",
        "import numpy as np\n",
        "from sklearn.cluster import KMeans\n",
        "from sklearn.metrics import silhouette_score\n",
        "import matplotlib.pyplot as plt"
      ],
      "metadata": {
        "id": "W2CIPZeKZmiB"
      },
      "execution_count": null,
      "outputs": []
    },
    {
      "cell_type": "code",
      "source": [
        "import pandas as pd\n",
        "from sklearn.cluster import KMeans\n",
        "\n",
        "# Load exercise dataset from CSV\n",
        "exercise_data = pd.read_csv('https://raw.githubusercontent.com/nutzbee/Capstone-Source-Codes/Flask-App-using-VS-Code/exercise_dataset.csv')\n",
        "\n",
        "# Preprocess the exercise data\n",
        "exercise_activities = exercise_data['Activity, Exercise or Sport (1 hour)'].tolist()\n",
        "burned_calories = exercise_data['Calories per kg'].tolist()\n",
        "\n",
        "# Create a dictionary to map activity labels to numerical values\n",
        "activity_labels = {activity: i for i, activity in enumerate(set(exercise_activities))}\n",
        "exercise_labels = [activity_labels[activity] for activity in exercise_activities]\n",
        "\n",
        "# Create a one-hot encoding for activity labels\n",
        "one_hot_activities = pd.get_dummies(exercise_labels, prefix='Activity')\n",
        "\n",
        "# Concatenate the burned_calories and one-hot activity dataframes\n",
        "X = pd.concat([pd.DataFrame(burned_calories, columns=['Calories']), one_hot_activities], axis=1)\n",
        "\n",
        "# Apply k-means clustering\n",
        "num_clusters = 2  # Specify the number of clusters\n",
        "kmeans = KMeans(n_clusters=num_clusters)\n",
        "kmeans.fit(X)\n",
        "\n",
        "# Get cluster labels\n",
        "cluster_labels = kmeans.labels_\n",
        "\n",
        "# Analyze cluster labels to determine health status\n",
        "def assess_health(cluster_labels):\n",
        "    # Count the occurrences of each cluster label\n",
        "    cluster_counts = pd.Series(cluster_labels).value_counts()\n",
        "\n",
        "    # Determine the dominant cluster\n",
        "    dominant_cluster = cluster_counts.idxmax()\n",
        "\n",
        "    # Determine health status based on dominant cluster\n",
        "    if cluster_labels.tolist().count(dominant_cluster) == len(cluster_labels):\n",
        "        return \"Healthy\"\n",
        "    else:\n",
        "        return \"Not Healthy\"\n",
        "\n",
        "# Display available exercise activities to the user\n",
        "available_activities = sorted(set(exercise_activities))\n",
        "print(\"Available exercise activities:\")\n",
        "for i, activity in enumerate(available_activities):\n",
        "    print(f\"{i + 1}. {activity}\")\n",
        "\n",
        "# Get user input for exercise activity\n",
        "activity_choice = int(input(\"Enter the number corresponding to your exercise activity: \"))\n",
        "\n",
        "# Check if the activity choice is valid\n",
        "if activity_choice > 0 and activity_choice <= len(available_activities):\n",
        "    # Get the selected activity\n",
        "    exercise_activity = available_activities[activity_choice - 1]\n",
        "    \n",
        "    # Get user input for exercise duration\n",
        "    exercise_duration = float(input(\"Enter the exercise duration in minutes: \"))\n",
        "\n",
        "    # Find matching exercise activity in the dataset\n",
        "    matching_activity = exercise_data[exercise_data['Activity, Exercise or Sport (1 hour)'] == exercise_activity]\n",
        "\n",
        "    # Check if a matching activity is found\n",
        "    if not matching_activity.empty:\n",
        "        # Calculate burned calories based on user input\n",
        "        user_burned_calories = matching_activity['Calories per kg'].values[0] * exercise_duration\n",
        "\n",
        "        # Update X with user input\n",
        "        user_X = pd.DataFrame([[user_burned_calories] + [0] * len(activity_labels)], columns=['Calories'] + list(one_hot_activities.columns))\n",
        "\n",
        "        # Combine X and user_X\n",
        "        combined_X = pd.concat([X, user_X], ignore_index=True)\n",
        "\n",
        "        # Apply k-means clustering with updated data\n",
        "        kmeans.fit(combined_X)\n",
        "\n",
        "        # Get updated cluster labels\n",
        "        updated_cluster_labels = kmeans.labels_\n",
        "\n",
        "        # Assess health status based on updated cluster labels\n",
        "        health_status = assess_health(updated_cluster_labels)\n",
        "        print(\"Health Status:\", health_status)\n",
        "    else:\n",
        "        print(\"Exercise activity not found in the dataset.\")\n",
        "else:\n",
        "    print(\"Invalid activity choice. Please try again.\")"
      ],
      "metadata": {
        "colab": {
          "base_uri": "https://localhost:8080/"
        },
        "id": "8TWUww5Oo6HZ",
        "outputId": "adc5c000-8819-4bbb-fcf3-3eab6fb67d57"
      },
      "execution_count": null,
      "outputs": [
        {
          "output_type": "stream",
          "name": "stderr",
          "text": [
            "/usr/local/lib/python3.10/dist-packages/sklearn/cluster/_kmeans.py:870: FutureWarning: The default value of `n_init` will change from 10 to 'auto' in 1.4. Set the value of `n_init` explicitly to suppress the warning\n",
            "  warnings.warn(\n"
          ]
        },
        {
          "output_type": "stream",
          "name": "stdout",
          "text": [
            "Available exercise activities:\n",
            "1. Aerobics, general\n",
            "2. Aerobics, high impact\n",
            "3. Aerobics, low impact\n",
            "4. Aerobics, step aerobics\n",
            "5. Archery\n",
            "6. Backpacking, Hiking with pack\n",
            "7. Badminton\n",
            "8. Bagging grass, leaves\n",
            "9. Ballet, twist, jazz, tap\n",
            "10. Ballroom dancing, fast\n",
            "11. Ballroom dancing, slow\n",
            "12. Basketball game, competitive\n",
            "13. Basketball, officiating\n",
            "14. Basketball, shooting baskets\n",
            "15. Basketball, wheelchair\n",
            "16. Bathing dog\n",
            "17. Billiards\n",
            "18. Bird watching\n",
            "19. Boating, power, speed boat\n",
            "20. Bowling\n",
            "21. Boxing, in ring\n",
            "22. Boxing, punching bag\n",
            "23. Boxing, sparring\n",
            "24. Calisthenics, light\n",
            "25. Calisthenics, vigorous, pushups, situps…\n",
            "26. Canoeing, camping trip\n",
            "27. Canoeing, rowing, light\n",
            "28. Canoeing, rowing, moderate\n",
            "29. Canoeing, rowing, vigorous\n",
            "30. Carpentry, general\n",
            "31. Carrying 16 to 24 lbs, upstairs\n",
            "32. Carrying 25 to 49 lbs, upstairs\n",
            "33. Carrying heavy loads\n",
            "34. Carrying infant, level ground\n",
            "35. Carrying infant, upstairs\n",
            "36. Carrying moderate loads upstairs\n",
            "37. Carrying small children\n",
            "38. Children's games, hopscotch, dodgeball\n",
            "39. Circuit training, minimal rest\n",
            "40. Cleaning gutters\n",
            "41. Cleaning, dusting\n",
            "42. Climbing hills, carrying 10 to 20 lb\n",
            "43. Climbing hills, carrying 21 to 42 lb\n",
            "44. Climbing hills, carrying over 42 lb\n",
            "45. Climbing hills, carrying up to 9 lbs\n",
            "46. Coaching: football, basketball, soccer…\n",
            "47. Crew, sculling, rowing, competition\n",
            "48. Cricket (batting, bowling)\n",
            "49. Croquet\n",
            "50. Cross country skiing, moderate\n",
            "51. Cross country skiing, racing\n",
            "52. Cross country skiing, uphill\n",
            "53. Cross country skiing, vigorous\n",
            "54. Cross country snow skiing, slow\n",
            "55. Curling\n",
            "56. Cycling, 10-11.9 mph, light\n",
            "57. Cycling, 12-13.9 mph, moderate\n",
            "58. Cycling, 14-15.9 mph, vigorous\n",
            "59. Cycling, 16-19 mph, very fast, racing\n",
            "60. Cycling, <10 mph, leisure bicycling\n",
            "61. Cycling, >20 mph, racing\n",
            "62. Cycling, mountain bike, bmx\n",
            "63. Darts (wall or lawn)\n",
            "64. Diving, springboard or platform\n",
            "65. Downhill snow skiing, moderate\n",
            "66. Downhill snow skiing, racing\n",
            "67. Fencing\n",
            "68. Football or baseball, playing catch\n",
            "69. Football, competitive\n",
            "70. Football, touch, flag, general\n",
            "71. Frisbee playing, general\n",
            "72. Frisbee, ultimate frisbee\n",
            "73. Gardening, general\n",
            "74. General cleaning\n",
            "75. General housework\n",
            "76. Golf, driving range\n",
            "77. Golf, general\n",
            "78. Golf, miniature golf\n",
            "79. Golf, using power cart\n",
            "80. Golf, walking and carrying clubs\n",
            "81. Golf, walking and pulling clubs\n",
            "82. Gymnastics\n",
            "83. Hacky sack\n",
            "84. Handball\n",
            "85. Handball, team\n",
            "86. Health club exercise\n",
            "87. Hiking, cross country\n",
            "88. Hockey, field hockey\n",
            "89. Hockey, ice hockey\n",
            "90. Horesback riding, saddling horse\n",
            "91. Horse grooming, moderate\n",
            "92. Horse racing, galloping\n",
            "93. Horseback riding, grooming horse\n",
            "94. Horseback riding, trotting\n",
            "95. Horseback riding, walking\n",
            "96. Horseshoe pitching\n",
            "97. Ice skating, < 9 mph\n",
            "98. Ice skating, average speed\n",
            "99. Ice skating, rapidly\n",
            "100. Instructing aerobic class\n",
            "101. Jai alai\n",
            "102. Jazzercise\n",
            "103. Juggling\n",
            "104. Jumping rope, fast\n",
            "105. Jumping rope, moderate\n",
            "106. Jumping rope, slow\n",
            "107. Kayaking\n",
            "108. Kickball\n",
            "109. Krav maga training\n",
            "110. Lacrosse\n",
            "111. Loading, unloading car\n",
            "112. Marching, rapidly, military\n",
            "113. Martial arts, judo, karate, jujitsu\n",
            "114. Martial arts, kick boxing\n",
            "115. Martial arts, tae kwan do\n",
            "116. Mild stretching\n",
            "117. Mowing lawn, riding mower\n",
            "118. Mowing lawn, walk, power mower\n",
            "119. Orienteering\n",
            "120. Paddle boat\n",
            "121. Paddleball, competitive\n",
            "122. Painting\n",
            "123. Playing basketball, non game\n",
            "124. Playing paddleball\n",
            "125. Playing racquetball\n",
            "126. Playing soccer\n",
            "127. Playing tennis\n",
            "128. Playing volleyball\n",
            "129. Polo\n",
            "130. Pushing a wheelchair\n",
            "131. Pushing stroller or walking with children\n",
            "132. Race walking\n",
            "133. Racquetball, competitive\n",
            "134. Raking lawn\n",
            "135. Riding a horse, general\n",
            "136. Riding, snow blower\n",
            "137. Rock climbing, ascending rock\n",
            "138. Rock climbing, mountain climbing\n",
            "139. Rock climbing, rappelling\n",
            "140. Roller blading, in-line skating\n",
            "141. Roller skating\n",
            "142. Rowing machine, light\n",
            "143. Rowing machine, moderate\n",
            "144. Rowing machine, very vigorous\n",
            "145. Rowing machine, vigorous\n",
            "146. Rugby\n",
            "147. Running, 10 mph (6 min mile)\n",
            "148. Running, 10.9 mph (5.5 min mile)\n",
            "149. Running, 5 mph (12 minute mile)\n",
            "150. Running, 5.2 mph (11.5 minute mile)\n",
            "151. Running, 6 mph (10 min mile)\n",
            "152. Running, 6.7 mph (9 min mile)\n",
            "153. Running, 7 mph (8.5 min mile)\n",
            "154. Running, 7.5mph (8 min mile)\n",
            "155. Running, 8 mph (7.5 min mile)\n",
            "156. Running, 8.6 mph (7 min mile)\n",
            "157. Running, 9 mph (6.5 min mile)\n",
            "158. Running, cross country\n",
            "159. Running, general\n",
            "160. Running, on a track, team practice\n",
            "161. Running, stairs, up\n",
            "162. Running, training, pushing wheelchair\n",
            "163. Sailing, competition\n",
            "164. Sailing, yachting, ocean sailing\n",
            "165. Shoveling snow by hand\n",
            "166. Shuffleboard, lawn bowling\n",
            "167. Sit, playing with animals\n",
            "168. Skateboarding\n",
            "169. Ski machine\n",
            "170. Ski mobiling\n",
            "171. Skiing, water skiing\n",
            "172. Skin diving, fast\n",
            "173. Skin diving, moderate\n",
            "174. Skin diving, scuba diving\n",
            "175. Sky diving\n",
            "176. Sledding, tobagganing, luge\n",
            "177. Snorkeling\n",
            "178. Snow shoeing\n",
            "179. Snow skiing, downhill skiing, light\n",
            "180. Snowmobiling\n",
            "181. Soccer, competitive\n",
            "182. Softball or baseball\n",
            "183. Softball, officiating\n",
            "184. Softball, pitching\n",
            "185. Speed skating, ice, competitive\n",
            "186. Squash\n",
            "187. Stair machine\n",
            "188. Standing, playing with children, light\n",
            "189. Stationary cycling, light\n",
            "190. Stationary cycling, moderate\n",
            "191. Stationary cycling, very light\n",
            "192. Stationary cycling, very vigorous\n",
            "193. Stationary cycling, vigorous\n",
            "194. Stretching, hatha yoga\n",
            "195. Surfing, body surfing or board surfing\n",
            "196. Swimming backstroke\n",
            "197. Swimming breaststroke\n",
            "198. Swimming butterfly\n",
            "199. Swimming laps, freestyle, fast\n",
            "200. Swimming laps, freestyle, slow\n",
            "201. Swimming leisurely, not laps\n",
            "202. Swimming sidestroke\n",
            "203. Swimming synchronized\n",
            "204. Swimming, treading water, fast, vigorous\n",
            "205. Swimming, treading water, moderate\n",
            "206. Table tennis, ping pong\n",
            "207. Tai chi\n",
            "208. Taking out trash\n",
            "209. Teach physical education,exercise class\n",
            "210. Tennis, doubles\n",
            "211. Tennis, singles\n",
            "212. Track and field (high jump, pole vault)\n",
            "213. Track and field (hurdles)\n",
            "214. Track and field (shot, discus)\n",
            "215. Trampoline\n",
            "216. Unicycling\n",
            "217. Volleyball, beach\n",
            "218. Volleyball, competitive\n",
            "219. Walk / run, playing with animals\n",
            "220. Walk/run, playing with children, moderate\n",
            "221. Walk/run, playing with children, vigorous\n",
            "222. Walking 2.0 mph, slow\n",
            "223. Walking 2.5 mph\n",
            "224. Walking 3.0 mph, moderate\n",
            "225. Walking 3.5 mph, brisk pace\n",
            "226. Walking 3.5 mph, uphill\n",
            "227. Walking 4.0 mph, very brisk\n",
            "228. Walking 4.5 mph\n",
            "229. Walking 5.0 mph\n",
            "230. Walking downstairs\n",
            "231. Walking the dog\n",
            "232. Walking using crutches\n",
            "233. Walking, pushing a wheelchair\n",
            "234. Walking, snow blower\n",
            "235. Walking, under 2.0 mph, very slow\n",
            "236. Wallyball\n",
            "237. Water aerobics\n",
            "238. Water aerobics, water calisthenics\n",
            "239. Water jogging\n",
            "240. Water polo\n",
            "241. Water volleyball\n",
            "242. Watering lawn or garden\n",
            "243. Weeding, cultivating garden\n",
            "244. Weight lifting, body building, vigorous\n",
            "245. Weight lifting, light workout\n",
            "246. Whitewater rafting, kayaking, canoeing\n",
            "247. Windsurfing, sailing\n",
            "248. Wrestling\n",
            "Enter the number corresponding to your exercise activity: 20\n",
            "Enter the exercise duration in minutes: 30\n",
            "Health Status: Not Healthy\n"
          ]
        },
        {
          "output_type": "stream",
          "name": "stderr",
          "text": [
            "/usr/local/lib/python3.10/dist-packages/sklearn/cluster/_kmeans.py:870: FutureWarning: The default value of `n_init` will change from 10 to 'auto' in 1.4. Set the value of `n_init` explicitly to suppress the warning\n",
            "  warnings.warn(\n"
          ]
        }
      ]
    },
    {
      "cell_type": "code",
      "source": [
        "# Calculate silhouette score\n",
        "from sklearn.metrics import silhouette_score\n",
        "silhouette_avg = silhouette_score(X, cluster_labels)\n",
        "print(\"Silhouette Score:\", silhouette_avg)"
      ],
      "metadata": {
        "colab": {
          "base_uri": "https://localhost:8080/"
        },
        "id": "9U-EBjP9tGiD",
        "outputId": "95efc111-a7bc-4af7-d302-dc525e87ed9a"
      },
      "execution_count": null,
      "outputs": [
        {
          "output_type": "stream",
          "name": "stdout",
          "text": [
            "Silhouette Score: 0.18229546431048216\n"
          ]
        }
      ]
    },
    {
      "cell_type": "code",
      "source": [
        "# Load the dataset\n",
        "df = pd.read_csv('exercise_dataset.csv')\n"
      ],
      "metadata": {
        "id": "7NHClgMuZ3QS"
      },
      "execution_count": null,
      "outputs": []
    },
    {
      "cell_type": "code",
      "source": [
        "df.columns"
      ],
      "metadata": {
        "colab": {
          "base_uri": "https://localhost:8080/"
        },
        "id": "fiIdTCvHy1lg",
        "outputId": "159f9d60-11d7-46be-e2f2-47b603851e42"
      },
      "execution_count": null,
      "outputs": [
        {
          "output_type": "execute_result",
          "data": {
            "text/plain": [
              "Index(['Activity, Exercise or Sport (1 hour)', '130 lb', '155 lb', '180 lb',\n",
              "       '205 lb', 'Calories per kg'],\n",
              "      dtype='object')"
            ]
          },
          "metadata": {},
          "execution_count": 33
        }
      ]
    },
    {
      "cell_type": "code",
      "source": [
        "# Extract the relevant columns\n",
        "X = df.iloc[:, 1:-1].values  # Columns 2 to 5 (weights for different lbs)\n",
        "y = df.iloc[:, -1].values    # Last column (calories per lb)\n",
        "activities = df.iloc[:, 0].values  # First column (activities)"
      ],
      "metadata": {
        "id": "u8fyoshiZ8U-"
      },
      "execution_count": null,
      "outputs": []
    },
    {
      "cell_type": "code",
      "source": [
        "# Perform k-means clustering with different number of clusters\n",
        "n_clusters_range = range(2, 11)\n",
        "inertias = []\n",
        "silhouette_scores = []\n",
        "fig, ax = plt.subplots(2, 5, figsize=(15, 8))\n",
        "ax = ax.ravel()\n",
        "\n",
        "for i, n_clusters in enumerate(n_clusters_range):\n",
        "    kmeans = KMeans(n_clusters=n_clusters, random_state=0)\n",
        "    kmeans.fit(X)\n",
        "    inertias.append(kmeans.inertia_)\n",
        "    if n_clusters > 1:\n",
        "        # Silhouette score is not defined for a single cluster\n",
        "        silhouette_scores.append(silhouette_score(X, kmeans.labels_))\n",
        "\n",
        "    # Plot the centroids for current iteration\n",
        "    ax[i].scatter(X[:, 0], X[:, 1], c=kmeans.labels_, cmap='viridis')\n",
        "    ax[i].scatter(kmeans.cluster_centers_[:, 0], kmeans.cluster_centers_[:, 1], c='red', marker='x', s=200)\n",
        "    ax[i].set_title(f'Centroids for {n_clusters} Clusters')\n",
        "    ax[i].set_xlabel('130 lb')\n",
        "    ax[i].set_ylabel('155 lb')\n",
        "    ax[i].text(0.05, 0.95, f\"Silhouette Score: {silhouette_scores[-1]:.2f}\", transform=ax[i].transAxes, ha='left', va='top')\n",
        "\n",
        "\n",
        "plt.tight_layout()\n",
        "plt.show()"
      ],
      "metadata": {
        "colab": {
          "base_uri": "https://localhost:8080/",
          "height": 1000
        },
        "id": "xIOp2T8Uc91-",
        "outputId": "65c3021a-c68f-4cd1-eebd-8940a43d9a11"
      },
      "execution_count": null,
      "outputs": [
        {
          "output_type": "stream",
          "name": "stderr",
          "text": [
            "/usr/local/lib/python3.9/dist-packages/sklearn/cluster/_kmeans.py:870: FutureWarning: The default value of `n_init` will change from 10 to 'auto' in 1.4. Set the value of `n_init` explicitly to suppress the warning\n",
            "  warnings.warn(\n",
            "/usr/local/lib/python3.9/dist-packages/sklearn/cluster/_kmeans.py:870: FutureWarning: The default value of `n_init` will change from 10 to 'auto' in 1.4. Set the value of `n_init` explicitly to suppress the warning\n",
            "  warnings.warn(\n",
            "/usr/local/lib/python3.9/dist-packages/sklearn/cluster/_kmeans.py:870: FutureWarning: The default value of `n_init` will change from 10 to 'auto' in 1.4. Set the value of `n_init` explicitly to suppress the warning\n",
            "  warnings.warn(\n",
            "/usr/local/lib/python3.9/dist-packages/sklearn/cluster/_kmeans.py:870: FutureWarning: The default value of `n_init` will change from 10 to 'auto' in 1.4. Set the value of `n_init` explicitly to suppress the warning\n",
            "  warnings.warn(\n",
            "/usr/local/lib/python3.9/dist-packages/sklearn/cluster/_kmeans.py:870: FutureWarning: The default value of `n_init` will change from 10 to 'auto' in 1.4. Set the value of `n_init` explicitly to suppress the warning\n",
            "  warnings.warn(\n",
            "/usr/local/lib/python3.9/dist-packages/sklearn/cluster/_kmeans.py:870: FutureWarning: The default value of `n_init` will change from 10 to 'auto' in 1.4. Set the value of `n_init` explicitly to suppress the warning\n",
            "  warnings.warn(\n",
            "/usr/local/lib/python3.9/dist-packages/sklearn/cluster/_kmeans.py:870: FutureWarning: The default value of `n_init` will change from 10 to 'auto' in 1.4. Set the value of `n_init` explicitly to suppress the warning\n",
            "  warnings.warn(\n",
            "/usr/local/lib/python3.9/dist-packages/sklearn/cluster/_kmeans.py:870: FutureWarning: The default value of `n_init` will change from 10 to 'auto' in 1.4. Set the value of `n_init` explicitly to suppress the warning\n",
            "  warnings.warn(\n",
            "/usr/local/lib/python3.9/dist-packages/sklearn/cluster/_kmeans.py:870: FutureWarning: The default value of `n_init` will change from 10 to 'auto' in 1.4. Set the value of `n_init` explicitly to suppress the warning\n",
            "  warnings.warn(\n"
          ]
        },
        {
          "output_type": "display_data",
          "data": {
            "text/plain": [
              "<Figure size 1500x800 with 10 Axes>"
            ],
            "image/png": "[encoded data removed]"
          },
          "metadata": {}
        }
      ]
    },
    {
      "cell_type": "code",
      "source": [
        "# Based on the plots, you can choose the optimal number of clusters\n",
        "optimal_n_clusters = int(input(\"Enter the optimal number of clusters based on the plots: \"))\n",
        "# I just used this to try int input in jupyter notebooks\n",
        "# Based on the visualization, silhouette score is higher with 10 clusters so I just chosed 10\n",
        "# In actual flask coding this input will not be coming from the user"
      ],
      "metadata": {
        "colab": {
          "base_uri": "https://localhost:8080/"
        },
        "id": "_BJA5Jy9dOmi",
        "outputId": "af8b2ff0-2e21-421d-e9de-860067846933"
      },
      "execution_count": null,
      "outputs": [
        {
          "name": "stdout",
          "output_type": "stream",
          "text": [
            "Enter the optimal number of clusters based on the plots: 10\n"
          ]
        }
      ]
    },
    {
      "cell_type": "code",
      "source": [
        "# Perform k-means clustering with the optimal number of clusters\n",
        "kmeans = KMeans(n_clusters=optimal_n_clusters, random_state=0)\n",
        "kmeans.fit(X)"
      ],
      "metadata": {
        "colab": {
          "base_uri": "https://localhost:8080/",
          "height": 129
        },
        "id": "w2AAg-SJdWFm",
        "outputId": "80e23c89-36b5-4e7d-b5d8-f228a8e59dc1"
      },
      "execution_count": null,
      "outputs": [
        {
          "output_type": "stream",
          "name": "stderr",
          "text": [
            "/usr/local/lib/python3.9/dist-packages/sklearn/cluster/_kmeans.py:870: FutureWarning: The default value of `n_init` will change from 10 to 'auto' in 1.4. Set the value of `n_init` explicitly to suppress the warning\n",
            "  warnings.warn(\n"
          ]
        },
        {
          "output_type": "execute_result",
          "data": {
            "text/plain": [
              "KMeans(n_clusters=10, random_state=0)"
            ],
            "text/html": [
              "<style>#sk-container-id-1 {color: black;background-color: white;}#sk-container-id-1 pre{padding: 0;}#sk-container-id-1 div.sk-toggleable {background-color: white;}#sk-container-id-1 label.sk-toggleable__label {cursor: pointer;display: block;width: 100%;margin-bottom: 0;padding: 0.3em;box-sizing: border-box;text-align: center;}#sk-container-id-1 label.sk-toggleable__label-arrow:before {content: \"▸\";float: left;margin-right: 0.25em;color: #696969;}#sk-container-id-1 label.sk-toggleable__label-arrow:hover:before {color: black;}#sk-container-id-1 div.sk-estimator:hover label.sk-toggleable__label-arrow:before {color: black;}#sk-container-id-1 div.sk-toggleable__content {max-height: 0;max-width: 0;overflow: hidden;text-align: left;background-color: #f0f8ff;}#sk-container-id-1 div.sk-toggleable__content pre {margin: 0.2em;color: black;border-radius: 0.25em;background-color: #f0f8ff;}#sk-container-id-1 input.sk-toggleable__control:checked~div.sk-toggleable__content {max-height: 200px;max-width: 100%;overflow: auto;}#sk-container-id-1 input.sk-toggleable__control:checked~label.sk-toggleable__label-arrow:before {content: \"▾\";}#sk-container-id-1 div.sk-estimator input.sk-toggleable__control:checked~label.sk-toggleable__label {background-color: #d4ebff;}#sk-container-id-1 div.sk-label input.sk-toggleable__control:checked~label.sk-toggleable__label {background-color: #d4ebff;}#sk-container-id-1 input.sk-hidden--visually {border: 0;clip: rect(1px 1px 1px 1px);clip: rect(1px, 1px, 1px, 1px);height: 1px;margin: -1px;overflow: hidden;padding: 0;position: absolute;width: 1px;}#sk-container-id-1 div.sk-estimator {font-family: monospace;background-color: #f0f8ff;border: 1px dotted black;border-radius: 0.25em;box-sizing: border-box;margin-bottom: 0.5em;}#sk-container-id-1 div.sk-estimator:hover {background-color: #d4ebff;}#sk-container-id-1 div.sk-parallel-item::after {content: \"\";width: 100%;border-bottom: 1px solid gray;flex-grow: 1;}#sk-container-id-1 div.sk-label:hover label.sk-toggleable__label {background-color: #d4ebff;}#sk-container-id-1 div.sk-serial::before {content: \"\";position: absolute;border-left: 1px solid gray;box-sizing: border-box;top: 0;bottom: 0;left: 50%;z-index: 0;}#sk-container-id-1 div.sk-serial {display: flex;flex-direction: column;align-items: center;background-color: white;padding-right: 0.2em;padding-left: 0.2em;position: relative;}#sk-container-id-1 div.sk-item {position: relative;z-index: 1;}#sk-container-id-1 div.sk-parallel {display: flex;align-items: stretch;justify-content: center;background-color: white;position: relative;}#sk-container-id-1 div.sk-item::before, #sk-container-id-1 div.sk-parallel-item::before {content: \"\";position: absolute;border-left: 1px solid gray;box-sizing: border-box;top: 0;bottom: 0;left: 50%;z-index: -1;}#sk-container-id-1 div.sk-parallel-item {display: flex;flex-direction: column;z-index: 1;position: relative;background-color: white;}#sk-container-id-1 div.sk-parallel-item:first-child::after {align-self: flex-end;width: 50%;}#sk-container-id-1 div.sk-parallel-item:last-child::after {align-self: flex-start;width: 50%;}#sk-container-id-1 div.sk-parallel-item:only-child::after {width: 0;}#sk-container-id-1 div.sk-dashed-wrapped {border: 1px dashed gray;margin: 0 0.4em 0.5em 0.4em;box-sizing: border-box;padding-bottom: 0.4em;background-color: white;}#sk-container-id-1 div.sk-label label {font-family: monospace;font-weight: bold;display: inline-block;line-height: 1.2em;}#sk-container-id-1 div.sk-label-container {text-align: center;}#sk-container-id-1 div.sk-container {/* jupyter's `normalize.less` sets `[hidden] { display: none; }` but bootstrap.min.css set `[hidden] { display: none !important; }` so we also need the `!important` here to be able to override the default hidden behavior on the sphinx rendered scikit-learn.org. See: https://github.com/scikit-learn/scikit-learn/issues/21755 */display: inline-block !important;position: relative;}#sk-container-id-1 div.sk-text-repr-fallback {display: none;}</style><div id=\"sk-container-id-1\" class=\"sk-top-container\"><div class=\"sk-text-repr-fallback\"><pre>KMeans(n_clusters=10, random_state=0)</pre><b>In a Jupyter environment, please rerun this cell to show the HTML representation or trust the notebook. <br />On GitHub, the HTML representation is unable to render, please try loading this page with nbviewer.org.</b></div><div class=\"sk-container\" hidden><div class=\"sk-item\"><div class=\"sk-estimator sk-toggleable\"><input class=\"sk-toggleable__control sk-hidden--visually\" id=\"sk-estimator-id-1\" type=\"checkbox\" checked><label for=\"sk-estimator-id-1\" class=\"sk-toggleable__label sk-toggleable__label-arrow\">KMeans</label><div class=\"sk-toggleable__content\"><pre>KMeans(n_clusters=10, random_state=0)</pre></div></div></div></div></div>"
            ]
          },
          "metadata": {},
          "execution_count": 37
        }
      ]
    },
    {
      "cell_type": "code",
      "source": [
        "# Get user input for weight in lbs\n",
        "user_weight_lb = float(input(\"Enter your weight in lbs: \"))\n",
        "# As for my weight in lbs"
      ],
      "metadata": {
        "colab": {
          "base_uri": "https://localhost:8080/"
        },
        "id": "oE36vayddZHt",
        "outputId": "aacdedc2-245c-4b39-f6e9-061e6d5cf2ac"
      },
      "execution_count": null,
      "outputs": [
        {
          "name": "stdout",
          "output_type": "stream",
          "text": [
            "Enter your weight in lbs: 134.482\n"
          ]
        }
      ]
    },
    {
      "cell_type": "code",
      "source": [
        "# Get user input for exercise or activity\n",
        "# I used index of the activities for the input here\n",
        "print(\"Select an exercise or activity:\")\n",
        "for i, activity in enumerate(activities):\n",
        "    print(f\"{i+1}. {activity}\")\n",
        "selected_activity_index = int(input(\"Enter the index of the exercise or activity: \")) - 1\n",
        "selected_activity = activities[selected_activity_index]"
      ],
      "metadata": {
        "colab": {
          "base_uri": "https://localhost:8080/"
        },
        "id": "F_BFvF3ddhjd",
        "outputId": "8705e351-bd9d-4b12-ea8e-ca75ea21f315"
      },
      "execution_count": null,
      "outputs": [
        {
          "name": "stdout",
          "output_type": "stream",
          "text": [
            "Select an exercise or activity:\n",
            "1. Cycling, mountain bike, bmx\n",
            "2. Cycling, <10 mph, leisure bicycling\n",
            "3. Cycling, >20 mph, racing\n",
            "4. Cycling, 10-11.9 mph, light\n",
            "5. Cycling, 12-13.9 mph, moderate\n",
            "6. Cycling, 14-15.9 mph, vigorous\n",
            "7. Cycling, 16-19 mph, very fast, racing\n",
            "8. Unicycling\n",
            "9. Stationary cycling, very light\n",
            "10. Stationary cycling, light\n",
            "11. Stationary cycling, moderate\n",
            "12. Stationary cycling, vigorous\n",
            "13. Stationary cycling, very vigorous\n",
            "14. Calisthenics, vigorous, pushups, situps…\n",
            "15. Calisthenics, light\n",
            "16. Circuit training, minimal rest\n",
            "17. Weight lifting, body building, vigorous\n",
            "18. Weight lifting, light workout\n",
            "19. Health club exercise\n",
            "20. Stair machine\n",
            "21. Rowing machine, light\n",
            "22. Rowing machine, moderate\n",
            "23. Rowing machine, vigorous\n",
            "24. Rowing machine, very vigorous\n",
            "25. Ski machine\n",
            "26. Aerobics, low impact\n",
            "27. Aerobics, high impact\n",
            "28. Aerobics, step aerobics\n",
            "29. Aerobics, general\n",
            "30. Jazzercise\n",
            "31. Stretching, hatha yoga\n",
            "32. Mild stretching\n",
            "33. Instructing aerobic class\n",
            "34. Water aerobics\n",
            "35. Ballet, twist, jazz, tap\n",
            "36. Ballroom dancing, slow\n",
            "37. Ballroom dancing, fast\n",
            "38. Running, 5 mph (12 minute mile)\n",
            "39. Running, 5.2 mph (11.5 minute mile)\n",
            "40. Running, 6 mph (10 min mile)\n",
            "41. Running, 6.7 mph (9 min mile)\n",
            "42. Running, 7 mph (8.5 min mile)\n",
            "43. Running, 7.5mph (8 min mile)\n",
            "44. Running, 8 mph (7.5 min mile)\n",
            "45. Running, 8.6 mph (7 min mile)\n",
            "46. Running, 9 mph (6.5 min mile)\n",
            "47. Running, 10 mph (6 min mile)\n",
            "48. Running, 10.9 mph (5.5 min mile)\n",
            "49. Running, cross country\n",
            "50. Running, general\n",
            "51. Running, on a track, team practice\n",
            "52. Running, stairs, up\n",
            "53. Track and field (shot, discus)\n",
            "54. Track and field (high jump, pole vault)\n",
            "55. Track and field (hurdles)\n",
            "56. Archery\n",
            "57. Badminton\n",
            "58. Basketball game, competitive\n",
            "59. Playing basketball, non game\n",
            "60. Basketball, officiating\n",
            "61. Basketball, shooting baskets\n",
            "62. Basketball, wheelchair\n",
            "63. Running, training, pushing wheelchair\n",
            "64. Billiards\n",
            "65. Bowling\n",
            "66. Boxing, in ring\n",
            "67. Boxing, punching bag\n",
            "68. Boxing, sparring\n",
            "69. Coaching: football, basketball, soccer…\n",
            "70. Cricket (batting, bowling)\n",
            "71. Croquet\n",
            "72. Curling\n",
            "73. Darts (wall or lawn)\n",
            "74. Fencing\n",
            "75. Football, competitive\n",
            "76. Football, touch, flag, general\n",
            "77. Football or baseball, playing catch\n",
            "78. Frisbee playing, general\n",
            "79. Frisbee, ultimate frisbee\n",
            "80. Golf, general\n",
            "81. Golf, walking and carrying clubs\n",
            "82. Golf, driving range\n",
            "83. Golf, miniature golf\n",
            "84. Golf, walking and pulling clubs\n",
            "85. Golf, using power cart\n",
            "86. Gymnastics\n",
            "87. Hacky sack\n",
            "88. Handball\n",
            "89. Handball, team\n",
            "90. Hockey, field hockey\n",
            "91. Hockey, ice hockey\n",
            "92. Riding a horse, general\n",
            "93. Horesback riding, saddling horse\n",
            "94. Horseback riding, grooming horse\n",
            "95. Horseback riding, trotting\n",
            "96. Horseback riding, walking\n",
            "97. Horse racing, galloping\n",
            "98. Horse grooming, moderate\n",
            "99. Horseshoe pitching\n",
            "100. Jai alai\n",
            "101. Martial arts, judo, karate, jujitsu\n",
            "102. Martial arts, kick boxing\n",
            "103. Martial arts, tae kwan do\n",
            "104. Krav maga training\n",
            "105. Juggling\n",
            "106. Kickball\n",
            "107. Lacrosse\n",
            "108. Orienteering\n",
            "109. Playing paddleball\n",
            "110. Paddleball, competitive\n",
            "111. Polo\n",
            "112. Racquetball, competitive\n",
            "113. Playing racquetball\n",
            "114. Rock climbing, ascending rock\n",
            "115. Rock climbing, rappelling\n",
            "116. Jumping rope, fast\n",
            "117. Jumping rope, moderate\n",
            "118. Jumping rope, slow\n",
            "119. Rugby\n",
            "120. Shuffleboard, lawn bowling\n",
            "121. Skateboarding\n",
            "122. Roller skating\n",
            "123. Roller blading, in-line skating\n",
            "124. Sky diving\n",
            "125. Soccer, competitive\n",
            "126. Playing soccer\n",
            "127. Softball or baseball\n",
            "128. Softball, officiating\n",
            "129. Softball, pitching\n",
            "130. Squash\n",
            "131. Table tennis, ping pong\n",
            "132. Tai chi\n",
            "133. Playing tennis\n",
            "134. Tennis, doubles\n",
            "135. Tennis, singles\n",
            "136. Trampoline\n",
            "137. Volleyball, competitive\n",
            "138. Playing volleyball\n",
            "139. Volleyball, beach\n",
            "140. Wrestling\n",
            "141. Wallyball\n",
            "142. Backpacking, Hiking with pack\n",
            "143. Carrying infant, level ground\n",
            "144. Carrying infant, upstairs\n",
            "145. Carrying 16 to 24 lbs, upstairs\n",
            "146. Carrying 25 to 49 lbs, upstairs\n",
            "147. Standing, playing with children, light\n",
            "148. Walk/run, playing with children, moderate\n",
            "149. Walk/run, playing with children, vigorous\n",
            "150. Carrying small children\n",
            "151. Loading, unloading car\n",
            "152. Climbing hills, carrying up to 9 lbs\n",
            "153. Climbing hills, carrying 10 to 20 lb\n",
            "154. Climbing hills, carrying 21 to 42 lb\n",
            "155. Climbing hills, carrying over 42 lb\n",
            "156. Walking downstairs\n",
            "157. Hiking, cross country\n",
            "158. Bird watching\n",
            "159. Marching, rapidly, military\n",
            "160. Children's games, hopscotch, dodgeball\n",
            "161. Pushing stroller or walking with children\n",
            "162. Pushing a wheelchair\n",
            "163. Race walking\n",
            "164. Rock climbing, mountain climbing\n",
            "165. Walking using crutches\n",
            "166. Walking the dog\n",
            "167. Walking, under 2.0 mph, very slow\n",
            "168. Walking 2.0 mph, slow\n",
            "169. Walking 2.5 mph\n",
            "170. Walking 3.0 mph, moderate\n",
            "171. Walking 3.5 mph, brisk pace\n",
            "172. Walking 3.5 mph, uphill\n",
            "173. Walking 4.0 mph, very brisk\n",
            "174. Walking 4.5 mph\n",
            "175. Walking 5.0 mph\n",
            "176. Boating, power, speed boat\n",
            "177. Canoeing, camping trip\n",
            "178. Canoeing, rowing, light\n",
            "179. Canoeing, rowing, moderate\n",
            "180. Canoeing, rowing, vigorous\n",
            "181. Crew, sculling, rowing, competition\n",
            "182. Kayaking\n",
            "183. Paddle boat\n",
            "184. Windsurfing, sailing\n",
            "185. Sailing, competition\n",
            "186. Sailing, yachting, ocean sailing\n",
            "187. Skiing, water skiing\n",
            "188. Ski mobiling\n",
            "189. Skin diving, fast\n",
            "190. Skin diving, moderate\n",
            "191. Skin diving, scuba diving\n",
            "192. Snorkeling\n",
            "193. Surfing, body surfing or board surfing\n",
            "194. Whitewater rafting, kayaking, canoeing\n",
            "195. Swimming laps, freestyle, fast\n",
            "196. Swimming laps, freestyle, slow\n",
            "197. Swimming backstroke\n",
            "198. Swimming breaststroke\n",
            "199. Swimming butterfly\n",
            "200. Swimming leisurely, not laps\n",
            "201. Swimming sidestroke\n",
            "202. Swimming synchronized\n",
            "203. Swimming, treading water, fast, vigorous\n",
            "204. Swimming, treading water, moderate\n",
            "205. Water aerobics, water calisthenics\n",
            "206. Water polo\n",
            "207. Water volleyball\n",
            "208. Water jogging\n",
            "209. Diving, springboard or platform\n",
            "210. Ice skating, < 9 mph\n",
            "211. Ice skating, average speed\n",
            "212. Ice skating, rapidly\n",
            "213. Speed skating, ice, competitive\n",
            "214. Cross country snow skiing, slow\n",
            "215. Cross country skiing, moderate\n",
            "216. Cross country skiing, vigorous\n",
            "217. Cross country skiing, racing\n",
            "218. Cross country skiing, uphill\n",
            "219. Snow skiing, downhill skiing, light\n",
            "220. Downhill snow skiing, moderate\n",
            "221. Downhill snow skiing, racing\n",
            "222. Sledding, tobagganing, luge\n",
            "223. Snow shoeing\n",
            "224. Snowmobiling\n",
            "225. General housework\n",
            "226. Cleaning gutters\n",
            "227. Painting\n",
            "228. Sit, playing with animals\n",
            "229. Walk / run, playing with animals\n",
            "230. Bathing dog\n",
            "231. Mowing lawn, walk, power mower\n",
            "232. Mowing lawn, riding mower\n",
            "233. Walking, snow blower\n",
            "234. Riding, snow blower\n",
            "235. Shoveling snow by hand\n",
            "236. Raking lawn\n",
            "237. Gardening, general\n",
            "238. Bagging grass, leaves\n",
            "239. Watering lawn or garden\n",
            "240. Weeding, cultivating garden\n",
            "241. Carpentry, general\n",
            "242. Carrying heavy loads\n",
            "243. Carrying moderate loads upstairs\n",
            "244. General cleaning\n",
            "245. Cleaning, dusting\n",
            "246. Taking out trash\n",
            "247. Walking, pushing a wheelchair\n",
            "248. Teach physical education,exercise class\n",
            "Enter the index of the exercise or activity: 7\n"
          ]
        }
      ]
    },
    {
      "cell_type": "code",
      "source": [
        "# Predict the cluster for the user weight\n",
        "user_weight_arr = [user_weight_lb] * (X.shape[1])  # Duplicate user weight for all lb columns\n",
        "user_cluster = kmeans.predict([user_weight_arr])[0]"
      ],
      "metadata": {
        "id": "QsiuJTxWdtCI"
      },
      "execution_count": null,
      "outputs": []
    },
    {
      "cell_type": "code",
      "source": [
        "# Extract the calories burned per lb for the user weight and cluster\n",
        "user_calories_per_lb = y[kmeans.labels_ == user_cluster][0]"
      ],
      "metadata": {
        "id": "ov-w7ePjdu12"
      },
      "execution_count": null,
      "outputs": []
    },
    {
      "cell_type": "code",
      "source": [
        "# Calculate the total calories burned during the selected exercise or activity for the user weight\n",
        "selected_activity_calories = y[selected_activity_index]\n",
        "total_calories_burned = user_calories_per_lb * user_weight_lb * (selected_activity_calories / user_calories_per_lb)\n",
        "\n",
        "print(f\"You burn approximately {total_calories_burned} calories during {selected_activity} at {user_weight_lb} lbs.\")"
      ],
      "metadata": {
        "colab": {
          "base_uri": "https://localhost:8080/"
        },
        "id": "xbUFOf_adwOe",
        "outputId": "d36911ec-1c68-41a7-87c1-86fe927881fd"
      },
      "execution_count": null,
      "outputs": [
        {
          "output_type": "stream",
          "name": "stdout",
          "text": [
            "You burn approximately 332.31321135164205 calories during Cycling, 16-19 mph, very fast, racing at 134.482 lbs.\n"
          ]
        }
      ]
    }
  ]
}